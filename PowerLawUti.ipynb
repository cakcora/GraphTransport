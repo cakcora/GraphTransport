{
 "cells": [
  {
   "cell_type": "code",
   "execution_count": 1,
   "id": "20720ff5",
   "metadata": {},
   "outputs": [],
   "source": [
    "import os\n",
    "import collections\n",
    "\n",
    "\n",
    "import powerlaw\n",
    "import networkx as nx\n",
    "import pandas as pd\n",
    "from matplotlib import pyplot as plt\n",
    "import datetime as dt\n",
    "import warnings\n",
    "import seaborn as sns\n",
    "from datetime import datetime\n",
    "from datetime import timedelta\n",
    "import plotly.graph_objects as go\n",
    "from datetime import date\n",
    "sns.set()\n",
    "warnings.filterwarnings(\"ignore\")"
   ]
  },
  {
   "cell_type": "markdown",
   "id": "30828a34",
   "metadata": {},
   "source": [
    "# Powerlaw test for network"
   ]
  },
  {
   "cell_type": "code",
   "execution_count": 5,
   "id": "5532e6bd",
   "metadata": {},
   "outputs": [],
   "source": [
    "selectedNetwork = pd.read_csv(\"dataset/networkiconomi.txt\", sep=' ', names=[\"from\", \"to\", \"date\", \"value\"])\n",
    "selectedNetwork['date'] = pd.to_datetime(selectedNetwork['date'], unit='s')"
   ]
  },
  {
   "cell_type": "code",
   "execution_count": 6,
   "id": "530d14dc",
   "metadata": {},
   "outputs": [
    {
     "data": {
      "text/html": [
       "<div>\n",
       "<style scoped>\n",
       "    .dataframe tbody tr th:only-of-type {\n",
       "        vertical-align: middle;\n",
       "    }\n",
       "\n",
       "    .dataframe tbody tr th {\n",
       "        vertical-align: top;\n",
       "    }\n",
       "\n",
       "    .dataframe thead th {\n",
       "        text-align: right;\n",
       "    }\n",
       "</style>\n",
       "<table border=\"1\" class=\"dataframe\">\n",
       "  <thead>\n",
       "    <tr style=\"text-align: right;\">\n",
       "      <th></th>\n",
       "      <th>from</th>\n",
       "      <th>to</th>\n",
       "      <th>date</th>\n",
       "      <th>value</th>\n",
       "    </tr>\n",
       "  </thead>\n",
       "  <tbody>\n",
       "    <tr>\n",
       "      <th>0</th>\n",
       "      <td>4377026</td>\n",
       "      <td>1747827</td>\n",
       "      <td>2017-11-20 22:17:18</td>\n",
       "      <td>1516401039255000000000</td>\n",
       "    </tr>\n",
       "    <tr>\n",
       "      <th>1</th>\n",
       "      <td>193337</td>\n",
       "      <td>2008557</td>\n",
       "      <td>2017-09-09 10:54:52</td>\n",
       "      <td>4128627960000000000000</td>\n",
       "    </tr>\n",
       "    <tr>\n",
       "      <th>2</th>\n",
       "      <td>4388689</td>\n",
       "      <td>1747716</td>\n",
       "      <td>2017-06-29 12:21:16</td>\n",
       "      <td>2392127188967118000000</td>\n",
       "    </tr>\n",
       "    <tr>\n",
       "      <th>3</th>\n",
       "      <td>4375736</td>\n",
       "      <td>1747716</td>\n",
       "      <td>2017-05-30 09:01:09</td>\n",
       "      <td>1596956542880647200000</td>\n",
       "    </tr>\n",
       "    <tr>\n",
       "      <th>4</th>\n",
       "      <td>4383181</td>\n",
       "      <td>1747716</td>\n",
       "      <td>2017-04-09 21:09:14</td>\n",
       "      <td>1999900000000000100000</td>\n",
       "    </tr>\n",
       "    <tr>\n",
       "      <th>...</th>\n",
       "      <td>...</td>\n",
       "      <td>...</td>\n",
       "      <td>...</td>\n",
       "      <td>...</td>\n",
       "    </tr>\n",
       "    <tr>\n",
       "      <th>114909</th>\n",
       "      <td>2084371</td>\n",
       "      <td>4379248</td>\n",
       "      <td>2017-08-24 21:39:26</td>\n",
       "      <td>13316606820000000000</td>\n",
       "    </tr>\n",
       "    <tr>\n",
       "      <th>114910</th>\n",
       "      <td>418904</td>\n",
       "      <td>373666</td>\n",
       "      <td>2017-12-18 06:33:37</td>\n",
       "      <td>15623000000000000000</td>\n",
       "    </tr>\n",
       "    <tr>\n",
       "      <th>114911</th>\n",
       "      <td>193337</td>\n",
       "      <td>298110</td>\n",
       "      <td>2017-06-20 09:24:44</td>\n",
       "      <td>792000000000000000000</td>\n",
       "    </tr>\n",
       "    <tr>\n",
       "      <th>114912</th>\n",
       "      <td>193337</td>\n",
       "      <td>4169343</td>\n",
       "      <td>2017-05-26 12:15:53</td>\n",
       "      <td>1679800000000000000000</td>\n",
       "    </tr>\n",
       "    <tr>\n",
       "      <th>114913</th>\n",
       "      <td>4376515</td>\n",
       "      <td>4376521</td>\n",
       "      <td>2017-11-03 11:20:44</td>\n",
       "      <td>719002898590000000000</td>\n",
       "    </tr>\n",
       "  </tbody>\n",
       "</table>\n",
       "<p>114914 rows × 4 columns</p>\n",
       "</div>"
      ],
      "text/plain": [
       "           from       to                date                   value\n",
       "0       4377026  1747827 2017-11-20 22:17:18  1516401039255000000000\n",
       "1        193337  2008557 2017-09-09 10:54:52  4128627960000000000000\n",
       "2       4388689  1747716 2017-06-29 12:21:16  2392127188967118000000\n",
       "3       4375736  1747716 2017-05-30 09:01:09  1596956542880647200000\n",
       "4       4383181  1747716 2017-04-09 21:09:14  1999900000000000100000\n",
       "...         ...      ...                 ...                     ...\n",
       "114909  2084371  4379248 2017-08-24 21:39:26    13316606820000000000\n",
       "114910   418904   373666 2017-12-18 06:33:37    15623000000000000000\n",
       "114911   193337   298110 2017-06-20 09:24:44   792000000000000000000\n",
       "114912   193337  4169343 2017-05-26 12:15:53  1679800000000000000000\n",
       "114913  4376515  4376521 2017-11-03 11:20:44   719002898590000000000\n",
       "\n",
       "[114914 rows x 4 columns]"
      ]
     },
     "execution_count": 6,
     "metadata": {},
     "output_type": "execute_result"
    }
   ],
   "source": [
    "selectedNetwork"
   ]
  },
  {
   "cell_type": "markdown",
   "id": "ce38b034",
   "metadata": {},
   "source": [
    "**Create the graph from transaction network**"
   ]
  },
  {
   "cell_type": "code",
   "execution_count": 11,
   "id": "77ab9963",
   "metadata": {},
   "outputs": [
    {
     "name": "stdout",
     "output_type": "stream",
     "text": [
      "Calculating best minimal value for power law fit\n",
      "xmin progress: 00%\r",
      "xmin progress: 01%\r",
      "xmin progress: 02%\r",
      "xmin progress: 04%\r",
      "xmin progress: 05%\r",
      "xmin progress: 06%\r",
      "xmin progress: 08%\r",
      "xmin progress: 09%\r",
      "xmin progress: 10%\r",
      "xmin progress: 12%\r",
      "xmin progress: 13%\r",
      "xmin progress: 14%\r",
      "xmin progress: 16%\r",
      "xmin progress: 17%\r",
      "xmin progress: 18%\r",
      "xmin progress: 20%\r",
      "xmin progress: 21%\r",
      "xmin progress: 22%\r",
      "xmin progress: 24%\r",
      "xmin progress: 25%\r",
      "xmin progress: 26%\r",
      "xmin progress: 28%\r",
      "xmin progress: 29%\r",
      "xmin progress: 30%\r",
      "xmin progress: 32%\r",
      "xmin progress: 33%\r",
      "xmin progress: 34%\r",
      "xmin progress: 36%\r",
      "xmin progress: 37%\r",
      "xmin progress: 38%\r",
      "xmin progress: 40%\r",
      "xmin progress: 41%\r",
      "xmin progress: 42%\r",
      "xmin progress: 44%\r",
      "xmin progress: 45%\r",
      "xmin progress: 46%\r",
      "xmin progress: 48%\r",
      "xmin progress: 49%\r",
      "xmin progress: 50%\r",
      "xmin progress: 52%\r",
      "xmin progress: 53%\r",
      "xmin progress: 54%\r",
      "xmin progress: 56%\r",
      "xmin progress: 57%\r",
      "xmin progress: 58%\r",
      "xmin progress: 60%\r",
      "xmin progress: 61%\r",
      "xmin progress: 62%\r",
      "xmin progress: 64%\r",
      "xmin progress: 65%\r",
      "xmin progress: 66%\r",
      "xmin progress: 68%\r",
      "xmin progress: 69%\r",
      "xmin progress: 70%\r",
      "xmin progress: 72%\r",
      "xmin progress: 73%\r",
      "xmin progress: 74%\r",
      "xmin progress: 76%\r",
      "xmin progress: 77%\r",
      "xmin progress: 78%\r",
      "xmin progress: 80%\r",
      "xmin progress: 81%\r",
      "xmin progress: 82%\r",
      "xmin progress: 84%\r",
      "xmin progress: 85%\r",
      "xmin progress: 86%\r",
      "xmin progress: 88%\r",
      "xmin progress: 89%\r",
      "xmin progress: 90%\r",
      "xmin progress: 92%\r",
      "xmin progress: 93%\r",
      "xmin progress: 94%\r",
      "xmin progress: 96%\r",
      "xmin progress: 97%\r",
      "xmin progress: 98%\r"
     ]
    }
   ],
   "source": [
    "transactionGraphs = nx.DiGraph()\n",
    "# Populate graph with edges\n",
    "for item in selectedNetwork.to_dict(orient=\"records\"):\n",
    "    transactionGraphs.add_edge(item[\"from\"], item[\"to\"], value=item[\"value\"])\n",
    "fit = powerlaw.Fit(list(dict(transactionGraphs.degree()).values()),estimate_discrete=False)"
   ]
  },
  {
   "cell_type": "markdown",
   "id": "8cb1d779",
   "metadata": {},
   "source": [
    "**Plotting CDF,PDF,CCDF**"
   ]
  },
  {
   "cell_type": "code",
   "execution_count": 39,
   "id": "de806325",
   "metadata": {},
   "outputs": [
    {
     "data": {
      "image/png": "[encoded data removed]",
      "text/plain": [
       "<Figure size 1000x600 with 1 Axes>"
      ]
     },
     "metadata": {},
     "output_type": "display_data"
    }
   ],
   "source": [
    "plt.figure(figsize=(10, 6))\n",
    "fit.plot_cdf(color='b', linewidth=2,label='Empirical Data')\n",
    "fit.power_law.plot_cdf(color='r', linestyle='--', ax=plt.gca(), label='Power Law Fit')\n",
    "plt.xlabel('X-axis label')\n",
    "plt.ylabel('CDF')\n",
    "plt.title('Cumulative Distribution')\n",
    "plt.legend()\n",
    "plt.show()"
   ]
  },
  {
   "cell_type": "code",
   "execution_count": 12,
   "id": "3db970c2",
   "metadata": {},
   "outputs": [
    {
     "data": {
      "image/png": "[encoded data removed]",
      "text/plain": [
       "<Figure size 1000x600 with 1 Axes>"
      ]
     },
     "metadata": {},
     "output_type": "display_data"
    }
   ],
   "source": [
    "# Probability plot\n",
    "plt.figure(figsize=(10, 6))\n",
    "fit.plot_ccdf(color='b', linewidth=2, label='Empirical Data')\n",
    "fit.power_law.plot_ccdf(color='r', linestyle='--', ax=plt.gca(), label='Power Law Fit')\n",
    "plt.xlabel('Degree')\n",
    "plt.ylabel('CCDF')\n",
    "plt.legend()\n",
    "plt.show()\n"
   ]
  },
  {
   "cell_type": "code",
   "execution_count": 13,
   "id": "905192f5",
   "metadata": {},
   "outputs": [
    {
     "data": {
      "image/png": "[encoded data removed]",
      "text/plain": [
       "<Figure size 1000x600 with 1 Axes>"
      ]
     },
     "metadata": {},
     "output_type": "display_data"
    }
   ],
   "source": [
    "# PDF plot\n",
    "plt.figure(figsize=(10, 6))\n",
    "fit.plot_pdf(color='b', linewidth=2, label='Empirical Data',linear_bins=True)\n",
    "fit.power_law.plot_pdf(color='r', linestyle='--', ax=plt.gca(), label='Power Law Fit')\n",
    "plt.xlabel('Degree')\n",
    "plt.ylabel('PDF')\n",
    "plt.legend()\n",
    "plt.show()"
   ]
  },
  {
   "cell_type": "markdown",
   "id": "722a8702",
   "metadata": {},
   "source": [
    "**Power statistics**"
   ]
  },
  {
   "cell_type": "code",
   "execution_count": 16,
   "id": "88e6d5fb",
   "metadata": {
    "scrolled": true
   },
   "outputs": [
    {
     "data": {
      "text/plain": [
       "3.3369908016613934"
      ]
     },
     "execution_count": 16,
     "metadata": {},
     "output_type": "execute_result"
    }
   ],
   "source": [
    "fit.power_law.alpha"
   ]
  },
  {
   "cell_type": "code",
   "execution_count": 15,
   "id": "141985ab",
   "metadata": {},
   "outputs": [
    {
     "data": {
      "text/plain": [
       "5.0"
      ]
     },
     "execution_count": 15,
     "metadata": {},
     "output_type": "execute_result"
    }
   ],
   "source": [
    "fit.power_law.xmin"
   ]
  },
  {
   "cell_type": "code",
   "execution_count": 17,
   "id": "71ac5d56",
   "metadata": {},
   "outputs": [
    {
     "data": {
      "text/plain": [
       "(3292.124851894239, 6.6648326226546605e-09)"
      ]
     },
     "execution_count": 17,
     "metadata": {},
     "output_type": "execute_result"
    }
   ],
   "source": [
    "fit.distribution_compare('power_law', 'exponential')"
   ]
  },
  {
   "cell_type": "markdown",
   "id": "fd13014f",
   "metadata": {},
   "source": [
    "# Powerlaw test on graph generating by BA model"
   ]
  },
  {
   "cell_type": "code",
   "execution_count": 42,
   "id": "399f0cb4",
   "metadata": {},
   "outputs": [
    {
     "data": {
      "text/html": [
       "<div>\n",
       "<style scoped>\n",
       "    .dataframe tbody tr th:only-of-type {\n",
       "        vertical-align: middle;\n",
       "    }\n",
       "\n",
       "    .dataframe tbody tr th {\n",
       "        vertical-align: top;\n",
       "    }\n",
       "\n",
       "    .dataframe thead th {\n",
       "        text-align: right;\n",
       "    }\n",
       "</style>\n",
       "<table border=\"1\" class=\"dataframe\">\n",
       "  <thead>\n",
       "    <tr style=\"text-align: right;\">\n",
       "      <th></th>\n",
       "      <th>Node</th>\n",
       "      <th>Degree</th>\n",
       "    </tr>\n",
       "  </thead>\n",
       "  <tbody>\n",
       "    <tr>\n",
       "      <th>0</th>\n",
       "      <td>0</td>\n",
       "      <td>585</td>\n",
       "    </tr>\n",
       "    <tr>\n",
       "      <th>1</th>\n",
       "      <td>1</td>\n",
       "      <td>374</td>\n",
       "    </tr>\n",
       "    <tr>\n",
       "      <th>2</th>\n",
       "      <td>2</td>\n",
       "      <td>102</td>\n",
       "    </tr>\n",
       "    <tr>\n",
       "      <th>3</th>\n",
       "      <td>3</td>\n",
       "      <td>508</td>\n",
       "    </tr>\n",
       "    <tr>\n",
       "      <th>4</th>\n",
       "      <td>4</td>\n",
       "      <td>481</td>\n",
       "    </tr>\n",
       "    <tr>\n",
       "      <th>...</th>\n",
       "      <td>...</td>\n",
       "      <td>...</td>\n",
       "    </tr>\n",
       "    <tr>\n",
       "      <th>19995</th>\n",
       "      <td>19995</td>\n",
       "      <td>10</td>\n",
       "    </tr>\n",
       "    <tr>\n",
       "      <th>19996</th>\n",
       "      <td>19996</td>\n",
       "      <td>10</td>\n",
       "    </tr>\n",
       "    <tr>\n",
       "      <th>19997</th>\n",
       "      <td>19997</td>\n",
       "      <td>10</td>\n",
       "    </tr>\n",
       "    <tr>\n",
       "      <th>19998</th>\n",
       "      <td>19998</td>\n",
       "      <td>10</td>\n",
       "    </tr>\n",
       "    <tr>\n",
       "      <th>19999</th>\n",
       "      <td>19999</td>\n",
       "      <td>10</td>\n",
       "    </tr>\n",
       "  </tbody>\n",
       "</table>\n",
       "<p>20000 rows × 2 columns</p>\n",
       "</div>"
      ],
      "text/plain": [
       "        Node  Degree\n",
       "0          0     585\n",
       "1          1     374\n",
       "2          2     102\n",
       "3          3     508\n",
       "4          4     481\n",
       "...      ...     ...\n",
       "19995  19995      10\n",
       "19996  19996      10\n",
       "19997  19997      10\n",
       "19998  19998      10\n",
       "19999  19999      10\n",
       "\n",
       "[20000 rows x 2 columns]"
      ]
     },
     "execution_count": 42,
     "metadata": {},
     "output_type": "execute_result"
    }
   ],
   "source": [
    "BA_graph = nx.barabasi_albert_graph(20000,10)\n",
    "BA_degrees = pd.DataFrame(BA_graph.degree(),columns=['Node','Degree'])\n",
    "BA_degrees"
   ]
  },
  {
   "cell_type": "code",
   "execution_count": 49,
   "id": "0e82b330",
   "metadata": {},
   "outputs": [
    {
     "name": "stdout",
     "output_type": "stream",
     "text": [
      "Calculating best minimal value for power law fit\n",
      "xmin progress: 00%\r",
      "xmin progress: 00%\r",
      "xmin progress: 00%\r",
      "xmin progress: 01%\r",
      "xmin progress: 01%\r",
      "xmin progress: 02%\r",
      "xmin progress: 02%\r",
      "xmin progress: 03%\r",
      "xmin progress: 03%\r",
      "xmin progress: 04%\r",
      "xmin progress: 04%\r",
      "xmin progress: 04%\r",
      "xmin progress: 05%\r",
      "xmin progress: 05%\r",
      "xmin progress: 06%\r",
      "xmin progress: 06%\r",
      "xmin progress: 07%\r",
      "xmin progress: 07%\r",
      "xmin progress: 08%\r",
      "xmin progress: 08%\r",
      "xmin progress: 08%\r",
      "xmin progress: 09%\r",
      "xmin progress: 09%\r",
      "xmin progress: 10%\r",
      "xmin progress: 10%\r",
      "xmin progress: 11%\r",
      "xmin progress: 11%\r",
      "xmin progress: 12%\r",
      "xmin progress: 12%\r",
      "xmin progress: 12%\r",
      "xmin progress: 13%\r",
      "xmin progress: 13%\r",
      "xmin progress: 14%\r",
      "xmin progress: 14%\r",
      "xmin progress: 15%\r",
      "xmin progress: 15%\r",
      "xmin progress: 16%\r",
      "xmin progress: 16%\r",
      "xmin progress: 16%\r",
      "xmin progress: 17%\r",
      "xmin progress: 17%\r",
      "xmin progress: 18%\r",
      "xmin progress: 18%\r",
      "xmin progress: 19%\r",
      "xmin progress: 19%\r",
      "xmin progress: 20%\r",
      "xmin progress: 20%\r",
      "xmin progress: 20%\r",
      "xmin progress: 21%\r",
      "xmin progress: 21%\r",
      "xmin progress: 22%\r",
      "xmin progress: 22%\r",
      "xmin progress: 23%\r",
      "xmin progress: 23%\r",
      "xmin progress: 24%\r",
      "xmin progress: 24%\r",
      "xmin progress: 25%\r",
      "xmin progress: 25%\r",
      "xmin progress: 25%\r",
      "xmin progress: 26%\r",
      "xmin progress: 26%\r",
      "xmin progress: 27%\r",
      "xmin progress: 27%\r",
      "xmin progress: 28%\r",
      "xmin progress: 28%\r",
      "xmin progress: 29%\r",
      "xmin progress: 29%\r",
      "xmin progress: 29%\r",
      "xmin progress: 30%\r",
      "xmin progress: 30%\r",
      "xmin progress: 31%\r",
      "xmin progress: 31%\r",
      "xmin progress: 32%\r",
      "xmin progress: 32%\r",
      "xmin progress: 33%\r",
      "xmin progress: 33%\r",
      "xmin progress: 33%\r",
      "xmin progress: 34%\r",
      "xmin progress: 34%\r",
      "xmin progress: 35%\r",
      "xmin progress: 35%\r",
      "xmin progress: 36%\r",
      "xmin progress: 36%\r",
      "xmin progress: 37%\r",
      "xmin progress: 37%\r",
      "xmin progress: 37%\r",
      "xmin progress: 38%\r",
      "xmin progress: 38%\r",
      "xmin progress: 39%\r",
      "xmin progress: 39%\r",
      "xmin progress: 40%\r",
      "xmin progress: 40%\r",
      "xmin progress: 41%\r",
      "xmin progress: 41%\r",
      "xmin progress: 41%\r",
      "xmin progress: 42%\r",
      "xmin progress: 42%\r",
      "xmin progress: 43%\r",
      "xmin progress: 43%\r",
      "xmin progress: 44%\r",
      "xmin progress: 44%\r",
      "xmin progress: 45%\r",
      "xmin progress: 45%\r",
      "xmin progress: 45%\r",
      "xmin progress: 46%\r",
      "xmin progress: 46%\r",
      "xmin progress: 47%\r",
      "xmin progress: 47%\r",
      "xmin progress: 48%\r",
      "xmin progress: 48%\r",
      "xmin progress: 49%\r",
      "xmin progress: 49%\r",
      "xmin progress: 50%\r",
      "xmin progress: 50%\r",
      "xmin progress: 50%\r",
      "xmin progress: 51%\r",
      "xmin progress: 51%\r",
      "xmin progress: 52%\r",
      "xmin progress: 52%\r",
      "xmin progress: 53%\r",
      "xmin progress: 53%\r",
      "xmin progress: 54%\r",
      "xmin progress: 54%\r",
      "xmin progress: 54%\r",
      "xmin progress: 55%\r",
      "xmin progress: 55%\r",
      "xmin progress: 56%\r",
      "xmin progress: 56%\r",
      "xmin progress: 57%\r",
      "xmin progress: 57%\r",
      "xmin progress: 58%\r",
      "xmin progress: 58%\r",
      "xmin progress: 58%\r",
      "xmin progress: 59%\r",
      "xmin progress: 59%\r",
      "xmin progress: 60%\r",
      "xmin progress: 60%\r",
      "xmin progress: 61%\r",
      "xmin progress: 61%\r",
      "xmin progress: 62%\r",
      "xmin progress: 62%\r",
      "xmin progress: 62%\r",
      "xmin progress: 63%\r",
      "xmin progress: 63%\r",
      "xmin progress: 64%\r",
      "xmin progress: 64%\r",
      "xmin progress: 65%\r",
      "xmin progress: 65%\r",
      "xmin progress: 66%\r",
      "xmin progress: 66%\r",
      "xmin progress: 66%\r",
      "xmin progress: 67%\r",
      "xmin progress: 67%\r",
      "xmin progress: 68%\r",
      "xmin progress: 68%\r",
      "xmin progress: 69%\r",
      "xmin progress: 69%\r",
      "xmin progress: 70%\r",
      "xmin progress: 70%\r",
      "xmin progress: 70%\r",
      "xmin progress: 71%\r",
      "xmin progress: 71%\r",
      "xmin progress: 72%\r",
      "xmin progress: 72%\r",
      "xmin progress: 73%\r",
      "xmin progress: 73%\r",
      "xmin progress: 74%\r",
      "xmin progress: 74%\r",
      "xmin progress: 75%\r",
      "xmin progress: 75%\r",
      "xmin progress: 75%\r",
      "xmin progress: 76%\r",
      "xmin progress: 76%\r",
      "xmin progress: 77%\r",
      "xmin progress: 77%\r",
      "xmin progress: 78%\r",
      "xmin progress: 78%\r",
      "xmin progress: 79%\r",
      "xmin progress: 79%\r",
      "xmin progress: 79%\r",
      "xmin progress: 80%\r",
      "xmin progress: 80%\r",
      "xmin progress: 81%\r",
      "xmin progress: 81%\r",
      "xmin progress: 82%\r",
      "xmin progress: 82%\r",
      "xmin progress: 83%\r",
      "xmin progress: 83%\r",
      "xmin progress: 83%\r",
      "xmin progress: 84%\r",
      "xmin progress: 84%\r",
      "xmin progress: 85%\r",
      "xmin progress: 85%\r",
      "xmin progress: 86%\r",
      "xmin progress: 86%\r",
      "xmin progress: 87%\r",
      "xmin progress: 87%\r",
      "xmin progress: 87%\r",
      "xmin progress: 88%\r",
      "xmin progress: 88%\r",
      "xmin progress: 89%\r",
      "xmin progress: 89%\r",
      "xmin progress: 90%\r",
      "xmin progress: 90%\r",
      "xmin progress: 91%\r",
      "xmin progress: 91%\r",
      "xmin progress: 91%\r",
      "xmin progress: 92%\r",
      "xmin progress: 92%\r",
      "xmin progress: 93%\r",
      "xmin progress: 93%\r",
      "xmin progress: 94%\r",
      "xmin progress: 94%\r",
      "xmin progress: 95%\r",
      "xmin progress: 95%\r",
      "xmin progress: 95%\r",
      "xmin progress: 96%\r",
      "xmin progress: 96%\r",
      "xmin progress: 97%\r",
      "xmin progress: 97%\r",
      "xmin progress: 98%\r",
      "xmin progress: 98%\r",
      "xmin progress: 99%\r",
      "xmin progress: 99%\r"
     ]
    }
   ],
   "source": [
    "fit_BA = powerlaw.Fit(BA_degrees['Degree'])"
   ]
  },
  {
   "cell_type": "markdown",
   "id": "41ea8c79",
   "metadata": {},
   "source": [
    "**Plotting CDF,PDF,CCDF**"
   ]
  },
  {
   "cell_type": "code",
   "execution_count": 50,
   "id": "5f0ee140",
   "metadata": {},
   "outputs": [
    {
     "data": {
      "image/png": "[encoded data removed]",
      "text/plain": [
       "<Figure size 1000x600 with 1 Axes>"
      ]
     },
     "metadata": {},
     "output_type": "display_data"
    }
   ],
   "source": [
    "# Probability plot\n",
    "plt.figure(figsize=(10, 6))\n",
    "fit_BA.plot_ccdf(color='b', linewidth=2, label='Empirical Data')\n",
    "fit_BA.power_law.plot_ccdf(color='r', linestyle='--', ax=plt.gca(), label='Power Law Fit')\n",
    "plt.xlabel('Degree')\n",
    "plt.ylabel('CCDF')\n",
    "plt.legend()\n",
    "plt.show()\n"
   ]
  },
  {
   "cell_type": "code",
   "execution_count": 51,
   "id": "8fcf2ce4",
   "metadata": {},
   "outputs": [
    {
     "data": {
      "image/png": "[encoded data removed]",
      "text/plain": [
       "<Figure size 1000x600 with 1 Axes>"
      ]
     },
     "metadata": {},
     "output_type": "display_data"
    }
   ],
   "source": [
    "# Probability plot\n",
    "plt.figure(figsize=(10, 6))\n",
    "fit_BA.plot_cdf(color='b', linewidth=2, label='Empirical Data')\n",
    "fit_BA.power_law.plot_cdf(color='r', linestyle='--', ax=plt.gca(), label='Power Law Fit')\n",
    "plt.xlabel('Degree')\n",
    "plt.ylabel('CDF')\n",
    "plt.legend()\n",
    "plt.show()"
   ]
  },
  {
   "cell_type": "code",
   "execution_count": 52,
   "id": "e2df5f68",
   "metadata": {},
   "outputs": [
    {
     "data": {
      "image/png": "[encoded data removed]",
      "text/plain": [
       "<Figure size 1000x600 with 1 Axes>"
      ]
     },
     "metadata": {},
     "output_type": "display_data"
    }
   ],
   "source": [
    "plt.figure(figsize=(10, 6))\n",
    "fit_BA.plot_pdf(color='b', linewidth=2, label='Empirical Data',linear_bins=True)\n",
    "fit_BA.power_law.plot_pdf(color='r', linestyle='--', ax=plt.gca(), label='Power Law Fit')\n",
    "plt.xlabel('Degree')\n",
    "plt.ylabel('PDF')\n",
    "plt.legend()\n",
    "plt.show()"
   ]
  },
  {
   "cell_type": "markdown",
   "id": "11f14c35",
   "metadata": {},
   "source": [
    "**Powerlaw statistics**"
   ]
  },
  {
   "cell_type": "code",
   "execution_count": 53,
   "id": "0cc21d9a",
   "metadata": {},
   "outputs": [
    {
     "data": {
      "text/plain": [
       "3.0220265245748896"
      ]
     },
     "execution_count": 53,
     "metadata": {},
     "output_type": "execute_result"
    }
   ],
   "source": [
    "fit_BA.power_law.alpha"
   ]
  },
  {
   "cell_type": "code",
   "execution_count": 54,
   "id": "04c8fcd8",
   "metadata": {},
   "outputs": [
    {
     "data": {
      "text/plain": [
       "29.0"
      ]
     },
     "execution_count": 54,
     "metadata": {},
     "output_type": "execute_result"
    }
   ],
   "source": [
    "fit_BA.power_law.xmin"
   ]
  },
  {
   "cell_type": "code",
   "execution_count": 55,
   "id": "449e8513",
   "metadata": {},
   "outputs": [
    {
     "data": {
      "text/plain": [
       "474.0568687336261"
      ]
     },
     "execution_count": 55,
     "metadata": {},
     "output_type": "execute_result"
    }
   ],
   "source": [
    "fit_BA.distribution_compare('power_law', 'exponential')[0]"
   ]
  },
  {
   "cell_type": "markdown",
   "id": "46355ac6",
   "metadata": {},
   "source": [
    "# Daily transaction network\n",
    "Each data points in the phase base represent transaction networks for each day"
   ]
  },
  {
   "cell_type": "code",
   "execution_count": 146,
   "id": "543f3a81",
   "metadata": {},
   "outputs": [
    {
     "data": {
      "text/html": [
       "<div>\n",
       "<style scoped>\n",
       "    .dataframe tbody tr th:only-of-type {\n",
       "        vertical-align: middle;\n",
       "    }\n",
       "\n",
       "    .dataframe tbody tr th {\n",
       "        vertical-align: top;\n",
       "    }\n",
       "\n",
       "    .dataframe thead th {\n",
       "        text-align: right;\n",
       "    }\n",
       "</style>\n",
       "<table border=\"1\" class=\"dataframe\">\n",
       "  <thead>\n",
       "    <tr style=\"text-align: right;\">\n",
       "      <th></th>\n",
       "      <th>from</th>\n",
       "      <th>to</th>\n",
       "      <th>date</th>\n",
       "      <th>value</th>\n",
       "    </tr>\n",
       "  </thead>\n",
       "  <tbody>\n",
       "    <tr>\n",
       "      <th>30943</th>\n",
       "      <td>1937660</td>\n",
       "      <td>1765138</td>\n",
       "      <td>2017-08-01</td>\n",
       "      <td>250000000000000000000</td>\n",
       "    </tr>\n",
       "    <tr>\n",
       "      <th>79171</th>\n",
       "      <td>1937660</td>\n",
       "      <td>1765138</td>\n",
       "      <td>2017-08-01</td>\n",
       "      <td>250000000000000000000</td>\n",
       "    </tr>\n",
       "    <tr>\n",
       "      <th>13306</th>\n",
       "      <td>1944968</td>\n",
       "      <td>1924395</td>\n",
       "      <td>2017-08-05</td>\n",
       "      <td>72000000000000000000</td>\n",
       "    </tr>\n",
       "    <tr>\n",
       "      <th>1257</th>\n",
       "      <td>1944968</td>\n",
       "      <td>1930353</td>\n",
       "      <td>2017-08-05</td>\n",
       "      <td>30000000000000000000</td>\n",
       "    </tr>\n",
       "    <tr>\n",
       "      <th>14570</th>\n",
       "      <td>1931184</td>\n",
       "      <td>1944968</td>\n",
       "      <td>2017-08-05</td>\n",
       "      <td>100000000000000000000</td>\n",
       "    </tr>\n",
       "    <tr>\n",
       "      <th>...</th>\n",
       "      <td>...</td>\n",
       "      <td>...</td>\n",
       "      <td>...</td>\n",
       "      <td>...</td>\n",
       "    </tr>\n",
       "    <tr>\n",
       "      <th>69846</th>\n",
       "      <td>82</td>\n",
       "      <td>1918043</td>\n",
       "      <td>2018-05-06</td>\n",
       "      <td>965000000000000000000</td>\n",
       "    </tr>\n",
       "    <tr>\n",
       "      <th>71530</th>\n",
       "      <td>82</td>\n",
       "      <td>1918044</td>\n",
       "      <td>2018-05-06</td>\n",
       "      <td>56880000000000000000000</td>\n",
       "    </tr>\n",
       "    <tr>\n",
       "      <th>26246</th>\n",
       "      <td>1918044</td>\n",
       "      <td>26</td>\n",
       "      <td>2018-05-06</td>\n",
       "      <td>56880000000000000000000</td>\n",
       "    </tr>\n",
       "    <tr>\n",
       "      <th>45769</th>\n",
       "      <td>26</td>\n",
       "      <td>1681146</td>\n",
       "      <td>2018-05-06</td>\n",
       "      <td>227055000000000000000000</td>\n",
       "    </tr>\n",
       "    <tr>\n",
       "      <th>23840</th>\n",
       "      <td>6</td>\n",
       "      <td>1918045</td>\n",
       "      <td>2018-05-06</td>\n",
       "      <td>10843022999990000000000</td>\n",
       "    </tr>\n",
       "  </tbody>\n",
       "</table>\n",
       "<p>81801 rows × 4 columns</p>\n",
       "</div>"
      ],
      "text/plain": [
       "          from       to        date                     value\n",
       "30943  1937660  1765138  2017-08-01     250000000000000000000\n",
       "79171  1937660  1765138  2017-08-01     250000000000000000000\n",
       "13306  1944968  1924395  2017-08-05      72000000000000000000\n",
       "1257   1944968  1930353  2017-08-05      30000000000000000000\n",
       "14570  1931184  1944968  2017-08-05     100000000000000000000\n",
       "...        ...      ...         ...                       ...\n",
       "69846       82  1918043  2018-05-06     965000000000000000000\n",
       "71530       82  1918044  2018-05-06   56880000000000000000000\n",
       "26246  1918044       26  2018-05-06   56880000000000000000000\n",
       "45769       26  1681146  2018-05-06  227055000000000000000000\n",
       "23840        6  1918045  2018-05-06   10843022999990000000000\n",
       "\n",
       "[81801 rows x 4 columns]"
      ]
     },
     "execution_count": 146,
     "metadata": {},
     "output_type": "execute_result"
    }
   ],
   "source": [
    "selectedNetwork = pd.read_csv(\"dataset/networkcentra.txt\", sep=' ', names=[\"from\", \"to\", \"date\", \"value\"])\n",
    "selectedNetwork['date'] = pd.to_datetime(selectedNetwork['date'], unit='s')\n",
    "selectedNetwork = selectedNetwork.sort_values(by = 'date')\n",
    "selectedNetwork['date'] = selectedNetwork['date'].dt.date\n",
    "selectedNetwork"
   ]
  },
  {
   "cell_type": "markdown",
   "id": "537e96de",
   "metadata": {},
   "source": [
    "**Construct graph for each day and apply powerlaw test on each transaction graph and store it in CSV file**"
   ]
  },
  {
   "cell_type": "code",
   "execution_count": 147,
   "id": "df6b5ad1",
   "metadata": {},
   "outputs": [
    {
     "name": "stdout",
     "output_type": "stream",
     "text": [
      "Calculating best minimal value for power law fit\n",
      "Calculating best minimal value for power law fit\n",
      "xmin progress: 00%\r",
      "xmin progress: 33%\r",
      "xmin progress: 66%\r",
      "Calculating best minimal value for power law fit\n",
      "xmin progress: 00%\r",
      "xmin progress: 33%\r",
      "xmin progress: 66%\r",
      "Calculating best minimal value for power law fit\n",
      "xmin progress: 00%\r",
      "xmin progress: 50%\r",
      "Calculating best minimal value for power law fit\n",
      "xmin progress: 00%\r",
      "Calculating best minimal value for power law fit\n",
      "xmin progress: 00%\r",
      "xmin progress: 50%\r",
      "Calculating best minimal value for power law fit\n",
      "xmin progress: 00%\r",
      "xmin progress: 25%\r",
      "xmin progress: 50%\r",
      "xmin progress: 75%\r",
      "Calculating best minimal value for power law fit\n",
      "xmin progress: 00%\r",
      "xmin progress: 33%\r",
      "xmin progress: 66%\r",
      "Calculating best minimal value for power law fit\n",
      "xmin progress: 00%\r",
      "xmin progress: 25%\r",
      "xmin progress: 50%\r",
      "xmin progress: 75%\r",
      "Calculating best minimal value for power law fit\n",
      "xmin progress: 00%\r",
      "xmin progress: 25%\r",
      "xmin progress: 50%\r",
      "xmin progress: 75%\r",
      "Calculating best minimal value for power law fit\n",
      "xmin progress: 00%\r",
      "xmin progress: 20%\r",
      "xmin progress: 40%\r",
      "xmin progress: 60%\r",
      "xmin progress: 80%\r",
      "Calculating best minimal value for power law fit\n",
      "xmin progress: 00%\r",
      "xmin progress: 25%\r",
      "xmin progress: 50%\r",
      "xmin progress: 75%\r",
      "Calculating best minimal value for power law fit\n",
      "xmin progress: 00%\r",
      "xmin progress: 25%\r",
      "xmin progress: 50%\r",
      "xmin progress: 75%\r",
      "Calculating best minimal value for power law fit\n",
      "xmin progress: 00%\r",
      "xmin progress: 25%\r",
      "xmin progress: 50%\r",
      "xmin progress: 75%\r",
      "Calculating best minimal value for power law fit\n",
      "xmin progress: 00%\r",
      "xmin progress: 25%\r",
      "xmin progress: 50%\r",
      "xmin progress: 75%\r",
      "Calculating best minimal value for power law fit\n",
      "xmin progress: 00%\r",
      "xmin progress: 20%\r",
      "xmin progress: 40%\r",
      "xmin progress: 60%\r",
      "xmin progress: 80%\r",
      "Calculating best minimal value for power law fit\n",
      "xmin progress: 00%\r",
      "xmin progress: 20%\r",
      "xmin progress: 40%\r",
      "xmin progress: 60%\r",
      "xmin progress: 80%\r",
      "Calculating best minimal value for power law fit\n",
      "xmin progress: 00%\r",
      "xmin progress: 20%\r",
      "xmin progress: 40%\r",
      "xmin progress: 60%\r",
      "xmin progress: 80%\r",
      "Calculating best minimal value for power law fit\n",
      "xmin progress: 00%\r",
      "xmin progress: 20%\r",
      "xmin progress: 40%\r",
      "xmin progress: 60%\r",
      "xmin progress: 80%\r",
      "Calculating best minimal value for power law fit\n",
      "xmin progress: 00%\r",
      "xmin progress: 16%\r",
      "xmin progress: 33%\r",
      "xmin progress: 50%\r",
      "xmin progress: 66%\r",
      "xmin progress: 83%\r",
      "Calculating best minimal value for power law fit\n",
      "xmin progress: 00%\r",
      "xmin progress: 20%\r",
      "xmin progress: 40%\r",
      "xmin progress: 60%\r",
      "xmin progress: 80%\r"
     ]
    },
    {
     "name": "stderr",
     "output_type": "stream",
     "text": [
      "Less than 2 unique data values left after xmin and xmax options! Cannot fit. Returning nans.\n",
      "Not enough data. Returning nan\n",
      "Not enough data. Returning nan\n",
      "No valid fits found.\n",
      "Not enough data. Returning nan\n"
     ]
    },
    {
     "name": "stdout",
     "output_type": "stream",
     "text": [
      "Calculating best minimal value for power law fit\n",
      "Calculating best minimal value for power law fit\n",
      "Calculating best minimal value for power law fit\n",
      "Calculating best minimal value for power law fit\n",
      "Calculating best minimal value for power law fit\n",
      "Calculating best minimal value for power law fit\n",
      "Calculating best minimal value for power law fit\n",
      "Calculating best minimal value for power law fit\n",
      "Calculating best minimal value for power law fit\n",
      "Calculating best minimal value for power law fit\n",
      "Calculating best minimal value for power law fit\n",
      "Calculating best minimal value for power law fit\n",
      "Calculating best minimal value for power law fit\n",
      "Calculating best minimal value for power law fit\n",
      "Calculating best minimal value for power law fit\n",
      "Calculating best minimal value for power law fit\n",
      "Calculating best minimal value for power law fit\n",
      "Calculating best minimal value for power law fit\n",
      "Calculating best minimal value for power law fit\n",
      "Calculating best minimal value for power law fit\n",
      "Calculating best minimal value for power law fit\n",
      "Calculating best minimal value for power law fit\n",
      "Calculating best minimal value for power law fit\n",
      "Calculating best minimal value for power law fit\n",
      "Calculating best minimal value for power law fit\n",
      "Calculating best minimal value for power law fit\n",
      "Calculating best minimal value for power law fit\n",
      "Calculating best minimal value for power law fit\n",
      "Calculating best minimal value for power law fit\n",
      "Calculating best minimal value for power law fit\n",
      "Calculating best minimal value for power law fit\n",
      "Calculating best minimal value for power law fit\n",
      "Calculating best minimal value for power law fit\n",
      "Calculating best minimal value for power law fit\n",
      "Calculating best minimal value for power law fit\n",
      "Calculating best minimal value for power law fit\n",
      "Calculating best minimal value for power law fit\n",
      "Calculating best minimal value for power law fit\n",
      "Calculating best minimal value for power law fit\n",
      "Calculating best minimal value for power law fit\n",
      "Calculating best minimal value for power law fit\n",
      "Calculating best minimal value for power law fit\n",
      "Calculating best minimal value for power law fit\n",
      "Calculating best minimal value for power law fit\n",
      "Calculating best minimal value for power law fit\n",
      "Calculating best minimal value for power law fit\n",
      "Calculating best minimal value for power law fit\n",
      "Calculating best minimal value for power law fit\n",
      "Calculating best minimal value for power law fit\n",
      "Calculating best minimal value for power law fit\n",
      "Calculating best minimal value for power law fit\n",
      "Calculating best minimal value for power law fit\n",
      "Calculating best minimal value for power law fit\n",
      "Calculating best minimal value for power law fit\n",
      "Calculating best minimal value for power law fit\n",
      "Calculating best minimal value for power law fit\n",
      "Calculating best minimal value for power law fit\n",
      "Calculating best minimal value for power law fit\n",
      "Calculating best minimal value for power law fit\n",
      "Calculating best minimal value for power law fit\n",
      "Calculating best minimal value for power law fit\n",
      "Calculating best minimal value for power law fit\n",
      "Calculating best minimal value for power law fit\n",
      "Calculating best minimal value for power law fit\n",
      "Calculating best minimal value for power law fit\n",
      "Calculating best minimal value for power law fit\n",
      "Calculating best minimal value for power law fit\n",
      "Calculating best minimal value for power law fit\n",
      "Calculating best minimal value for power law fit\n",
      "Calculating best minimal value for power law fit\n",
      "Calculating best minimal value for power law fit\n",
      "Calculating best minimal value for power law fit\n",
      "Calculating best minimal value for power law fit\n",
      "Calculating best minimal value for power law fit\n",
      "Calculating best minimal value for power law fit\n",
      "Calculating best minimal value for power law fit\n",
      "Calculating best minimal value for power law fit\n",
      "Calculating best minimal value for power law fit\n",
      "Calculating best minimal value for power law fit\n",
      "Calculating best minimal value for power law fit\n",
      "Calculating best minimal value for power law fit\n",
      "Calculating best minimal value for power law fit\n",
      "Calculating best minimal value for power law fit\n",
      "Calculating best minimal value for power law fit\n",
      "Calculating best minimal value for power law fit\n",
      "Calculating best minimal value for power law fit\n",
      "Calculating best minimal value for power law fit\n",
      "Calculating best minimal value for power law fit\n",
      "Calculating best minimal value for power law fit\n",
      "Calculating best minimal value for power law fit\n",
      "Calculating best minimal value for power law fit\n",
      "Calculating best minimal value for power law fit\n",
      "Calculating best minimal value for power law fit\n",
      "Calculating best minimal value for power law fit\n",
      "Calculating best minimal value for power law fit\n",
      "Calculating best minimal value for power law fit\n",
      "Calculating best minimal value for power law fit\n",
      "Calculating best minimal value for power law fit\n",
      "Calculating best minimal value for power law fit\n",
      "Calculating best minimal value for power law fit\n",
      "Calculating best minimal value for power law fit\n",
      "Calculating best minimal value for power law fit\n",
      "Calculating best minimal value for power law fit\n",
      "Calculating best minimal value for power law fit\n",
      "Calculating best minimal value for power law fit\n",
      "Calculating best minimal value for power law fit\n",
      "Calculating best minimal value for power law fit\n",
      "Calculating best minimal value for power law fit\n",
      "Calculating best minimal value for power law fit\n",
      "Calculating best minimal value for power law fit\n",
      "Calculating best minimal value for power law fit\n",
      "Calculating best minimal value for power law fit\n",
      "Calculating best minimal value for power law fit\n",
      "Calculating best minimal value for power law fit\n",
      "Calculating best minimal value for power law fit\n",
      "Calculating best minimal value for power law fit\n",
      "Calculating best minimal value for power law fit\n",
      "Calculating best minimal value for power law fit\n",
      "Calculating best minimal value for power law fit\n",
      "Calculating best minimal value for power law fit\n",
      "Calculating best minimal value for power law fit\n",
      "Calculating best minimal value for power law fit\n",
      "Calculating best minimal value for power law fit\n",
      "Calculating best minimal value for power law fit\n",
      "Calculating best minimal value for power law fit\n",
      "Calculating best minimal value for power law fit\n",
      "Calculating best minimal value for power law fit\n",
      "Calculating best minimal value for power law fit\n",
      "Calculating best minimal value for power law fit\n",
      "Calculating best minimal value for power law fit\n",
      "Calculating best minimal value for power law fit\n",
      "Calculating best minimal value for power law fit\n",
      "Calculating best minimal value for power law fit\n",
      "Calculating best minimal value for power law fit\n",
      "Calculating best minimal value for power law fit\n",
      "Calculating best minimal value for power law fit\n",
      "Calculating best minimal value for power law fit\n",
      "Calculating best minimal value for power law fit\n",
      "Calculating best minimal value for power law fit\n",
      "Calculating best minimal value for power law fit\n",
      "Calculating best minimal value for power law fit\n",
      "Calculating best minimal value for power law fit\n",
      "Calculating best minimal value for power law fit\n",
      "Calculating best minimal value for power law fit\n",
      "Calculating best minimal value for power law fit\n",
      "Calculating best minimal value for power law fit\n",
      "Calculating best minimal value for power law fit\n",
      "Calculating best minimal value for power law fit\n",
      "Calculating best minimal value for power law fit\n",
      "Calculating best minimal value for power law fit\n",
      "Calculating best minimal value for power law fit\n",
      "Calculating best minimal value for power law fit\n",
      "Calculating best minimal value for power law fit\n",
      "Calculating best minimal value for power law fit\n",
      "Calculating best minimal value for power law fit\n",
      "Calculating best minimal value for power law fit\n",
      "Calculating best minimal value for power law fit\n",
      "Calculating best minimal value for power law fit\n",
      "Calculating best minimal value for power law fit\n",
      "Calculating best minimal value for power law fit\n",
      "Calculating best minimal value for power law fit\n",
      "Calculating best minimal value for power law fit\n",
      "Calculating best minimal value for power law fit\n",
      "Calculating best minimal value for power law fit\n",
      "Calculating best minimal value for power law fit\n",
      "Calculating best minimal value for power law fit\n",
      "Calculating best minimal value for power law fit\n",
      "Calculating best minimal value for power law fit\n",
      "Calculating best minimal value for power law fit\n",
      "Calculating best minimal value for power law fit\n",
      "Calculating best minimal value for power law fit\n",
      "Calculating best minimal value for power law fit\n",
      "Calculating best minimal value for power law fit\n",
      "Calculating best minimal value for power law fit\n",
      "Calculating best minimal value for power law fit\n",
      "Calculating best minimal value for power law fit\n",
      "Calculating best minimal value for power law fit\n",
      "Calculating best minimal value for power law fit\n",
      "Calculating best minimal value for power law fit\n"
     ]
    },
    {
     "name": "stdout",
     "output_type": "stream",
     "text": [
      "Calculating best minimal value for power law fit\n",
      "Calculating best minimal value for power law fit\n",
      "Calculating best minimal value for power law fit\n",
      "Calculating best minimal value for power law fit\n",
      "Calculating best minimal value for power law fit\n",
      "Calculating best minimal value for power law fit\n",
      "Calculating best minimal value for power law fit\n",
      "Calculating best minimal value for power law fit\n",
      "Calculating best minimal value for power law fit\n",
      "Calculating best minimal value for power law fit\n",
      "Calculating best minimal value for power law fit\n",
      "Calculating best minimal value for power law fit\n",
      "Calculating best minimal value for power law fit\n",
      "Calculating best minimal value for power law fit\n",
      "Calculating best minimal value for power law fit\n",
      "Calculating best minimal value for power law fit\n",
      "Calculating best minimal value for power law fit\n",
      "Calculating best minimal value for power law fit\n",
      "Calculating best minimal value for power law fit\n",
      "Calculating best minimal value for power law fit\n",
      "Calculating best minimal value for power law fit\n",
      "Calculating best minimal value for power law fit\n",
      "Calculating best minimal value for power law fit\n",
      "Calculating best minimal value for power law fit\n",
      "Calculating best minimal value for power law fit\n",
      "Calculating best minimal value for power law fit\n",
      "Calculating best minimal value for power law fit\n",
      "Calculating best minimal value for power law fit\n",
      "Calculating best minimal value for power law fit\n",
      "Calculating best minimal value for power law fit\n",
      "Calculating best minimal value for power law fit\n",
      "Calculating best minimal value for power law fit\n",
      "Calculating best minimal value for power law fit\n",
      "Calculating best minimal value for power law fit\n",
      "Calculating best minimal value for power law fit\n",
      "Calculating best minimal value for power law fit\n",
      "Calculating best minimal value for power law fit\n",
      "Calculating best minimal value for power law fit\n",
      "Calculating best minimal value for power law fit\n",
      "Calculating best minimal value for power law fit\n",
      "Calculating best minimal value for power law fit\n",
      "Calculating best minimal value for power law fit\n",
      "Calculating best minimal value for power law fit\n",
      "Calculating best minimal value for power law fit\n",
      "Calculating best minimal value for power law fit\n",
      "Calculating best minimal value for power law fit\n",
      "Calculating best minimal value for power law fit\n",
      "Calculating best minimal value for power law fit\n",
      "Calculating best minimal value for power law fit\n",
      "Calculating best minimal value for power law fit\n",
      "Calculating best minimal value for power law fit\n",
      "Calculating best minimal value for power law fit\n",
      "Calculating best minimal value for power law fit\n",
      "Calculating best minimal value for power law fit\n",
      "Calculating best minimal value for power law fit\n",
      "Calculating best minimal value for power law fit\n",
      "Calculating best minimal value for power law fit\n",
      "Calculating best minimal value for power law fit\n",
      "Calculating best minimal value for power law fit\n",
      "Calculating best minimal value for power law fit\n",
      "Calculating best minimal value for power law fit\n",
      "Calculating best minimal value for power law fit\n",
      "Calculating best minimal value for power law fit\n",
      "Calculating best minimal value for power law fit\n",
      "Calculating best minimal value for power law fit\n",
      "Calculating best minimal value for power law fit\n",
      "Calculating best minimal value for power law fit\n",
      "Calculating best minimal value for power law fit\n",
      "Calculating best minimal value for power law fit\n",
      "Calculating best minimal value for power law fit\n",
      "Calculating best minimal value for power law fit\n",
      "Calculating best minimal value for power law fit\n",
      "Calculating best minimal value for power law fit\n",
      "Calculating best minimal value for power law fit\n",
      "Calculating best minimal value for power law fit\n",
      "xmin progress: 83%\r"
     ]
    },
    {
     "data": {
      "text/html": [
       "<div>\n",
       "<style scoped>\n",
       "    .dataframe tbody tr th:only-of-type {\n",
       "        vertical-align: middle;\n",
       "    }\n",
       "\n",
       "    .dataframe tbody tr th {\n",
       "        vertical-align: top;\n",
       "    }\n",
       "\n",
       "    .dataframe thead th {\n",
       "        text-align: right;\n",
       "    }\n",
       "</style>\n",
       "<table border=\"1\" class=\"dataframe\">\n",
       "  <thead>\n",
       "    <tr style=\"text-align: right;\">\n",
       "      <th></th>\n",
       "      <th>score</th>\n",
       "      <th>#nodes</th>\n",
       "      <th>xmin</th>\n",
       "      <th>alpha</th>\n",
       "      <th>date</th>\n",
       "    </tr>\n",
       "  </thead>\n",
       "  <tbody>\n",
       "    <tr>\n",
       "      <th>0</th>\n",
       "      <td>0.000000</td>\n",
       "      <td>2</td>\n",
       "      <td>NaN</td>\n",
       "      <td>NaN</td>\n",
       "      <td>2017-08-01</td>\n",
       "    </tr>\n",
       "    <tr>\n",
       "      <th>1</th>\n",
       "      <td>215.194024</td>\n",
       "      <td>97</td>\n",
       "      <td>1.0</td>\n",
       "      <td>13.248470</td>\n",
       "      <td>2017-08-05</td>\n",
       "    </tr>\n",
       "    <tr>\n",
       "      <th>2</th>\n",
       "      <td>2.560811</td>\n",
       "      <td>55</td>\n",
       "      <td>2.0</td>\n",
       "      <td>6.318875</td>\n",
       "      <td>2017-08-06</td>\n",
       "    </tr>\n",
       "    <tr>\n",
       "      <th>3</th>\n",
       "      <td>48.004011</td>\n",
       "      <td>36</td>\n",
       "      <td>1.0</td>\n",
       "      <td>9.531801</td>\n",
       "      <td>2017-08-07</td>\n",
       "    </tr>\n",
       "    <tr>\n",
       "      <th>4</th>\n",
       "      <td>2.605469</td>\n",
       "      <td>9</td>\n",
       "      <td>1.0</td>\n",
       "      <td>13.984255</td>\n",
       "      <td>2017-08-08</td>\n",
       "    </tr>\n",
       "    <tr>\n",
       "      <th>...</th>\n",
       "      <td>...</td>\n",
       "      <td>...</td>\n",
       "      <td>...</td>\n",
       "      <td>...</td>\n",
       "      <td>...</td>\n",
       "    </tr>\n",
       "    <tr>\n",
       "      <th>270</th>\n",
       "      <td>95.784726</td>\n",
       "      <td>77</td>\n",
       "      <td>1.0</td>\n",
       "      <td>6.016439</td>\n",
       "      <td>2018-05-01</td>\n",
       "    </tr>\n",
       "    <tr>\n",
       "      <th>271</th>\n",
       "      <td>140.481123</td>\n",
       "      <td>106</td>\n",
       "      <td>1.0</td>\n",
       "      <td>6.152657</td>\n",
       "      <td>2018-05-02</td>\n",
       "    </tr>\n",
       "    <tr>\n",
       "      <th>272</th>\n",
       "      <td>2162.777585</td>\n",
       "      <td>693</td>\n",
       "      <td>1.0</td>\n",
       "      <td>25.045473</td>\n",
       "      <td>2018-05-03</td>\n",
       "    </tr>\n",
       "    <tr>\n",
       "      <th>273</th>\n",
       "      <td>167.826249</td>\n",
       "      <td>115</td>\n",
       "      <td>1.0</td>\n",
       "      <td>6.629240</td>\n",
       "      <td>2018-05-04</td>\n",
       "    </tr>\n",
       "    <tr>\n",
       "      <th>274</th>\n",
       "      <td>134.052048</td>\n",
       "      <td>90</td>\n",
       "      <td>1.0</td>\n",
       "      <td>7.038585</td>\n",
       "      <td>2018-05-05</td>\n",
       "    </tr>\n",
       "  </tbody>\n",
       "</table>\n",
       "<p>275 rows × 5 columns</p>\n",
       "</div>"
      ],
      "text/plain": [
       "           score  #nodes  xmin      alpha        date\n",
       "0       0.000000       2   NaN        NaN  2017-08-01\n",
       "1     215.194024      97   1.0  13.248470  2017-08-05\n",
       "2       2.560811      55   2.0   6.318875  2017-08-06\n",
       "3      48.004011      36   1.0   9.531801  2017-08-07\n",
       "4       2.605469       9   1.0  13.984255  2017-08-08\n",
       "..           ...     ...   ...        ...         ...\n",
       "270    95.784726      77   1.0   6.016439  2018-05-01\n",
       "271   140.481123     106   1.0   6.152657  2018-05-02\n",
       "272  2162.777585     693   1.0  25.045473  2018-05-03\n",
       "273   167.826249     115   1.0   6.629240  2018-05-04\n",
       "274   134.052048      90   1.0   7.038585  2018-05-05\n",
       "\n",
       "[275 rows x 5 columns]"
      ]
     },
     "execution_count": 147,
     "metadata": {},
     "output_type": "execute_result"
    }
   ],
   "source": [
    "currDate = selectedNetwork['date'].min()\n",
    "transactionGraphs = nx.DiGraph()\n",
    "score_list = []\n",
    "column = [\"score\",\"#nodes\",\"xmin\",\"alpha\",\"date\"]\n",
    "row_list = []\n",
    "for index, row in selectedNetwork.iterrows():\n",
    "    if(row['date'] != currDate ):\n",
    "        row_df = []\n",
    "        \n",
    "        degrees = list(dict(transactionGraphs.degree()).values())\n",
    "        fit = powerlaw.Fit(degrees)\n",
    "        row_df.append(fit.distribution_compare('power_law', 'exponential')[0])\n",
    "        row_df.append(transactionGraphs.number_of_nodes())\n",
    "        row_df.append(fit.power_law.xmin)\n",
    "        row_df.append(fit.power_law.alpha)\n",
    "        row_df.append(currDate)\n",
    "        \n",
    "        currDate = row['date']\n",
    "        \n",
    "        row_list.append(row_df)\n",
    "        transactionGraphs = nx.DiGraph()\n",
    "    else:\n",
    "        transactionGraphs.add_edge(row[\"from\"], row[\"to\"], value=row[\"value\"])\n",
    "df_power_law = pd.DataFrame(row_list,columns= column)    \n",
    "df_power_law"
   ]
  },
  {
   "cell_type": "code",
   "execution_count": 149,
   "id": "932f543d",
   "metadata": {},
   "outputs": [],
   "source": [
    "df_power_law.to_csv(\"result_dataset\\power_law_result_centra.csv\")"
   ]
  },
  {
   "cell_type": "markdown",
   "id": "23f96221",
   "metadata": {},
   "source": [
    "# Split data at stable period Marh 2018 of Aragon network"
   ]
  },
  {
   "cell_type": "code",
   "execution_count": 18,
   "id": "ed9c24d4",
   "metadata": {},
   "outputs": [
    {
     "name": "stdout",
     "output_type": "stream",
     "text": [
      "2018-03-01 00:00:00\n"
     ]
    }
   ],
   "source": [
    "df_power_law = pd.read_csv(\"result_dataset\\power_law_aragon_df.csv\")\n",
    "df_power_law['date'] = pd.to_datetime(df_power_law['date'])\n",
    "df_power_law['date'] = df_power_law['date'].dt.date\n",
    "threshold = pd.to_datetime('2018-03-01')\n",
    "print(threshold)\n",
    "trainNetwork = df_power_law[df_power_law['date'] <= threshold]\n",
    "testNetwork = df_power_law[df_power_law['date'] > threshold]"
   ]
  },
  {
   "cell_type": "code",
   "execution_count": 19,
   "id": "1b9b3794",
   "metadata": {},
   "outputs": [
    {
     "data": {
      "text/html": [
       "<div>\n",
       "<style scoped>\n",
       "    .dataframe tbody tr th:only-of-type {\n",
       "        vertical-align: middle;\n",
       "    }\n",
       "\n",
       "    .dataframe tbody tr th {\n",
       "        vertical-align: top;\n",
       "    }\n",
       "\n",
       "    .dataframe thead th {\n",
       "        text-align: right;\n",
       "    }\n",
       "</style>\n",
       "<table border=\"1\" class=\"dataframe\">\n",
       "  <thead>\n",
       "    <tr style=\"text-align: right;\">\n",
       "      <th></th>\n",
       "      <th>Unnamed: 0</th>\n",
       "      <th>score</th>\n",
       "      <th>#nodes</th>\n",
       "      <th>xmin</th>\n",
       "      <th>alpha</th>\n",
       "      <th>date</th>\n",
       "    </tr>\n",
       "  </thead>\n",
       "  <tbody>\n",
       "    <tr>\n",
       "      <th>289</th>\n",
       "      <td>289</td>\n",
       "      <td>52.510836</td>\n",
       "      <td>170</td>\n",
       "      <td>2.0</td>\n",
       "      <td>4.574004</td>\n",
       "      <td>2018-03-02</td>\n",
       "    </tr>\n",
       "    <tr>\n",
       "      <th>290</th>\n",
       "      <td>290</td>\n",
       "      <td>109.671078</td>\n",
       "      <td>238</td>\n",
       "      <td>2.0</td>\n",
       "      <td>6.377133</td>\n",
       "      <td>2018-03-03</td>\n",
       "    </tr>\n",
       "    <tr>\n",
       "      <th>291</th>\n",
       "      <td>291</td>\n",
       "      <td>48.766101</td>\n",
       "      <td>139</td>\n",
       "      <td>2.0</td>\n",
       "      <td>6.340835</td>\n",
       "      <td>2018-03-04</td>\n",
       "    </tr>\n",
       "    <tr>\n",
       "      <th>292</th>\n",
       "      <td>292</td>\n",
       "      <td>205.491762</td>\n",
       "      <td>351</td>\n",
       "      <td>2.0</td>\n",
       "      <td>8.782498</td>\n",
       "      <td>2018-03-05</td>\n",
       "    </tr>\n",
       "    <tr>\n",
       "      <th>293</th>\n",
       "      <td>293</td>\n",
       "      <td>126.787400</td>\n",
       "      <td>205</td>\n",
       "      <td>2.0</td>\n",
       "      <td>7.950499</td>\n",
       "      <td>2018-03-06</td>\n",
       "    </tr>\n",
       "    <tr>\n",
       "      <th>...</th>\n",
       "      <td>...</td>\n",
       "      <td>...</td>\n",
       "      <td>...</td>\n",
       "      <td>...</td>\n",
       "      <td>...</td>\n",
       "      <td>...</td>\n",
       "    </tr>\n",
       "    <tr>\n",
       "      <th>349</th>\n",
       "      <td>349</td>\n",
       "      <td>26.473745</td>\n",
       "      <td>109</td>\n",
       "      <td>2.0</td>\n",
       "      <td>6.039715</td>\n",
       "      <td>2018-05-01</td>\n",
       "    </tr>\n",
       "    <tr>\n",
       "      <th>350</th>\n",
       "      <td>350</td>\n",
       "      <td>36.190116</td>\n",
       "      <td>112</td>\n",
       "      <td>2.0</td>\n",
       "      <td>6.268952</td>\n",
       "      <td>2018-05-02</td>\n",
       "    </tr>\n",
       "    <tr>\n",
       "      <th>351</th>\n",
       "      <td>351</td>\n",
       "      <td>84.086900</td>\n",
       "      <td>170</td>\n",
       "      <td>2.0</td>\n",
       "      <td>8.485789</td>\n",
       "      <td>2018-05-03</td>\n",
       "    </tr>\n",
       "    <tr>\n",
       "      <th>352</th>\n",
       "      <td>352</td>\n",
       "      <td>59.322974</td>\n",
       "      <td>149</td>\n",
       "      <td>2.0</td>\n",
       "      <td>9.059328</td>\n",
       "      <td>2018-05-04</td>\n",
       "    </tr>\n",
       "    <tr>\n",
       "      <th>353</th>\n",
       "      <td>353</td>\n",
       "      <td>52.151086</td>\n",
       "      <td>130</td>\n",
       "      <td>2.0</td>\n",
       "      <td>8.273204</td>\n",
       "      <td>2018-05-05</td>\n",
       "    </tr>\n",
       "  </tbody>\n",
       "</table>\n",
       "<p>65 rows × 6 columns</p>\n",
       "</div>"
      ],
      "text/plain": [
       "     Unnamed: 0       score  #nodes  xmin     alpha        date\n",
       "289         289   52.510836     170   2.0  4.574004  2018-03-02\n",
       "290         290  109.671078     238   2.0  6.377133  2018-03-03\n",
       "291         291   48.766101     139   2.0  6.340835  2018-03-04\n",
       "292         292  205.491762     351   2.0  8.782498  2018-03-05\n",
       "293         293  126.787400     205   2.0  7.950499  2018-03-06\n",
       "..          ...         ...     ...   ...       ...         ...\n",
       "349         349   26.473745     109   2.0  6.039715  2018-05-01\n",
       "350         350   36.190116     112   2.0  6.268952  2018-05-02\n",
       "351         351   84.086900     170   2.0  8.485789  2018-05-03\n",
       "352         352   59.322974     149   2.0  9.059328  2018-05-04\n",
       "353         353   52.151086     130   2.0  8.273204  2018-05-05\n",
       "\n",
       "[65 rows x 6 columns]"
      ]
     },
     "execution_count": 19,
     "metadata": {},
     "output_type": "execute_result"
    }
   ],
   "source": [
    "testNetwork"
   ]
  },
  {
   "cell_type": "markdown",
   "id": "5c5a2a47",
   "metadata": {},
   "source": [
    "**Draw diagram to illustrate the score resulted from the comparision between powerlaw and exponential distribution for each day**"
   ]
  },
  {
   "cell_type": "code",
   "execution_count": 22,
   "id": "e66914ec",
   "metadata": {},
   "outputs": [
    {
     "data": {
      "application/vnd.plotly.v1+json": {
       "config": {
        "plotlyServerURL": "https://plot.ly"
       },
       "data": [
        {
         "mode": "lines",
         "name": "Line",
         "showlegend": false,
         "type": "scatter",
         "x": [
          "2017-05-17",
          "2017-05-18",
          "2017-05-19",
          "2017-05-20",
          "2017-05-21",
          "2017-05-22",
          "2017-05-23",
          "2017-05-24",
          "2017-05-25",
          "2017-05-26",
          "2017-05-27",
          "2017-05-28",
          "2017-05-29",
          "2017-05-30",
          "2017-05-31",
          "2017-06-01",
          "2017-06-02",
          "2017-06-03",
          "2017-06-04",
          "2017-06-05",
          "2017-06-06",
          "2017-06-07",
          "2017-06-08",
          "2017-06-09",
          "2017-06-10",
          "2017-06-11",
          "2017-06-12",
          "2017-06-13",
          "2017-06-14",
          "2017-06-15",
          "2017-06-16",
          "2017-06-17",
          "2017-06-18",
          "2017-06-19",
          "2017-06-20",
          "2017-06-21",
          "2017-06-22",
          "2017-06-23",
          "2017-06-24",
          "2017-06-25",
          "2017-06-26",
          "2017-06-27",
          "2017-06-28",
          "2017-06-29",
          "2017-06-30",
          "2017-07-01",
          "2017-07-02",
          "2017-07-03",
          "2017-07-04",
          "2017-07-05",
          "2017-07-06",
          "2017-07-07",
          "2017-07-08",
          "2017-07-09",
          "2017-07-10",
          "2017-07-11",
          "2017-07-12",
          "2017-07-13",
          "2017-07-14",
          "2017-07-15",
          "2017-07-16",
          "2017-07-17",
          "2017-07-18",
          "2017-07-19",
          "2017-07-20",
          "2017-07-21",
          "2017-07-22",
          "2017-07-23",
          "2017-07-24",
          "2017-07-25",
          "2017-07-26",
          "2017-07-27",
          "2017-07-28",
          "2017-07-29",
          "2017-07-30",
          "2017-07-31",
          "2017-08-01",
          "2017-08-02",
          "2017-08-03",
          "2017-08-04",
          "2017-08-05",
          "2017-08-06",
          "2017-08-07",
          "2017-08-08",
          "2017-08-09",
          "2017-08-10",
          "2017-08-11",
          "2017-08-12",
          "2017-08-13",
          "2017-08-14",
          "2017-08-15",
          "2017-08-16",
          "2017-08-17",
          "2017-08-18",
          "2017-08-19",
          "2017-08-20",
          "2017-08-21",
          "2017-08-22",
          "2017-08-23",
          "2017-08-24",
          "2017-08-25",
          "2017-08-26",
          "2017-08-27",
          "2017-08-28",
          "2017-08-29",
          "2017-08-30",
          "2017-08-31",
          "2017-09-01",
          "2017-09-02",
          "2017-09-03",
          "2017-09-04",
          "2017-09-05",
          "2017-09-06",
          "2017-09-07",
          "2017-09-08",
          "2017-09-09",
          "2017-09-10",
          "2017-09-11",
          "2017-09-12",
          "2017-09-13",
          "2017-09-14",
          "2017-09-15",
          "2017-09-16",
          "2017-09-17",
          "2017-09-18",
          "2017-09-19",
          "2017-09-20",
          "2017-09-21",
          "2017-09-22",
          "2017-09-23",
          "2017-09-24",
          "2017-09-25",
          "2017-09-26",
          "2017-09-27",
          "2017-09-28",
          "2017-09-29",
          "2017-09-30",
          "2017-10-01",
          "2017-10-02",
          "2017-10-03",
          "2017-10-04",
          "2017-10-05",
          "2017-10-06",
          "2017-10-07",
          "2017-10-08",
          "2017-10-09",
          "2017-10-10",
          "2017-10-11",
          "2017-10-12",
          "2017-10-13",
          "2017-10-14",
          "2017-10-15",
          "2017-10-16",
          "2017-10-17",
          "2017-10-18",
          "2017-10-19",
          "2017-10-20",
          "2017-10-21",
          "2017-10-22",
          "2017-10-23",
          "2017-10-24",
          "2017-10-25",
          "2017-10-26",
          "2017-10-27",
          "2017-10-28",
          "2017-10-29",
          "2017-10-30",
          "2017-10-31",
          "2017-11-01",
          "2017-11-02",
          "2017-11-03",
          "2017-11-04",
          "2017-11-05",
          "2017-11-06",
          "2017-11-07",
          "2017-11-08",
          "2017-11-09",
          "2017-11-10",
          "2017-11-11",
          "2017-11-12",
          "2017-11-13",
          "2017-11-14",
          "2017-11-15",
          "2017-11-16",
          "2017-11-17",
          "2017-11-18",
          "2017-11-19",
          "2017-11-20",
          "2017-11-21",
          "2017-11-22",
          "2017-11-23",
          "2017-11-24",
          "2017-11-25",
          "2017-11-26",
          "2017-11-27",
          "2017-11-28",
          "2017-11-29",
          "2017-11-30",
          "2017-12-01",
          "2017-12-02",
          "2017-12-03",
          "2017-12-04",
          "2017-12-05",
          "2017-12-06",
          "2017-12-07",
          "2017-12-08",
          "2017-12-09",
          "2017-12-10",
          "2017-12-11",
          "2017-12-12",
          "2017-12-13",
          "2017-12-14",
          "2017-12-15",
          "2017-12-16",
          "2017-12-17",
          "2017-12-18",
          "2017-12-19",
          "2017-12-20",
          "2017-12-21",
          "2017-12-22",
          "2017-12-23",
          "2017-12-24",
          "2017-12-25",
          "2017-12-26",
          "2017-12-27",
          "2017-12-28",
          "2017-12-29",
          "2017-12-30",
          "2017-12-31",
          "2018-01-01",
          "2018-01-02",
          "2018-01-03",
          "2018-01-04",
          "2018-01-05",
          "2018-01-06",
          "2018-01-07",
          "2018-01-08",
          "2018-01-09",
          "2018-01-10",
          "2018-01-11",
          "2018-01-12",
          "2018-01-13",
          "2018-01-14",
          "2018-01-15",
          "2018-01-16",
          "2018-01-17",
          "2018-01-18",
          "2018-01-19",
          "2018-01-20",
          "2018-01-21",
          "2018-01-22",
          "2018-01-23",
          "2018-01-24",
          "2018-01-25",
          "2018-01-26",
          "2018-01-27",
          "2018-01-28",
          "2018-01-29",
          "2018-01-30",
          "2018-01-31",
          "2018-02-01",
          "2018-02-02",
          "2018-02-03",
          "2018-02-04",
          "2018-02-05",
          "2018-02-06",
          "2018-02-07",
          "2018-02-08",
          "2018-02-09",
          "2018-02-10",
          "2018-02-11",
          "2018-02-12",
          "2018-02-13",
          "2018-02-14",
          "2018-02-15",
          "2018-02-16",
          "2018-02-17",
          "2018-02-18",
          "2018-02-19",
          "2018-02-20",
          "2018-02-21",
          "2018-02-22",
          "2018-02-23",
          "2018-02-24",
          "2018-02-25",
          "2018-02-26",
          "2018-02-27",
          "2018-02-28",
          "2018-03-01",
          "2018-03-02",
          "2018-03-03",
          "2018-03-04",
          "2018-03-05",
          "2018-03-06",
          "2018-03-07",
          "2018-03-08",
          "2018-03-09",
          "2018-03-10",
          "2018-03-11",
          "2018-03-12",
          "2018-03-13",
          "2018-03-14",
          "2018-03-15",
          "2018-03-16",
          "2018-03-17",
          "2018-03-18",
          "2018-03-19",
          "2018-03-20",
          "2018-03-21",
          "2018-03-22",
          "2018-03-23",
          "2018-03-24",
          "2018-03-25",
          "2018-03-26",
          "2018-03-27",
          "2018-03-28",
          "2018-03-29",
          "2018-03-30",
          "2018-03-31",
          "2018-04-01",
          "2018-04-02",
          "2018-04-03",
          "2018-04-04",
          "2018-04-05",
          "2018-04-06",
          "2018-04-07",
          "2018-04-08",
          "2018-04-09",
          "2018-04-10",
          "2018-04-11",
          "2018-04-12",
          "2018-04-13",
          "2018-04-14",
          "2018-04-15",
          "2018-04-16",
          "2018-04-17",
          "2018-04-18",
          "2018-04-19",
          "2018-04-20",
          "2018-04-21",
          "2018-04-22",
          "2018-04-23",
          "2018-04-24",
          "2018-04-25",
          "2018-04-26",
          "2018-04-27",
          "2018-04-28",
          "2018-04-29",
          "2018-04-30",
          "2018-05-01",
          "2018-05-02",
          "2018-05-03",
          "2018-05-04",
          "2018-05-05"
         ],
         "y": [
          352.48570614284915,
          292.3322738225104,
          135.04412733085033,
          962.7664754187996,
          88.08279145996612,
          97.12855181966825,
          661.9809323360826,
          142.08941659008815,
          73.12995448820263,
          87.3772594353878,
          358.1431905963844,
          36.90734151918718,
          387.8324595502014,
          104.42414101846644,
          84.48816094662567,
          374.2622375837997,
          353.39049658873864,
          43.68522869974951,
          125.21918398193291,
          47.8479343625607,
          114.10457286417174,
          147.1485522969296,
          835.5107368116804,
          882.7918249594944,
          107.02852491365596,
          101.35602836808944,
          197.63104913760583,
          86.58231161720728,
          558.743369363147,
          69.63194420135976,
          68.25481394806631,
          396.87196285220034,
          317.7992764955411,
          363.9693707677151,
          329.83148966467473,
          205.5571889900009,
          502.9397659304281,
          54.55970039913758,
          32.117825098858354,
          59.81401677261064,
          48.139917267026746,
          38.99130319625603,
          51.2333562552538,
          298.2077775717328,
          245.0759768906501,
          35.2725619833646,
          37.824628435061946,
          177.75694273443966,
          179.3745082979575,
          187.99602197522532,
          23.15915721171254,
          6.85045555479063,
          460.3934522302537,
          53.973886861606594,
          84.09300299259918,
          220.05225962401695,
          171.89891616061658,
          131.73036099990034,
          176.98532589479672,
          117.98267037440849,
          126.87540154679483,
          115.40233123813648,
          139.09100083882365,
          172.5552147531105,
          203.20984762108992,
          166.13571450335343,
          187.20785278683095,
          153.78760776996816,
          166.15915536831056,
          165.88884219492752,
          114.9992009496612,
          165.02987360092794,
          192.0520766173799,
          124.17267067009536,
          105.62962104073544,
          154.29922012008493,
          134.1720275633611,
          66.98811587235198,
          221.783232964764,
          194.86526569393172,
          331.01436987773377,
          209.6746245571045,
          276.17702746854746,
          342.1401042979128,
          290.52347585457767,
          404.79970894500457,
          459.3466167920752,
          372.9600292898995,
          486.04797415887015,
          338.2268748224653,
          236.6390383084728,
          182.10743829350676,
          235.74120618672876,
          175.72222404737204,
          247.50373979340415,
          169.65318277632375,
          268.95240249934494,
          152.70980591002677,
          197.22625879633105,
          179.9792772314796,
          187.90296354964423,
          197.543264113387,
          259.0401810916632,
          282.2370368448437,
          283.3442571551532,
          288.884691868052,
          332.8561884999926,
          377.16855148254393,
          678.3422396965018,
          43.22961309764072,
          83.7444070901987,
          193.0080283308893,
          58.512641879232845,
          77.20168840420854,
          179.1336467364847,
          132.60709747874895,
          127.75006294974088,
          87.49729414522746,
          149.93107663723407,
          122.67631232716238,
          159.54931888123903,
          146.8363384583211,
          69.29013393522042,
          75.79504420163904,
          111.46545358411991,
          101.32242556044908,
          103.80879793852976,
          121.48988905067164,
          84.49145447071862,
          62.82496823664221,
          118.48202696472144,
          87.47806978491445,
          100.0984361647169,
          108.68420057219882,
          132.36178794402207,
          66.9389018681243,
          85.03739366132655,
          93.35412336069302,
          85.75002903927104,
          84.9322434090406,
          70.16114114524265,
          108.40606433091024,
          99.88530498031794,
          65.39802013020713,
          126.0305051279139,
          159.63961089238072,
          132.55588295387665,
          105.7033303772802,
          158.16788319102875,
          507.9551676682264,
          150.79165302006342,
          112.55881645351552,
          116.09870276567102,
          136.77135619990509,
          112.86915452167489,
          137.6267813522921,
          162.95072536550822,
          145.6207667441349,
          97.25695041230288,
          170.02273882926903,
          188.6685931559039,
          99.23633947427903,
          104.33099917818645,
          123.16144816163518,
          109.29707573484312,
          168.9657538420762,
          116.35966423704896,
          173.89902385945877,
          281.4372887934585,
          263.30203566925087,
          186.94323784178303,
          210.98910212657543,
          180.19838840070813,
          137.65584039121123,
          81.94916197846864,
          193.23850237945507,
          300.5946766665759,
          344.1232240536064,
          267.0292897965139,
          364.5057565900403,
          147.8020760780318,
          47.23888825894917,
          223.247043165952,
          215.60705799160664,
          211.3977403893158,
          226.70436443205352,
          286.80098343065976,
          225.32329395648375,
          280.69935394770914,
          322.02481269223523,
          273.6297636025474,
          221.57735862218408,
          427.8826570472341,
          527.1948245689989,
          465.9364920323166,
          508.9940486247055,
          679.576351519537,
          248.173118183143,
          258.9332448858273,
          383.6383156285186,
          366.8781261831021,
          296.82039154115444,
          111.13974691369614,
          494.40338631339625,
          268.2132907987004,
          208.71356265707973,
          158.7800786386346,
          186.6477729353309,
          468.7333334724444,
          583.041383277079,
          541.294839247645,
          429.735456376327,
          296.7456174685002,
          311.4474308670646,
          329.539727525638,
          258.5676053445875,
          535.2928075459619,
          563.6818964582092,
          355.1642746857131,
          336.80505952106955,
          234.2554650598092,
          206.2072897066668,
          284.0787350917995,
          312.71191457585866,
          329.49013444073506,
          313.0249185346158,
          344.51731125152406,
          265.92663162619283,
          269.8125455118455,
          806.9327194991718,
          730.9109926417068,
          505.3108485360336,
          1479.6446981141962,
          512.0509149905777,
          280.95695102456,
          24.48376110000584,
          118.19008375646648,
          308.4447501096381,
          69.85798158479304,
          42.87089805102389,
          246.7491849011049,
          32.92397861173487,
          311.2677323839364,
          304.4846633818374,
          453.4276797046977,
          330.1787197590892,
          218.83067410672768,
          187.6699417305922,
          274.4566553787642,
          214.01628432816636,
          157.45012935916645,
          370.80367548594745,
          240.3636094664992,
          261.8513902095713,
          403.044563783538,
          436.4714258308937,
          328.491451360742,
          235.3819316241947,
          243.2403165401363,
          171.7641745374445,
          176.52218882777004,
          322.8153528189867,
          152.43397533902254,
          143.60006782369993,
          194.4855591295573,
          167.9365280772396,
          100.1486640592505,
          82.90566519232635,
          96.07089973767638,
          101.97903510541228,
          67.59579521376084,
          61.59560328936631,
          108.01024857907956,
          189.735459667498,
          111.49154695114257,
          104.83613658786751,
          90.31452804342922,
          43.027864802117065,
          82.92596393182205,
          84.22690995709189,
          87.30677575339162,
          58.01927074998945,
          36.84510591899237,
          32.99225904565914,
          44.67301115420837,
          50.15285142059092,
          77.45514284193013,
          40.59746206387685,
          75.01692480072784,
          52.51083621446799,
          109.67107842771472,
          48.76610109982809,
          205.4917622436168,
          126.78739985743886,
          68.57035366851176,
          62.35104801273741,
          61.943791120969806,
          47.39422202836414,
          25.294472195175096,
          40.72527677007857,
          19.3583357501579,
          35.66692502986716,
          32.54080118369133,
          27.091896833175284,
          32.97552805820002,
          50.51460848207529,
          36.640109481192496,
          49.746289752026925,
          67.28978959012638,
          61.866913536428974,
          23.031646359943966,
          34.4342636431533,
          30.821361011070003,
          34.62489165764352,
          35.34660611706099,
          32.42397913457641,
          26.82349341442352,
          45.18456626433418,
          33.274194953987504,
          27.973297511641974,
          23.65619980728168,
          38.89476325267285,
          17.571200404709906,
          20.44159232152821,
          18.800581027552475,
          11.468054197499953,
          29.95590531169591,
          24.702767800199062,
          35.971892146627894,
          18.262457145103934,
          37.29401270705037,
          67.18030090728635,
          39.01350466769997,
          42.433804255472126,
          31.46276568751496,
          53.80278466469965,
          38.396188502900685,
          57.53854618197286,
          114.9826861922964,
          46.46348175838687,
          56.08704990624628,
          55.46415531407405,
          109.10091310393165,
          47.62631151742251,
          103.6891495945708,
          50.91566769926449,
          39.66819257277629,
          53.11816051505952,
          35.55169167472372,
          26.473744662762748,
          36.19011599526074,
          84.08690048079782,
          59.32297437946277,
          52.15108595423192
         ]
        }
       ],
       "layout": {
        "paper_bgcolor": "white",
        "plot_bgcolor": "white",
        "template": {
         "data": {
          "bar": [
           {
            "error_x": {
             "color": "#2a3f5f"
            },
            "error_y": {
             "color": "#2a3f5f"
            },
            "marker": {
             "line": {
              "color": "#E5ECF6",
              "width": 0.5
             },
             "pattern": {
              "fillmode": "overlay",
              "size": 10,
              "solidity": 0.2
             }
            },
            "type": "bar"
           }
          ],
          "barpolar": [
           {
            "marker": {
             "line": {
              "color": "#E5ECF6",
              "width": 0.5
             },
             "pattern": {
              "fillmode": "overlay",
              "size": 10,
              "solidity": 0.2
             }
            },
            "type": "barpolar"
           }
          ],
          "carpet": [
           {
            "aaxis": {
             "endlinecolor": "#2a3f5f",
             "gridcolor": "white",
             "linecolor": "white",
             "minorgridcolor": "white",
             "startlinecolor": "#2a3f5f"
            },
            "baxis": {
             "endlinecolor": "#2a3f5f",
             "gridcolor": "white",
             "linecolor": "white",
             "minorgridcolor": "white",
             "startlinecolor": "#2a3f5f"
            },
            "type": "carpet"
           }
          ],
          "choropleth": [
           {
            "colorbar": {
             "outlinewidth": 0,
             "ticks": ""
            },
            "type": "choropleth"
           }
          ],
          "contour": [
           {
            "colorbar": {
             "outlinewidth": 0,
             "ticks": ""
            },
            "colorscale": [
             [
              0,
              "#0d0887"
             ],
             [
              0.1111111111111111,
              "#46039f"
             ],
             [
              0.2222222222222222,
              "#7201a8"
             ],
             [
              0.3333333333333333,
              "#9c179e"
             ],
             [
              0.4444444444444444,
              "#bd3786"
             ],
             [
              0.5555555555555556,
              "#d8576b"
             ],
             [
              0.6666666666666666,
              "#ed7953"
             ],
             [
              0.7777777777777778,
              "#fb9f3a"
             ],
             [
              0.8888888888888888,
              "#fdca26"
             ],
             [
              1,
              "#f0f921"
             ]
            ],
            "type": "contour"
           }
          ],
          "contourcarpet": [
           {
            "colorbar": {
             "outlinewidth": 0,
             "ticks": ""
            },
            "type": "contourcarpet"
           }
          ],
          "heatmap": [
           {
            "colorbar": {
             "outlinewidth": 0,
             "ticks": ""
            },
            "colorscale": [
             [
              0,
              "#0d0887"
             ],
             [
              0.1111111111111111,
              "#46039f"
             ],
             [
              0.2222222222222222,
              "#7201a8"
             ],
             [
              0.3333333333333333,
              "#9c179e"
             ],
             [
              0.4444444444444444,
              "#bd3786"
             ],
             [
              0.5555555555555556,
              "#d8576b"
             ],
             [
              0.6666666666666666,
              "#ed7953"
             ],
             [
              0.7777777777777778,
              "#fb9f3a"
             ],
             [
              0.8888888888888888,
              "#fdca26"
             ],
             [
              1,
              "#f0f921"
             ]
            ],
            "type": "heatmap"
           }
          ],
          "heatmapgl": [
           {
            "colorbar": {
             "outlinewidth": 0,
             "ticks": ""
            },
            "colorscale": [
             [
              0,
              "#0d0887"
             ],
             [
              0.1111111111111111,
              "#46039f"
             ],
             [
              0.2222222222222222,
              "#7201a8"
             ],
             [
              0.3333333333333333,
              "#9c179e"
             ],
             [
              0.4444444444444444,
              "#bd3786"
             ],
             [
              0.5555555555555556,
              "#d8576b"
             ],
             [
              0.6666666666666666,
              "#ed7953"
             ],
             [
              0.7777777777777778,
              "#fb9f3a"
             ],
             [
              0.8888888888888888,
              "#fdca26"
             ],
             [
              1,
              "#f0f921"
             ]
            ],
            "type": "heatmapgl"
           }
          ],
          "histogram": [
           {
            "marker": {
             "pattern": {
              "fillmode": "overlay",
              "size": 10,
              "solidity": 0.2
             }
            },
            "type": "histogram"
           }
          ],
          "histogram2d": [
           {
            "colorbar": {
             "outlinewidth": 0,
             "ticks": ""
            },
            "colorscale": [
             [
              0,
              "#0d0887"
             ],
             [
              0.1111111111111111,
              "#46039f"
             ],
             [
              0.2222222222222222,
              "#7201a8"
             ],
             [
              0.3333333333333333,
              "#9c179e"
             ],
             [
              0.4444444444444444,
              "#bd3786"
             ],
             [
              0.5555555555555556,
              "#d8576b"
             ],
             [
              0.6666666666666666,
              "#ed7953"
             ],
             [
              0.7777777777777778,
              "#fb9f3a"
             ],
             [
              0.8888888888888888,
              "#fdca26"
             ],
             [
              1,
              "#f0f921"
             ]
            ],
            "type": "histogram2d"
           }
          ],
          "histogram2dcontour": [
           {
            "colorbar": {
             "outlinewidth": 0,
             "ticks": ""
            },
            "colorscale": [
             [
              0,
              "#0d0887"
             ],
             [
              0.1111111111111111,
              "#46039f"
             ],
             [
              0.2222222222222222,
              "#7201a8"
             ],
             [
              0.3333333333333333,
              "#9c179e"
             ],
             [
              0.4444444444444444,
              "#bd3786"
             ],
             [
              0.5555555555555556,
              "#d8576b"
             ],
             [
              0.6666666666666666,
              "#ed7953"
             ],
             [
              0.7777777777777778,
              "#fb9f3a"
             ],
             [
              0.8888888888888888,
              "#fdca26"
             ],
             [
              1,
              "#f0f921"
             ]
            ],
            "type": "histogram2dcontour"
           }
          ],
          "mesh3d": [
           {
            "colorbar": {
             "outlinewidth": 0,
             "ticks": ""
            },
            "type": "mesh3d"
           }
          ],
          "parcoords": [
           {
            "line": {
             "colorbar": {
              "outlinewidth": 0,
              "ticks": ""
             }
            },
            "type": "parcoords"
           }
          ],
          "pie": [
           {
            "automargin": true,
            "type": "pie"
           }
          ],
          "scatter": [
           {
            "fillpattern": {
             "fillmode": "overlay",
             "size": 10,
             "solidity": 0.2
            },
            "type": "scatter"
           }
          ],
          "scatter3d": [
           {
            "line": {
             "colorbar": {
              "outlinewidth": 0,
              "ticks": ""
             }
            },
            "marker": {
             "colorbar": {
              "outlinewidth": 0,
              "ticks": ""
             }
            },
            "type": "scatter3d"
           }
          ],
          "scattercarpet": [
           {
            "marker": {
             "colorbar": {
              "outlinewidth": 0,
              "ticks": ""
             }
            },
            "type": "scattercarpet"
           }
          ],
          "scattergeo": [
           {
            "marker": {
             "colorbar": {
              "outlinewidth": 0,
              "ticks": ""
             }
            },
            "type": "scattergeo"
           }
          ],
          "scattergl": [
           {
            "marker": {
             "colorbar": {
              "outlinewidth": 0,
              "ticks": ""
             }
            },
            "type": "scattergl"
           }
          ],
          "scattermapbox": [
           {
            "marker": {
             "colorbar": {
              "outlinewidth": 0,
              "ticks": ""
             }
            },
            "type": "scattermapbox"
           }
          ],
          "scatterpolar": [
           {
            "marker": {
             "colorbar": {
              "outlinewidth": 0,
              "ticks": ""
             }
            },
            "type": "scatterpolar"
           }
          ],
          "scatterpolargl": [
           {
            "marker": {
             "colorbar": {
              "outlinewidth": 0,
              "ticks": ""
             }
            },
            "type": "scatterpolargl"
           }
          ],
          "scatterternary": [
           {
            "marker": {
             "colorbar": {
              "outlinewidth": 0,
              "ticks": ""
             }
            },
            "type": "scatterternary"
           }
          ],
          "surface": [
           {
            "colorbar": {
             "outlinewidth": 0,
             "ticks": ""
            },
            "colorscale": [
             [
              0,
              "#0d0887"
             ],
             [
              0.1111111111111111,
              "#46039f"
             ],
             [
              0.2222222222222222,
              "#7201a8"
             ],
             [
              0.3333333333333333,
              "#9c179e"
             ],
             [
              0.4444444444444444,
              "#bd3786"
             ],
             [
              0.5555555555555556,
              "#d8576b"
             ],
             [
              0.6666666666666666,
              "#ed7953"
             ],
             [
              0.7777777777777778,
              "#fb9f3a"
             ],
             [
              0.8888888888888888,
              "#fdca26"
             ],
             [
              1,
              "#f0f921"
             ]
            ],
            "type": "surface"
           }
          ],
          "table": [
           {
            "cells": {
             "fill": {
              "color": "#EBF0F8"
             },
             "line": {
              "color": "white"
             }
            },
            "header": {
             "fill": {
              "color": "#C8D4E3"
             },
             "line": {
              "color": "white"
             }
            },
            "type": "table"
           }
          ]
         },
         "layout": {
          "annotationdefaults": {
           "arrowcolor": "#2a3f5f",
           "arrowhead": 0,
           "arrowwidth": 1
          },
          "autotypenumbers": "strict",
          "coloraxis": {
           "colorbar": {
            "outlinewidth": 0,
            "ticks": ""
           }
          },
          "colorscale": {
           "diverging": [
            [
             0,
             "#8e0152"
            ],
            [
             0.1,
             "#c51b7d"
            ],
            [
             0.2,
             "#de77ae"
            ],
            [
             0.3,
             "#f1b6da"
            ],
            [
             0.4,
             "#fde0ef"
            ],
            [
             0.5,
             "#f7f7f7"
            ],
            [
             0.6,
             "#e6f5d0"
            ],
            [
             0.7,
             "#b8e186"
            ],
            [
             0.8,
             "#7fbc41"
            ],
            [
             0.9,
             "#4d9221"
            ],
            [
             1,
             "#276419"
            ]
           ],
           "sequential": [
            [
             0,
             "#0d0887"
            ],
            [
             0.1111111111111111,
             "#46039f"
            ],
            [
             0.2222222222222222,
             "#7201a8"
            ],
            [
             0.3333333333333333,
             "#9c179e"
            ],
            [
             0.4444444444444444,
             "#bd3786"
            ],
            [
             0.5555555555555556,
             "#d8576b"
            ],
            [
             0.6666666666666666,
             "#ed7953"
            ],
            [
             0.7777777777777778,
             "#fb9f3a"
            ],
            [
             0.8888888888888888,
             "#fdca26"
            ],
            [
             1,
             "#f0f921"
            ]
           ],
           "sequentialminus": [
            [
             0,
             "#0d0887"
            ],
            [
             0.1111111111111111,
             "#46039f"
            ],
            [
             0.2222222222222222,
             "#7201a8"
            ],
            [
             0.3333333333333333,
             "#9c179e"
            ],
            [
             0.4444444444444444,
             "#bd3786"
            ],
            [
             0.5555555555555556,
             "#d8576b"
            ],
            [
             0.6666666666666666,
             "#ed7953"
            ],
            [
             0.7777777777777778,
             "#fb9f3a"
            ],
            [
             0.8888888888888888,
             "#fdca26"
            ],
            [
             1,
             "#f0f921"
            ]
           ]
          },
          "colorway": [
           "#636efa",
           "#EF553B",
           "#00cc96",
           "#ab63fa",
           "#FFA15A",
           "#19d3f3",
           "#FF6692",
           "#B6E880",
           "#FF97FF",
           "#FECB52"
          ],
          "font": {
           "color": "#2a3f5f"
          },
          "geo": {
           "bgcolor": "white",
           "lakecolor": "white",
           "landcolor": "#E5ECF6",
           "showlakes": true,
           "showland": true,
           "subunitcolor": "white"
          },
          "hoverlabel": {
           "align": "left"
          },
          "hovermode": "closest",
          "mapbox": {
           "style": "light"
          },
          "paper_bgcolor": "white",
          "plot_bgcolor": "#E5ECF6",
          "polar": {
           "angularaxis": {
            "gridcolor": "white",
            "linecolor": "white",
            "ticks": ""
           },
           "bgcolor": "#E5ECF6",
           "radialaxis": {
            "gridcolor": "white",
            "linecolor": "white",
            "ticks": ""
           }
          },
          "scene": {
           "xaxis": {
            "backgroundcolor": "#E5ECF6",
            "gridcolor": "white",
            "gridwidth": 2,
            "linecolor": "white",
            "showbackground": true,
            "ticks": "",
            "zerolinecolor": "white"
           },
           "yaxis": {
            "backgroundcolor": "#E5ECF6",
            "gridcolor": "white",
            "gridwidth": 2,
            "linecolor": "white",
            "showbackground": true,
            "ticks": "",
            "zerolinecolor": "white"
           },
           "zaxis": {
            "backgroundcolor": "#E5ECF6",
            "gridcolor": "white",
            "gridwidth": 2,
            "linecolor": "white",
            "showbackground": true,
            "ticks": "",
            "zerolinecolor": "white"
           }
          },
          "shapedefaults": {
           "line": {
            "color": "#2a3f5f"
           }
          },
          "ternary": {
           "aaxis": {
            "gridcolor": "white",
            "linecolor": "white",
            "ticks": ""
           },
           "baxis": {
            "gridcolor": "white",
            "linecolor": "white",
            "ticks": ""
           },
           "bgcolor": "#E5ECF6",
           "caxis": {
            "gridcolor": "white",
            "linecolor": "white",
            "ticks": ""
           }
          },
          "title": {
           "x": 0.05
          },
          "xaxis": {
           "automargin": true,
           "gridcolor": "white",
           "linecolor": "white",
           "ticks": "",
           "title": {
            "standoff": 15
           },
           "zerolinecolor": "white",
           "zerolinewidth": 2
          },
          "yaxis": {
           "automargin": true,
           "gridcolor": "white",
           "linecolor": "white",
           "ticks": "",
           "title": {
            "standoff": 15
           },
           "zerolinecolor": "white",
           "zerolinewidth": 2
          }
         }
        },
        "title": {
         "text": "Trajectory",
         "x": 0.5,
         "y": 0.95
        },
        "width": 1000,
        "xaxis": {
         "linecolor": "black",
         "title": {
          "text": "Date"
         }
        },
        "yaxis": {
         "linecolor": "black",
         "title": {
          "text": "score"
         }
        }
       }
      },
      "text/html": [
       "<div>                            <div id=\"d7dc4f4e-e638-45ca-a783-886f9508fe49\" class=\"plotly-graph-div\" style=\"height:525px; width:1000px;\"></div>            <script type=\"text/javascript\">                require([\"plotly\"], function(Plotly) {                    window.PLOTLYENV=window.PLOTLYENV || {};                                    if (document.getElementById(\"d7dc4f4e-e638-45ca-a783-886f9508fe49\")) {                    Plotly.newPlot(                        \"d7dc4f4e-e638-45ca-a783-886f9508fe49\",                        [{\"mode\":\"lines\",\"name\":\"Line\",\"x\":[\"2017-05-17\",\"2017-05-18\",\"2017-05-19\",\"2017-05-20\",\"2017-05-21\",\"2017-05-22\",\"2017-05-23\",\"2017-05-24\",\"2017-05-25\",\"2017-05-26\",\"2017-05-27\",\"2017-05-28\",\"2017-05-29\",\"2017-05-30\",\"2017-05-31\",\"2017-06-01\",\"2017-06-02\",\"2017-06-03\",\"2017-06-04\",\"2017-06-05\",\"2017-06-06\",\"2017-06-07\",\"2017-06-08\",\"2017-06-09\",\"2017-06-10\",\"2017-06-11\",\"2017-06-12\",\"2017-06-13\",\"2017-06-14\",\"2017-06-15\",\"2017-06-16\",\"2017-06-17\",\"2017-06-18\",\"2017-06-19\",\"2017-06-20\",\"2017-06-21\",\"2017-06-22\",\"2017-06-23\",\"2017-06-24\",\"2017-06-25\",\"2017-06-26\",\"2017-06-27\",\"2017-06-28\",\"2017-06-29\",\"2017-06-30\",\"2017-07-01\",\"2017-07-02\",\"2017-07-03\",\"2017-07-04\",\"2017-07-05\",\"2017-07-06\",\"2017-07-07\",\"2017-07-08\",\"2017-07-09\",\"2017-07-10\",\"2017-07-11\",\"2017-07-12\",\"2017-07-13\",\"2017-07-14\",\"2017-07-15\",\"2017-07-16\",\"2017-07-17\",\"2017-07-18\",\"2017-07-19\",\"2017-07-20\",\"2017-07-21\",\"2017-07-22\",\"2017-07-23\",\"2017-07-24\",\"2017-07-25\",\"2017-07-26\",\"2017-07-27\",\"2017-07-28\",\"2017-07-29\",\"2017-07-30\",\"2017-07-31\",\"2017-08-01\",\"2017-08-02\",\"2017-08-03\",\"2017-08-04\",\"2017-08-05\",\"2017-08-06\",\"2017-08-07\",\"2017-08-08\",\"2017-08-09\",\"2017-08-10\",\"2017-08-11\",\"2017-08-12\",\"2017-08-13\",\"2017-08-14\",\"2017-08-15\",\"2017-08-16\",\"2017-08-17\",\"2017-08-18\",\"2017-08-19\",\"2017-08-20\",\"2017-08-21\",\"2017-08-22\",\"2017-08-23\",\"2017-08-24\",\"2017-08-25\",\"2017-08-26\",\"2017-08-27\",\"2017-08-28\",\"2017-08-29\",\"2017-08-30\",\"2017-08-31\",\"2017-09-01\",\"2017-09-02\",\"2017-09-03\",\"2017-09-04\",\"2017-09-05\",\"2017-09-06\",\"2017-09-07\",\"2017-09-08\",\"2017-09-09\",\"2017-09-10\",\"2017-09-11\",\"2017-09-12\",\"2017-09-13\",\"2017-09-14\",\"2017-09-15\",\"2017-09-16\",\"2017-09-17\",\"2017-09-18\",\"2017-09-19\",\"2017-09-20\",\"2017-09-21\",\"2017-09-22\",\"2017-09-23\",\"2017-09-24\",\"2017-09-25\",\"2017-09-26\",\"2017-09-27\",\"2017-09-28\",\"2017-09-29\",\"2017-09-30\",\"2017-10-01\",\"2017-10-02\",\"2017-10-03\",\"2017-10-04\",\"2017-10-05\",\"2017-10-06\",\"2017-10-07\",\"2017-10-08\",\"2017-10-09\",\"2017-10-10\",\"2017-10-11\",\"2017-10-12\",\"2017-10-13\",\"2017-10-14\",\"2017-10-15\",\"2017-10-16\",\"2017-10-17\",\"2017-10-18\",\"2017-10-19\",\"2017-10-20\",\"2017-10-21\",\"2017-10-22\",\"2017-10-23\",\"2017-10-24\",\"2017-10-25\",\"2017-10-26\",\"2017-10-27\",\"2017-10-28\",\"2017-10-29\",\"2017-10-30\",\"2017-10-31\",\"2017-11-01\",\"2017-11-02\",\"2017-11-03\",\"2017-11-04\",\"2017-11-05\",\"2017-11-06\",\"2017-11-07\",\"2017-11-08\",\"2017-11-09\",\"2017-11-10\",\"2017-11-11\",\"2017-11-12\",\"2017-11-13\",\"2017-11-14\",\"2017-11-15\",\"2017-11-16\",\"2017-11-17\",\"2017-11-18\",\"2017-11-19\",\"2017-11-20\",\"2017-11-21\",\"2017-11-22\",\"2017-11-23\",\"2017-11-24\",\"2017-11-25\",\"2017-11-26\",\"2017-11-27\",\"2017-11-28\",\"2017-11-29\",\"2017-11-30\",\"2017-12-01\",\"2017-12-02\",\"2017-12-03\",\"2017-12-04\",\"2017-12-05\",\"2017-12-06\",\"2017-12-07\",\"2017-12-08\",\"2017-12-09\",\"2017-12-10\",\"2017-12-11\",\"2017-12-12\",\"2017-12-13\",\"2017-12-14\",\"2017-12-15\",\"2017-12-16\",\"2017-12-17\",\"2017-12-18\",\"2017-12-19\",\"2017-12-20\",\"2017-12-21\",\"2017-12-22\",\"2017-12-23\",\"2017-12-24\",\"2017-12-25\",\"2017-12-26\",\"2017-12-27\",\"2017-12-28\",\"2017-12-29\",\"2017-12-30\",\"2017-12-31\",\"2018-01-01\",\"2018-01-02\",\"2018-01-03\",\"2018-01-04\",\"2018-01-05\",\"2018-01-06\",\"2018-01-07\",\"2018-01-08\",\"2018-01-09\",\"2018-01-10\",\"2018-01-11\",\"2018-01-12\",\"2018-01-13\",\"2018-01-14\",\"2018-01-15\",\"2018-01-16\",\"2018-01-17\",\"2018-01-18\",\"2018-01-19\",\"2018-01-20\",\"2018-01-21\",\"2018-01-22\",\"2018-01-23\",\"2018-01-24\",\"2018-01-25\",\"2018-01-26\",\"2018-01-27\",\"2018-01-28\",\"2018-01-29\",\"2018-01-30\",\"2018-01-31\",\"2018-02-01\",\"2018-02-02\",\"2018-02-03\",\"2018-02-04\",\"2018-02-05\",\"2018-02-06\",\"2018-02-07\",\"2018-02-08\",\"2018-02-09\",\"2018-02-10\",\"2018-02-11\",\"2018-02-12\",\"2018-02-13\",\"2018-02-14\",\"2018-02-15\",\"2018-02-16\",\"2018-02-17\",\"2018-02-18\",\"2018-02-19\",\"2018-02-20\",\"2018-02-21\",\"2018-02-22\",\"2018-02-23\",\"2018-02-24\",\"2018-02-25\",\"2018-02-26\",\"2018-02-27\",\"2018-02-28\",\"2018-03-01\",\"2018-03-02\",\"2018-03-03\",\"2018-03-04\",\"2018-03-05\",\"2018-03-06\",\"2018-03-07\",\"2018-03-08\",\"2018-03-09\",\"2018-03-10\",\"2018-03-11\",\"2018-03-12\",\"2018-03-13\",\"2018-03-14\",\"2018-03-15\",\"2018-03-16\",\"2018-03-17\",\"2018-03-18\",\"2018-03-19\",\"2018-03-20\",\"2018-03-21\",\"2018-03-22\",\"2018-03-23\",\"2018-03-24\",\"2018-03-25\",\"2018-03-26\",\"2018-03-27\",\"2018-03-28\",\"2018-03-29\",\"2018-03-30\",\"2018-03-31\",\"2018-04-01\",\"2018-04-02\",\"2018-04-03\",\"2018-04-04\",\"2018-04-05\",\"2018-04-06\",\"2018-04-07\",\"2018-04-08\",\"2018-04-09\",\"2018-04-10\",\"2018-04-11\",\"2018-04-12\",\"2018-04-13\",\"2018-04-14\",\"2018-04-15\",\"2018-04-16\",\"2018-04-17\",\"2018-04-18\",\"2018-04-19\",\"2018-04-20\",\"2018-04-21\",\"2018-04-22\",\"2018-04-23\",\"2018-04-24\",\"2018-04-25\",\"2018-04-26\",\"2018-04-27\",\"2018-04-28\",\"2018-04-29\",\"2018-04-30\",\"2018-05-01\",\"2018-05-02\",\"2018-05-03\",\"2018-05-04\",\"2018-05-05\"],\"y\":[352.48570614284915,292.3322738225104,135.04412733085033,962.7664754187996,88.08279145996612,97.12855181966825,661.9809323360826,142.08941659008815,73.12995448820263,87.3772594353878,358.1431905963844,36.90734151918718,387.8324595502014,104.42414101846644,84.48816094662567,374.2622375837997,353.39049658873864,43.68522869974951,125.21918398193291,47.8479343625607,114.10457286417174,147.1485522969296,835.5107368116804,882.7918249594944,107.02852491365596,101.35602836808944,197.63104913760583,86.58231161720728,558.743369363147,69.63194420135976,68.25481394806631,396.87196285220034,317.7992764955411,363.9693707677151,329.83148966467473,205.5571889900009,502.9397659304281,54.55970039913758,32.117825098858354,59.81401677261064,48.139917267026746,38.99130319625603,51.2333562552538,298.2077775717328,245.0759768906501,35.2725619833646,37.824628435061946,177.75694273443966,179.3745082979575,187.99602197522532,23.15915721171254,6.85045555479063,460.3934522302537,53.973886861606594,84.09300299259918,220.05225962401695,171.89891616061658,131.73036099990034,176.98532589479672,117.98267037440849,126.87540154679483,115.40233123813648,139.09100083882365,172.5552147531105,203.20984762108992,166.13571450335343,187.20785278683095,153.78760776996816,166.15915536831056,165.88884219492752,114.9992009496612,165.02987360092794,192.0520766173799,124.17267067009536,105.62962104073544,154.29922012008493,134.1720275633611,66.98811587235198,221.783232964764,194.86526569393172,331.01436987773377,209.6746245571045,276.17702746854746,342.1401042979128,290.52347585457767,404.79970894500457,459.3466167920752,372.9600292898995,486.04797415887015,338.2268748224653,236.6390383084728,182.10743829350676,235.74120618672876,175.72222404737204,247.50373979340415,169.65318277632375,268.95240249934494,152.70980591002677,197.22625879633105,179.9792772314796,187.90296354964423,197.543264113387,259.0401810916632,282.2370368448437,283.3442571551532,288.884691868052,332.8561884999926,377.16855148254393,678.3422396965018,43.22961309764072,83.7444070901987,193.0080283308893,58.512641879232845,77.20168840420854,179.1336467364847,132.60709747874895,127.75006294974088,87.49729414522746,149.93107663723407,122.67631232716238,159.54931888123903,146.8363384583211,69.29013393522042,75.79504420163904,111.46545358411991,101.32242556044908,103.80879793852976,121.48988905067164,84.49145447071862,62.82496823664221,118.48202696472144,87.47806978491445,100.0984361647169,108.68420057219882,132.36178794402207,66.9389018681243,85.03739366132655,93.35412336069302,85.75002903927104,84.9322434090406,70.16114114524265,108.40606433091024,99.88530498031794,65.39802013020713,126.0305051279139,159.63961089238072,132.55588295387665,105.7033303772802,158.16788319102875,507.9551676682264,150.79165302006342,112.55881645351552,116.09870276567102,136.77135619990509,112.86915452167489,137.6267813522921,162.95072536550822,145.6207667441349,97.25695041230288,170.02273882926903,188.6685931559039,99.23633947427903,104.33099917818645,123.16144816163518,109.29707573484312,168.9657538420762,116.35966423704896,173.89902385945877,281.4372887934585,263.30203566925087,186.94323784178303,210.98910212657543,180.19838840070813,137.65584039121123,81.94916197846864,193.23850237945507,300.5946766665759,344.1232240536064,267.0292897965139,364.5057565900403,147.8020760780318,47.23888825894917,223.247043165952,215.60705799160664,211.3977403893158,226.70436443205352,286.80098343065976,225.32329395648375,280.69935394770914,322.02481269223523,273.6297636025474,221.57735862218408,427.8826570472341,527.1948245689989,465.9364920323166,508.9940486247055,679.576351519537,248.173118183143,258.9332448858273,383.6383156285186,366.8781261831021,296.82039154115444,111.13974691369614,494.40338631339625,268.2132907987004,208.71356265707973,158.7800786386346,186.6477729353309,468.7333334724444,583.041383277079,541.294839247645,429.735456376327,296.7456174685002,311.4474308670646,329.539727525638,258.5676053445875,535.2928075459619,563.6818964582092,355.1642746857131,336.80505952106955,234.2554650598092,206.2072897066668,284.0787350917995,312.71191457585866,329.49013444073506,313.0249185346158,344.51731125152406,265.92663162619283,269.8125455118455,806.9327194991718,730.9109926417068,505.3108485360336,1479.6446981141962,512.0509149905777,280.95695102456,24.48376110000584,118.19008375646648,308.4447501096381,69.85798158479304,42.87089805102389,246.7491849011049,32.92397861173487,311.2677323839364,304.4846633818374,453.4276797046977,330.1787197590892,218.83067410672768,187.6699417305922,274.4566553787642,214.01628432816636,157.45012935916645,370.80367548594745,240.3636094664992,261.8513902095713,403.044563783538,436.4714258308937,328.491451360742,235.3819316241947,243.2403165401363,171.7641745374445,176.52218882777004,322.8153528189867,152.43397533902254,143.60006782369993,194.4855591295573,167.9365280772396,100.1486640592505,82.90566519232635,96.07089973767638,101.97903510541228,67.59579521376084,61.59560328936631,108.01024857907956,189.735459667498,111.49154695114257,104.83613658786751,90.31452804342922,43.027864802117065,82.92596393182205,84.22690995709189,87.30677575339162,58.01927074998945,36.84510591899237,32.99225904565914,44.67301115420837,50.15285142059092,77.45514284193013,40.59746206387685,75.01692480072784,52.51083621446799,109.67107842771472,48.76610109982809,205.4917622436168,126.78739985743886,68.57035366851176,62.35104801273741,61.943791120969806,47.39422202836414,25.294472195175096,40.72527677007857,19.3583357501579,35.66692502986716,32.54080118369133,27.091896833175284,32.97552805820002,50.51460848207529,36.640109481192496,49.746289752026925,67.28978959012638,61.866913536428974,23.031646359943966,34.4342636431533,30.821361011070003,34.62489165764352,35.34660611706099,32.42397913457641,26.82349341442352,45.18456626433418,33.274194953987504,27.973297511641974,23.65619980728168,38.89476325267285,17.571200404709906,20.44159232152821,18.800581027552475,11.468054197499953,29.95590531169591,24.702767800199062,35.971892146627894,18.262457145103934,37.29401270705037,67.18030090728635,39.01350466769997,42.433804255472126,31.46276568751496,53.80278466469965,38.396188502900685,57.53854618197286,114.9826861922964,46.46348175838687,56.08704990624628,55.46415531407405,109.10091310393165,47.62631151742251,103.6891495945708,50.91566769926449,39.66819257277629,53.11816051505952,35.55169167472372,26.473744662762748,36.19011599526074,84.08690048079782,59.32297437946277,52.15108595423192],\"type\":\"scatter\",\"showlegend\":false}],                        {\"template\":{\"data\":{\"histogram2dcontour\":[{\"type\":\"histogram2dcontour\",\"colorbar\":{\"outlinewidth\":0,\"ticks\":\"\"},\"colorscale\":[[0.0,\"#0d0887\"],[0.1111111111111111,\"#46039f\"],[0.2222222222222222,\"#7201a8\"],[0.3333333333333333,\"#9c179e\"],[0.4444444444444444,\"#bd3786\"],[0.5555555555555556,\"#d8576b\"],[0.6666666666666666,\"#ed7953\"],[0.7777777777777778,\"#fb9f3a\"],[0.8888888888888888,\"#fdca26\"],[1.0,\"#f0f921\"]]}],\"choropleth\":[{\"type\":\"choropleth\",\"colorbar\":{\"outlinewidth\":0,\"ticks\":\"\"}}],\"histogram2d\":[{\"type\":\"histogram2d\",\"colorbar\":{\"outlinewidth\":0,\"ticks\":\"\"},\"colorscale\":[[0.0,\"#0d0887\"],[0.1111111111111111,\"#46039f\"],[0.2222222222222222,\"#7201a8\"],[0.3333333333333333,\"#9c179e\"],[0.4444444444444444,\"#bd3786\"],[0.5555555555555556,\"#d8576b\"],[0.6666666666666666,\"#ed7953\"],[0.7777777777777778,\"#fb9f3a\"],[0.8888888888888888,\"#fdca26\"],[1.0,\"#f0f921\"]]}],\"heatmap\":[{\"type\":\"heatmap\",\"colorbar\":{\"outlinewidth\":0,\"ticks\":\"\"},\"colorscale\":[[0.0,\"#0d0887\"],[0.1111111111111111,\"#46039f\"],[0.2222222222222222,\"#7201a8\"],[0.3333333333333333,\"#9c179e\"],[0.4444444444444444,\"#bd3786\"],[0.5555555555555556,\"#d8576b\"],[0.6666666666666666,\"#ed7953\"],[0.7777777777777778,\"#fb9f3a\"],[0.8888888888888888,\"#fdca26\"],[1.0,\"#f0f921\"]]}],\"heatmapgl\":[{\"type\":\"heatmapgl\",\"colorbar\":{\"outlinewidth\":0,\"ticks\":\"\"},\"colorscale\":[[0.0,\"#0d0887\"],[0.1111111111111111,\"#46039f\"],[0.2222222222222222,\"#7201a8\"],[0.3333333333333333,\"#9c179e\"],[0.4444444444444444,\"#bd3786\"],[0.5555555555555556,\"#d8576b\"],[0.6666666666666666,\"#ed7953\"],[0.7777777777777778,\"#fb9f3a\"],[0.8888888888888888,\"#fdca26\"],[1.0,\"#f0f921\"]]}],\"contourcarpet\":[{\"type\":\"contourcarpet\",\"colorbar\":{\"outlinewidth\":0,\"ticks\":\"\"}}],\"contour\":[{\"type\":\"contour\",\"colorbar\":{\"outlinewidth\":0,\"ticks\":\"\"},\"colorscale\":[[0.0,\"#0d0887\"],[0.1111111111111111,\"#46039f\"],[0.2222222222222222,\"#7201a8\"],[0.3333333333333333,\"#9c179e\"],[0.4444444444444444,\"#bd3786\"],[0.5555555555555556,\"#d8576b\"],[0.6666666666666666,\"#ed7953\"],[0.7777777777777778,\"#fb9f3a\"],[0.8888888888888888,\"#fdca26\"],[1.0,\"#f0f921\"]]}],\"surface\":[{\"type\":\"surface\",\"colorbar\":{\"outlinewidth\":0,\"ticks\":\"\"},\"colorscale\":[[0.0,\"#0d0887\"],[0.1111111111111111,\"#46039f\"],[0.2222222222222222,\"#7201a8\"],[0.3333333333333333,\"#9c179e\"],[0.4444444444444444,\"#bd3786\"],[0.5555555555555556,\"#d8576b\"],[0.6666666666666666,\"#ed7953\"],[0.7777777777777778,\"#fb9f3a\"],[0.8888888888888888,\"#fdca26\"],[1.0,\"#f0f921\"]]}],\"mesh3d\":[{\"type\":\"mesh3d\",\"colorbar\":{\"outlinewidth\":0,\"ticks\":\"\"}}],\"scatter\":[{\"fillpattern\":{\"fillmode\":\"overlay\",\"size\":10,\"solidity\":0.2},\"type\":\"scatter\"}],\"parcoords\":[{\"type\":\"parcoords\",\"line\":{\"colorbar\":{\"outlinewidth\":0,\"ticks\":\"\"}}}],\"scatterpolargl\":[{\"type\":\"scatterpolargl\",\"marker\":{\"colorbar\":{\"outlinewidth\":0,\"ticks\":\"\"}}}],\"bar\":[{\"error_x\":{\"color\":\"#2a3f5f\"},\"error_y\":{\"color\":\"#2a3f5f\"},\"marker\":{\"line\":{\"color\":\"#E5ECF6\",\"width\":0.5},\"pattern\":{\"fillmode\":\"overlay\",\"size\":10,\"solidity\":0.2}},\"type\":\"bar\"}],\"scattergeo\":[{\"type\":\"scattergeo\",\"marker\":{\"colorbar\":{\"outlinewidth\":0,\"ticks\":\"\"}}}],\"scatterpolar\":[{\"type\":\"scatterpolar\",\"marker\":{\"colorbar\":{\"outlinewidth\":0,\"ticks\":\"\"}}}],\"histogram\":[{\"marker\":{\"pattern\":{\"fillmode\":\"overlay\",\"size\":10,\"solidity\":0.2}},\"type\":\"histogram\"}],\"scattergl\":[{\"type\":\"scattergl\",\"marker\":{\"colorbar\":{\"outlinewidth\":0,\"ticks\":\"\"}}}],\"scatter3d\":[{\"type\":\"scatter3d\",\"line\":{\"colorbar\":{\"outlinewidth\":0,\"ticks\":\"\"}},\"marker\":{\"colorbar\":{\"outlinewidth\":0,\"ticks\":\"\"}}}],\"scattermapbox\":[{\"type\":\"scattermapbox\",\"marker\":{\"colorbar\":{\"outlinewidth\":0,\"ticks\":\"\"}}}],\"scatterternary\":[{\"type\":\"scatterternary\",\"marker\":{\"colorbar\":{\"outlinewidth\":0,\"ticks\":\"\"}}}],\"scattercarpet\":[{\"type\":\"scattercarpet\",\"marker\":{\"colorbar\":{\"outlinewidth\":0,\"ticks\":\"\"}}}],\"carpet\":[{\"aaxis\":{\"endlinecolor\":\"#2a3f5f\",\"gridcolor\":\"white\",\"linecolor\":\"white\",\"minorgridcolor\":\"white\",\"startlinecolor\":\"#2a3f5f\"},\"baxis\":{\"endlinecolor\":\"#2a3f5f\",\"gridcolor\":\"white\",\"linecolor\":\"white\",\"minorgridcolor\":\"white\",\"startlinecolor\":\"#2a3f5f\"},\"type\":\"carpet\"}],\"table\":[{\"cells\":{\"fill\":{\"color\":\"#EBF0F8\"},\"line\":{\"color\":\"white\"}},\"header\":{\"fill\":{\"color\":\"#C8D4E3\"},\"line\":{\"color\":\"white\"}},\"type\":\"table\"}],\"barpolar\":[{\"marker\":{\"line\":{\"color\":\"#E5ECF6\",\"width\":0.5},\"pattern\":{\"fillmode\":\"overlay\",\"size\":10,\"solidity\":0.2}},\"type\":\"barpolar\"}],\"pie\":[{\"automargin\":true,\"type\":\"pie\"}]},\"layout\":{\"autotypenumbers\":\"strict\",\"colorway\":[\"#636efa\",\"#EF553B\",\"#00cc96\",\"#ab63fa\",\"#FFA15A\",\"#19d3f3\",\"#FF6692\",\"#B6E880\",\"#FF97FF\",\"#FECB52\"],\"font\":{\"color\":\"#2a3f5f\"},\"hovermode\":\"closest\",\"hoverlabel\":{\"align\":\"left\"},\"paper_bgcolor\":\"white\",\"plot_bgcolor\":\"#E5ECF6\",\"polar\":{\"bgcolor\":\"#E5ECF6\",\"angularaxis\":{\"gridcolor\":\"white\",\"linecolor\":\"white\",\"ticks\":\"\"},\"radialaxis\":{\"gridcolor\":\"white\",\"linecolor\":\"white\",\"ticks\":\"\"}},\"ternary\":{\"bgcolor\":\"#E5ECF6\",\"aaxis\":{\"gridcolor\":\"white\",\"linecolor\":\"white\",\"ticks\":\"\"},\"baxis\":{\"gridcolor\":\"white\",\"linecolor\":\"white\",\"ticks\":\"\"},\"caxis\":{\"gridcolor\":\"white\",\"linecolor\":\"white\",\"ticks\":\"\"}},\"coloraxis\":{\"colorbar\":{\"outlinewidth\":0,\"ticks\":\"\"}},\"colorscale\":{\"sequential\":[[0.0,\"#0d0887\"],[0.1111111111111111,\"#46039f\"],[0.2222222222222222,\"#7201a8\"],[0.3333333333333333,\"#9c179e\"],[0.4444444444444444,\"#bd3786\"],[0.5555555555555556,\"#d8576b\"],[0.6666666666666666,\"#ed7953\"],[0.7777777777777778,\"#fb9f3a\"],[0.8888888888888888,\"#fdca26\"],[1.0,\"#f0f921\"]],\"sequentialminus\":[[0.0,\"#0d0887\"],[0.1111111111111111,\"#46039f\"],[0.2222222222222222,\"#7201a8\"],[0.3333333333333333,\"#9c179e\"],[0.4444444444444444,\"#bd3786\"],[0.5555555555555556,\"#d8576b\"],[0.6666666666666666,\"#ed7953\"],[0.7777777777777778,\"#fb9f3a\"],[0.8888888888888888,\"#fdca26\"],[1.0,\"#f0f921\"]],\"diverging\":[[0,\"#8e0152\"],[0.1,\"#c51b7d\"],[0.2,\"#de77ae\"],[0.3,\"#f1b6da\"],[0.4,\"#fde0ef\"],[0.5,\"#f7f7f7\"],[0.6,\"#e6f5d0\"],[0.7,\"#b8e186\"],[0.8,\"#7fbc41\"],[0.9,\"#4d9221\"],[1,\"#276419\"]]},\"xaxis\":{\"gridcolor\":\"white\",\"linecolor\":\"white\",\"ticks\":\"\",\"title\":{\"standoff\":15},\"zerolinecolor\":\"white\",\"automargin\":true,\"zerolinewidth\":2},\"yaxis\":{\"gridcolor\":\"white\",\"linecolor\":\"white\",\"ticks\":\"\",\"title\":{\"standoff\":15},\"zerolinecolor\":\"white\",\"automargin\":true,\"zerolinewidth\":2},\"scene\":{\"xaxis\":{\"backgroundcolor\":\"#E5ECF6\",\"gridcolor\":\"white\",\"linecolor\":\"white\",\"showbackground\":true,\"ticks\":\"\",\"zerolinecolor\":\"white\",\"gridwidth\":2},\"yaxis\":{\"backgroundcolor\":\"#E5ECF6\",\"gridcolor\":\"white\",\"linecolor\":\"white\",\"showbackground\":true,\"ticks\":\"\",\"zerolinecolor\":\"white\",\"gridwidth\":2},\"zaxis\":{\"backgroundcolor\":\"#E5ECF6\",\"gridcolor\":\"white\",\"linecolor\":\"white\",\"showbackground\":true,\"ticks\":\"\",\"zerolinecolor\":\"white\",\"gridwidth\":2}},\"shapedefaults\":{\"line\":{\"color\":\"#2a3f5f\"}},\"annotationdefaults\":{\"arrowcolor\":\"#2a3f5f\",\"arrowhead\":0,\"arrowwidth\":1},\"geo\":{\"bgcolor\":\"white\",\"landcolor\":\"#E5ECF6\",\"subunitcolor\":\"white\",\"showland\":true,\"showlakes\":true,\"lakecolor\":\"white\"},\"title\":{\"x\":0.05},\"mapbox\":{\"style\":\"light\"}}},\"title\":{\"text\":\"Trajectory\",\"x\":0.5,\"y\":0.95},\"xaxis\":{\"title\":{\"text\":\"Date\"},\"linecolor\":\"black\"},\"yaxis\":{\"title\":{\"text\":\"score\"},\"linecolor\":\"black\"},\"paper_bgcolor\":\"white\",\"plot_bgcolor\":\"white\",\"width\":1000},                        {\"responsive\": true}                    ).then(function(){\n",
       "                            \n",
       "var gd = document.getElementById('d7dc4f4e-e638-45ca-a783-886f9508fe49');\n",
       "var x = new MutationObserver(function (mutations, observer) {{\n",
       "        var display = window.getComputedStyle(gd).display;\n",
       "        if (!display || display === 'none') {{\n",
       "            console.log([gd, 'removed!']);\n",
       "            Plotly.purge(gd);\n",
       "            observer.disconnect();\n",
       "        }}\n",
       "}});\n",
       "\n",
       "// Listen for the removal of the full notebook cells\n",
       "var notebookContainer = gd.closest('#notebook-container');\n",
       "if (notebookContainer) {{\n",
       "    x.observe(notebookContainer, {childList: true});\n",
       "}}\n",
       "\n",
       "// Listen for the clearing of the current output cell\n",
       "var outputEl = gd.closest('.output');\n",
       "if (outputEl) {{\n",
       "    x.observe(outputEl, {childList: true});\n",
       "}}\n",
       "\n",
       "                        })                };                });            </script>        </div>"
      ]
     },
     "metadata": {},
     "output_type": "display_data"
    }
   ],
   "source": [
    "fig = go.Figure()\n",
    "\n",
    "# Add a line trace\n",
    "fig.add_trace(go.Scatter(x=df_power_law['date'], y=df_power_law['score'], mode='lines', name='Line'))\n",
    "# fig.add_trace(go.Scatter(x=df_power_law['#nodes'], y=df_power_law['alpha'], mode='markers', name='Scatter'))\n",
    "\n",
    "\n",
    "# Customize the layout\n",
    "fig.update_layout(\n",
    "    title=dict(\n",
    "        text='Trajectory',  # Set the title here\n",
    "        x=0.5,  # Center the title horizontally (0.5 means middle)\n",
    "        y=0.95,  # Adjust the vertical position as needed (0.95 is near the top)\n",
    "    ),\n",
    "    xaxis=dict(title='Date'),\n",
    "    yaxis=dict(title='score'),\n",
    "    paper_bgcolor='white',  # Set the background color to white\n",
    "    plot_bgcolor='white',   # Set the plot area background color to white\n",
    "    width=1000\n",
    "    \n",
    ")\n",
    "\n",
    "fig.update_xaxes(linecolor='black')\n",
    "fig.update_yaxes(linecolor='black')\n",
    "fig.update_traces(showlegend=False)\n",
    "# Show the plot\n",
    "fig.show()"
   ]
  },
  {
   "cell_type": "markdown",
   "id": "8ea7abd4",
   "metadata": {},
   "source": [
    "**Draw diagram to illustrate the trajectory with data points in steady period in green**"
   ]
  },
  {
   "cell_type": "code",
   "execution_count": 21,
   "id": "efa648d6",
   "metadata": {},
   "outputs": [
    {
     "data": {
      "application/vnd.plotly.v1+json": {
       "config": {
        "plotlyServerURL": "https://plot.ly"
       },
       "data": [
        {
         "line": {
          "color": "blue",
          "width": 1
         },
         "mode": "lines",
         "name": "Line",
         "showlegend": false,
         "type": "scatter",
         "x": [
          994,
          915,
          478,
          467,
          310,
          322,
          356,
          594,
          356,
          335,
          215,
          213,
          242,
          343,
          316,
          230,
          227,
          251,
          294,
          257,
          307,
          339,
          449,
          434,
          328,
          425,
          410,
          292,
          325,
          267,
          251,
          246,
          229,
          242,
          207,
          171,
          276,
          230,
          202,
          207,
          263,
          174,
          239,
          208,
          187,
          163,
          173,
          127,
          145,
          133,
          149,
          288,
          235,
          235,
          335,
          602,
          477,
          382,
          382,
          286,
          273,
          306,
          401,
          374,
          390,
          345,
          345,
          332,
          351,
          338,
          348,
          349,
          370,
          313,
          265,
          290,
          102,
          229,
          426,
          423,
          494,
          374,
          479,
          499,
          468,
          695,
          725,
          573,
          600,
          508,
          420,
          367,
          401,
          345,
          396,
          387,
          428,
          315,
          374,
          373,
          381,
          384,
          390,
          464,
          484,
          483,
          515,
          581,
          400,
          297,
          449,
          610,
          342,
          432,
          484,
          318,
          291,
          268,
          288,
          268,
          257,
          270,
          199,
          194,
          263,
          258,
          207,
          245,
          193,
          187,
          206,
          230,
          222,
          206,
          256,
          182,
          224,
          207,
          218,
          258,
          216,
          222,
          252,
          168,
          235,
          285,
          280,
          231,
          291,
          644,
          318,
          236,
          254,
          368,
          233,
          289,
          282,
          260,
          223,
          280,
          354,
          234,
          257,
          203,
          221,
          285,
          235,
          274,
          416,
          405,
          377,
          331,
          265,
          259,
          209,
          300,
          503,
          479,
          346,
          458,
          304,
          176,
          349,
          357,
          429,
          380,
          446,
          393,
          432,
          540,
          456,
          401,
          648,
          627,
          753,
          765,
          770,
          458,
          471,
          581,
          549,
          505,
          566,
          314,
          186,
          545,
          324,
          417,
          676,
          902,
          853,
          685,
          520,
          572,
          637,
          633,
          1042,
          732,
          778,
          609,
          567,
          459,
          639,
          589,
          565,
          545,
          703,
          554,
          544,
          464,
          449,
          1039,
          596,
          1124,
          819,
          649,
          552,
          249,
          339,
          845,
          570,
          701,
          640,
          521,
          605,
          400,
          411,
          364,
          412,
          336,
          343,
          610,
          327,
          376,
          468,
          512,
          395,
          375,
          381,
          298,
          304,
          460,
          271,
          249,
          294,
          268,
          197,
          175,
          179,
          217,
          147,
          165,
          212,
          291,
          225,
          229,
          192,
          141,
          209,
          227,
          225,
          159,
          114,
          136,
          110,
          112,
          207,
          146,
          185
         ],
         "y": [
          12.17069435435016,
          8.889134188890228,
          6.7820908269582,
          12.657813455101612,
          6.552929080964145,
          6.452563410886842,
          12.252801387728818,
          5.318663539006105,
          4.578060124941151,
          4.811172759989585,
          9.899071564151017,
          3.607657393178114,
          9.45418808437404,
          5.400189800855267,
          5.56725451276625,
          9.964327351130022,
          9.167963252921137,
          3.7625612603332863,
          5.63940235632892,
          4.102202591094496,
          5.595447890120214,
          5.2736248142409545,
          10.944011370797158,
          11.433664300449466,
          5.324070282168137,
          4.882512032097746,
          7.609644953641261,
          4.9202502689650105,
          11.349784797788608,
          4.604723900957564,
          4.626460960013279,
          8.106632191739646,
          7.289184109384004,
          10.591875006731538,
          8.964053393105807,
          10.982131633986851,
          11.881369577822287,
          4.522467158826464,
          3.5941989199620683,
          4.710082418054592,
          4.143627107238924,
          4.353899860768754,
          3.983074221458902,
          7.667993263266916,
          8.670053136633445,
          3.7608880102723967,
          3.9926429953937954,
          8.4527221877729,
          8.598266771644106,
          7.808244480970112,
          3.371280023092698,
          1.929667387598046,
          11.370679557888929,
          3.901833418188246,
          4.399216700431515,
          6.2899657703594825,
          6.0377382994297,
          5.724985161651024,
          7.599127930047139,
          6.855409587532748,
          6.644188429865808,
          5.955394214202025,
          5.432646211392101,
          7.0409027061510585,
          8.211433140828085,
          6.43092870213759,
          7.892112085604291,
          7.675837432141495,
          7.229165633749675,
          7.593144897584306,
          5.45801057232685,
          7.147103949373012,
          8.40576887942101,
          6.611055379054814,
          5.979709494088782,
          9.062362624859906,
          10.210259498191174,
          5.253158291527376,
          7.9456228149718,
          7.060734815427647,
          9.717323359342124,
          9.002038906446368,
          9.75940296224077,
          10.763713224181496,
          9.889256385084368,
          9.18959979297597,
          10.01332142235026,
          11.97997029030871,
          12.774450954472975,
          11.51398740690682,
          9.620139784533292,
          8.421584037873473,
          10.21654555213278,
          8.04811808692848,
          9.956124801708851,
          7.83356206224671,
          9.638690012558104,
          7.654296219795215,
          8.42231212717511,
          8.00368749463706,
          8.165555717076668,
          7.650462497799427,
          9.542138231905966,
          8.490428957388616,
          8.94945309064483,
          10.236720740118342,
          10.97436032991281,
          9.990876928931035,
          12.542972125712936,
          3.7801808328443407,
          4.127009200980975,
          6.3771269617566935,
          3.932263677701176,
          4.139661138004383,
          6.175479669633157,
          6.711663081375308,
          6.826705292947568,
          5.288002593859665,
          7.275227856895159,
          7.254724571439977,
          9.292391830577252,
          8.58203406792677,
          5.441505369862605,
          5.782706116969309,
          6.905266192679485,
          6.276760175158616,
          6.7181712281529125,
          7.822047199183082,
          6.444725594398593,
          5.73048387636852,
          9.090677911642262,
          6.793092826726407,
          7.83362345079114,
          7.887249613244143,
          9.00533385732138,
          5.547579460110363,
          5.907919938594834,
          6.385991595197488,
          6.3159696021631975,
          5.325991310210549,
          5.620264032756201,
          7.93439320265867,
          6.331817609785375,
          5.773295357956457,
          8.210194610814513,
          9.384789409115072,
          7.098525169617756,
          7.254724571439976,
          8.81647279593625,
          11.855980664545294,
          8.029758457076042,
          6.322546806124169,
          6.663119241823983,
          5.990638743283103,
          6.26198620021152,
          7.521101992641508,
          8.50989418857019,
          9.194673269356716,
          7.155578437242937,
          9.645739507955016,
          8.65536583726707,
          6.635548625923082,
          6.232749915019894,
          8.955145512673909,
          7.001184703914519,
          9.500309204575668,
          7.361267705551001,
          9.324790930889831,
          10.59689591282,
          10.548997349083956,
          6.632338851798751,
          9.457328526308643,
          10.12368674096929,
          8.143787358477812,
          6.078446403461957,
          9.285789221497897,
          9.005899488237814,
          11.045271217620554,
          11.038634409410944,
          12.135670767463967,
          7.347562092122233,
          4.493059106106314,
          11.175564283363618,
          9.292809583975671,
          7.235326385538142,
          9.416926459536285,
          9.948013972855858,
          8.35544000008533,
          8.9263215392616,
          11.141743916821596,
          10.558855007549926,
          10.37669913832935,
          11.497459681579702,
          15.180381735363705,
          11.78891517704061,
          10.848896251284232,
          15.826375828906782,
          10.789854901642387,
          9.178739399020952,
          12.225716179201678,
          13.39903587861074,
          12.01440704985615,
          4.65307252050803,
          10.869506166532004,
          10.499453322699278,
          7.412780764896589,
          8.745093214183445,
          8.783094687747472,
          12.915988647468584,
          13.1032864552462,
          14.236935982207664,
          11.923515655123898,
          10.345886549003112,
          9.76697860406085,
          10.337091336406386,
          8.096017147897781,
          9.745775360847675,
          15.061555541402775,
          10.235127743126002,
          10.174926383554329,
          7.054622974014516,
          7.000155026095319,
          8.188755715601468,
          9.084106310194413,
          10.099021839580306,
          10.33399057045027,
          8.558344130467033,
          7.668105543422525,
          8.756261934732363,
          13.647923501086,
          11.062475415094015,
          9.716786610549022,
          23.342330218086158,
          10.87507104273975,
          6.97719184648224,
          2.3806203396764984,
          4.444819825990479,
          10.13156206418593,
          4.874695237765682,
          2.6818395659579632,
          8.502308506685043,
          2.653251122246103,
          8.589310824112863,
          10.183366963052917,
          14.378228791928647,
          14.340341722521076,
          8.61096358935226,
          8.705810204959825,
          10.401917716973465,
          9.733300099743298,
          6.652891821797146,
          8.879506544884737,
          9.557143544924624,
          10.852281793069224,
          10.91148307502262,
          11.143257333685696,
          13.081771940049736,
          9.066984252809052,
          9.853573588151932,
          9.28483508872082,
          8.329939839731358,
          10.865729094134323,
          7.850333277348601,
          8.672657064900568,
          9.6648144064957,
          8.922735910452303,
          7.100510690653402,
          7.713292156465677,
          8.63286700963832,
          6.427629843673622,
          6.728820339800517,
          6.47256616322129,
          9.002001182486497,
          10.843163123207692,
          9.051071384813484,
          7.919525125223871,
          7.545994237741757,
          4.992844952959631,
          6.997510801878118,
          6.811776420951162,
          6.129386578444561,
          6.52951353827717,
          6.366674733364444,
          4.850751148339419,
          6.862033785371956,
          6.7117957815000855,
          6.87446798159053,
          5.605156759949983,
          6.67796777143289
         ]
        },
        {
         "line": {
          "color": "red"
         },
         "mode": "markers",
         "name": "Scatter",
         "showlegend": false,
         "type": "scatter",
         "x": [
          994,
          915,
          478,
          467,
          310,
          322,
          356,
          594,
          356,
          335,
          215,
          213,
          242,
          343,
          316,
          230,
          227,
          251,
          294,
          257,
          307,
          339,
          449,
          434,
          328,
          425,
          410,
          292,
          325,
          267,
          251,
          246,
          229,
          242,
          207,
          171,
          276,
          230,
          202,
          207,
          263,
          174,
          239,
          208,
          187,
          163,
          173,
          127,
          145,
          133,
          149,
          288,
          235,
          235,
          335,
          602,
          477,
          382,
          382,
          286,
          273,
          306,
          401,
          374,
          390,
          345,
          345,
          332,
          351,
          338,
          348,
          349,
          370,
          313,
          265,
          290,
          102,
          229,
          426,
          423,
          494,
          374,
          479,
          499,
          468,
          695,
          725,
          573,
          600,
          508,
          420,
          367,
          401,
          345,
          396,
          387,
          428,
          315,
          374,
          373,
          381,
          384,
          390,
          464,
          484,
          483,
          515,
          581,
          400,
          297,
          449,
          610,
          342,
          432,
          484,
          318,
          291,
          268,
          288,
          268,
          257,
          270,
          199,
          194,
          263,
          258,
          207,
          245,
          193,
          187,
          206,
          230,
          222,
          206,
          256,
          182,
          224,
          207,
          218,
          258,
          216,
          222,
          252,
          168,
          235,
          285,
          280,
          231,
          291,
          644,
          318,
          236,
          254,
          368,
          233,
          289,
          282,
          260,
          223,
          280,
          354,
          234,
          257,
          203,
          221,
          285,
          235,
          274,
          416,
          405,
          377,
          331,
          265,
          259,
          209,
          300,
          503,
          479,
          346,
          458,
          304,
          176,
          349,
          357,
          429,
          380,
          446,
          393,
          432,
          540,
          456,
          401,
          648,
          627,
          753,
          765,
          770,
          458,
          471,
          581,
          549,
          505,
          566,
          314,
          186,
          545,
          324,
          417,
          676,
          902,
          853,
          685,
          520,
          572,
          637,
          633,
          1042,
          732,
          778,
          609,
          567,
          459,
          639,
          589,
          565,
          545,
          703,
          554,
          544,
          464,
          449,
          1039,
          596,
          1124,
          819,
          649,
          552,
          249,
          339,
          845,
          570,
          701,
          640,
          521,
          605,
          400,
          411,
          364,
          412,
          336,
          343,
          610,
          327,
          376,
          468,
          512,
          395,
          375,
          381,
          298,
          304,
          460,
          271,
          249,
          294,
          268,
          197,
          175,
          179,
          217,
          147,
          165,
          212,
          291,
          225,
          229,
          192,
          141,
          209,
          227,
          225,
          159,
          114,
          136,
          110,
          112,
          207,
          146,
          185
         ],
         "y": [
          12.17069435435016,
          8.889134188890228,
          6.7820908269582,
          12.657813455101612,
          6.552929080964145,
          6.452563410886842,
          12.252801387728818,
          5.318663539006105,
          4.578060124941151,
          4.811172759989585,
          9.899071564151017,
          3.607657393178114,
          9.45418808437404,
          5.400189800855267,
          5.56725451276625,
          9.964327351130022,
          9.167963252921137,
          3.7625612603332863,
          5.63940235632892,
          4.102202591094496,
          5.595447890120214,
          5.2736248142409545,
          10.944011370797158,
          11.433664300449466,
          5.324070282168137,
          4.882512032097746,
          7.609644953641261,
          4.9202502689650105,
          11.349784797788608,
          4.604723900957564,
          4.626460960013279,
          8.106632191739646,
          7.289184109384004,
          10.591875006731538,
          8.964053393105807,
          10.982131633986851,
          11.881369577822287,
          4.522467158826464,
          3.5941989199620683,
          4.710082418054592,
          4.143627107238924,
          4.353899860768754,
          3.983074221458902,
          7.667993263266916,
          8.670053136633445,
          3.7608880102723967,
          3.9926429953937954,
          8.4527221877729,
          8.598266771644106,
          7.808244480970112,
          3.371280023092698,
          1.929667387598046,
          11.370679557888929,
          3.901833418188246,
          4.399216700431515,
          6.2899657703594825,
          6.0377382994297,
          5.724985161651024,
          7.599127930047139,
          6.855409587532748,
          6.644188429865808,
          5.955394214202025,
          5.432646211392101,
          7.0409027061510585,
          8.211433140828085,
          6.43092870213759,
          7.892112085604291,
          7.675837432141495,
          7.229165633749675,
          7.593144897584306,
          5.45801057232685,
          7.147103949373012,
          8.40576887942101,
          6.611055379054814,
          5.979709494088782,
          9.062362624859906,
          10.210259498191174,
          5.253158291527376,
          7.9456228149718,
          7.060734815427647,
          9.717323359342124,
          9.002038906446368,
          9.75940296224077,
          10.763713224181496,
          9.889256385084368,
          9.18959979297597,
          10.01332142235026,
          11.97997029030871,
          12.774450954472975,
          11.51398740690682,
          9.620139784533292,
          8.421584037873473,
          10.21654555213278,
          8.04811808692848,
          9.956124801708851,
          7.83356206224671,
          9.638690012558104,
          7.654296219795215,
          8.42231212717511,
          8.00368749463706,
          8.165555717076668,
          7.650462497799427,
          9.542138231905966,
          8.490428957388616,
          8.94945309064483,
          10.236720740118342,
          10.97436032991281,
          9.990876928931035,
          12.542972125712936,
          3.7801808328443407,
          4.127009200980975,
          6.3771269617566935,
          3.932263677701176,
          4.139661138004383,
          6.175479669633157,
          6.711663081375308,
          6.826705292947568,
          5.288002593859665,
          7.275227856895159,
          7.254724571439977,
          9.292391830577252,
          8.58203406792677,
          5.441505369862605,
          5.782706116969309,
          6.905266192679485,
          6.276760175158616,
          6.7181712281529125,
          7.822047199183082,
          6.444725594398593,
          5.73048387636852,
          9.090677911642262,
          6.793092826726407,
          7.83362345079114,
          7.887249613244143,
          9.00533385732138,
          5.547579460110363,
          5.907919938594834,
          6.385991595197488,
          6.3159696021631975,
          5.325991310210549,
          5.620264032756201,
          7.93439320265867,
          6.331817609785375,
          5.773295357956457,
          8.210194610814513,
          9.384789409115072,
          7.098525169617756,
          7.254724571439976,
          8.81647279593625,
          11.855980664545294,
          8.029758457076042,
          6.322546806124169,
          6.663119241823983,
          5.990638743283103,
          6.26198620021152,
          7.521101992641508,
          8.50989418857019,
          9.194673269356716,
          7.155578437242937,
          9.645739507955016,
          8.65536583726707,
          6.635548625923082,
          6.232749915019894,
          8.955145512673909,
          7.001184703914519,
          9.500309204575668,
          7.361267705551001,
          9.324790930889831,
          10.59689591282,
          10.548997349083956,
          6.632338851798751,
          9.457328526308643,
          10.12368674096929,
          8.143787358477812,
          6.078446403461957,
          9.285789221497897,
          9.005899488237814,
          11.045271217620554,
          11.038634409410944,
          12.135670767463967,
          7.347562092122233,
          4.493059106106314,
          11.175564283363618,
          9.292809583975671,
          7.235326385538142,
          9.416926459536285,
          9.948013972855858,
          8.35544000008533,
          8.9263215392616,
          11.141743916821596,
          10.558855007549926,
          10.37669913832935,
          11.497459681579702,
          15.180381735363705,
          11.78891517704061,
          10.848896251284232,
          15.826375828906782,
          10.789854901642387,
          9.178739399020952,
          12.225716179201678,
          13.39903587861074,
          12.01440704985615,
          4.65307252050803,
          10.869506166532004,
          10.499453322699278,
          7.412780764896589,
          8.745093214183445,
          8.783094687747472,
          12.915988647468584,
          13.1032864552462,
          14.236935982207664,
          11.923515655123898,
          10.345886549003112,
          9.76697860406085,
          10.337091336406386,
          8.096017147897781,
          9.745775360847675,
          15.061555541402775,
          10.235127743126002,
          10.174926383554329,
          7.054622974014516,
          7.000155026095319,
          8.188755715601468,
          9.084106310194413,
          10.099021839580306,
          10.33399057045027,
          8.558344130467033,
          7.668105543422525,
          8.756261934732363,
          13.647923501086,
          11.062475415094015,
          9.716786610549022,
          23.342330218086158,
          10.87507104273975,
          6.97719184648224,
          2.3806203396764984,
          4.444819825990479,
          10.13156206418593,
          4.874695237765682,
          2.6818395659579632,
          8.502308506685043,
          2.653251122246103,
          8.589310824112863,
          10.183366963052917,
          14.378228791928647,
          14.340341722521076,
          8.61096358935226,
          8.705810204959825,
          10.401917716973465,
          9.733300099743298,
          6.652891821797146,
          8.879506544884737,
          9.557143544924624,
          10.852281793069224,
          10.91148307502262,
          11.143257333685696,
          13.081771940049736,
          9.066984252809052,
          9.853573588151932,
          9.28483508872082,
          8.329939839731358,
          10.865729094134323,
          7.850333277348601,
          8.672657064900568,
          9.6648144064957,
          8.922735910452303,
          7.100510690653402,
          7.713292156465677,
          8.63286700963832,
          6.427629843673622,
          6.728820339800517,
          6.47256616322129,
          9.002001182486497,
          10.843163123207692,
          9.051071384813484,
          7.919525125223871,
          7.545994237741757,
          4.992844952959631,
          6.997510801878118,
          6.811776420951162,
          6.129386578444561,
          6.52951353827717,
          6.366674733364444,
          4.850751148339419,
          6.862033785371956,
          6.7117957815000855,
          6.87446798159053,
          5.605156759949983,
          6.67796777143289
         ]
        },
        {
         "line": {
          "color": "grey",
          "width": 1
         },
         "mode": "lines",
         "name": "Line",
         "showlegend": false,
         "type": "scatter",
         "x": [
          170,
          238,
          139,
          351,
          205,
          182,
          171,
          159,
          143,
          99,
          104,
          77,
          124,
          124,
          94,
          108,
          150,
          95,
          154,
          195,
          149,
          89,
          106,
          91,
          93,
          110,
          91,
          106,
          118,
          102,
          89,
          88,
          92,
          89,
          78,
          76,
          64,
          80,
          70,
          97,
          89,
          113,
          124,
          94,
          145,
          109,
          117,
          133,
          145,
          223,
          156,
          142,
          138,
          182,
          135,
          201,
          130,
          130,
          147,
          110,
          109,
          112,
          170,
          149,
          130
         ],
         "y": [
          4.574004004512423,
          6.377132883061421,
          6.340834745722487,
          8.782498209258627,
          7.9504992343532015,
          6.266142257699156,
          6.820160489494693,
          6.63198477548805,
          5.554567569685393,
          4.624393940611294,
          5.843217542270862,
          5.296296737638548,
          5.360244586244256,
          4.554651085149377,
          5.488825142158639,
          5.315706295405006,
          6.681693245787357,
          5.894722505414693,
          6.0209468344773525,
          6.634877416470326,
          7.48756869632813,
          4.604204831293406,
          5.979215353106787,
          5.860820089297309,
          6.3365743250332,
          5.834550603201835,
          6.584486995116979,
          5.077399901830674,
          5.567284302398831,
          4.949606693274365,
          4.995756791912841,
          4.562877650325815,
          6.008651807444421,
          4.179318971632052,
          5.198589802577493,
          4.9817732144787605,
          3.704159976642952,
          5.898927343235478,
          6.110468340411762,
          5.615324909679447,
          4.139339856584081,
          5.682014283898679,
          6.211493707843817,
          6.316724600616188,
          5.883873050515287,
          5.325508309093055,
          7.267500520662594,
          5.497686148824842,
          7.992662499296109,
          7.739164545150962,
          5.733432839486419,
          6.410644043508871,
          6.835070645854967,
          10.335045834293824,
          7.285991515322289,
          7.909608625084597,
          7.377061743850409,
          6.462929435718408,
          6.708825445524163,
          6.738276528109417,
          6.039715123513071,
          6.268951764616823,
          8.485789480419875,
          9.059327900213429,
          8.273204311244914
         ]
        },
        {
         "line": {
          "color": "green"
         },
         "mode": "markers",
         "name": "Scatter",
         "showlegend": false,
         "type": "scatter",
         "x": [
          170,
          238,
          139,
          351,
          205,
          182,
          171,
          159,
          143,
          99,
          104,
          77,
          124,
          124,
          94,
          108,
          150,
          95,
          154,
          195,
          149,
          89,
          106,
          91,
          93,
          110,
          91,
          106,
          118,
          102,
          89,
          88,
          92,
          89,
          78,
          76,
          64,
          80,
          70,
          97,
          89,
          113,
          124,
          94,
          145,
          109,
          117,
          133,
          145,
          223,
          156,
          142,
          138,
          182,
          135,
          201,
          130,
          130,
          147,
          110,
          109,
          112,
          170,
          149,
          130
         ],
         "y": [
          4.574004004512423,
          6.377132883061421,
          6.340834745722487,
          8.782498209258627,
          7.9504992343532015,
          6.266142257699156,
          6.820160489494693,
          6.63198477548805,
          5.554567569685393,
          4.624393940611294,
          5.843217542270862,
          5.296296737638548,
          5.360244586244256,
          4.554651085149377,
          5.488825142158639,
          5.315706295405006,
          6.681693245787357,
          5.894722505414693,
          6.0209468344773525,
          6.634877416470326,
          7.48756869632813,
          4.604204831293406,
          5.979215353106787,
          5.860820089297309,
          6.3365743250332,
          5.834550603201835,
          6.584486995116979,
          5.077399901830674,
          5.567284302398831,
          4.949606693274365,
          4.995756791912841,
          4.562877650325815,
          6.008651807444421,
          4.179318971632052,
          5.198589802577493,
          4.9817732144787605,
          3.704159976642952,
          5.898927343235478,
          6.110468340411762,
          5.615324909679447,
          4.139339856584081,
          5.682014283898679,
          6.211493707843817,
          6.316724600616188,
          5.883873050515287,
          5.325508309093055,
          7.267500520662594,
          5.497686148824842,
          7.992662499296109,
          7.739164545150962,
          5.733432839486419,
          6.410644043508871,
          6.835070645854967,
          10.335045834293824,
          7.285991515322289,
          7.909608625084597,
          7.377061743850409,
          6.462929435718408,
          6.708825445524163,
          6.738276528109417,
          6.039715123513071,
          6.268951764616823,
          8.485789480419875,
          9.059327900213429,
          8.273204311244914
         ]
        }
       ],
       "layout": {
        "paper_bgcolor": "white",
        "plot_bgcolor": "white",
        "template": {
         "data": {
          "bar": [
           {
            "error_x": {
             "color": "#2a3f5f"
            },
            "error_y": {
             "color": "#2a3f5f"
            },
            "marker": {
             "line": {
              "color": "#E5ECF6",
              "width": 0.5
             },
             "pattern": {
              "fillmode": "overlay",
              "size": 10,
              "solidity": 0.2
             }
            },
            "type": "bar"
           }
          ],
          "barpolar": [
           {
            "marker": {
             "line": {
              "color": "#E5ECF6",
              "width": 0.5
             },
             "pattern": {
              "fillmode": "overlay",
              "size": 10,
              "solidity": 0.2
             }
            },
            "type": "barpolar"
           }
          ],
          "carpet": [
           {
            "aaxis": {
             "endlinecolor": "#2a3f5f",
             "gridcolor": "white",
             "linecolor": "white",
             "minorgridcolor": "white",
             "startlinecolor": "#2a3f5f"
            },
            "baxis": {
             "endlinecolor": "#2a3f5f",
             "gridcolor": "white",
             "linecolor": "white",
             "minorgridcolor": "white",
             "startlinecolor": "#2a3f5f"
            },
            "type": "carpet"
           }
          ],
          "choropleth": [
           {
            "colorbar": {
             "outlinewidth": 0,
             "ticks": ""
            },
            "type": "choropleth"
           }
          ],
          "contour": [
           {
            "colorbar": {
             "outlinewidth": 0,
             "ticks": ""
            },
            "colorscale": [
             [
              0,
              "#0d0887"
             ],
             [
              0.1111111111111111,
              "#46039f"
             ],
             [
              0.2222222222222222,
              "#7201a8"
             ],
             [
              0.3333333333333333,
              "#9c179e"
             ],
             [
              0.4444444444444444,
              "#bd3786"
             ],
             [
              0.5555555555555556,
              "#d8576b"
             ],
             [
              0.6666666666666666,
              "#ed7953"
             ],
             [
              0.7777777777777778,
              "#fb9f3a"
             ],
             [
              0.8888888888888888,
              "#fdca26"
             ],
             [
              1,
              "#f0f921"
             ]
            ],
            "type": "contour"
           }
          ],
          "contourcarpet": [
           {
            "colorbar": {
             "outlinewidth": 0,
             "ticks": ""
            },
            "type": "contourcarpet"
           }
          ],
          "heatmap": [
           {
            "colorbar": {
             "outlinewidth": 0,
             "ticks": ""
            },
            "colorscale": [
             [
              0,
              "#0d0887"
             ],
             [
              0.1111111111111111,
              "#46039f"
             ],
             [
              0.2222222222222222,
              "#7201a8"
             ],
             [
              0.3333333333333333,
              "#9c179e"
             ],
             [
              0.4444444444444444,
              "#bd3786"
             ],
             [
              0.5555555555555556,
              "#d8576b"
             ],
             [
              0.6666666666666666,
              "#ed7953"
             ],
             [
              0.7777777777777778,
              "#fb9f3a"
             ],
             [
              0.8888888888888888,
              "#fdca26"
             ],
             [
              1,
              "#f0f921"
             ]
            ],
            "type": "heatmap"
           }
          ],
          "heatmapgl": [
           {
            "colorbar": {
             "outlinewidth": 0,
             "ticks": ""
            },
            "colorscale": [
             [
              0,
              "#0d0887"
             ],
             [
              0.1111111111111111,
              "#46039f"
             ],
             [
              0.2222222222222222,
              "#7201a8"
             ],
             [
              0.3333333333333333,
              "#9c179e"
             ],
             [
              0.4444444444444444,
              "#bd3786"
             ],
             [
              0.5555555555555556,
              "#d8576b"
             ],
             [
              0.6666666666666666,
              "#ed7953"
             ],
             [
              0.7777777777777778,
              "#fb9f3a"
             ],
             [
              0.8888888888888888,
              "#fdca26"
             ],
             [
              1,
              "#f0f921"
             ]
            ],
            "type": "heatmapgl"
           }
          ],
          "histogram": [
           {
            "marker": {
             "pattern": {
              "fillmode": "overlay",
              "size": 10,
              "solidity": 0.2
             }
            },
            "type": "histogram"
           }
          ],
          "histogram2d": [
           {
            "colorbar": {
             "outlinewidth": 0,
             "ticks": ""
            },
            "colorscale": [
             [
              0,
              "#0d0887"
             ],
             [
              0.1111111111111111,
              "#46039f"
             ],
             [
              0.2222222222222222,
              "#7201a8"
             ],
             [
              0.3333333333333333,
              "#9c179e"
             ],
             [
              0.4444444444444444,
              "#bd3786"
             ],
             [
              0.5555555555555556,
              "#d8576b"
             ],
             [
              0.6666666666666666,
              "#ed7953"
             ],
             [
              0.7777777777777778,
              "#fb9f3a"
             ],
             [
              0.8888888888888888,
              "#fdca26"
             ],
             [
              1,
              "#f0f921"
             ]
            ],
            "type": "histogram2d"
           }
          ],
          "histogram2dcontour": [
           {
            "colorbar": {
             "outlinewidth": 0,
             "ticks": ""
            },
            "colorscale": [
             [
              0,
              "#0d0887"
             ],
             [
              0.1111111111111111,
              "#46039f"
             ],
             [
              0.2222222222222222,
              "#7201a8"
             ],
             [
              0.3333333333333333,
              "#9c179e"
             ],
             [
              0.4444444444444444,
              "#bd3786"
             ],
             [
              0.5555555555555556,
              "#d8576b"
             ],
             [
              0.6666666666666666,
              "#ed7953"
             ],
             [
              0.7777777777777778,
              "#fb9f3a"
             ],
             [
              0.8888888888888888,
              "#fdca26"
             ],
             [
              1,
              "#f0f921"
             ]
            ],
            "type": "histogram2dcontour"
           }
          ],
          "mesh3d": [
           {
            "colorbar": {
             "outlinewidth": 0,
             "ticks": ""
            },
            "type": "mesh3d"
           }
          ],
          "parcoords": [
           {
            "line": {
             "colorbar": {
              "outlinewidth": 0,
              "ticks": ""
             }
            },
            "type": "parcoords"
           }
          ],
          "pie": [
           {
            "automargin": true,
            "type": "pie"
           }
          ],
          "scatter": [
           {
            "fillpattern": {
             "fillmode": "overlay",
             "size": 10,
             "solidity": 0.2
            },
            "type": "scatter"
           }
          ],
          "scatter3d": [
           {
            "line": {
             "colorbar": {
              "outlinewidth": 0,
              "ticks": ""
             }
            },
            "marker": {
             "colorbar": {
              "outlinewidth": 0,
              "ticks": ""
             }
            },
            "type": "scatter3d"
           }
          ],
          "scattercarpet": [
           {
            "marker": {
             "colorbar": {
              "outlinewidth": 0,
              "ticks": ""
             }
            },
            "type": "scattercarpet"
           }
          ],
          "scattergeo": [
           {
            "marker": {
             "colorbar": {
              "outlinewidth": 0,
              "ticks": ""
             }
            },
            "type": "scattergeo"
           }
          ],
          "scattergl": [
           {
            "marker": {
             "colorbar": {
              "outlinewidth": 0,
              "ticks": ""
             }
            },
            "type": "scattergl"
           }
          ],
          "scattermapbox": [
           {
            "marker": {
             "colorbar": {
              "outlinewidth": 0,
              "ticks": ""
             }
            },
            "type": "scattermapbox"
           }
          ],
          "scatterpolar": [
           {
            "marker": {
             "colorbar": {
              "outlinewidth": 0,
              "ticks": ""
             }
            },
            "type": "scatterpolar"
           }
          ],
          "scatterpolargl": [
           {
            "marker": {
             "colorbar": {
              "outlinewidth": 0,
              "ticks": ""
             }
            },
            "type": "scatterpolargl"
           }
          ],
          "scatterternary": [
           {
            "marker": {
             "colorbar": {
              "outlinewidth": 0,
              "ticks": ""
             }
            },
            "type": "scatterternary"
           }
          ],
          "surface": [
           {
            "colorbar": {
             "outlinewidth": 0,
             "ticks": ""
            },
            "colorscale": [
             [
              0,
              "#0d0887"
             ],
             [
              0.1111111111111111,
              "#46039f"
             ],
             [
              0.2222222222222222,
              "#7201a8"
             ],
             [
              0.3333333333333333,
              "#9c179e"
             ],
             [
              0.4444444444444444,
              "#bd3786"
             ],
             [
              0.5555555555555556,
              "#d8576b"
             ],
             [
              0.6666666666666666,
              "#ed7953"
             ],
             [
              0.7777777777777778,
              "#fb9f3a"
             ],
             [
              0.8888888888888888,
              "#fdca26"
             ],
             [
              1,
              "#f0f921"
             ]
            ],
            "type": "surface"
           }
          ],
          "table": [
           {
            "cells": {
             "fill": {
              "color": "#EBF0F8"
             },
             "line": {
              "color": "white"
             }
            },
            "header": {
             "fill": {
              "color": "#C8D4E3"
             },
             "line": {
              "color": "white"
             }
            },
            "type": "table"
           }
          ]
         },
         "layout": {
          "annotationdefaults": {
           "arrowcolor": "#2a3f5f",
           "arrowhead": 0,
           "arrowwidth": 1
          },
          "autotypenumbers": "strict",
          "coloraxis": {
           "colorbar": {
            "outlinewidth": 0,
            "ticks": ""
           }
          },
          "colorscale": {
           "diverging": [
            [
             0,
             "#8e0152"
            ],
            [
             0.1,
             "#c51b7d"
            ],
            [
             0.2,
             "#de77ae"
            ],
            [
             0.3,
             "#f1b6da"
            ],
            [
             0.4,
             "#fde0ef"
            ],
            [
             0.5,
             "#f7f7f7"
            ],
            [
             0.6,
             "#e6f5d0"
            ],
            [
             0.7,
             "#b8e186"
            ],
            [
             0.8,
             "#7fbc41"
            ],
            [
             0.9,
             "#4d9221"
            ],
            [
             1,
             "#276419"
            ]
           ],
           "sequential": [
            [
             0,
             "#0d0887"
            ],
            [
             0.1111111111111111,
             "#46039f"
            ],
            [
             0.2222222222222222,
             "#7201a8"
            ],
            [
             0.3333333333333333,
             "#9c179e"
            ],
            [
             0.4444444444444444,
             "#bd3786"
            ],
            [
             0.5555555555555556,
             "#d8576b"
            ],
            [
             0.6666666666666666,
             "#ed7953"
            ],
            [
             0.7777777777777778,
             "#fb9f3a"
            ],
            [
             0.8888888888888888,
             "#fdca26"
            ],
            [
             1,
             "#f0f921"
            ]
           ],
           "sequentialminus": [
            [
             0,
             "#0d0887"
            ],
            [
             0.1111111111111111,
             "#46039f"
            ],
            [
             0.2222222222222222,
             "#7201a8"
            ],
            [
             0.3333333333333333,
             "#9c179e"
            ],
            [
             0.4444444444444444,
             "#bd3786"
            ],
            [
             0.5555555555555556,
             "#d8576b"
            ],
            [
             0.6666666666666666,
             "#ed7953"
            ],
            [
             0.7777777777777778,
             "#fb9f3a"
            ],
            [
             0.8888888888888888,
             "#fdca26"
            ],
            [
             1,
             "#f0f921"
            ]
           ]
          },
          "colorway": [
           "#636efa",
           "#EF553B",
           "#00cc96",
           "#ab63fa",
           "#FFA15A",
           "#19d3f3",
           "#FF6692",
           "#B6E880",
           "#FF97FF",
           "#FECB52"
          ],
          "font": {
           "color": "#2a3f5f"
          },
          "geo": {
           "bgcolor": "white",
           "lakecolor": "white",
           "landcolor": "#E5ECF6",
           "showlakes": true,
           "showland": true,
           "subunitcolor": "white"
          },
          "hoverlabel": {
           "align": "left"
          },
          "hovermode": "closest",
          "mapbox": {
           "style": "light"
          },
          "paper_bgcolor": "white",
          "plot_bgcolor": "#E5ECF6",
          "polar": {
           "angularaxis": {
            "gridcolor": "white",
            "linecolor": "white",
            "ticks": ""
           },
           "bgcolor": "#E5ECF6",
           "radialaxis": {
            "gridcolor": "white",
            "linecolor": "white",
            "ticks": ""
           }
          },
          "scene": {
           "xaxis": {
            "backgroundcolor": "#E5ECF6",
            "gridcolor": "white",
            "gridwidth": 2,
            "linecolor": "white",
            "showbackground": true,
            "ticks": "",
            "zerolinecolor": "white"
           },
           "yaxis": {
            "backgroundcolor": "#E5ECF6",
            "gridcolor": "white",
            "gridwidth": 2,
            "linecolor": "white",
            "showbackground": true,
            "ticks": "",
            "zerolinecolor": "white"
           },
           "zaxis": {
            "backgroundcolor": "#E5ECF6",
            "gridcolor": "white",
            "gridwidth": 2,
            "linecolor": "white",
            "showbackground": true,
            "ticks": "",
            "zerolinecolor": "white"
           }
          },
          "shapedefaults": {
           "line": {
            "color": "#2a3f5f"
           }
          },
          "ternary": {
           "aaxis": {
            "gridcolor": "white",
            "linecolor": "white",
            "ticks": ""
           },
           "baxis": {
            "gridcolor": "white",
            "linecolor": "white",
            "ticks": ""
           },
           "bgcolor": "#E5ECF6",
           "caxis": {
            "gridcolor": "white",
            "linecolor": "white",
            "ticks": ""
           }
          },
          "title": {
           "x": 0.05
          },
          "xaxis": {
           "automargin": true,
           "gridcolor": "white",
           "linecolor": "white",
           "ticks": "",
           "title": {
            "standoff": 15
           },
           "zerolinecolor": "white",
           "zerolinewidth": 2
          },
          "yaxis": {
           "automargin": true,
           "gridcolor": "white",
           "linecolor": "white",
           "ticks": "",
           "title": {
            "standoff": 15
           },
           "zerolinecolor": "white",
           "zerolinewidth": 2
          }
         }
        },
        "title": {
         "text": "Aragon's Trajectory",
         "x": 0.5,
         "y": 0.95
        },
        "width": 1000,
        "xaxis": {
         "linecolor": "black",
         "title": {
          "text": "#nodes"
         }
        },
        "yaxis": {
         "linecolor": "black",
         "title": {
          "text": "alpha"
         }
        }
       }
      },
      "text/html": [
       "<div>                            <div id=\"31f11ee5-99b8-419c-9587-664cdeb22fc1\" class=\"plotly-graph-div\" style=\"height:525px; width:1000px;\"></div>            <script type=\"text/javascript\">                require([\"plotly\"], function(Plotly) {                    window.PLOTLYENV=window.PLOTLYENV || {};                                    if (document.getElementById(\"31f11ee5-99b8-419c-9587-664cdeb22fc1\")) {                    Plotly.newPlot(                        \"31f11ee5-99b8-419c-9587-664cdeb22fc1\",                        [{\"line\":{\"color\":\"blue\",\"width\":1},\"mode\":\"lines\",\"name\":\"Line\",\"x\":[994,915,478,467,310,322,356,594,356,335,215,213,242,343,316,230,227,251,294,257,307,339,449,434,328,425,410,292,325,267,251,246,229,242,207,171,276,230,202,207,263,174,239,208,187,163,173,127,145,133,149,288,235,235,335,602,477,382,382,286,273,306,401,374,390,345,345,332,351,338,348,349,370,313,265,290,102,229,426,423,494,374,479,499,468,695,725,573,600,508,420,367,401,345,396,387,428,315,374,373,381,384,390,464,484,483,515,581,400,297,449,610,342,432,484,318,291,268,288,268,257,270,199,194,263,258,207,245,193,187,206,230,222,206,256,182,224,207,218,258,216,222,252,168,235,285,280,231,291,644,318,236,254,368,233,289,282,260,223,280,354,234,257,203,221,285,235,274,416,405,377,331,265,259,209,300,503,479,346,458,304,176,349,357,429,380,446,393,432,540,456,401,648,627,753,765,770,458,471,581,549,505,566,314,186,545,324,417,676,902,853,685,520,572,637,633,1042,732,778,609,567,459,639,589,565,545,703,554,544,464,449,1039,596,1124,819,649,552,249,339,845,570,701,640,521,605,400,411,364,412,336,343,610,327,376,468,512,395,375,381,298,304,460,271,249,294,268,197,175,179,217,147,165,212,291,225,229,192,141,209,227,225,159,114,136,110,112,207,146,185],\"y\":[12.17069435435016,8.889134188890228,6.7820908269582,12.657813455101612,6.552929080964145,6.452563410886842,12.252801387728818,5.318663539006105,4.578060124941151,4.811172759989585,9.899071564151017,3.607657393178114,9.45418808437404,5.400189800855267,5.56725451276625,9.964327351130022,9.167963252921137,3.7625612603332863,5.63940235632892,4.102202591094496,5.595447890120214,5.2736248142409545,10.944011370797158,11.433664300449466,5.324070282168137,4.882512032097746,7.609644953641261,4.9202502689650105,11.349784797788608,4.604723900957564,4.626460960013279,8.106632191739646,7.289184109384004,10.591875006731538,8.964053393105807,10.982131633986851,11.881369577822287,4.522467158826464,3.5941989199620683,4.710082418054592,4.143627107238924,4.353899860768754,3.983074221458902,7.667993263266916,8.670053136633445,3.7608880102723967,3.9926429953937954,8.4527221877729,8.598266771644106,7.808244480970112,3.371280023092698,1.929667387598046,11.370679557888929,3.901833418188246,4.399216700431515,6.2899657703594825,6.0377382994297,5.724985161651024,7.599127930047139,6.855409587532748,6.644188429865808,5.955394214202025,5.432646211392101,7.0409027061510585,8.211433140828085,6.43092870213759,7.892112085604291,7.675837432141495,7.229165633749675,7.593144897584306,5.45801057232685,7.147103949373012,8.40576887942101,6.611055379054814,5.979709494088782,9.062362624859906,10.210259498191174,5.253158291527376,7.9456228149718,7.060734815427647,9.717323359342124,9.002038906446368,9.75940296224077,10.763713224181496,9.889256385084368,9.18959979297597,10.01332142235026,11.97997029030871,12.774450954472975,11.51398740690682,9.620139784533292,8.421584037873473,10.21654555213278,8.04811808692848,9.956124801708851,7.83356206224671,9.638690012558104,7.654296219795215,8.42231212717511,8.00368749463706,8.165555717076668,7.650462497799427,9.542138231905966,8.490428957388616,8.94945309064483,10.236720740118342,10.97436032991281,9.990876928931035,12.542972125712936,3.7801808328443407,4.127009200980975,6.3771269617566935,3.932263677701176,4.139661138004383,6.175479669633157,6.711663081375308,6.826705292947568,5.288002593859665,7.275227856895159,7.254724571439977,9.292391830577252,8.58203406792677,5.441505369862605,5.782706116969309,6.905266192679485,6.276760175158616,6.7181712281529125,7.822047199183082,6.444725594398593,5.73048387636852,9.090677911642262,6.793092826726407,7.83362345079114,7.887249613244143,9.00533385732138,5.547579460110363,5.907919938594834,6.385991595197488,6.3159696021631975,5.325991310210549,5.620264032756201,7.93439320265867,6.331817609785375,5.773295357956457,8.210194610814513,9.384789409115072,7.098525169617756,7.254724571439976,8.81647279593625,11.855980664545294,8.029758457076042,6.322546806124169,6.663119241823983,5.990638743283103,6.26198620021152,7.521101992641508,8.50989418857019,9.194673269356716,7.155578437242937,9.645739507955016,8.65536583726707,6.635548625923082,6.232749915019894,8.955145512673909,7.001184703914519,9.500309204575668,7.361267705551001,9.324790930889831,10.59689591282,10.548997349083956,6.632338851798751,9.457328526308643,10.12368674096929,8.143787358477812,6.078446403461957,9.285789221497897,9.005899488237814,11.045271217620554,11.038634409410944,12.135670767463967,7.347562092122233,4.493059106106314,11.175564283363618,9.292809583975671,7.235326385538142,9.416926459536285,9.948013972855858,8.35544000008533,8.9263215392616,11.141743916821596,10.558855007549926,10.37669913832935,11.497459681579702,15.180381735363705,11.78891517704061,10.848896251284232,15.826375828906782,10.789854901642387,9.178739399020952,12.225716179201678,13.39903587861074,12.01440704985615,4.65307252050803,10.869506166532004,10.499453322699278,7.412780764896589,8.745093214183445,8.783094687747472,12.915988647468584,13.1032864552462,14.236935982207664,11.923515655123898,10.345886549003112,9.76697860406085,10.337091336406386,8.096017147897781,9.745775360847675,15.061555541402775,10.235127743126002,10.174926383554329,7.054622974014516,7.000155026095319,8.188755715601468,9.084106310194413,10.099021839580306,10.33399057045027,8.558344130467033,7.668105543422525,8.756261934732363,13.647923501086,11.062475415094015,9.716786610549022,23.342330218086158,10.87507104273975,6.97719184648224,2.3806203396764984,4.444819825990479,10.13156206418593,4.874695237765682,2.6818395659579632,8.502308506685043,2.653251122246103,8.589310824112863,10.183366963052917,14.378228791928647,14.340341722521076,8.61096358935226,8.705810204959825,10.401917716973465,9.733300099743298,6.652891821797146,8.879506544884737,9.557143544924624,10.852281793069224,10.91148307502262,11.143257333685696,13.081771940049736,9.066984252809052,9.853573588151932,9.28483508872082,8.329939839731358,10.865729094134323,7.850333277348601,8.672657064900568,9.6648144064957,8.922735910452303,7.100510690653402,7.713292156465677,8.63286700963832,6.427629843673622,6.728820339800517,6.47256616322129,9.002001182486497,10.843163123207692,9.051071384813484,7.919525125223871,7.545994237741757,4.992844952959631,6.997510801878118,6.811776420951162,6.129386578444561,6.52951353827717,6.366674733364444,4.850751148339419,6.862033785371956,6.7117957815000855,6.87446798159053,5.605156759949983,6.67796777143289],\"type\":\"scatter\",\"showlegend\":false},{\"line\":{\"color\":\"red\"},\"mode\":\"markers\",\"name\":\"Scatter\",\"x\":[994,915,478,467,310,322,356,594,356,335,215,213,242,343,316,230,227,251,294,257,307,339,449,434,328,425,410,292,325,267,251,246,229,242,207,171,276,230,202,207,263,174,239,208,187,163,173,127,145,133,149,288,235,235,335,602,477,382,382,286,273,306,401,374,390,345,345,332,351,338,348,349,370,313,265,290,102,229,426,423,494,374,479,499,468,695,725,573,600,508,420,367,401,345,396,387,428,315,374,373,381,384,390,464,484,483,515,581,400,297,449,610,342,432,484,318,291,268,288,268,257,270,199,194,263,258,207,245,193,187,206,230,222,206,256,182,224,207,218,258,216,222,252,168,235,285,280,231,291,644,318,236,254,368,233,289,282,260,223,280,354,234,257,203,221,285,235,274,416,405,377,331,265,259,209,300,503,479,346,458,304,176,349,357,429,380,446,393,432,540,456,401,648,627,753,765,770,458,471,581,549,505,566,314,186,545,324,417,676,902,853,685,520,572,637,633,1042,732,778,609,567,459,639,589,565,545,703,554,544,464,449,1039,596,1124,819,649,552,249,339,845,570,701,640,521,605,400,411,364,412,336,343,610,327,376,468,512,395,375,381,298,304,460,271,249,294,268,197,175,179,217,147,165,212,291,225,229,192,141,209,227,225,159,114,136,110,112,207,146,185],\"y\":[12.17069435435016,8.889134188890228,6.7820908269582,12.657813455101612,6.552929080964145,6.452563410886842,12.252801387728818,5.318663539006105,4.578060124941151,4.811172759989585,9.899071564151017,3.607657393178114,9.45418808437404,5.400189800855267,5.56725451276625,9.964327351130022,9.167963252921137,3.7625612603332863,5.63940235632892,4.102202591094496,5.595447890120214,5.2736248142409545,10.944011370797158,11.433664300449466,5.324070282168137,4.882512032097746,7.609644953641261,4.9202502689650105,11.349784797788608,4.604723900957564,4.626460960013279,8.106632191739646,7.289184109384004,10.591875006731538,8.964053393105807,10.982131633986851,11.881369577822287,4.522467158826464,3.5941989199620683,4.710082418054592,4.143627107238924,4.353899860768754,3.983074221458902,7.667993263266916,8.670053136633445,3.7608880102723967,3.9926429953937954,8.4527221877729,8.598266771644106,7.808244480970112,3.371280023092698,1.929667387598046,11.370679557888929,3.901833418188246,4.399216700431515,6.2899657703594825,6.0377382994297,5.724985161651024,7.599127930047139,6.855409587532748,6.644188429865808,5.955394214202025,5.432646211392101,7.0409027061510585,8.211433140828085,6.43092870213759,7.892112085604291,7.675837432141495,7.229165633749675,7.593144897584306,5.45801057232685,7.147103949373012,8.40576887942101,6.611055379054814,5.979709494088782,9.062362624859906,10.210259498191174,5.253158291527376,7.9456228149718,7.060734815427647,9.717323359342124,9.002038906446368,9.75940296224077,10.763713224181496,9.889256385084368,9.18959979297597,10.01332142235026,11.97997029030871,12.774450954472975,11.51398740690682,9.620139784533292,8.421584037873473,10.21654555213278,8.04811808692848,9.956124801708851,7.83356206224671,9.638690012558104,7.654296219795215,8.42231212717511,8.00368749463706,8.165555717076668,7.650462497799427,9.542138231905966,8.490428957388616,8.94945309064483,10.236720740118342,10.97436032991281,9.990876928931035,12.542972125712936,3.7801808328443407,4.127009200980975,6.3771269617566935,3.932263677701176,4.139661138004383,6.175479669633157,6.711663081375308,6.826705292947568,5.288002593859665,7.275227856895159,7.254724571439977,9.292391830577252,8.58203406792677,5.441505369862605,5.782706116969309,6.905266192679485,6.276760175158616,6.7181712281529125,7.822047199183082,6.444725594398593,5.73048387636852,9.090677911642262,6.793092826726407,7.83362345079114,7.887249613244143,9.00533385732138,5.547579460110363,5.907919938594834,6.385991595197488,6.3159696021631975,5.325991310210549,5.620264032756201,7.93439320265867,6.331817609785375,5.773295357956457,8.210194610814513,9.384789409115072,7.098525169617756,7.254724571439976,8.81647279593625,11.855980664545294,8.029758457076042,6.322546806124169,6.663119241823983,5.990638743283103,6.26198620021152,7.521101992641508,8.50989418857019,9.194673269356716,7.155578437242937,9.645739507955016,8.65536583726707,6.635548625923082,6.232749915019894,8.955145512673909,7.001184703914519,9.500309204575668,7.361267705551001,9.324790930889831,10.59689591282,10.548997349083956,6.632338851798751,9.457328526308643,10.12368674096929,8.143787358477812,6.078446403461957,9.285789221497897,9.005899488237814,11.045271217620554,11.038634409410944,12.135670767463967,7.347562092122233,4.493059106106314,11.175564283363618,9.292809583975671,7.235326385538142,9.416926459536285,9.948013972855858,8.35544000008533,8.9263215392616,11.141743916821596,10.558855007549926,10.37669913832935,11.497459681579702,15.180381735363705,11.78891517704061,10.848896251284232,15.826375828906782,10.789854901642387,9.178739399020952,12.225716179201678,13.39903587861074,12.01440704985615,4.65307252050803,10.869506166532004,10.499453322699278,7.412780764896589,8.745093214183445,8.783094687747472,12.915988647468584,13.1032864552462,14.236935982207664,11.923515655123898,10.345886549003112,9.76697860406085,10.337091336406386,8.096017147897781,9.745775360847675,15.061555541402775,10.235127743126002,10.174926383554329,7.054622974014516,7.000155026095319,8.188755715601468,9.084106310194413,10.099021839580306,10.33399057045027,8.558344130467033,7.668105543422525,8.756261934732363,13.647923501086,11.062475415094015,9.716786610549022,23.342330218086158,10.87507104273975,6.97719184648224,2.3806203396764984,4.444819825990479,10.13156206418593,4.874695237765682,2.6818395659579632,8.502308506685043,2.653251122246103,8.589310824112863,10.183366963052917,14.378228791928647,14.340341722521076,8.61096358935226,8.705810204959825,10.401917716973465,9.733300099743298,6.652891821797146,8.879506544884737,9.557143544924624,10.852281793069224,10.91148307502262,11.143257333685696,13.081771940049736,9.066984252809052,9.853573588151932,9.28483508872082,8.329939839731358,10.865729094134323,7.850333277348601,8.672657064900568,9.6648144064957,8.922735910452303,7.100510690653402,7.713292156465677,8.63286700963832,6.427629843673622,6.728820339800517,6.47256616322129,9.002001182486497,10.843163123207692,9.051071384813484,7.919525125223871,7.545994237741757,4.992844952959631,6.997510801878118,6.811776420951162,6.129386578444561,6.52951353827717,6.366674733364444,4.850751148339419,6.862033785371956,6.7117957815000855,6.87446798159053,5.605156759949983,6.67796777143289],\"type\":\"scatter\",\"showlegend\":false},{\"line\":{\"color\":\"grey\",\"width\":1},\"mode\":\"lines\",\"name\":\"Line\",\"x\":[170,238,139,351,205,182,171,159,143,99,104,77,124,124,94,108,150,95,154,195,149,89,106,91,93,110,91,106,118,102,89,88,92,89,78,76,64,80,70,97,89,113,124,94,145,109,117,133,145,223,156,142,138,182,135,201,130,130,147,110,109,112,170,149,130],\"y\":[4.574004004512423,6.377132883061421,6.340834745722487,8.782498209258627,7.9504992343532015,6.266142257699156,6.820160489494693,6.63198477548805,5.554567569685393,4.624393940611294,5.843217542270862,5.296296737638548,5.360244586244256,4.554651085149377,5.488825142158639,5.315706295405006,6.681693245787357,5.894722505414693,6.0209468344773525,6.634877416470326,7.48756869632813,4.604204831293406,5.979215353106787,5.860820089297309,6.3365743250332,5.834550603201835,6.584486995116979,5.077399901830674,5.567284302398831,4.949606693274365,4.995756791912841,4.562877650325815,6.008651807444421,4.179318971632052,5.198589802577493,4.9817732144787605,3.704159976642952,5.898927343235478,6.110468340411762,5.615324909679447,4.139339856584081,5.682014283898679,6.211493707843817,6.316724600616188,5.883873050515287,5.325508309093055,7.267500520662594,5.497686148824842,7.992662499296109,7.739164545150962,5.733432839486419,6.410644043508871,6.835070645854967,10.335045834293824,7.285991515322289,7.909608625084597,7.377061743850409,6.462929435718408,6.708825445524163,6.738276528109417,6.039715123513071,6.268951764616823,8.485789480419875,9.059327900213429,8.273204311244914],\"type\":\"scatter\",\"showlegend\":false},{\"line\":{\"color\":\"green\"},\"mode\":\"markers\",\"name\":\"Scatter\",\"x\":[170,238,139,351,205,182,171,159,143,99,104,77,124,124,94,108,150,95,154,195,149,89,106,91,93,110,91,106,118,102,89,88,92,89,78,76,64,80,70,97,89,113,124,94,145,109,117,133,145,223,156,142,138,182,135,201,130,130,147,110,109,112,170,149,130],\"y\":[4.574004004512423,6.377132883061421,6.340834745722487,8.782498209258627,7.9504992343532015,6.266142257699156,6.820160489494693,6.63198477548805,5.554567569685393,4.624393940611294,5.843217542270862,5.296296737638548,5.360244586244256,4.554651085149377,5.488825142158639,5.315706295405006,6.681693245787357,5.894722505414693,6.0209468344773525,6.634877416470326,7.48756869632813,4.604204831293406,5.979215353106787,5.860820089297309,6.3365743250332,5.834550603201835,6.584486995116979,5.077399901830674,5.567284302398831,4.949606693274365,4.995756791912841,4.562877650325815,6.008651807444421,4.179318971632052,5.198589802577493,4.9817732144787605,3.704159976642952,5.898927343235478,6.110468340411762,5.615324909679447,4.139339856584081,5.682014283898679,6.211493707843817,6.316724600616188,5.883873050515287,5.325508309093055,7.267500520662594,5.497686148824842,7.992662499296109,7.739164545150962,5.733432839486419,6.410644043508871,6.835070645854967,10.335045834293824,7.285991515322289,7.909608625084597,7.377061743850409,6.462929435718408,6.708825445524163,6.738276528109417,6.039715123513071,6.268951764616823,8.485789480419875,9.059327900213429,8.273204311244914],\"type\":\"scatter\",\"showlegend\":false}],                        {\"template\":{\"data\":{\"histogram2dcontour\":[{\"type\":\"histogram2dcontour\",\"colorbar\":{\"outlinewidth\":0,\"ticks\":\"\"},\"colorscale\":[[0.0,\"#0d0887\"],[0.1111111111111111,\"#46039f\"],[0.2222222222222222,\"#7201a8\"],[0.3333333333333333,\"#9c179e\"],[0.4444444444444444,\"#bd3786\"],[0.5555555555555556,\"#d8576b\"],[0.6666666666666666,\"#ed7953\"],[0.7777777777777778,\"#fb9f3a\"],[0.8888888888888888,\"#fdca26\"],[1.0,\"#f0f921\"]]}],\"choropleth\":[{\"type\":\"choropleth\",\"colorbar\":{\"outlinewidth\":0,\"ticks\":\"\"}}],\"histogram2d\":[{\"type\":\"histogram2d\",\"colorbar\":{\"outlinewidth\":0,\"ticks\":\"\"},\"colorscale\":[[0.0,\"#0d0887\"],[0.1111111111111111,\"#46039f\"],[0.2222222222222222,\"#7201a8\"],[0.3333333333333333,\"#9c179e\"],[0.4444444444444444,\"#bd3786\"],[0.5555555555555556,\"#d8576b\"],[0.6666666666666666,\"#ed7953\"],[0.7777777777777778,\"#fb9f3a\"],[0.8888888888888888,\"#fdca26\"],[1.0,\"#f0f921\"]]}],\"heatmap\":[{\"type\":\"heatmap\",\"colorbar\":{\"outlinewidth\":0,\"ticks\":\"\"},\"colorscale\":[[0.0,\"#0d0887\"],[0.1111111111111111,\"#46039f\"],[0.2222222222222222,\"#7201a8\"],[0.3333333333333333,\"#9c179e\"],[0.4444444444444444,\"#bd3786\"],[0.5555555555555556,\"#d8576b\"],[0.6666666666666666,\"#ed7953\"],[0.7777777777777778,\"#fb9f3a\"],[0.8888888888888888,\"#fdca26\"],[1.0,\"#f0f921\"]]}],\"heatmapgl\":[{\"type\":\"heatmapgl\",\"colorbar\":{\"outlinewidth\":0,\"ticks\":\"\"},\"colorscale\":[[0.0,\"#0d0887\"],[0.1111111111111111,\"#46039f\"],[0.2222222222222222,\"#7201a8\"],[0.3333333333333333,\"#9c179e\"],[0.4444444444444444,\"#bd3786\"],[0.5555555555555556,\"#d8576b\"],[0.6666666666666666,\"#ed7953\"],[0.7777777777777778,\"#fb9f3a\"],[0.8888888888888888,\"#fdca26\"],[1.0,\"#f0f921\"]]}],\"contourcarpet\":[{\"type\":\"contourcarpet\",\"colorbar\":{\"outlinewidth\":0,\"ticks\":\"\"}}],\"contour\":[{\"type\":\"contour\",\"colorbar\":{\"outlinewidth\":0,\"ticks\":\"\"},\"colorscale\":[[0.0,\"#0d0887\"],[0.1111111111111111,\"#46039f\"],[0.2222222222222222,\"#7201a8\"],[0.3333333333333333,\"#9c179e\"],[0.4444444444444444,\"#bd3786\"],[0.5555555555555556,\"#d8576b\"],[0.6666666666666666,\"#ed7953\"],[0.7777777777777778,\"#fb9f3a\"],[0.8888888888888888,\"#fdca26\"],[1.0,\"#f0f921\"]]}],\"surface\":[{\"type\":\"surface\",\"colorbar\":{\"outlinewidth\":0,\"ticks\":\"\"},\"colorscale\":[[0.0,\"#0d0887\"],[0.1111111111111111,\"#46039f\"],[0.2222222222222222,\"#7201a8\"],[0.3333333333333333,\"#9c179e\"],[0.4444444444444444,\"#bd3786\"],[0.5555555555555556,\"#d8576b\"],[0.6666666666666666,\"#ed7953\"],[0.7777777777777778,\"#fb9f3a\"],[0.8888888888888888,\"#fdca26\"],[1.0,\"#f0f921\"]]}],\"mesh3d\":[{\"type\":\"mesh3d\",\"colorbar\":{\"outlinewidth\":0,\"ticks\":\"\"}}],\"scatter\":[{\"fillpattern\":{\"fillmode\":\"overlay\",\"size\":10,\"solidity\":0.2},\"type\":\"scatter\"}],\"parcoords\":[{\"type\":\"parcoords\",\"line\":{\"colorbar\":{\"outlinewidth\":0,\"ticks\":\"\"}}}],\"scatterpolargl\":[{\"type\":\"scatterpolargl\",\"marker\":{\"colorbar\":{\"outlinewidth\":0,\"ticks\":\"\"}}}],\"bar\":[{\"error_x\":{\"color\":\"#2a3f5f\"},\"error_y\":{\"color\":\"#2a3f5f\"},\"marker\":{\"line\":{\"color\":\"#E5ECF6\",\"width\":0.5},\"pattern\":{\"fillmode\":\"overlay\",\"size\":10,\"solidity\":0.2}},\"type\":\"bar\"}],\"scattergeo\":[{\"type\":\"scattergeo\",\"marker\":{\"colorbar\":{\"outlinewidth\":0,\"ticks\":\"\"}}}],\"scatterpolar\":[{\"type\":\"scatterpolar\",\"marker\":{\"colorbar\":{\"outlinewidth\":0,\"ticks\":\"\"}}}],\"histogram\":[{\"marker\":{\"pattern\":{\"fillmode\":\"overlay\",\"size\":10,\"solidity\":0.2}},\"type\":\"histogram\"}],\"scattergl\":[{\"type\":\"scattergl\",\"marker\":{\"colorbar\":{\"outlinewidth\":0,\"ticks\":\"\"}}}],\"scatter3d\":[{\"type\":\"scatter3d\",\"line\":{\"colorbar\":{\"outlinewidth\":0,\"ticks\":\"\"}},\"marker\":{\"colorbar\":{\"outlinewidth\":0,\"ticks\":\"\"}}}],\"scattermapbox\":[{\"type\":\"scattermapbox\",\"marker\":{\"colorbar\":{\"outlinewidth\":0,\"ticks\":\"\"}}}],\"scatterternary\":[{\"type\":\"scatterternary\",\"marker\":{\"colorbar\":{\"outlinewidth\":0,\"ticks\":\"\"}}}],\"scattercarpet\":[{\"type\":\"scattercarpet\",\"marker\":{\"colorbar\":{\"outlinewidth\":0,\"ticks\":\"\"}}}],\"carpet\":[{\"aaxis\":{\"endlinecolor\":\"#2a3f5f\",\"gridcolor\":\"white\",\"linecolor\":\"white\",\"minorgridcolor\":\"white\",\"startlinecolor\":\"#2a3f5f\"},\"baxis\":{\"endlinecolor\":\"#2a3f5f\",\"gridcolor\":\"white\",\"linecolor\":\"white\",\"minorgridcolor\":\"white\",\"startlinecolor\":\"#2a3f5f\"},\"type\":\"carpet\"}],\"table\":[{\"cells\":{\"fill\":{\"color\":\"#EBF0F8\"},\"line\":{\"color\":\"white\"}},\"header\":{\"fill\":{\"color\":\"#C8D4E3\"},\"line\":{\"color\":\"white\"}},\"type\":\"table\"}],\"barpolar\":[{\"marker\":{\"line\":{\"color\":\"#E5ECF6\",\"width\":0.5},\"pattern\":{\"fillmode\":\"overlay\",\"size\":10,\"solidity\":0.2}},\"type\":\"barpolar\"}],\"pie\":[{\"automargin\":true,\"type\":\"pie\"}]},\"layout\":{\"autotypenumbers\":\"strict\",\"colorway\":[\"#636efa\",\"#EF553B\",\"#00cc96\",\"#ab63fa\",\"#FFA15A\",\"#19d3f3\",\"#FF6692\",\"#B6E880\",\"#FF97FF\",\"#FECB52\"],\"font\":{\"color\":\"#2a3f5f\"},\"hovermode\":\"closest\",\"hoverlabel\":{\"align\":\"left\"},\"paper_bgcolor\":\"white\",\"plot_bgcolor\":\"#E5ECF6\",\"polar\":{\"bgcolor\":\"#E5ECF6\",\"angularaxis\":{\"gridcolor\":\"white\",\"linecolor\":\"white\",\"ticks\":\"\"},\"radialaxis\":{\"gridcolor\":\"white\",\"linecolor\":\"white\",\"ticks\":\"\"}},\"ternary\":{\"bgcolor\":\"#E5ECF6\",\"aaxis\":{\"gridcolor\":\"white\",\"linecolor\":\"white\",\"ticks\":\"\"},\"baxis\":{\"gridcolor\":\"white\",\"linecolor\":\"white\",\"ticks\":\"\"},\"caxis\":{\"gridcolor\":\"white\",\"linecolor\":\"white\",\"ticks\":\"\"}},\"coloraxis\":{\"colorbar\":{\"outlinewidth\":0,\"ticks\":\"\"}},\"colorscale\":{\"sequential\":[[0.0,\"#0d0887\"],[0.1111111111111111,\"#46039f\"],[0.2222222222222222,\"#7201a8\"],[0.3333333333333333,\"#9c179e\"],[0.4444444444444444,\"#bd3786\"],[0.5555555555555556,\"#d8576b\"],[0.6666666666666666,\"#ed7953\"],[0.7777777777777778,\"#fb9f3a\"],[0.8888888888888888,\"#fdca26\"],[1.0,\"#f0f921\"]],\"sequentialminus\":[[0.0,\"#0d0887\"],[0.1111111111111111,\"#46039f\"],[0.2222222222222222,\"#7201a8\"],[0.3333333333333333,\"#9c179e\"],[0.4444444444444444,\"#bd3786\"],[0.5555555555555556,\"#d8576b\"],[0.6666666666666666,\"#ed7953\"],[0.7777777777777778,\"#fb9f3a\"],[0.8888888888888888,\"#fdca26\"],[1.0,\"#f0f921\"]],\"diverging\":[[0,\"#8e0152\"],[0.1,\"#c51b7d\"],[0.2,\"#de77ae\"],[0.3,\"#f1b6da\"],[0.4,\"#fde0ef\"],[0.5,\"#f7f7f7\"],[0.6,\"#e6f5d0\"],[0.7,\"#b8e186\"],[0.8,\"#7fbc41\"],[0.9,\"#4d9221\"],[1,\"#276419\"]]},\"xaxis\":{\"gridcolor\":\"white\",\"linecolor\":\"white\",\"ticks\":\"\",\"title\":{\"standoff\":15},\"zerolinecolor\":\"white\",\"automargin\":true,\"zerolinewidth\":2},\"yaxis\":{\"gridcolor\":\"white\",\"linecolor\":\"white\",\"ticks\":\"\",\"title\":{\"standoff\":15},\"zerolinecolor\":\"white\",\"automargin\":true,\"zerolinewidth\":2},\"scene\":{\"xaxis\":{\"backgroundcolor\":\"#E5ECF6\",\"gridcolor\":\"white\",\"linecolor\":\"white\",\"showbackground\":true,\"ticks\":\"\",\"zerolinecolor\":\"white\",\"gridwidth\":2},\"yaxis\":{\"backgroundcolor\":\"#E5ECF6\",\"gridcolor\":\"white\",\"linecolor\":\"white\",\"showbackground\":true,\"ticks\":\"\",\"zerolinecolor\":\"white\",\"gridwidth\":2},\"zaxis\":{\"backgroundcolor\":\"#E5ECF6\",\"gridcolor\":\"white\",\"linecolor\":\"white\",\"showbackground\":true,\"ticks\":\"\",\"zerolinecolor\":\"white\",\"gridwidth\":2}},\"shapedefaults\":{\"line\":{\"color\":\"#2a3f5f\"}},\"annotationdefaults\":{\"arrowcolor\":\"#2a3f5f\",\"arrowhead\":0,\"arrowwidth\":1},\"geo\":{\"bgcolor\":\"white\",\"landcolor\":\"#E5ECF6\",\"subunitcolor\":\"white\",\"showland\":true,\"showlakes\":true,\"lakecolor\":\"white\"},\"title\":{\"x\":0.05},\"mapbox\":{\"style\":\"light\"}}},\"title\":{\"text\":\"Aragon's Trajectory\",\"x\":0.5,\"y\":0.95},\"xaxis\":{\"title\":{\"text\":\"#nodes\"},\"linecolor\":\"black\"},\"yaxis\":{\"title\":{\"text\":\"alpha\"},\"linecolor\":\"black\"},\"paper_bgcolor\":\"white\",\"plot_bgcolor\":\"white\",\"width\":1000},                        {\"responsive\": true}                    ).then(function(){\n",
       "                            \n",
       "var gd = document.getElementById('31f11ee5-99b8-419c-9587-664cdeb22fc1');\n",
       "var x = new MutationObserver(function (mutations, observer) {{\n",
       "        var display = window.getComputedStyle(gd).display;\n",
       "        if (!display || display === 'none') {{\n",
       "            console.log([gd, 'removed!']);\n",
       "            Plotly.purge(gd);\n",
       "            observer.disconnect();\n",
       "        }}\n",
       "}});\n",
       "\n",
       "// Listen for the removal of the full notebook cells\n",
       "var notebookContainer = gd.closest('#notebook-container');\n",
       "if (notebookContainer) {{\n",
       "    x.observe(notebookContainer, {childList: true});\n",
       "}}\n",
       "\n",
       "// Listen for the clearing of the current output cell\n",
       "var outputEl = gd.closest('.output');\n",
       "if (outputEl) {{\n",
       "    x.observe(outputEl, {childList: true});\n",
       "}}\n",
       "\n",
       "                        })                };                });            </script>        </div>"
      ]
     },
     "metadata": {},
     "output_type": "display_data"
    }
   ],
   "source": [
    "fig = go.Figure()\n",
    "\n",
    "# Add a line trace\n",
    "fig.add_trace(go.Scatter(x=trainNetwork['#nodes'], y=trainNetwork['alpha'], mode='lines', name='Line',line=dict(width=1,color='blue')))\n",
    "fig.add_trace(go.Scatter(x=trainNetwork['#nodes'], y=trainNetwork['alpha'], mode='markers', name='Scatter',line=dict(color='red')))\n",
    "fig.add_trace(go.Scatter(x=testNetwork['#nodes'], y=testNetwork['alpha'], mode='lines', name='Line',line=dict(width=1,color='grey')))\n",
    "fig.add_trace(go.Scatter(x=testNetwork['#nodes'], y=testNetwork['alpha'], mode='markers', name='Scatter',line=dict(color='green')))\n",
    "\n",
    "# Customize the layout\n",
    "fig.update_layout(\n",
    "    title=dict(\n",
    "        text='Aragon\\'s Trajectory',  # Set the title here\n",
    "        x=0.5,  # Center the title horizontally (0.5 means middle)\n",
    "        y=0.95,  # Adjust the vertical position as needed (0.95 is near the top)\n",
    "    ),\n",
    "    xaxis=dict(title='#nodes'),\n",
    "    yaxis=dict(title='alpha'),\n",
    "    paper_bgcolor='white',  # Set the background color to white\n",
    "    plot_bgcolor='white',   # Set the plot area background color to white\n",
    "    width=1000\n",
    "    \n",
    ")\n",
    "\n",
    "fig.update_xaxes(linecolor='black')\n",
    "fig.update_yaxes(linecolor='black')\n",
    "fig.update_traces(showlegend=False)\n",
    "# Show the plot\n",
    "fig.show()"
   ]
  },
  {
   "cell_type": "markdown",
   "id": "6664fcbb",
   "metadata": {},
   "source": [
    "# Sliding window\n",
    "Each data points in the phase base represent transaction networks for windows of 7 days"
   ]
  },
  {
   "cell_type": "code",
   "execution_count": 32,
   "id": "a2dc8bfd",
   "metadata": {},
   "outputs": [
    {
     "data": {
      "text/html": [
       "<div>\n",
       "<style scoped>\n",
       "    .dataframe tbody tr th:only-of-type {\n",
       "        vertical-align: middle;\n",
       "    }\n",
       "\n",
       "    .dataframe tbody tr th {\n",
       "        vertical-align: top;\n",
       "    }\n",
       "\n",
       "    .dataframe thead th {\n",
       "        text-align: right;\n",
       "    }\n",
       "</style>\n",
       "<table border=\"1\" class=\"dataframe\">\n",
       "  <thead>\n",
       "    <tr style=\"text-align: right;\">\n",
       "      <th></th>\n",
       "      <th>from</th>\n",
       "      <th>to</th>\n",
       "      <th>date</th>\n",
       "      <th>value</th>\n",
       "    </tr>\n",
       "  </thead>\n",
       "  <tbody>\n",
       "    <tr>\n",
       "      <th>49133</th>\n",
       "      <td>250733</td>\n",
       "      <td>248773</td>\n",
       "      <td>2017-05-17</td>\n",
       "      <td>135918900000000000000</td>\n",
       "    </tr>\n",
       "    <tr>\n",
       "      <th>110195</th>\n",
       "      <td>254519</td>\n",
       "      <td>248578</td>\n",
       "      <td>2017-05-17</td>\n",
       "      <td>4800000000000000000000</td>\n",
       "    </tr>\n",
       "    <tr>\n",
       "      <th>105736</th>\n",
       "      <td>51586</td>\n",
       "      <td>255124</td>\n",
       "      <td>2017-05-17</td>\n",
       "      <td>150000000000000000000</td>\n",
       "    </tr>\n",
       "    <tr>\n",
       "      <th>12305</th>\n",
       "      <td>38556</td>\n",
       "      <td>255135</td>\n",
       "      <td>2017-05-17</td>\n",
       "      <td>100000000000000000000</td>\n",
       "    </tr>\n",
       "    <tr>\n",
       "      <th>88428</th>\n",
       "      <td>254797</td>\n",
       "      <td>255142</td>\n",
       "      <td>2017-05-17</td>\n",
       "      <td>1470000000000000000000</td>\n",
       "    </tr>\n",
       "    <tr>\n",
       "      <th>...</th>\n",
       "      <td>...</td>\n",
       "      <td>...</td>\n",
       "      <td>...</td>\n",
       "      <td>...</td>\n",
       "    </tr>\n",
       "    <tr>\n",
       "      <th>114933</th>\n",
       "      <td>17</td>\n",
       "      <td>91951</td>\n",
       "      <td>2018-05-06</td>\n",
       "      <td>682400128610000000000</td>\n",
       "    </tr>\n",
       "    <tr>\n",
       "      <th>118737</th>\n",
       "      <td>194337</td>\n",
       "      <td>195499</td>\n",
       "      <td>2018-05-06</td>\n",
       "      <td>2304805430306600000</td>\n",
       "    </tr>\n",
       "    <tr>\n",
       "      <th>81326</th>\n",
       "      <td>195500</td>\n",
       "      <td>195501</td>\n",
       "      <td>2018-05-06</td>\n",
       "      <td>31413345939999997952</td>\n",
       "    </tr>\n",
       "    <tr>\n",
       "      <th>80973</th>\n",
       "      <td>195498</td>\n",
       "      <td>194319</td>\n",
       "      <td>2018-05-06</td>\n",
       "      <td>50000000000000000000</td>\n",
       "    </tr>\n",
       "    <tr>\n",
       "      <th>8359</th>\n",
       "      <td>195501</td>\n",
       "      <td>194319</td>\n",
       "      <td>2018-05-06</td>\n",
       "      <td>31413345939999997952</td>\n",
       "    </tr>\n",
       "  </tbody>\n",
       "</table>\n",
       "<p>130271 rows × 4 columns</p>\n",
       "</div>"
      ],
      "text/plain": [
       "          from      to        date                   value\n",
       "49133   250733  248773  2017-05-17   135918900000000000000\n",
       "110195  254519  248578  2017-05-17  4800000000000000000000\n",
       "105736   51586  255124  2017-05-17   150000000000000000000\n",
       "12305    38556  255135  2017-05-17   100000000000000000000\n",
       "88428   254797  255142  2017-05-17  1470000000000000000000\n",
       "...        ...     ...         ...                     ...\n",
       "114933      17   91951  2018-05-06   682400128610000000000\n",
       "118737  194337  195499  2018-05-06     2304805430306600000\n",
       "81326   195500  195501  2018-05-06    31413345939999997952\n",
       "80973   195498  194319  2018-05-06    50000000000000000000\n",
       "8359    195501  194319  2018-05-06    31413345939999997952\n",
       "\n",
       "[130271 rows x 4 columns]"
      ]
     },
     "execution_count": 32,
     "metadata": {},
     "output_type": "execute_result"
    }
   ],
   "source": [
    "selectedNetwork = pd.read_csv(\"dataset/networkaragon.txt\", sep=' ', names=[\"from\", \"to\", \"date\", \"value\"])\n",
    "selectedNetwork['date'] = pd.to_datetime(selectedNetwork['date'], unit='s')\n",
    "selectedNetwork = selectedNetwork.sort_values(by = 'date')\n",
    "selectedNetwork['date'] = selectedNetwork['date'].dt.date\n",
    "selectedNetwork"
   ]
  },
  {
   "cell_type": "markdown",
   "id": "c41d61a6",
   "metadata": {},
   "source": [
    "**Apply sliding window algorithm and apply powerlaw test on each window and store to dataframe**"
   ]
  },
  {
   "cell_type": "code",
   "execution_count": 33,
   "id": "4a52e2d3",
   "metadata": {},
   "outputs": [
    {
     "name": "stdout",
     "output_type": "stream",
     "text": [
      "Calculating best minimal value for power law fit\n",
      "Calculating best minimal value for power law fit\n",
      "Calculating best minimal value for power law fit\n",
      "Calculating best minimal value for power law fit\n",
      "Calculating best minimal value for power law fit\n",
      "Calculating best minimal value for power law fit\n",
      "Calculating best minimal value for power law fit\n",
      "Calculating best minimal value for power law fit\n",
      "Calculating best minimal value for power law fit\n",
      "Calculating best minimal value for power law fit\n",
      "Calculating best minimal value for power law fit\n",
      "Calculating best minimal value for power law fit\n",
      "Calculating best minimal value for power law fit\n",
      "Calculating best minimal value for power law fit\n",
      "Calculating best minimal value for power law fit\n",
      "Calculating best minimal value for power law fit\n",
      "Calculating best minimal value for power law fit\n",
      "Calculating best minimal value for power law fit\n",
      "Calculating best minimal value for power law fit\n",
      "Calculating best minimal value for power law fit\n",
      "Calculating best minimal value for power law fit\n",
      "Calculating best minimal value for power law fit\n",
      "Calculating best minimal value for power law fit\n",
      "Calculating best minimal value for power law fit\n",
      "Calculating best minimal value for power law fit\n",
      "Calculating best minimal value for power law fit\n",
      "Calculating best minimal value for power law fit\n",
      "Calculating best minimal value for power law fit\n",
      "Calculating best minimal value for power law fit\n",
      "Calculating best minimal value for power law fit\n",
      "Calculating best minimal value for power law fit\n",
      "Calculating best minimal value for power law fit\n",
      "Calculating best minimal value for power law fit\n",
      "Calculating best minimal value for power law fit\n",
      "Calculating best minimal value for power law fit\n",
      "Calculating best minimal value for power law fit\n",
      "Calculating best minimal value for power law fit\n",
      "Calculating best minimal value for power law fit\n",
      "Calculating best minimal value for power law fit\n",
      "Calculating best minimal value for power law fit\n",
      "Calculating best minimal value for power law fit\n",
      "Calculating best minimal value for power law fit\n",
      "Calculating best minimal value for power law fit\n",
      "Calculating best minimal value for power law fit\n",
      "Calculating best minimal value for power law fit\n",
      "Calculating best minimal value for power law fit\n",
      "Calculating best minimal value for power law fit\n",
      "Calculating best minimal value for power law fit\n",
      "Calculating best minimal value for power law fit\n",
      "Calculating best minimal value for power law fit\n",
      "Calculating best minimal value for power law fit\n",
      "Calculating best minimal value for power law fit\n",
      "Calculating best minimal value for power law fit\n",
      "Calculating best minimal value for power law fit\n",
      "Calculating best minimal value for power law fit\n",
      "Calculating best minimal value for power law fit\n",
      "Calculating best minimal value for power law fit\n",
      "Calculating best minimal value for power law fit\n",
      "Calculating best minimal value for power law fit\n",
      "Calculating best minimal value for power law fit\n",
      "Calculating best minimal value for power law fit\n",
      "Calculating best minimal value for power law fit\n",
      "Calculating best minimal value for power law fit\n",
      "Calculating best minimal value for power law fit\n",
      "Calculating best minimal value for power law fit\n",
      "Calculating best minimal value for power law fit\n",
      "Calculating best minimal value for power law fit\n",
      "Calculating best minimal value for power law fit\n",
      "Calculating best minimal value for power law fit\n",
      "Calculating best minimal value for power law fit\n",
      "Calculating best minimal value for power law fit\n",
      "Calculating best minimal value for power law fit\n",
      "Calculating best minimal value for power law fit\n",
      "Calculating best minimal value for power law fit\n",
      "Calculating best minimal value for power law fit\n",
      "Calculating best minimal value for power law fit\n",
      "Calculating best minimal value for power law fit\n",
      "Calculating best minimal value for power law fit\n",
      "Calculating best minimal value for power law fit\n",
      "Calculating best minimal value for power law fit\n",
      "Calculating best minimal value for power law fit\n",
      "Calculating best minimal value for power law fit\n",
      "Calculating best minimal value for power law fit\n",
      "Calculating best minimal value for power law fit\n",
      "Calculating best minimal value for power law fit\n",
      "Calculating best minimal value for power law fit\n",
      "Calculating best minimal value for power law fit\n",
      "Calculating best minimal value for power law fit\n",
      "Calculating best minimal value for power law fit\n",
      "Calculating best minimal value for power law fit\n",
      "Calculating best minimal value for power law fit\n",
      "Calculating best minimal value for power law fit\n",
      "Calculating best minimal value for power law fit\n",
      "Calculating best minimal value for power law fit\n",
      "Calculating best minimal value for power law fit\n",
      "Calculating best minimal value for power law fit\n",
      "Calculating best minimal value for power law fit\n",
      "Calculating best minimal value for power law fit\n",
      "Calculating best minimal value for power law fit\n",
      "Calculating best minimal value for power law fit\n",
      "Calculating best minimal value for power law fit\n",
      "Calculating best minimal value for power law fit\n",
      "Calculating best minimal value for power law fit\n",
      "Calculating best minimal value for power law fit\n",
      "Calculating best minimal value for power law fit\n",
      "Calculating best minimal value for power law fit\n",
      "Calculating best minimal value for power law fit\n",
      "Calculating best minimal value for power law fit\n",
      "Calculating best minimal value for power law fit\n",
      "Calculating best minimal value for power law fit\n",
      "Calculating best minimal value for power law fit\n",
      "Calculating best minimal value for power law fit\n",
      "Calculating best minimal value for power law fit\n",
      "Calculating best minimal value for power law fit\n",
      "Calculating best minimal value for power law fit\n",
      "Calculating best minimal value for power law fit\n",
      "Calculating best minimal value for power law fit\n",
      "Calculating best minimal value for power law fit\n",
      "Calculating best minimal value for power law fit\n",
      "Calculating best minimal value for power law fit\n",
      "Calculating best minimal value for power law fit\n",
      "Calculating best minimal value for power law fit\n",
      "Calculating best minimal value for power law fit\n",
      "Calculating best minimal value for power law fit\n",
      "Calculating best minimal value for power law fit\n",
      "Calculating best minimal value for power law fit\n",
      "Calculating best minimal value for power law fit\n",
      "Calculating best minimal value for power law fit\n",
      "Calculating best minimal value for power law fit\n",
      "Calculating best minimal value for power law fit\n",
      "Calculating best minimal value for power law fit\n",
      "Calculating best minimal value for power law fit\n",
      "Calculating best minimal value for power law fit\n",
      "Calculating best minimal value for power law fit\n",
      "Calculating best minimal value for power law fit\n",
      "Calculating best minimal value for power law fit\n",
      "Calculating best minimal value for power law fit\n",
      "Calculating best minimal value for power law fit\n",
      "Calculating best minimal value for power law fit\n",
      "Calculating best minimal value for power law fit\n",
      "Calculating best minimal value for power law fit\n",
      "Calculating best minimal value for power law fit\n",
      "Calculating best minimal value for power law fit\n",
      "Calculating best minimal value for power law fit\n",
      "Calculating best minimal value for power law fit\n",
      "Calculating best minimal value for power law fit\n",
      "Calculating best minimal value for power law fit\n",
      "Calculating best minimal value for power law fit\n",
      "Calculating best minimal value for power law fit\n",
      "Calculating best minimal value for power law fit\n",
      "Calculating best minimal value for power law fit\n",
      "Calculating best minimal value for power law fit\n",
      "Calculating best minimal value for power law fit\n",
      "Calculating best minimal value for power law fit\n",
      "Calculating best minimal value for power law fit\n",
      "Calculating best minimal value for power law fit\n",
      "Calculating best minimal value for power law fit\n",
      "Calculating best minimal value for power law fit\n",
      "Calculating best minimal value for power law fit\n",
      "Calculating best minimal value for power law fit\n",
      "Calculating best minimal value for power law fit\n",
      "Calculating best minimal value for power law fit\n",
      "Calculating best minimal value for power law fit\n",
      "Calculating best minimal value for power law fit\n",
      "Calculating best minimal value for power law fit\n",
      "Calculating best minimal value for power law fit\n",
      "Calculating best minimal value for power law fit\n",
      "Calculating best minimal value for power law fit\n"
     ]
    },
    {
     "name": "stdout",
     "output_type": "stream",
     "text": [
      "Calculating best minimal value for power law fit\n",
      "Calculating best minimal value for power law fit\n",
      "Calculating best minimal value for power law fit\n",
      "Calculating best minimal value for power law fit\n",
      "Calculating best minimal value for power law fit\n",
      "Calculating best minimal value for power law fit\n",
      "Calculating best minimal value for power law fit\n",
      "Calculating best minimal value for power law fit\n",
      "Calculating best minimal value for power law fit\n",
      "Calculating best minimal value for power law fit\n",
      "Calculating best minimal value for power law fit\n",
      "Calculating best minimal value for power law fit\n",
      "Calculating best minimal value for power law fit\n",
      "Calculating best minimal value for power law fit\n",
      "Calculating best minimal value for power law fit\n",
      "Calculating best minimal value for power law fit\n",
      "Calculating best minimal value for power law fit\n",
      "Calculating best minimal value for power law fit\n",
      "Calculating best minimal value for power law fit\n",
      "Calculating best minimal value for power law fit\n",
      "Calculating best minimal value for power law fit\n",
      "Calculating best minimal value for power law fit\n",
      "Calculating best minimal value for power law fit\n",
      "Calculating best minimal value for power law fit\n",
      "Calculating best minimal value for power law fit\n",
      "Calculating best minimal value for power law fit\n",
      "Calculating best minimal value for power law fit\n",
      "Calculating best minimal value for power law fit\n",
      "Calculating best minimal value for power law fit\n",
      "Calculating best minimal value for power law fit\n",
      "Calculating best minimal value for power law fit\n",
      "Calculating best minimal value for power law fit\n",
      "Calculating best minimal value for power law fit\n",
      "Calculating best minimal value for power law fit\n",
      "Calculating best minimal value for power law fit\n",
      "Calculating best minimal value for power law fit\n",
      "Calculating best minimal value for power law fit\n",
      "Calculating best minimal value for power law fit\n",
      "Calculating best minimal value for power law fit\n",
      "Calculating best minimal value for power law fit\n",
      "Calculating best minimal value for power law fit\n",
      "Calculating best minimal value for power law fit\n",
      "Calculating best minimal value for power law fit\n",
      "Calculating best minimal value for power law fit\n",
      "Calculating best minimal value for power law fit\n",
      "Calculating best minimal value for power law fit\n",
      "Calculating best minimal value for power law fit\n",
      "Calculating best minimal value for power law fit\n",
      "Calculating best minimal value for power law fit\n",
      "Calculating best minimal value for power law fit\n",
      "Calculating best minimal value for power law fit\n",
      "Calculating best minimal value for power law fit\n",
      "Calculating best minimal value for power law fit\n",
      "Calculating best minimal value for power law fit\n",
      "Calculating best minimal value for power law fit\n",
      "Calculating best minimal value for power law fit\n",
      "Calculating best minimal value for power law fit\n",
      "Calculating best minimal value for power law fit\n",
      "Calculating best minimal value for power law fit\n",
      "Calculating best minimal value for power law fit\n",
      "Calculating best minimal value for power law fit\n",
      "Calculating best minimal value for power law fit\n",
      "Calculating best minimal value for power law fit\n",
      "Calculating best minimal value for power law fit\n",
      "Calculating best minimal value for power law fit\n",
      "Calculating best minimal value for power law fit\n",
      "Calculating best minimal value for power law fit\n",
      "Calculating best minimal value for power law fit\n",
      "Calculating best minimal value for power law fit\n",
      "Calculating best minimal value for power law fit\n",
      "Calculating best minimal value for power law fit\n",
      "Calculating best minimal value for power law fit\n",
      "Calculating best minimal value for power law fit\n",
      "Calculating best minimal value for power law fit\n",
      "Calculating best minimal value for power law fit\n",
      "Calculating best minimal value for power law fit\n",
      "Calculating best minimal value for power law fit\n",
      "Calculating best minimal value for power law fit\n",
      "Calculating best minimal value for power law fit\n",
      "Calculating best minimal value for power law fit\n",
      "Calculating best minimal value for power law fit\n",
      "Calculating best minimal value for power law fit\n",
      "Calculating best minimal value for power law fit\n",
      "Calculating best minimal value for power law fit\n",
      "Calculating best minimal value for power law fit\n",
      "Calculating best minimal value for power law fit\n",
      "Calculating best minimal value for power law fit\n",
      "Calculating best minimal value for power law fit\n",
      "Calculating best minimal value for power law fit\n",
      "Calculating best minimal value for power law fit\n",
      "Calculating best minimal value for power law fit\n",
      "Calculating best minimal value for power law fit\n",
      "Calculating best minimal value for power law fit\n",
      "Calculating best minimal value for power law fit\n",
      "Calculating best minimal value for power law fit\n",
      "Calculating best minimal value for power law fit\n",
      "Calculating best minimal value for power law fit\n",
      "Calculating best minimal value for power law fit\n",
      "Calculating best minimal value for power law fit\n",
      "Calculating best minimal value for power law fit\n",
      "Calculating best minimal value for power law fit\n",
      "Calculating best minimal value for power law fit\n",
      "Calculating best minimal value for power law fit\n",
      "Calculating best minimal value for power law fit\n",
      "Calculating best minimal value for power law fit\n",
      "Calculating best minimal value for power law fit\n",
      "Calculating best minimal value for power law fit\n",
      "Calculating best minimal value for power law fit\n",
      "Calculating best minimal value for power law fit\n",
      "Calculating best minimal value for power law fit\n",
      "Calculating best minimal value for power law fit\n",
      "Calculating best minimal value for power law fit\n",
      "Calculating best minimal value for power law fit\n",
      "Calculating best minimal value for power law fit\n",
      "Calculating best minimal value for power law fit\n",
      "Calculating best minimal value for power law fit\n",
      "Calculating best minimal value for power law fit\n",
      "Calculating best minimal value for power law fit\n",
      "Calculating best minimal value for power law fit\n",
      "Calculating best minimal value for power law fit\n",
      "Calculating best minimal value for power law fit\n",
      "Calculating best minimal value for power law fit\n",
      "Calculating best minimal value for power law fit\n",
      "Calculating best minimal value for power law fit\n",
      "Calculating best minimal value for power law fit\n",
      "Calculating best minimal value for power law fit\n",
      "Calculating best minimal value for power law fit\n",
      "Calculating best minimal value for power law fit\n",
      "Calculating best minimal value for power law fit\n",
      "Calculating best minimal value for power law fit\n",
      "Calculating best minimal value for power law fit\n",
      "Calculating best minimal value for power law fit\n",
      "Calculating best minimal value for power law fit\n",
      "Calculating best minimal value for power law fit\n",
      "Calculating best minimal value for power law fit\n",
      "Calculating best minimal value for power law fit\n",
      "Calculating best minimal value for power law fit\n",
      "Calculating best minimal value for power law fit\n",
      "Calculating best minimal value for power law fit\n",
      "Calculating best minimal value for power law fit\n",
      "Calculating best minimal value for power law fit\n",
      "Calculating best minimal value for power law fit\n",
      "Calculating best minimal value for power law fit\n",
      "Calculating best minimal value for power law fit\n",
      "Calculating best minimal value for power law fit\n",
      "Calculating best minimal value for power law fit\n",
      "Calculating best minimal value for power law fit\n",
      "Calculating best minimal value for power law fit\n",
      "Calculating best minimal value for power law fit\n",
      "Calculating best minimal value for power law fit\n",
      "Calculating best minimal value for power law fit\n",
      "Calculating best minimal value for power law fit\n",
      "Calculating best minimal value for power law fit\n",
      "Calculating best minimal value for power law fit\n",
      "Calculating best minimal value for power law fit\n",
      "Calculating best minimal value for power law fit\n",
      "Calculating best minimal value for power law fit\n",
      "Calculating best minimal value for power law fit\n",
      "Calculating best minimal value for power law fit\n",
      "Calculating best minimal value for power law fit\n",
      "Calculating best minimal value for power law fit\n",
      "Calculating best minimal value for power law fit\n",
      "Calculating best minimal value for power law fit\n",
      "Calculating best minimal value for power law fit\n",
      "Calculating best minimal value for power law fit\n",
      "Calculating best minimal value for power law fit\n",
      "Calculating best minimal value for power law fit\n",
      "Calculating best minimal value for power law fit\n",
      "Calculating best minimal value for power law fit\n"
     ]
    },
    {
     "name": "stdout",
     "output_type": "stream",
     "text": [
      "Calculating best minimal value for power law fit\n",
      "Calculating best minimal value for power law fit\n",
      "Calculating best minimal value for power law fit\n",
      "Calculating best minimal value for power law fit\n",
      "Calculating best minimal value for power law fit\n",
      "Calculating best minimal value for power law fit\n",
      "Calculating best minimal value for power law fit\n",
      "Calculating best minimal value for power law fit\n",
      "Calculating best minimal value for power law fit\n",
      "Calculating best minimal value for power law fit\n",
      "Calculating best minimal value for power law fit\n",
      "Calculating best minimal value for power law fit\n",
      "Calculating best minimal value for power law fit\n",
      "Calculating best minimal value for power law fit\n",
      "Calculating best minimal value for power law fit\n",
      "Calculating best minimal value for power law fit\n",
      "Calculating best minimal value for power law fit\n",
      "Calculating best minimal value for power law fit\n",
      "xmin progress: 90%\r"
     ]
    }
   ],
   "source": [
    "def sliding_window_dates(start_date, end_date):\n",
    "    # Initialize the sliding window\n",
    "    \n",
    "    window_end = start_date   # Initial window size is 3 days\n",
    "    window_start = window_end - timedelta(days=6)\n",
    "    \n",
    "    # Slide the window through the date interval\n",
    "    while window_end <= end_date:\n",
    "        if(window_start >= start_date):\n",
    "            yield (window_start, window_end)\n",
    "        else:\n",
    "            yield(start_date,window_end)\n",
    "        \n",
    "        # Slide the window by one day\n",
    "        window_start += timedelta(days=1)\n",
    "        window_end += timedelta(days=1)\n",
    "\n",
    "\n",
    "start_date = selectedNetwork['date'].min()\n",
    "end_date = selectedNetwork['date'].max()\n",
    "\n",
    "score_list = []\n",
    "column = [\"score\",\"#nodes\",\"xmin\",\"alpha\",\"date\"]\n",
    "row_list = []\n",
    "\n",
    "for window_start, window_end in sliding_window_dates(start_date, end_date):\n",
    "    selectedNetworkInTimeFrame = selectedNetwork[\n",
    "        (selectedNetwork['date'] >= window_start) & (selectedNetwork['date'] <= window_end)]\n",
    "    transactionGraphs = nx.DiGraph()\n",
    "    \n",
    "    for index, row in selectedNetworkInTimeFrame.iterrows():\n",
    "        transactionGraphs.add_edge(row[\"from\"], row[\"to\"], value=row[\"value\"])\n",
    "    row_df = []\n",
    "        \n",
    "    degrees = list(dict(transactionGraphs.degree()).values())\n",
    "    fit = powerlaw.Fit(degrees)\n",
    "    row_df.append(fit.distribution_compare('power_law', 'exponential')[0])\n",
    "    row_df.append(transactionGraphs.number_of_nodes())\n",
    "    row_df.append(fit.power_law.xmin)\n",
    "    row_df.append(fit.power_law.alpha)\n",
    "    row_df.append(window_end)\n",
    "    row_list.append(row_df)\n",
    "\n",
    "df_sliding = pd.DataFrame(row_list,columns= column)  "
   ]
  },
  {
   "cell_type": "code",
   "execution_count": 34,
   "id": "b4ec0fa7",
   "metadata": {},
   "outputs": [],
   "source": [
    "df_sliding.to_csv(\"result_dataset\\power_law_result_aragon_7.csv\")"
   ]
  },
  {
   "cell_type": "code",
   "execution_count": 24,
   "id": "4d38165b",
   "metadata": {},
   "outputs": [
    {
     "data": {
      "text/html": [
       "<div>\n",
       "<style scoped>\n",
       "    .dataframe tbody tr th:only-of-type {\n",
       "        vertical-align: middle;\n",
       "    }\n",
       "\n",
       "    .dataframe tbody tr th {\n",
       "        vertical-align: top;\n",
       "    }\n",
       "\n",
       "    .dataframe thead th {\n",
       "        text-align: right;\n",
       "    }\n",
       "</style>\n",
       "<table border=\"1\" class=\"dataframe\">\n",
       "  <thead>\n",
       "    <tr style=\"text-align: right;\">\n",
       "      <th></th>\n",
       "      <th>Unnamed: 0</th>\n",
       "      <th>score</th>\n",
       "      <th>#nodes</th>\n",
       "      <th>xmin</th>\n",
       "      <th>alpha</th>\n",
       "      <th>date</th>\n",
       "    </tr>\n",
       "  </thead>\n",
       "  <tbody>\n",
       "    <tr>\n",
       "      <th>0</th>\n",
       "      <td>0</td>\n",
       "      <td>0.000000</td>\n",
       "      <td>4</td>\n",
       "      <td>NaN</td>\n",
       "      <td>NaN</td>\n",
       "      <td>2017-09-10</td>\n",
       "    </tr>\n",
       "    <tr>\n",
       "      <th>1</th>\n",
       "      <td>1</td>\n",
       "      <td>1.139417</td>\n",
       "      <td>5</td>\n",
       "      <td>1.0</td>\n",
       "      <td>8.213475</td>\n",
       "      <td>2017-09-11</td>\n",
       "    </tr>\n",
       "    <tr>\n",
       "      <th>2</th>\n",
       "      <td>2</td>\n",
       "      <td>1.139417</td>\n",
       "      <td>5</td>\n",
       "      <td>1.0</td>\n",
       "      <td>8.213475</td>\n",
       "      <td>2017-09-12</td>\n",
       "    </tr>\n",
       "    <tr>\n",
       "      <th>3</th>\n",
       "      <td>3</td>\n",
       "      <td>0.000000</td>\n",
       "      <td>4</td>\n",
       "      <td>NaN</td>\n",
       "      <td>NaN</td>\n",
       "      <td>2017-09-13</td>\n",
       "    </tr>\n",
       "    <tr>\n",
       "      <th>4</th>\n",
       "      <td>4</td>\n",
       "      <td>0.000000</td>\n",
       "      <td>12</td>\n",
       "      <td>NaN</td>\n",
       "      <td>NaN</td>\n",
       "      <td>2017-09-14</td>\n",
       "    </tr>\n",
       "    <tr>\n",
       "      <th>...</th>\n",
       "      <td>...</td>\n",
       "      <td>...</td>\n",
       "      <td>...</td>\n",
       "      <td>...</td>\n",
       "      <td>...</td>\n",
       "      <td>...</td>\n",
       "    </tr>\n",
       "    <tr>\n",
       "      <th>234</th>\n",
       "      <td>234</td>\n",
       "      <td>309.519621</td>\n",
       "      <td>496</td>\n",
       "      <td>2.0</td>\n",
       "      <td>8.176227</td>\n",
       "      <td>2018-05-02</td>\n",
       "    </tr>\n",
       "    <tr>\n",
       "      <th>235</th>\n",
       "      <td>235</td>\n",
       "      <td>362.511276</td>\n",
       "      <td>562</td>\n",
       "      <td>2.0</td>\n",
       "      <td>8.351849</td>\n",
       "      <td>2018-05-03</td>\n",
       "    </tr>\n",
       "    <tr>\n",
       "      <th>236</th>\n",
       "      <td>236</td>\n",
       "      <td>379.373875</td>\n",
       "      <td>605</td>\n",
       "      <td>2.0</td>\n",
       "      <td>8.198376</td>\n",
       "      <td>2018-05-04</td>\n",
       "    </tr>\n",
       "    <tr>\n",
       "      <th>237</th>\n",
       "      <td>237</td>\n",
       "      <td>351.706831</td>\n",
       "      <td>596</td>\n",
       "      <td>2.0</td>\n",
       "      <td>7.944900</td>\n",
       "      <td>2018-05-05</td>\n",
       "    </tr>\n",
       "    <tr>\n",
       "      <th>238</th>\n",
       "      <td>238</td>\n",
       "      <td>254.902047</td>\n",
       "      <td>466</td>\n",
       "      <td>2.0</td>\n",
       "      <td>7.183300</td>\n",
       "      <td>2018-05-06</td>\n",
       "    </tr>\n",
       "  </tbody>\n",
       "</table>\n",
       "<p>239 rows × 6 columns</p>\n",
       "</div>"
      ],
      "text/plain": [
       "     Unnamed: 0       score  #nodes  xmin     alpha        date\n",
       "0             0    0.000000       4   NaN       NaN  2017-09-10\n",
       "1             1    1.139417       5   1.0  8.213475  2017-09-11\n",
       "2             2    1.139417       5   1.0  8.213475  2017-09-12\n",
       "3             3    0.000000       4   NaN       NaN  2017-09-13\n",
       "4             4    0.000000      12   NaN       NaN  2017-09-14\n",
       "..          ...         ...     ...   ...       ...         ...\n",
       "234         234  309.519621     496   2.0  8.176227  2018-05-02\n",
       "235         235  362.511276     562   2.0  8.351849  2018-05-03\n",
       "236         236  379.373875     605   2.0  8.198376  2018-05-04\n",
       "237         237  351.706831     596   2.0  7.944900  2018-05-05\n",
       "238         238  254.902047     466   2.0  7.183300  2018-05-06\n",
       "\n",
       "[239 rows x 6 columns]"
      ]
     },
     "execution_count": 24,
     "metadata": {},
     "output_type": "execute_result"
    }
   ],
   "source": [
    "df_sliding = pd.read_csv(\"result_dataset\\power_law_result_cindicator_7.csv\",index_col=False)\n",
    "df_sliding"
   ]
  },
  {
   "cell_type": "code",
   "execution_count": 25,
   "id": "3ed3f14a",
   "metadata": {},
   "outputs": [
    {
     "data": {
      "application/vnd.plotly.v1+json": {
       "config": {
        "plotlyServerURL": "https://plot.ly"
       },
       "data": [
        {
         "line": {
          "width": 1
         },
         "mode": "lines",
         "name": "Line",
         "showlegend": false,
         "type": "scatter",
         "x": [
          4,
          5,
          5,
          4,
          12,
          16,
          20,
          14,
          37,
          56,
          73,
          69,
          97,
          139,
          171,
          185,
          163,
          138,
          91,
          58,
          38,
          32,
          28,
          26,
          20,
          16,
          14,
          18,
          20,
          21,
          31,
          51,
          1861,
          2946,
          3501,
          2243,
          1368,
          996,
          1024,
          1037,
          992,
          867,
          721,
          560,
          581,
          571,
          591,
          457,
          350,
          302,
          376,
          561,
          616,
          622,
          459,
          417,
          323,
          290,
          284,
          324,
          502,
          588,
          583,
          517,
          385,
          338,
          320,
          343,
          367,
          388,
          366,
          375,
          412,
          440,
          584,
          633,
          608,
          463,
          429,
          460,
          533,
          479,
          471,
          392,
          348,
          259,
          223,
          150,
          179,
          182,
          234,
          325,
          2539,
          2801,
          2961,
          1143,
          928,
          920,
          1337,
          2075,
          3004,
          2853,
          2241,
          1211,
          1044,
          849,
          693,
          654,
          677,
          729,
          888,
          1068,
          1090,
          952,
          883,
          969,
          1250,
          1382,
          1415,
          1339,
          1253,
          1240,
          1089,
          1038,
          932,
          978,
          1009,
          982,
          943,
          858,
          1321,
          3260,
          3840,
          3936,
          3273,
          3367,
          3144,
          2542,
          2046,
          1899,
          1685,
          1659,
          1574,
          1387,
          1286,
          1310,
          1246,
          1190,
          1040,
          1112,
          1085,
          816,
          633,
          753,
          1015,
          1099,
          925,
          856,
          851,
          852,
          849,
          755,
          722,
          822,
          922,
          902,
          739,
          619,
          576,
          590,
          642,
          694,
          723,
          793,
          860,
          803,
          672,
          549,
          538,
          628,
          702,
          695,
          599,
          536,
          2986,
          3133,
          3287,
          857,
          793,
          662,
          671,
          640,
          653,
          697,
          690,
          573,
          491,
          461,
          431,
          389,
          389,
          397,
          392,
          391,
          376,
          424,
          420,
          425,
          404,
          346,
          328,
          315,
          341,
          364,
          392,
          489,
          519,
          493,
          425,
          398,
          429,
          459,
          531,
          550,
          536,
          508,
          561,
          562,
          541,
          476,
          482,
          514,
          491,
          495,
          496,
          562,
          605,
          596,
          466
         ],
         "y": [
          null,
          8.213475204444817,
          8.213475204444817,
          null,
          null,
          null,
          null,
          null,
          54.37971651289165,
          21.19773057244549,
          22.063347596978865,
          22.711400650644617,
          140.94141896622946,
          41.10692213671318,
          50.34017039840255,
          39.12836893777975,
          34.594184523557296,
          27.248239938397568,
          51.7880670161635,
          null,
          null,
          null,
          null,
          null,
          null,
          null,
          null,
          null,
          null,
          31.296595858668237,
          45.723546267557865,
          25.52581569511238,
          3.587539155178694,
          4.061671810484573,
          3.814744508502933,
          3.613910761834052,
          4.457063867789593,
          4.752111235510942,
          5.499148340531734,
          8.363114447127945,
          11.652093450168373,
          8.334368446843714,
          7.538995754292847,
          8.044827257624455,
          6.085872801754141,
          5.3961150566527465,
          4.975282128985432,
          4.740281292711936,
          9.984547693889365,
          5.101320481831459,
          4.334453521481162,
          5.550273414252884,
          5.463282858753741,
          4.965175335367654,
          4.9366003851819045,
          6.824858445050985,
          7.720743361952272,
          9.23293030852702,
          6.44055079467908,
          7.569503908939127,
          6.416634435933506,
          9.679894768041008,
          11.24511950562618,
          8.639746360133152,
          6.351712770464828,
          7.21211558946904,
          8.68765454321542,
          10.897081510735818,
          7.313105961966026,
          2.255132072905009,
          6.428121312590428,
          6.83738584584203,
          6.088665797566485,
          7.424398685584937,
          7.972803769261012,
          8.127921037551793,
          7.913380589247335,
          6.222202301883465,
          7.817473333929281,
          6.999232323937061,
          6.826597632166495,
          7.629873402547926,
          7.208724209958802,
          5.629065730729543,
          4.534139019484151,
          4.729525948256276,
          5.664588082057686,
          15.589487006691764,
          17.70452178900273,
          19.785521852526767,
          20.335717619103477,
          16.96466859115189,
          19.462587284931644,
          5.816907048863141,
          5.285422496934709,
          13.079775798545183,
          12.88067840833756,
          12.760334422806348,
          10.881856431672093,
          14.675252197082829,
          17.034278094298408,
          19.60011733094218,
          19.65269114349549,
          12.82987655239485,
          9.377201589136162,
          8.117619838619808,
          9.202549560034011,
          10.092671274372366,
          10.786406545642208,
          10.52902456132905,
          10.70605277492127,
          10.742715225258827,
          10.780942450118788,
          11.196774731735196,
          9.812628296688963,
          11.666434167337863,
          13.061886171331528,
          15.332811284912612,
          13.588308862357977,
          11.22442146630612,
          7.64491957189098,
          7.736767530447314,
          6.785048674935245,
          6.550300566752301,
          6.248393582714483,
          6.619905579679887,
          6.050876794511485,
          5.774857490045735,
          5.434217334872274,
          5.412780569591758,
          6.539779910607102,
          9.50297015740805,
          10.706114591832918,
          13.1303800593294,
          12.461639760672831,
          11.459078907253229,
          11.477534681362194,
          9.060753516362528,
          8.545961751459803,
          8.824147855875946,
          9.34399705875656,
          8.361838186626576,
          7.776776234615887,
          7.378942590264813,
          7.505658245194398,
          7.652766808978538,
          7.032750131997672,
          6.405712566849914,
          6.197141534460639,
          6.970831859787558,
          6.754067790871368,
          5.4694503488582376,
          4.792227937170345,
          4.971938698469511,
          6.029149108018603,
          6.439040884867193,
          6.391159221544372,
          6.077241549532203,
          6.52575754463665,
          7.866214965633992,
          7.346829082073562,
          6.354586389890645,
          5.531024922722893,
          5.070576194064299,
          5.192131933808368,
          4.978149853362561,
          5.086764249818098,
          4.595810267068803,
          4.6722348487054886,
          5.837087052858459,
          6.040713963182757,
          5.69660314809825,
          5.758469303976661,
          5.280975409806159,
          5.807526649532584,
          5.460140947156551,
          5.911844304137714,
          6.02130570878155,
          5.738321984674188,
          7.480078085206488,
          6.209877330021536,
          5.431048891614409,
          4.777156573395531,
          3.976213056145328,
          24.55899411329928,
          6.039722419054999,
          6.258957675053334,
          6.828939831572144,
          7.511945785506567,
          6.4951062729207445,
          5.874049784159619,
          4.351608475029873,
          6.711813767289046,
          6.959745108388765,
          6.945974019282076,
          7.160905575101845,
          8.641747870230702,
          8.851026371856335,
          8.589726521373116,
          8.571809701193695,
          8.807657305488707,
          8.933497176350514,
          8.196044004904667,
          8.335653387278592,
          7.61140396219247,
          7.597081688165608,
          6.604009532488003,
          5.8658230454344285,
          5.473072824406199,
          5.382604605865954,
          5.417978978694414,
          5.21965678127727,
          5.349407257075661,
          5.834363682772065,
          6.15339652663831,
          6.982344847670333,
          6.684576056562643,
          6.816856587459607,
          6.6181269177645445,
          5.83984423503913,
          5.844116575194035,
          6.002788968640976,
          6.630370218005014,
          6.6143890080862295,
          7.160957405470675,
          6.2725521560306055,
          6.285969686490764,
          6.26051073154344,
          6.621842806756571,
          7.085100862547761,
          7.089813875986748,
          7.461836818778646,
          7.584913481044601,
          7.954802097140617,
          8.176226773987562,
          8.351849395740217,
          8.198376292950183,
          7.944899859656972,
          7.183300498213695
         ]
        },
        {
         "mode": "markers",
         "name": "Scatter",
         "showlegend": false,
         "type": "scatter",
         "x": [
          4,
          5,
          5,
          4,
          12,
          16,
          20,
          14,
          37,
          56,
          73,
          69,
          97,
          139,
          171,
          185,
          163,
          138,
          91,
          58,
          38,
          32,
          28,
          26,
          20,
          16,
          14,
          18,
          20,
          21,
          31,
          51,
          1861,
          2946,
          3501,
          2243,
          1368,
          996,
          1024,
          1037,
          992,
          867,
          721,
          560,
          581,
          571,
          591,
          457,
          350,
          302,
          376,
          561,
          616,
          622,
          459,
          417,
          323,
          290,
          284,
          324,
          502,
          588,
          583,
          517,
          385,
          338,
          320,
          343,
          367,
          388,
          366,
          375,
          412,
          440,
          584,
          633,
          608,
          463,
          429,
          460,
          533,
          479,
          471,
          392,
          348,
          259,
          223,
          150,
          179,
          182,
          234,
          325,
          2539,
          2801,
          2961,
          1143,
          928,
          920,
          1337,
          2075,
          3004,
          2853,
          2241,
          1211,
          1044,
          849,
          693,
          654,
          677,
          729,
          888,
          1068,
          1090,
          952,
          883,
          969,
          1250,
          1382,
          1415,
          1339,
          1253,
          1240,
          1089,
          1038,
          932,
          978,
          1009,
          982,
          943,
          858,
          1321,
          3260,
          3840,
          3936,
          3273,
          3367,
          3144,
          2542,
          2046,
          1899,
          1685,
          1659,
          1574,
          1387,
          1286,
          1310,
          1246,
          1190,
          1040,
          1112,
          1085,
          816,
          633,
          753,
          1015,
          1099,
          925,
          856,
          851,
          852,
          849,
          755,
          722,
          822,
          922,
          902,
          739,
          619,
          576,
          590,
          642,
          694,
          723,
          793,
          860,
          803,
          672,
          549,
          538,
          628,
          702,
          695,
          599,
          536,
          2986,
          3133,
          3287,
          857,
          793,
          662,
          671,
          640,
          653,
          697,
          690,
          573,
          491,
          461,
          431,
          389,
          389,
          397,
          392,
          391,
          376,
          424,
          420,
          425,
          404,
          346,
          328,
          315,
          341,
          364,
          392,
          489,
          519,
          493,
          425,
          398,
          429,
          459,
          531,
          550,
          536,
          508,
          561,
          562,
          541,
          476,
          482,
          514,
          491,
          495,
          496,
          562,
          605,
          596,
          466
         ],
         "y": [
          null,
          8.213475204444817,
          8.213475204444817,
          null,
          null,
          null,
          null,
          null,
          54.37971651289165,
          21.19773057244549,
          22.063347596978865,
          22.711400650644617,
          140.94141896622946,
          41.10692213671318,
          50.34017039840255,
          39.12836893777975,
          34.594184523557296,
          27.248239938397568,
          51.7880670161635,
          null,
          null,
          null,
          null,
          null,
          null,
          null,
          null,
          null,
          null,
          31.296595858668237,
          45.723546267557865,
          25.52581569511238,
          3.587539155178694,
          4.061671810484573,
          3.814744508502933,
          3.613910761834052,
          4.457063867789593,
          4.752111235510942,
          5.499148340531734,
          8.363114447127945,
          11.652093450168373,
          8.334368446843714,
          7.538995754292847,
          8.044827257624455,
          6.085872801754141,
          5.3961150566527465,
          4.975282128985432,
          4.740281292711936,
          9.984547693889365,
          5.101320481831459,
          4.334453521481162,
          5.550273414252884,
          5.463282858753741,
          4.965175335367654,
          4.9366003851819045,
          6.824858445050985,
          7.720743361952272,
          9.23293030852702,
          6.44055079467908,
          7.569503908939127,
          6.416634435933506,
          9.679894768041008,
          11.24511950562618,
          8.639746360133152,
          6.351712770464828,
          7.21211558946904,
          8.68765454321542,
          10.897081510735818,
          7.313105961966026,
          2.255132072905009,
          6.428121312590428,
          6.83738584584203,
          6.088665797566485,
          7.424398685584937,
          7.972803769261012,
          8.127921037551793,
          7.913380589247335,
          6.222202301883465,
          7.817473333929281,
          6.999232323937061,
          6.826597632166495,
          7.629873402547926,
          7.208724209958802,
          5.629065730729543,
          4.534139019484151,
          4.729525948256276,
          5.664588082057686,
          15.589487006691764,
          17.70452178900273,
          19.785521852526767,
          20.335717619103477,
          16.96466859115189,
          19.462587284931644,
          5.816907048863141,
          5.285422496934709,
          13.079775798545183,
          12.88067840833756,
          12.760334422806348,
          10.881856431672093,
          14.675252197082829,
          17.034278094298408,
          19.60011733094218,
          19.65269114349549,
          12.82987655239485,
          9.377201589136162,
          8.117619838619808,
          9.202549560034011,
          10.092671274372366,
          10.786406545642208,
          10.52902456132905,
          10.70605277492127,
          10.742715225258827,
          10.780942450118788,
          11.196774731735196,
          9.812628296688963,
          11.666434167337863,
          13.061886171331528,
          15.332811284912612,
          13.588308862357977,
          11.22442146630612,
          7.64491957189098,
          7.736767530447314,
          6.785048674935245,
          6.550300566752301,
          6.248393582714483,
          6.619905579679887,
          6.050876794511485,
          5.774857490045735,
          5.434217334872274,
          5.412780569591758,
          6.539779910607102,
          9.50297015740805,
          10.706114591832918,
          13.1303800593294,
          12.461639760672831,
          11.459078907253229,
          11.477534681362194,
          9.060753516362528,
          8.545961751459803,
          8.824147855875946,
          9.34399705875656,
          8.361838186626576,
          7.776776234615887,
          7.378942590264813,
          7.505658245194398,
          7.652766808978538,
          7.032750131997672,
          6.405712566849914,
          6.197141534460639,
          6.970831859787558,
          6.754067790871368,
          5.4694503488582376,
          4.792227937170345,
          4.971938698469511,
          6.029149108018603,
          6.439040884867193,
          6.391159221544372,
          6.077241549532203,
          6.52575754463665,
          7.866214965633992,
          7.346829082073562,
          6.354586389890645,
          5.531024922722893,
          5.070576194064299,
          5.192131933808368,
          4.978149853362561,
          5.086764249818098,
          4.595810267068803,
          4.6722348487054886,
          5.837087052858459,
          6.040713963182757,
          5.69660314809825,
          5.758469303976661,
          5.280975409806159,
          5.807526649532584,
          5.460140947156551,
          5.911844304137714,
          6.02130570878155,
          5.738321984674188,
          7.480078085206488,
          6.209877330021536,
          5.431048891614409,
          4.777156573395531,
          3.976213056145328,
          24.55899411329928,
          6.039722419054999,
          6.258957675053334,
          6.828939831572144,
          7.511945785506567,
          6.4951062729207445,
          5.874049784159619,
          4.351608475029873,
          6.711813767289046,
          6.959745108388765,
          6.945974019282076,
          7.160905575101845,
          8.641747870230702,
          8.851026371856335,
          8.589726521373116,
          8.571809701193695,
          8.807657305488707,
          8.933497176350514,
          8.196044004904667,
          8.335653387278592,
          7.61140396219247,
          7.597081688165608,
          6.604009532488003,
          5.8658230454344285,
          5.473072824406199,
          5.382604605865954,
          5.417978978694414,
          5.21965678127727,
          5.349407257075661,
          5.834363682772065,
          6.15339652663831,
          6.982344847670333,
          6.684576056562643,
          6.816856587459607,
          6.6181269177645445,
          5.83984423503913,
          5.844116575194035,
          6.002788968640976,
          6.630370218005014,
          6.6143890080862295,
          7.160957405470675,
          6.2725521560306055,
          6.285969686490764,
          6.26051073154344,
          6.621842806756571,
          7.085100862547761,
          7.089813875986748,
          7.461836818778646,
          7.584913481044601,
          7.954802097140617,
          8.176226773987562,
          8.351849395740217,
          8.198376292950183,
          7.944899859656972,
          7.183300498213695
         ]
        }
       ],
       "layout": {
        "paper_bgcolor": "white",
        "plot_bgcolor": "white",
        "template": {
         "data": {
          "bar": [
           {
            "error_x": {
             "color": "#2a3f5f"
            },
            "error_y": {
             "color": "#2a3f5f"
            },
            "marker": {
             "line": {
              "color": "#E5ECF6",
              "width": 0.5
             },
             "pattern": {
              "fillmode": "overlay",
              "size": 10,
              "solidity": 0.2
             }
            },
            "type": "bar"
           }
          ],
          "barpolar": [
           {
            "marker": {
             "line": {
              "color": "#E5ECF6",
              "width": 0.5
             },
             "pattern": {
              "fillmode": "overlay",
              "size": 10,
              "solidity": 0.2
             }
            },
            "type": "barpolar"
           }
          ],
          "carpet": [
           {
            "aaxis": {
             "endlinecolor": "#2a3f5f",
             "gridcolor": "white",
             "linecolor": "white",
             "minorgridcolor": "white",
             "startlinecolor": "#2a3f5f"
            },
            "baxis": {
             "endlinecolor": "#2a3f5f",
             "gridcolor": "white",
             "linecolor": "white",
             "minorgridcolor": "white",
             "startlinecolor": "#2a3f5f"
            },
            "type": "carpet"
           }
          ],
          "choropleth": [
           {
            "colorbar": {
             "outlinewidth": 0,
             "ticks": ""
            },
            "type": "choropleth"
           }
          ],
          "contour": [
           {
            "colorbar": {
             "outlinewidth": 0,
             "ticks": ""
            },
            "colorscale": [
             [
              0,
              "#0d0887"
             ],
             [
              0.1111111111111111,
              "#46039f"
             ],
             [
              0.2222222222222222,
              "#7201a8"
             ],
             [
              0.3333333333333333,
              "#9c179e"
             ],
             [
              0.4444444444444444,
              "#bd3786"
             ],
             [
              0.5555555555555556,
              "#d8576b"
             ],
             [
              0.6666666666666666,
              "#ed7953"
             ],
             [
              0.7777777777777778,
              "#fb9f3a"
             ],
             [
              0.8888888888888888,
              "#fdca26"
             ],
             [
              1,
              "#f0f921"
             ]
            ],
            "type": "contour"
           }
          ],
          "contourcarpet": [
           {
            "colorbar": {
             "outlinewidth": 0,
             "ticks": ""
            },
            "type": "contourcarpet"
           }
          ],
          "heatmap": [
           {
            "colorbar": {
             "outlinewidth": 0,
             "ticks": ""
            },
            "colorscale": [
             [
              0,
              "#0d0887"
             ],
             [
              0.1111111111111111,
              "#46039f"
             ],
             [
              0.2222222222222222,
              "#7201a8"
             ],
             [
              0.3333333333333333,
              "#9c179e"
             ],
             [
              0.4444444444444444,
              "#bd3786"
             ],
             [
              0.5555555555555556,
              "#d8576b"
             ],
             [
              0.6666666666666666,
              "#ed7953"
             ],
             [
              0.7777777777777778,
              "#fb9f3a"
             ],
             [
              0.8888888888888888,
              "#fdca26"
             ],
             [
              1,
              "#f0f921"
             ]
            ],
            "type": "heatmap"
           }
          ],
          "heatmapgl": [
           {
            "colorbar": {
             "outlinewidth": 0,
             "ticks": ""
            },
            "colorscale": [
             [
              0,
              "#0d0887"
             ],
             [
              0.1111111111111111,
              "#46039f"
             ],
             [
              0.2222222222222222,
              "#7201a8"
             ],
             [
              0.3333333333333333,
              "#9c179e"
             ],
             [
              0.4444444444444444,
              "#bd3786"
             ],
             [
              0.5555555555555556,
              "#d8576b"
             ],
             [
              0.6666666666666666,
              "#ed7953"
             ],
             [
              0.7777777777777778,
              "#fb9f3a"
             ],
             [
              0.8888888888888888,
              "#fdca26"
             ],
             [
              1,
              "#f0f921"
             ]
            ],
            "type": "heatmapgl"
           }
          ],
          "histogram": [
           {
            "marker": {
             "pattern": {
              "fillmode": "overlay",
              "size": 10,
              "solidity": 0.2
             }
            },
            "type": "histogram"
           }
          ],
          "histogram2d": [
           {
            "colorbar": {
             "outlinewidth": 0,
             "ticks": ""
            },
            "colorscale": [
             [
              0,
              "#0d0887"
             ],
             [
              0.1111111111111111,
              "#46039f"
             ],
             [
              0.2222222222222222,
              "#7201a8"
             ],
             [
              0.3333333333333333,
              "#9c179e"
             ],
             [
              0.4444444444444444,
              "#bd3786"
             ],
             [
              0.5555555555555556,
              "#d8576b"
             ],
             [
              0.6666666666666666,
              "#ed7953"
             ],
             [
              0.7777777777777778,
              "#fb9f3a"
             ],
             [
              0.8888888888888888,
              "#fdca26"
             ],
             [
              1,
              "#f0f921"
             ]
            ],
            "type": "histogram2d"
           }
          ],
          "histogram2dcontour": [
           {
            "colorbar": {
             "outlinewidth": 0,
             "ticks": ""
            },
            "colorscale": [
             [
              0,
              "#0d0887"
             ],
             [
              0.1111111111111111,
              "#46039f"
             ],
             [
              0.2222222222222222,
              "#7201a8"
             ],
             [
              0.3333333333333333,
              "#9c179e"
             ],
             [
              0.4444444444444444,
              "#bd3786"
             ],
             [
              0.5555555555555556,
              "#d8576b"
             ],
             [
              0.6666666666666666,
              "#ed7953"
             ],
             [
              0.7777777777777778,
              "#fb9f3a"
             ],
             [
              0.8888888888888888,
              "#fdca26"
             ],
             [
              1,
              "#f0f921"
             ]
            ],
            "type": "histogram2dcontour"
           }
          ],
          "mesh3d": [
           {
            "colorbar": {
             "outlinewidth": 0,
             "ticks": ""
            },
            "type": "mesh3d"
           }
          ],
          "parcoords": [
           {
            "line": {
             "colorbar": {
              "outlinewidth": 0,
              "ticks": ""
             }
            },
            "type": "parcoords"
           }
          ],
          "pie": [
           {
            "automargin": true,
            "type": "pie"
           }
          ],
          "scatter": [
           {
            "fillpattern": {
             "fillmode": "overlay",
             "size": 10,
             "solidity": 0.2
            },
            "type": "scatter"
           }
          ],
          "scatter3d": [
           {
            "line": {
             "colorbar": {
              "outlinewidth": 0,
              "ticks": ""
             }
            },
            "marker": {
             "colorbar": {
              "outlinewidth": 0,
              "ticks": ""
             }
            },
            "type": "scatter3d"
           }
          ],
          "scattercarpet": [
           {
            "marker": {
             "colorbar": {
              "outlinewidth": 0,
              "ticks": ""
             }
            },
            "type": "scattercarpet"
           }
          ],
          "scattergeo": [
           {
            "marker": {
             "colorbar": {
              "outlinewidth": 0,
              "ticks": ""
             }
            },
            "type": "scattergeo"
           }
          ],
          "scattergl": [
           {
            "marker": {
             "colorbar": {
              "outlinewidth": 0,
              "ticks": ""
             }
            },
            "type": "scattergl"
           }
          ],
          "scattermapbox": [
           {
            "marker": {
             "colorbar": {
              "outlinewidth": 0,
              "ticks": ""
             }
            },
            "type": "scattermapbox"
           }
          ],
          "scatterpolar": [
           {
            "marker": {
             "colorbar": {
              "outlinewidth": 0,
              "ticks": ""
             }
            },
            "type": "scatterpolar"
           }
          ],
          "scatterpolargl": [
           {
            "marker": {
             "colorbar": {
              "outlinewidth": 0,
              "ticks": ""
             }
            },
            "type": "scatterpolargl"
           }
          ],
          "scatterternary": [
           {
            "marker": {
             "colorbar": {
              "outlinewidth": 0,
              "ticks": ""
             }
            },
            "type": "scatterternary"
           }
          ],
          "surface": [
           {
            "colorbar": {
             "outlinewidth": 0,
             "ticks": ""
            },
            "colorscale": [
             [
              0,
              "#0d0887"
             ],
             [
              0.1111111111111111,
              "#46039f"
             ],
             [
              0.2222222222222222,
              "#7201a8"
             ],
             [
              0.3333333333333333,
              "#9c179e"
             ],
             [
              0.4444444444444444,
              "#bd3786"
             ],
             [
              0.5555555555555556,
              "#d8576b"
             ],
             [
              0.6666666666666666,
              "#ed7953"
             ],
             [
              0.7777777777777778,
              "#fb9f3a"
             ],
             [
              0.8888888888888888,
              "#fdca26"
             ],
             [
              1,
              "#f0f921"
             ]
            ],
            "type": "surface"
           }
          ],
          "table": [
           {
            "cells": {
             "fill": {
              "color": "#EBF0F8"
             },
             "line": {
              "color": "white"
             }
            },
            "header": {
             "fill": {
              "color": "#C8D4E3"
             },
             "line": {
              "color": "white"
             }
            },
            "type": "table"
           }
          ]
         },
         "layout": {
          "annotationdefaults": {
           "arrowcolor": "#2a3f5f",
           "arrowhead": 0,
           "arrowwidth": 1
          },
          "autotypenumbers": "strict",
          "coloraxis": {
           "colorbar": {
            "outlinewidth": 0,
            "ticks": ""
           }
          },
          "colorscale": {
           "diverging": [
            [
             0,
             "#8e0152"
            ],
            [
             0.1,
             "#c51b7d"
            ],
            [
             0.2,
             "#de77ae"
            ],
            [
             0.3,
             "#f1b6da"
            ],
            [
             0.4,
             "#fde0ef"
            ],
            [
             0.5,
             "#f7f7f7"
            ],
            [
             0.6,
             "#e6f5d0"
            ],
            [
             0.7,
             "#b8e186"
            ],
            [
             0.8,
             "#7fbc41"
            ],
            [
             0.9,
             "#4d9221"
            ],
            [
             1,
             "#276419"
            ]
           ],
           "sequential": [
            [
             0,
             "#0d0887"
            ],
            [
             0.1111111111111111,
             "#46039f"
            ],
            [
             0.2222222222222222,
             "#7201a8"
            ],
            [
             0.3333333333333333,
             "#9c179e"
            ],
            [
             0.4444444444444444,
             "#bd3786"
            ],
            [
             0.5555555555555556,
             "#d8576b"
            ],
            [
             0.6666666666666666,
             "#ed7953"
            ],
            [
             0.7777777777777778,
             "#fb9f3a"
            ],
            [
             0.8888888888888888,
             "#fdca26"
            ],
            [
             1,
             "#f0f921"
            ]
           ],
           "sequentialminus": [
            [
             0,
             "#0d0887"
            ],
            [
             0.1111111111111111,
             "#46039f"
            ],
            [
             0.2222222222222222,
             "#7201a8"
            ],
            [
             0.3333333333333333,
             "#9c179e"
            ],
            [
             0.4444444444444444,
             "#bd3786"
            ],
            [
             0.5555555555555556,
             "#d8576b"
            ],
            [
             0.6666666666666666,
             "#ed7953"
            ],
            [
             0.7777777777777778,
             "#fb9f3a"
            ],
            [
             0.8888888888888888,
             "#fdca26"
            ],
            [
             1,
             "#f0f921"
            ]
           ]
          },
          "colorway": [
           "#636efa",
           "#EF553B",
           "#00cc96",
           "#ab63fa",
           "#FFA15A",
           "#19d3f3",
           "#FF6692",
           "#B6E880",
           "#FF97FF",
           "#FECB52"
          ],
          "font": {
           "color": "#2a3f5f"
          },
          "geo": {
           "bgcolor": "white",
           "lakecolor": "white",
           "landcolor": "#E5ECF6",
           "showlakes": true,
           "showland": true,
           "subunitcolor": "white"
          },
          "hoverlabel": {
           "align": "left"
          },
          "hovermode": "closest",
          "mapbox": {
           "style": "light"
          },
          "paper_bgcolor": "white",
          "plot_bgcolor": "#E5ECF6",
          "polar": {
           "angularaxis": {
            "gridcolor": "white",
            "linecolor": "white",
            "ticks": ""
           },
           "bgcolor": "#E5ECF6",
           "radialaxis": {
            "gridcolor": "white",
            "linecolor": "white",
            "ticks": ""
           }
          },
          "scene": {
           "xaxis": {
            "backgroundcolor": "#E5ECF6",
            "gridcolor": "white",
            "gridwidth": 2,
            "linecolor": "white",
            "showbackground": true,
            "ticks": "",
            "zerolinecolor": "white"
           },
           "yaxis": {
            "backgroundcolor": "#E5ECF6",
            "gridcolor": "white",
            "gridwidth": 2,
            "linecolor": "white",
            "showbackground": true,
            "ticks": "",
            "zerolinecolor": "white"
           },
           "zaxis": {
            "backgroundcolor": "#E5ECF6",
            "gridcolor": "white",
            "gridwidth": 2,
            "linecolor": "white",
            "showbackground": true,
            "ticks": "",
            "zerolinecolor": "white"
           }
          },
          "shapedefaults": {
           "line": {
            "color": "#2a3f5f"
           }
          },
          "ternary": {
           "aaxis": {
            "gridcolor": "white",
            "linecolor": "white",
            "ticks": ""
           },
           "baxis": {
            "gridcolor": "white",
            "linecolor": "white",
            "ticks": ""
           },
           "bgcolor": "#E5ECF6",
           "caxis": {
            "gridcolor": "white",
            "linecolor": "white",
            "ticks": ""
           }
          },
          "title": {
           "x": 0.05
          },
          "xaxis": {
           "automargin": true,
           "gridcolor": "white",
           "linecolor": "white",
           "ticks": "",
           "title": {
            "standoff": 15
           },
           "zerolinecolor": "white",
           "zerolinewidth": 2
          },
          "yaxis": {
           "automargin": true,
           "gridcolor": "white",
           "linecolor": "white",
           "ticks": "",
           "title": {
            "standoff": 15
           },
           "zerolinecolor": "white",
           "zerolinewidth": 2
          }
         }
        },
        "title": {
         "text": "Cindicator's Trajectory (Sliding windows)",
         "x": 0.5,
         "y": 0.95
        },
        "width": 1000,
        "xaxis": {
         "linecolor": "black",
         "title": {
          "text": "#nodes"
         }
        },
        "yaxis": {
         "linecolor": "black",
         "title": {
          "text": "alpha"
         }
        }
       }
      },
      "text/html": [
       "<div>                            <div id=\"22a8ef91-809c-4c85-bebf-b66591a75787\" class=\"plotly-graph-div\" style=\"height:525px; width:1000px;\"></div>            <script type=\"text/javascript\">                require([\"plotly\"], function(Plotly) {                    window.PLOTLYENV=window.PLOTLYENV || {};                                    if (document.getElementById(\"22a8ef91-809c-4c85-bebf-b66591a75787\")) {                    Plotly.newPlot(                        \"22a8ef91-809c-4c85-bebf-b66591a75787\",                        [{\"line\":{\"width\":1},\"mode\":\"lines\",\"name\":\"Line\",\"x\":[4,5,5,4,12,16,20,14,37,56,73,69,97,139,171,185,163,138,91,58,38,32,28,26,20,16,14,18,20,21,31,51,1861,2946,3501,2243,1368,996,1024,1037,992,867,721,560,581,571,591,457,350,302,376,561,616,622,459,417,323,290,284,324,502,588,583,517,385,338,320,343,367,388,366,375,412,440,584,633,608,463,429,460,533,479,471,392,348,259,223,150,179,182,234,325,2539,2801,2961,1143,928,920,1337,2075,3004,2853,2241,1211,1044,849,693,654,677,729,888,1068,1090,952,883,969,1250,1382,1415,1339,1253,1240,1089,1038,932,978,1009,982,943,858,1321,3260,3840,3936,3273,3367,3144,2542,2046,1899,1685,1659,1574,1387,1286,1310,1246,1190,1040,1112,1085,816,633,753,1015,1099,925,856,851,852,849,755,722,822,922,902,739,619,576,590,642,694,723,793,860,803,672,549,538,628,702,695,599,536,2986,3133,3287,857,793,662,671,640,653,697,690,573,491,461,431,389,389,397,392,391,376,424,420,425,404,346,328,315,341,364,392,489,519,493,425,398,429,459,531,550,536,508,561,562,541,476,482,514,491,495,496,562,605,596,466],\"y\":[null,8.213475204444817,8.213475204444817,null,null,null,null,null,54.37971651289165,21.19773057244549,22.063347596978865,22.711400650644617,140.94141896622946,41.10692213671318,50.34017039840255,39.12836893777975,34.594184523557296,27.248239938397568,51.7880670161635,null,null,null,null,null,null,null,null,null,null,31.296595858668237,45.723546267557865,25.52581569511238,3.587539155178694,4.061671810484573,3.814744508502933,3.613910761834052,4.457063867789593,4.752111235510942,5.499148340531734,8.363114447127945,11.652093450168373,8.334368446843714,7.538995754292847,8.044827257624455,6.085872801754141,5.3961150566527465,4.975282128985432,4.740281292711936,9.984547693889365,5.101320481831459,4.334453521481162,5.550273414252884,5.463282858753741,4.965175335367654,4.9366003851819045,6.824858445050985,7.720743361952272,9.23293030852702,6.44055079467908,7.569503908939127,6.416634435933506,9.679894768041008,11.24511950562618,8.639746360133152,6.351712770464828,7.21211558946904,8.68765454321542,10.897081510735818,7.313105961966026,2.255132072905009,6.428121312590428,6.83738584584203,6.088665797566485,7.424398685584937,7.972803769261012,8.127921037551793,7.913380589247335,6.222202301883465,7.817473333929281,6.999232323937061,6.826597632166495,7.629873402547926,7.208724209958802,5.629065730729543,4.534139019484151,4.729525948256276,5.664588082057686,15.589487006691764,17.70452178900273,19.785521852526767,20.335717619103477,16.96466859115189,19.462587284931644,5.816907048863141,5.285422496934709,13.079775798545183,12.88067840833756,12.760334422806348,10.881856431672093,14.675252197082829,17.034278094298408,19.60011733094218,19.65269114349549,12.82987655239485,9.377201589136162,8.117619838619808,9.202549560034011,10.092671274372366,10.786406545642208,10.52902456132905,10.70605277492127,10.742715225258827,10.780942450118788,11.196774731735196,9.812628296688963,11.666434167337863,13.061886171331528,15.332811284912612,13.588308862357977,11.22442146630612,7.64491957189098,7.736767530447314,6.785048674935245,6.550300566752301,6.248393582714483,6.619905579679887,6.050876794511485,5.774857490045735,5.434217334872274,5.412780569591758,6.539779910607102,9.50297015740805,10.706114591832918,13.1303800593294,12.461639760672831,11.459078907253229,11.477534681362194,9.060753516362528,8.545961751459803,8.824147855875946,9.34399705875656,8.361838186626576,7.776776234615887,7.378942590264813,7.505658245194398,7.652766808978538,7.032750131997672,6.405712566849914,6.197141534460639,6.970831859787558,6.754067790871368,5.4694503488582376,4.792227937170345,4.971938698469511,6.029149108018603,6.439040884867193,6.391159221544372,6.077241549532203,6.52575754463665,7.866214965633992,7.346829082073562,6.354586389890645,5.531024922722893,5.070576194064299,5.192131933808368,4.978149853362561,5.086764249818098,4.595810267068803,4.6722348487054886,5.837087052858459,6.040713963182757,5.69660314809825,5.758469303976661,5.280975409806159,5.807526649532584,5.460140947156551,5.911844304137714,6.02130570878155,5.738321984674188,7.480078085206488,6.209877330021536,5.431048891614409,4.777156573395531,3.976213056145328,24.55899411329928,6.039722419054999,6.258957675053334,6.828939831572144,7.511945785506567,6.4951062729207445,5.874049784159619,4.351608475029873,6.711813767289046,6.959745108388765,6.945974019282076,7.160905575101845,8.641747870230702,8.851026371856335,8.589726521373116,8.571809701193695,8.807657305488707,8.933497176350514,8.196044004904667,8.335653387278592,7.61140396219247,7.597081688165608,6.604009532488003,5.8658230454344285,5.473072824406199,5.382604605865954,5.417978978694414,5.21965678127727,5.349407257075661,5.834363682772065,6.15339652663831,6.982344847670333,6.684576056562643,6.816856587459607,6.6181269177645445,5.83984423503913,5.844116575194035,6.002788968640976,6.630370218005014,6.6143890080862295,7.160957405470675,6.2725521560306055,6.285969686490764,6.26051073154344,6.621842806756571,7.085100862547761,7.089813875986748,7.461836818778646,7.584913481044601,7.954802097140617,8.176226773987562,8.351849395740217,8.198376292950183,7.944899859656972,7.183300498213695],\"type\":\"scatter\",\"showlegend\":false},{\"mode\":\"markers\",\"name\":\"Scatter\",\"x\":[4,5,5,4,12,16,20,14,37,56,73,69,97,139,171,185,163,138,91,58,38,32,28,26,20,16,14,18,20,21,31,51,1861,2946,3501,2243,1368,996,1024,1037,992,867,721,560,581,571,591,457,350,302,376,561,616,622,459,417,323,290,284,324,502,588,583,517,385,338,320,343,367,388,366,375,412,440,584,633,608,463,429,460,533,479,471,392,348,259,223,150,179,182,234,325,2539,2801,2961,1143,928,920,1337,2075,3004,2853,2241,1211,1044,849,693,654,677,729,888,1068,1090,952,883,969,1250,1382,1415,1339,1253,1240,1089,1038,932,978,1009,982,943,858,1321,3260,3840,3936,3273,3367,3144,2542,2046,1899,1685,1659,1574,1387,1286,1310,1246,1190,1040,1112,1085,816,633,753,1015,1099,925,856,851,852,849,755,722,822,922,902,739,619,576,590,642,694,723,793,860,803,672,549,538,628,702,695,599,536,2986,3133,3287,857,793,662,671,640,653,697,690,573,491,461,431,389,389,397,392,391,376,424,420,425,404,346,328,315,341,364,392,489,519,493,425,398,429,459,531,550,536,508,561,562,541,476,482,514,491,495,496,562,605,596,466],\"y\":[null,8.213475204444817,8.213475204444817,null,null,null,null,null,54.37971651289165,21.19773057244549,22.063347596978865,22.711400650644617,140.94141896622946,41.10692213671318,50.34017039840255,39.12836893777975,34.594184523557296,27.248239938397568,51.7880670161635,null,null,null,null,null,null,null,null,null,null,31.296595858668237,45.723546267557865,25.52581569511238,3.587539155178694,4.061671810484573,3.814744508502933,3.613910761834052,4.457063867789593,4.752111235510942,5.499148340531734,8.363114447127945,11.652093450168373,8.334368446843714,7.538995754292847,8.044827257624455,6.085872801754141,5.3961150566527465,4.975282128985432,4.740281292711936,9.984547693889365,5.101320481831459,4.334453521481162,5.550273414252884,5.463282858753741,4.965175335367654,4.9366003851819045,6.824858445050985,7.720743361952272,9.23293030852702,6.44055079467908,7.569503908939127,6.416634435933506,9.679894768041008,11.24511950562618,8.639746360133152,6.351712770464828,7.21211558946904,8.68765454321542,10.897081510735818,7.313105961966026,2.255132072905009,6.428121312590428,6.83738584584203,6.088665797566485,7.424398685584937,7.972803769261012,8.127921037551793,7.913380589247335,6.222202301883465,7.817473333929281,6.999232323937061,6.826597632166495,7.629873402547926,7.208724209958802,5.629065730729543,4.534139019484151,4.729525948256276,5.664588082057686,15.589487006691764,17.70452178900273,19.785521852526767,20.335717619103477,16.96466859115189,19.462587284931644,5.816907048863141,5.285422496934709,13.079775798545183,12.88067840833756,12.760334422806348,10.881856431672093,14.675252197082829,17.034278094298408,19.60011733094218,19.65269114349549,12.82987655239485,9.377201589136162,8.117619838619808,9.202549560034011,10.092671274372366,10.786406545642208,10.52902456132905,10.70605277492127,10.742715225258827,10.780942450118788,11.196774731735196,9.812628296688963,11.666434167337863,13.061886171331528,15.332811284912612,13.588308862357977,11.22442146630612,7.64491957189098,7.736767530447314,6.785048674935245,6.550300566752301,6.248393582714483,6.619905579679887,6.050876794511485,5.774857490045735,5.434217334872274,5.412780569591758,6.539779910607102,9.50297015740805,10.706114591832918,13.1303800593294,12.461639760672831,11.459078907253229,11.477534681362194,9.060753516362528,8.545961751459803,8.824147855875946,9.34399705875656,8.361838186626576,7.776776234615887,7.378942590264813,7.505658245194398,7.652766808978538,7.032750131997672,6.405712566849914,6.197141534460639,6.970831859787558,6.754067790871368,5.4694503488582376,4.792227937170345,4.971938698469511,6.029149108018603,6.439040884867193,6.391159221544372,6.077241549532203,6.52575754463665,7.866214965633992,7.346829082073562,6.354586389890645,5.531024922722893,5.070576194064299,5.192131933808368,4.978149853362561,5.086764249818098,4.595810267068803,4.6722348487054886,5.837087052858459,6.040713963182757,5.69660314809825,5.758469303976661,5.280975409806159,5.807526649532584,5.460140947156551,5.911844304137714,6.02130570878155,5.738321984674188,7.480078085206488,6.209877330021536,5.431048891614409,4.777156573395531,3.976213056145328,24.55899411329928,6.039722419054999,6.258957675053334,6.828939831572144,7.511945785506567,6.4951062729207445,5.874049784159619,4.351608475029873,6.711813767289046,6.959745108388765,6.945974019282076,7.160905575101845,8.641747870230702,8.851026371856335,8.589726521373116,8.571809701193695,8.807657305488707,8.933497176350514,8.196044004904667,8.335653387278592,7.61140396219247,7.597081688165608,6.604009532488003,5.8658230454344285,5.473072824406199,5.382604605865954,5.417978978694414,5.21965678127727,5.349407257075661,5.834363682772065,6.15339652663831,6.982344847670333,6.684576056562643,6.816856587459607,6.6181269177645445,5.83984423503913,5.844116575194035,6.002788968640976,6.630370218005014,6.6143890080862295,7.160957405470675,6.2725521560306055,6.285969686490764,6.26051073154344,6.621842806756571,7.085100862547761,7.089813875986748,7.461836818778646,7.584913481044601,7.954802097140617,8.176226773987562,8.351849395740217,8.198376292950183,7.944899859656972,7.183300498213695],\"type\":\"scatter\",\"showlegend\":false}],                        {\"template\":{\"data\":{\"histogram2dcontour\":[{\"type\":\"histogram2dcontour\",\"colorbar\":{\"outlinewidth\":0,\"ticks\":\"\"},\"colorscale\":[[0.0,\"#0d0887\"],[0.1111111111111111,\"#46039f\"],[0.2222222222222222,\"#7201a8\"],[0.3333333333333333,\"#9c179e\"],[0.4444444444444444,\"#bd3786\"],[0.5555555555555556,\"#d8576b\"],[0.6666666666666666,\"#ed7953\"],[0.7777777777777778,\"#fb9f3a\"],[0.8888888888888888,\"#fdca26\"],[1.0,\"#f0f921\"]]}],\"choropleth\":[{\"type\":\"choropleth\",\"colorbar\":{\"outlinewidth\":0,\"ticks\":\"\"}}],\"histogram2d\":[{\"type\":\"histogram2d\",\"colorbar\":{\"outlinewidth\":0,\"ticks\":\"\"},\"colorscale\":[[0.0,\"#0d0887\"],[0.1111111111111111,\"#46039f\"],[0.2222222222222222,\"#7201a8\"],[0.3333333333333333,\"#9c179e\"],[0.4444444444444444,\"#bd3786\"],[0.5555555555555556,\"#d8576b\"],[0.6666666666666666,\"#ed7953\"],[0.7777777777777778,\"#fb9f3a\"],[0.8888888888888888,\"#fdca26\"],[1.0,\"#f0f921\"]]}],\"heatmap\":[{\"type\":\"heatmap\",\"colorbar\":{\"outlinewidth\":0,\"ticks\":\"\"},\"colorscale\":[[0.0,\"#0d0887\"],[0.1111111111111111,\"#46039f\"],[0.2222222222222222,\"#7201a8\"],[0.3333333333333333,\"#9c179e\"],[0.4444444444444444,\"#bd3786\"],[0.5555555555555556,\"#d8576b\"],[0.6666666666666666,\"#ed7953\"],[0.7777777777777778,\"#fb9f3a\"],[0.8888888888888888,\"#fdca26\"],[1.0,\"#f0f921\"]]}],\"heatmapgl\":[{\"type\":\"heatmapgl\",\"colorbar\":{\"outlinewidth\":0,\"ticks\":\"\"},\"colorscale\":[[0.0,\"#0d0887\"],[0.1111111111111111,\"#46039f\"],[0.2222222222222222,\"#7201a8\"],[0.3333333333333333,\"#9c179e\"],[0.4444444444444444,\"#bd3786\"],[0.5555555555555556,\"#d8576b\"],[0.6666666666666666,\"#ed7953\"],[0.7777777777777778,\"#fb9f3a\"],[0.8888888888888888,\"#fdca26\"],[1.0,\"#f0f921\"]]}],\"contourcarpet\":[{\"type\":\"contourcarpet\",\"colorbar\":{\"outlinewidth\":0,\"ticks\":\"\"}}],\"contour\":[{\"type\":\"contour\",\"colorbar\":{\"outlinewidth\":0,\"ticks\":\"\"},\"colorscale\":[[0.0,\"#0d0887\"],[0.1111111111111111,\"#46039f\"],[0.2222222222222222,\"#7201a8\"],[0.3333333333333333,\"#9c179e\"],[0.4444444444444444,\"#bd3786\"],[0.5555555555555556,\"#d8576b\"],[0.6666666666666666,\"#ed7953\"],[0.7777777777777778,\"#fb9f3a\"],[0.8888888888888888,\"#fdca26\"],[1.0,\"#f0f921\"]]}],\"surface\":[{\"type\":\"surface\",\"colorbar\":{\"outlinewidth\":0,\"ticks\":\"\"},\"colorscale\":[[0.0,\"#0d0887\"],[0.1111111111111111,\"#46039f\"],[0.2222222222222222,\"#7201a8\"],[0.3333333333333333,\"#9c179e\"],[0.4444444444444444,\"#bd3786\"],[0.5555555555555556,\"#d8576b\"],[0.6666666666666666,\"#ed7953\"],[0.7777777777777778,\"#fb9f3a\"],[0.8888888888888888,\"#fdca26\"],[1.0,\"#f0f921\"]]}],\"mesh3d\":[{\"type\":\"mesh3d\",\"colorbar\":{\"outlinewidth\":0,\"ticks\":\"\"}}],\"scatter\":[{\"fillpattern\":{\"fillmode\":\"overlay\",\"size\":10,\"solidity\":0.2},\"type\":\"scatter\"}],\"parcoords\":[{\"type\":\"parcoords\",\"line\":{\"colorbar\":{\"outlinewidth\":0,\"ticks\":\"\"}}}],\"scatterpolargl\":[{\"type\":\"scatterpolargl\",\"marker\":{\"colorbar\":{\"outlinewidth\":0,\"ticks\":\"\"}}}],\"bar\":[{\"error_x\":{\"color\":\"#2a3f5f\"},\"error_y\":{\"color\":\"#2a3f5f\"},\"marker\":{\"line\":{\"color\":\"#E5ECF6\",\"width\":0.5},\"pattern\":{\"fillmode\":\"overlay\",\"size\":10,\"solidity\":0.2}},\"type\":\"bar\"}],\"scattergeo\":[{\"type\":\"scattergeo\",\"marker\":{\"colorbar\":{\"outlinewidth\":0,\"ticks\":\"\"}}}],\"scatterpolar\":[{\"type\":\"scatterpolar\",\"marker\":{\"colorbar\":{\"outlinewidth\":0,\"ticks\":\"\"}}}],\"histogram\":[{\"marker\":{\"pattern\":{\"fillmode\":\"overlay\",\"size\":10,\"solidity\":0.2}},\"type\":\"histogram\"}],\"scattergl\":[{\"type\":\"scattergl\",\"marker\":{\"colorbar\":{\"outlinewidth\":0,\"ticks\":\"\"}}}],\"scatter3d\":[{\"type\":\"scatter3d\",\"line\":{\"colorbar\":{\"outlinewidth\":0,\"ticks\":\"\"}},\"marker\":{\"colorbar\":{\"outlinewidth\":0,\"ticks\":\"\"}}}],\"scattermapbox\":[{\"type\":\"scattermapbox\",\"marker\":{\"colorbar\":{\"outlinewidth\":0,\"ticks\":\"\"}}}],\"scatterternary\":[{\"type\":\"scatterternary\",\"marker\":{\"colorbar\":{\"outlinewidth\":0,\"ticks\":\"\"}}}],\"scattercarpet\":[{\"type\":\"scattercarpet\",\"marker\":{\"colorbar\":{\"outlinewidth\":0,\"ticks\":\"\"}}}],\"carpet\":[{\"aaxis\":{\"endlinecolor\":\"#2a3f5f\",\"gridcolor\":\"white\",\"linecolor\":\"white\",\"minorgridcolor\":\"white\",\"startlinecolor\":\"#2a3f5f\"},\"baxis\":{\"endlinecolor\":\"#2a3f5f\",\"gridcolor\":\"white\",\"linecolor\":\"white\",\"minorgridcolor\":\"white\",\"startlinecolor\":\"#2a3f5f\"},\"type\":\"carpet\"}],\"table\":[{\"cells\":{\"fill\":{\"color\":\"#EBF0F8\"},\"line\":{\"color\":\"white\"}},\"header\":{\"fill\":{\"color\":\"#C8D4E3\"},\"line\":{\"color\":\"white\"}},\"type\":\"table\"}],\"barpolar\":[{\"marker\":{\"line\":{\"color\":\"#E5ECF6\",\"width\":0.5},\"pattern\":{\"fillmode\":\"overlay\",\"size\":10,\"solidity\":0.2}},\"type\":\"barpolar\"}],\"pie\":[{\"automargin\":true,\"type\":\"pie\"}]},\"layout\":{\"autotypenumbers\":\"strict\",\"colorway\":[\"#636efa\",\"#EF553B\",\"#00cc96\",\"#ab63fa\",\"#FFA15A\",\"#19d3f3\",\"#FF6692\",\"#B6E880\",\"#FF97FF\",\"#FECB52\"],\"font\":{\"color\":\"#2a3f5f\"},\"hovermode\":\"closest\",\"hoverlabel\":{\"align\":\"left\"},\"paper_bgcolor\":\"white\",\"plot_bgcolor\":\"#E5ECF6\",\"polar\":{\"bgcolor\":\"#E5ECF6\",\"angularaxis\":{\"gridcolor\":\"white\",\"linecolor\":\"white\",\"ticks\":\"\"},\"radialaxis\":{\"gridcolor\":\"white\",\"linecolor\":\"white\",\"ticks\":\"\"}},\"ternary\":{\"bgcolor\":\"#E5ECF6\",\"aaxis\":{\"gridcolor\":\"white\",\"linecolor\":\"white\",\"ticks\":\"\"},\"baxis\":{\"gridcolor\":\"white\",\"linecolor\":\"white\",\"ticks\":\"\"},\"caxis\":{\"gridcolor\":\"white\",\"linecolor\":\"white\",\"ticks\":\"\"}},\"coloraxis\":{\"colorbar\":{\"outlinewidth\":0,\"ticks\":\"\"}},\"colorscale\":{\"sequential\":[[0.0,\"#0d0887\"],[0.1111111111111111,\"#46039f\"],[0.2222222222222222,\"#7201a8\"],[0.3333333333333333,\"#9c179e\"],[0.4444444444444444,\"#bd3786\"],[0.5555555555555556,\"#d8576b\"],[0.6666666666666666,\"#ed7953\"],[0.7777777777777778,\"#fb9f3a\"],[0.8888888888888888,\"#fdca26\"],[1.0,\"#f0f921\"]],\"sequentialminus\":[[0.0,\"#0d0887\"],[0.1111111111111111,\"#46039f\"],[0.2222222222222222,\"#7201a8\"],[0.3333333333333333,\"#9c179e\"],[0.4444444444444444,\"#bd3786\"],[0.5555555555555556,\"#d8576b\"],[0.6666666666666666,\"#ed7953\"],[0.7777777777777778,\"#fb9f3a\"],[0.8888888888888888,\"#fdca26\"],[1.0,\"#f0f921\"]],\"diverging\":[[0,\"#8e0152\"],[0.1,\"#c51b7d\"],[0.2,\"#de77ae\"],[0.3,\"#f1b6da\"],[0.4,\"#fde0ef\"],[0.5,\"#f7f7f7\"],[0.6,\"#e6f5d0\"],[0.7,\"#b8e186\"],[0.8,\"#7fbc41\"],[0.9,\"#4d9221\"],[1,\"#276419\"]]},\"xaxis\":{\"gridcolor\":\"white\",\"linecolor\":\"white\",\"ticks\":\"\",\"title\":{\"standoff\":15},\"zerolinecolor\":\"white\",\"automargin\":true,\"zerolinewidth\":2},\"yaxis\":{\"gridcolor\":\"white\",\"linecolor\":\"white\",\"ticks\":\"\",\"title\":{\"standoff\":15},\"zerolinecolor\":\"white\",\"automargin\":true,\"zerolinewidth\":2},\"scene\":{\"xaxis\":{\"backgroundcolor\":\"#E5ECF6\",\"gridcolor\":\"white\",\"linecolor\":\"white\",\"showbackground\":true,\"ticks\":\"\",\"zerolinecolor\":\"white\",\"gridwidth\":2},\"yaxis\":{\"backgroundcolor\":\"#E5ECF6\",\"gridcolor\":\"white\",\"linecolor\":\"white\",\"showbackground\":true,\"ticks\":\"\",\"zerolinecolor\":\"white\",\"gridwidth\":2},\"zaxis\":{\"backgroundcolor\":\"#E5ECF6\",\"gridcolor\":\"white\",\"linecolor\":\"white\",\"showbackground\":true,\"ticks\":\"\",\"zerolinecolor\":\"white\",\"gridwidth\":2}},\"shapedefaults\":{\"line\":{\"color\":\"#2a3f5f\"}},\"annotationdefaults\":{\"arrowcolor\":\"#2a3f5f\",\"arrowhead\":0,\"arrowwidth\":1},\"geo\":{\"bgcolor\":\"white\",\"landcolor\":\"#E5ECF6\",\"subunitcolor\":\"white\",\"showland\":true,\"showlakes\":true,\"lakecolor\":\"white\"},\"title\":{\"x\":0.05},\"mapbox\":{\"style\":\"light\"}}},\"title\":{\"text\":\"Cindicator's Trajectory (Sliding windows)\",\"x\":0.5,\"y\":0.95},\"xaxis\":{\"title\":{\"text\":\"#nodes\"},\"linecolor\":\"black\"},\"yaxis\":{\"title\":{\"text\":\"alpha\"},\"linecolor\":\"black\"},\"paper_bgcolor\":\"white\",\"plot_bgcolor\":\"white\",\"width\":1000},                        {\"responsive\": true}                    ).then(function(){\n",
       "                            \n",
       "var gd = document.getElementById('22a8ef91-809c-4c85-bebf-b66591a75787');\n",
       "var x = new MutationObserver(function (mutations, observer) {{\n",
       "        var display = window.getComputedStyle(gd).display;\n",
       "        if (!display || display === 'none') {{\n",
       "            console.log([gd, 'removed!']);\n",
       "            Plotly.purge(gd);\n",
       "            observer.disconnect();\n",
       "        }}\n",
       "}});\n",
       "\n",
       "// Listen for the removal of the full notebook cells\n",
       "var notebookContainer = gd.closest('#notebook-container');\n",
       "if (notebookContainer) {{\n",
       "    x.observe(notebookContainer, {childList: true});\n",
       "}}\n",
       "\n",
       "// Listen for the clearing of the current output cell\n",
       "var outputEl = gd.closest('.output');\n",
       "if (outputEl) {{\n",
       "    x.observe(outputEl, {childList: true});\n",
       "}}\n",
       "\n",
       "                        })                };                });            </script>        </div>"
      ]
     },
     "metadata": {},
     "output_type": "display_data"
    }
   ],
   "source": [
    "fig = go.Figure()\n",
    "\n",
    "# Add a line trace\n",
    "fig.add_trace(go.Scatter(x=df_sliding['#nodes'], y=df_sliding['alpha'], mode='lines', name='Line',line=dict(width=1)))\n",
    "fig.add_trace(go.Scatter(x=df_sliding['#nodes'], y=df_sliding['alpha'], mode='markers', name='Scatter'))\n",
    "\n",
    "\n",
    "# Customize the layout\n",
    "fig.update_layout(\n",
    "    title=dict(\n",
    "        text='Cindicator\\'s Trajectory (Sliding windows)',  # Set the title here\n",
    "        x=0.5,  # Center the title horizontally (0.5 means middle)\n",
    "        y=0.95,  # Adjust the vertical position as needed (0.95 is near the top)\n",
    "    ),\n",
    "    xaxis=dict(title='#nodes'),\n",
    "    yaxis=dict(title='alpha'),\n",
    "    paper_bgcolor='white',  # Set the background color to white\n",
    "    plot_bgcolor='white',   # Set the plot area background color to white\n",
    "    width=1000\n",
    "    \n",
    ")\n",
    "\n",
    "fig.update_xaxes(linecolor='black')\n",
    "fig.update_yaxes(linecolor='black')\n",
    "fig.update_traces(showlegend=False)\n",
    "# Show the plot\n",
    "fig.show()"
   ]
  },
  {
   "cell_type": "code",
   "execution_count": 26,
   "id": "985cffad",
   "metadata": {
    "scrolled": false
   },
   "outputs": [
    {
     "data": {
      "application/vnd.plotly.v1+json": {
       "config": {
        "plotlyServerURL": "https://plot.ly"
       },
       "data": [
        {
         "mode": "lines",
         "name": "Line",
         "showlegend": false,
         "type": "scatter",
         "x": [
          "2017-09-10",
          "2017-09-11",
          "2017-09-12",
          "2017-09-13",
          "2017-09-14",
          "2017-09-15",
          "2017-09-16",
          "2017-09-17",
          "2017-09-18",
          "2017-09-19",
          "2017-09-20",
          "2017-09-21",
          "2017-09-22",
          "2017-09-23",
          "2017-09-24",
          "2017-09-25",
          "2017-09-26",
          "2017-09-27",
          "2017-09-28",
          "2017-09-29",
          "2017-09-30",
          "2017-10-01",
          "2017-10-02",
          "2017-10-03",
          "2017-10-04",
          "2017-10-05",
          "2017-10-06",
          "2017-10-07",
          "2017-10-08",
          "2017-10-09",
          "2017-10-10",
          "2017-10-11",
          "2017-10-12",
          "2017-10-13",
          "2017-10-14",
          "2017-10-15",
          "2017-10-16",
          "2017-10-17",
          "2017-10-18",
          "2017-10-19",
          "2017-10-20",
          "2017-10-21",
          "2017-10-22",
          "2017-10-23",
          "2017-10-24",
          "2017-10-25",
          "2017-10-26",
          "2017-10-27",
          "2017-10-28",
          "2017-10-29",
          "2017-10-30",
          "2017-10-31",
          "2017-11-01",
          "2017-11-02",
          "2017-11-03",
          "2017-11-04",
          "2017-11-05",
          "2017-11-06",
          "2017-11-07",
          "2017-11-08",
          "2017-11-09",
          "2017-11-10",
          "2017-11-11",
          "2017-11-12",
          "2017-11-13",
          "2017-11-14",
          "2017-11-15",
          "2017-11-16",
          "2017-11-17",
          "2017-11-18",
          "2017-11-19",
          "2017-11-20",
          "2017-11-21",
          "2017-11-22",
          "2017-11-23",
          "2017-11-24",
          "2017-11-25",
          "2017-11-26",
          "2017-11-27",
          "2017-11-28",
          "2017-11-29",
          "2017-11-30",
          "2017-12-01",
          "2017-12-02",
          "2017-12-03",
          "2017-12-04",
          "2017-12-05",
          "2017-12-06",
          "2017-12-07",
          "2017-12-08",
          "2017-12-09",
          "2017-12-10",
          "2017-12-11",
          "2017-12-12",
          "2017-12-13",
          "2017-12-14",
          "2017-12-15",
          "2017-12-16",
          "2017-12-17",
          "2017-12-18",
          "2017-12-19",
          "2017-12-20",
          "2017-12-21",
          "2017-12-22",
          "2017-12-23",
          "2017-12-24",
          "2017-12-25",
          "2017-12-26",
          "2017-12-27",
          "2017-12-28",
          "2017-12-29",
          "2017-12-30",
          "2017-12-31",
          "2018-01-01",
          "2018-01-02",
          "2018-01-03",
          "2018-01-04",
          "2018-01-05",
          "2018-01-06",
          "2018-01-07",
          "2018-01-08",
          "2018-01-09",
          "2018-01-10",
          "2018-01-11",
          "2018-01-12",
          "2018-01-13",
          "2018-01-14",
          "2018-01-15",
          "2018-01-16",
          "2018-01-17",
          "2018-01-18",
          "2018-01-19",
          "2018-01-20",
          "2018-01-21",
          "2018-01-22",
          "2018-01-23",
          "2018-01-24",
          "2018-01-25",
          "2018-01-26",
          "2018-01-27",
          "2018-01-28",
          "2018-01-29",
          "2018-01-30",
          "2018-01-31",
          "2018-02-01",
          "2018-02-02",
          "2018-02-03",
          "2018-02-04",
          "2018-02-05",
          "2018-02-06",
          "2018-02-07",
          "2018-02-08",
          "2018-02-09",
          "2018-02-10",
          "2018-02-11",
          "2018-02-12",
          "2018-02-13",
          "2018-02-14",
          "2018-02-15",
          "2018-02-16",
          "2018-02-17",
          "2018-02-18",
          "2018-02-19",
          "2018-02-20",
          "2018-02-21",
          "2018-02-22",
          "2018-02-23",
          "2018-02-24",
          "2018-02-25",
          "2018-02-26",
          "2018-02-27",
          "2018-02-28",
          "2018-03-01",
          "2018-03-02",
          "2018-03-03",
          "2018-03-04",
          "2018-03-05",
          "2018-03-06",
          "2018-03-07",
          "2018-03-08",
          "2018-03-09",
          "2018-03-10",
          "2018-03-11",
          "2018-03-12",
          "2018-03-13",
          "2018-03-14",
          "2018-03-15",
          "2018-03-16",
          "2018-03-17",
          "2018-03-18",
          "2018-03-19",
          "2018-03-20",
          "2018-03-21",
          "2018-03-22",
          "2018-03-23",
          "2018-03-24",
          "2018-03-25",
          "2018-03-26",
          "2018-03-27",
          "2018-03-28",
          "2018-03-29",
          "2018-03-30",
          "2018-03-31",
          "2018-04-01",
          "2018-04-02",
          "2018-04-03",
          "2018-04-04",
          "2018-04-05",
          "2018-04-06",
          "2018-04-07",
          "2018-04-08",
          "2018-04-09",
          "2018-04-10",
          "2018-04-11",
          "2018-04-12",
          "2018-04-13",
          "2018-04-14",
          "2018-04-15",
          "2018-04-16",
          "2018-04-17",
          "2018-04-18",
          "2018-04-19",
          "2018-04-20",
          "2018-04-21",
          "2018-04-22",
          "2018-04-23",
          "2018-04-24",
          "2018-04-25",
          "2018-04-26",
          "2018-04-27",
          "2018-04-28",
          "2018-04-29",
          "2018-04-30",
          "2018-05-01",
          "2018-05-02",
          "2018-05-03",
          "2018-05-04",
          "2018-05-05",
          "2018-05-06"
         ],
         "y": [
          0,
          1.1394174223483762,
          1.1394174223483762,
          0,
          0,
          0,
          0,
          0,
          12.867830880961648,
          17.752134830333446,
          23.28970729966173,
          28.09060068555321,
          34.85860611586157,
          47.47956005805149,
          59.207973516665,
          62.95286004390337,
          54.8895757909994,
          52.673082109790144,
          45.11093344839704,
          0,
          0,
          0,
          0,
          0,
          0,
          0,
          0,
          0,
          0,
          7.003624151655004,
          10.668753357471635,
          16.612717407985023,
          84.06222048119095,
          147.22097631652247,
          167.88925835525157,
          63.67452568508901,
          163.5016002311768,
          118.00398741143783,
          167.88541416331506,
          349.2965686850923,
          551.7102407407968,
          413.1143882838376,
          299.99789220559296,
          205.14887705256865,
          138.74146082831783,
          92.2274179622318,
          92.00607147609358,
          52.52819394889788,
          336.8642425294548,
          33.68909300348474,
          50.88291311754684,
          159.42418955842086,
          181.14832902531808,
          164.26616701119056,
          113.72183605454052,
          147.91247367106217,
          132.6405558065291,
          133.08686828770354,
          82.11314782858564,
          81.23250907323006,
          82.10624028028437,
          200.49227921600257,
          321.205218026102,
          239.59605621893903,
          133.4243221985501,
          111.39924495390224,
          134.91147991851244,
          181.3543090312134,
          150.2463534072305,
          9.214230042775045,
          124.60025258399013,
          107.40928557080024,
          75.37653268239941,
          156.49650462062883,
          242.8640863251042,
          276.0003145754675,
          210.82849197043848,
          96.83006585537126,
          162.77743578921425,
          145.94502704546557,
          181.30391332290048,
          186.4628823058498,
          152.66867723961508,
          80.9886101023219,
          38.82916595867314,
          30.76180253445256,
          28.78162354466261,
          150.3481174379071,
          126.00236526235348,
          139.5739328162485,
          184.18600380661985,
          428.4682093614646,
          2318.180827385093,
          306.11115198043456,
          308.66143284588776,
          824.3156379983341,
          608.4357728174411,
          550.8752479940583,
          730.5949930920365,
          1444.3622687220825,
          2288.8806420489827,
          2213.312305154989,
          1607.43737298439,
          657.0076226097062,
          421.3327080186757,
          304.6530794238995,
          272.61831807474675,
          294.2595275758813,
          315.4617512632668,
          324.45973924854883,
          419.836235375954,
          527.5152058032043,
          521.9957255288924,
          428.66625279110735,
          333.9579552689933,
          433.7215718380088,
          611.9589364282627,
          641.531387026994,
          590.9304989097958,
          505.680256657057,
          396.4698063022512,
          462.69950707558576,
          371.7963811922207,
          319.6909069626181,
          267.3549839091432,
          282.4125346429448,
          291.80804146037696,
          275.8912563136349,
          258.8331094417263,
          244.48886096677208,
          364.9120714905209,
          1221.3436666533205,
          1877.504971582336,
          2723.8795181086407,
          2036.7310811161824,
          2001.0179178839203,
          1904.6196897382024,
          1552.5431005002602,
          1229.3596754646442,
          1157.772619950241,
          993.1687009305303,
          873.9331275848525,
          780.0527604558723,
          651.1352506764596,
          560.0745861902762,
          604.9099111545314,
          551.5411850694538,
          496.0063890167564,
          419.2680065523604,
          533.44842774682,
          496.8842924226191,
          289.5835814665811,
          185.70173194237933,
          241.28050717140155,
          391.3269363554637,
          457.1952224670941,
          372.86603563255807,
          347.5169012433531,
          357.2411621389086,
          388.3396768995767,
          335.25607614539393,
          263.964288561023,
          239.27811342443945,
          268.49428833050865,
          311.3960214930537,
          304.01861574523633,
          245.63973652114888,
          187.05010501025157,
          178.52670908808807,
          230.85272415905405,
          236.4132460012933,
          250.5014897045068,
          265.0443671877314,
          288.60625540641325,
          318.11010123862,
          280.14948347830875,
          232.90370663714904,
          207.22084426159316,
          192.0504712159074,
          266.5956828474597,
          297.902398722277,
          272.2449091510834,
          205.8214085218916,
          129.85350961784695,
          9364.9881303685,
          595.4321418184417,
          655.2794767698246,
          448.0197818881281,
          503.6469891140322,
          379.1658685475406,
          312.4267986040227,
          184.96326678275335,
          352.5134248408248,
          416.8041391900054,
          386.5233966363568,
          338.56928047042214,
          292.1428366419506,
          292.36777226292713,
          254.4606625050066,
          226.4083988534233,
          216.06865578897612,
          227.30322404296265,
          216.37923005015853,
          230.88443738273276,
          202.24804033221312,
          214.25859591769407,
          220.79860637668835,
          197.92563052610927,
          180.42253860567584,
          140.87161070503674,
          143.75084897314716,
          127.91708630470828,
          149.03041434726973,
          178.4464538327274,
          202.2766984292978,
          294.36204640706126,
          291.55265749493884,
          285.3425875518819,
          222.7472835364221,
          195.0877288317002,
          200.60491738463284,
          213.9037100992774,
          294.38569491385465,
          300.22653370031503,
          313.67289497051894,
          264.1269755038851,
          302.7058558934428,
          326.93615218521927,
          309.4859221856309,
          275.61660198316093,
          263.757728286994,
          309.385587744173,
          297.88663747422527,
          307.4765866335292,
          309.51962148461945,
          362.5112759901325,
          379.3738748914966,
          351.7068311344024,
          254.9020471940593
         ]
        }
       ],
       "layout": {
        "paper_bgcolor": "white",
        "plot_bgcolor": "white",
        "template": {
         "data": {
          "bar": [
           {
            "error_x": {
             "color": "#2a3f5f"
            },
            "error_y": {
             "color": "#2a3f5f"
            },
            "marker": {
             "line": {
              "color": "#E5ECF6",
              "width": 0.5
             },
             "pattern": {
              "fillmode": "overlay",
              "size": 10,
              "solidity": 0.2
             }
            },
            "type": "bar"
           }
          ],
          "barpolar": [
           {
            "marker": {
             "line": {
              "color": "#E5ECF6",
              "width": 0.5
             },
             "pattern": {
              "fillmode": "overlay",
              "size": 10,
              "solidity": 0.2
             }
            },
            "type": "barpolar"
           }
          ],
          "carpet": [
           {
            "aaxis": {
             "endlinecolor": "#2a3f5f",
             "gridcolor": "white",
             "linecolor": "white",
             "minorgridcolor": "white",
             "startlinecolor": "#2a3f5f"
            },
            "baxis": {
             "endlinecolor": "#2a3f5f",
             "gridcolor": "white",
             "linecolor": "white",
             "minorgridcolor": "white",
             "startlinecolor": "#2a3f5f"
            },
            "type": "carpet"
           }
          ],
          "choropleth": [
           {
            "colorbar": {
             "outlinewidth": 0,
             "ticks": ""
            },
            "type": "choropleth"
           }
          ],
          "contour": [
           {
            "colorbar": {
             "outlinewidth": 0,
             "ticks": ""
            },
            "colorscale": [
             [
              0,
              "#0d0887"
             ],
             [
              0.1111111111111111,
              "#46039f"
             ],
             [
              0.2222222222222222,
              "#7201a8"
             ],
             [
              0.3333333333333333,
              "#9c179e"
             ],
             [
              0.4444444444444444,
              "#bd3786"
             ],
             [
              0.5555555555555556,
              "#d8576b"
             ],
             [
              0.6666666666666666,
              "#ed7953"
             ],
             [
              0.7777777777777778,
              "#fb9f3a"
             ],
             [
              0.8888888888888888,
              "#fdca26"
             ],
             [
              1,
              "#f0f921"
             ]
            ],
            "type": "contour"
           }
          ],
          "contourcarpet": [
           {
            "colorbar": {
             "outlinewidth": 0,
             "ticks": ""
            },
            "type": "contourcarpet"
           }
          ],
          "heatmap": [
           {
            "colorbar": {
             "outlinewidth": 0,
             "ticks": ""
            },
            "colorscale": [
             [
              0,
              "#0d0887"
             ],
             [
              0.1111111111111111,
              "#46039f"
             ],
             [
              0.2222222222222222,
              "#7201a8"
             ],
             [
              0.3333333333333333,
              "#9c179e"
             ],
             [
              0.4444444444444444,
              "#bd3786"
             ],
             [
              0.5555555555555556,
              "#d8576b"
             ],
             [
              0.6666666666666666,
              "#ed7953"
             ],
             [
              0.7777777777777778,
              "#fb9f3a"
             ],
             [
              0.8888888888888888,
              "#fdca26"
             ],
             [
              1,
              "#f0f921"
             ]
            ],
            "type": "heatmap"
           }
          ],
          "heatmapgl": [
           {
            "colorbar": {
             "outlinewidth": 0,
             "ticks": ""
            },
            "colorscale": [
             [
              0,
              "#0d0887"
             ],
             [
              0.1111111111111111,
              "#46039f"
             ],
             [
              0.2222222222222222,
              "#7201a8"
             ],
             [
              0.3333333333333333,
              "#9c179e"
             ],
             [
              0.4444444444444444,
              "#bd3786"
             ],
             [
              0.5555555555555556,
              "#d8576b"
             ],
             [
              0.6666666666666666,
              "#ed7953"
             ],
             [
              0.7777777777777778,
              "#fb9f3a"
             ],
             [
              0.8888888888888888,
              "#fdca26"
             ],
             [
              1,
              "#f0f921"
             ]
            ],
            "type": "heatmapgl"
           }
          ],
          "histogram": [
           {
            "marker": {
             "pattern": {
              "fillmode": "overlay",
              "size": 10,
              "solidity": 0.2
             }
            },
            "type": "histogram"
           }
          ],
          "histogram2d": [
           {
            "colorbar": {
             "outlinewidth": 0,
             "ticks": ""
            },
            "colorscale": [
             [
              0,
              "#0d0887"
             ],
             [
              0.1111111111111111,
              "#46039f"
             ],
             [
              0.2222222222222222,
              "#7201a8"
             ],
             [
              0.3333333333333333,
              "#9c179e"
             ],
             [
              0.4444444444444444,
              "#bd3786"
             ],
             [
              0.5555555555555556,
              "#d8576b"
             ],
             [
              0.6666666666666666,
              "#ed7953"
             ],
             [
              0.7777777777777778,
              "#fb9f3a"
             ],
             [
              0.8888888888888888,
              "#fdca26"
             ],
             [
              1,
              "#f0f921"
             ]
            ],
            "type": "histogram2d"
           }
          ],
          "histogram2dcontour": [
           {
            "colorbar": {
             "outlinewidth": 0,
             "ticks": ""
            },
            "colorscale": [
             [
              0,
              "#0d0887"
             ],
             [
              0.1111111111111111,
              "#46039f"
             ],
             [
              0.2222222222222222,
              "#7201a8"
             ],
             [
              0.3333333333333333,
              "#9c179e"
             ],
             [
              0.4444444444444444,
              "#bd3786"
             ],
             [
              0.5555555555555556,
              "#d8576b"
             ],
             [
              0.6666666666666666,
              "#ed7953"
             ],
             [
              0.7777777777777778,
              "#fb9f3a"
             ],
             [
              0.8888888888888888,
              "#fdca26"
             ],
             [
              1,
              "#f0f921"
             ]
            ],
            "type": "histogram2dcontour"
           }
          ],
          "mesh3d": [
           {
            "colorbar": {
             "outlinewidth": 0,
             "ticks": ""
            },
            "type": "mesh3d"
           }
          ],
          "parcoords": [
           {
            "line": {
             "colorbar": {
              "outlinewidth": 0,
              "ticks": ""
             }
            },
            "type": "parcoords"
           }
          ],
          "pie": [
           {
            "automargin": true,
            "type": "pie"
           }
          ],
          "scatter": [
           {
            "fillpattern": {
             "fillmode": "overlay",
             "size": 10,
             "solidity": 0.2
            },
            "type": "scatter"
           }
          ],
          "scatter3d": [
           {
            "line": {
             "colorbar": {
              "outlinewidth": 0,
              "ticks": ""
             }
            },
            "marker": {
             "colorbar": {
              "outlinewidth": 0,
              "ticks": ""
             }
            },
            "type": "scatter3d"
           }
          ],
          "scattercarpet": [
           {
            "marker": {
             "colorbar": {
              "outlinewidth": 0,
              "ticks": ""
             }
            },
            "type": "scattercarpet"
           }
          ],
          "scattergeo": [
           {
            "marker": {
             "colorbar": {
              "outlinewidth": 0,
              "ticks": ""
             }
            },
            "type": "scattergeo"
           }
          ],
          "scattergl": [
           {
            "marker": {
             "colorbar": {
              "outlinewidth": 0,
              "ticks": ""
             }
            },
            "type": "scattergl"
           }
          ],
          "scattermapbox": [
           {
            "marker": {
             "colorbar": {
              "outlinewidth": 0,
              "ticks": ""
             }
            },
            "type": "scattermapbox"
           }
          ],
          "scatterpolar": [
           {
            "marker": {
             "colorbar": {
              "outlinewidth": 0,
              "ticks": ""
             }
            },
            "type": "scatterpolar"
           }
          ],
          "scatterpolargl": [
           {
            "marker": {
             "colorbar": {
              "outlinewidth": 0,
              "ticks": ""
             }
            },
            "type": "scatterpolargl"
           }
          ],
          "scatterternary": [
           {
            "marker": {
             "colorbar": {
              "outlinewidth": 0,
              "ticks": ""
             }
            },
            "type": "scatterternary"
           }
          ],
          "surface": [
           {
            "colorbar": {
             "outlinewidth": 0,
             "ticks": ""
            },
            "colorscale": [
             [
              0,
              "#0d0887"
             ],
             [
              0.1111111111111111,
              "#46039f"
             ],
             [
              0.2222222222222222,
              "#7201a8"
             ],
             [
              0.3333333333333333,
              "#9c179e"
             ],
             [
              0.4444444444444444,
              "#bd3786"
             ],
             [
              0.5555555555555556,
              "#d8576b"
             ],
             [
              0.6666666666666666,
              "#ed7953"
             ],
             [
              0.7777777777777778,
              "#fb9f3a"
             ],
             [
              0.8888888888888888,
              "#fdca26"
             ],
             [
              1,
              "#f0f921"
             ]
            ],
            "type": "surface"
           }
          ],
          "table": [
           {
            "cells": {
             "fill": {
              "color": "#EBF0F8"
             },
             "line": {
              "color": "white"
             }
            },
            "header": {
             "fill": {
              "color": "#C8D4E3"
             },
             "line": {
              "color": "white"
             }
            },
            "type": "table"
           }
          ]
         },
         "layout": {
          "annotationdefaults": {
           "arrowcolor": "#2a3f5f",
           "arrowhead": 0,
           "arrowwidth": 1
          },
          "autotypenumbers": "strict",
          "coloraxis": {
           "colorbar": {
            "outlinewidth": 0,
            "ticks": ""
           }
          },
          "colorscale": {
           "diverging": [
            [
             0,
             "#8e0152"
            ],
            [
             0.1,
             "#c51b7d"
            ],
            [
             0.2,
             "#de77ae"
            ],
            [
             0.3,
             "#f1b6da"
            ],
            [
             0.4,
             "#fde0ef"
            ],
            [
             0.5,
             "#f7f7f7"
            ],
            [
             0.6,
             "#e6f5d0"
            ],
            [
             0.7,
             "#b8e186"
            ],
            [
             0.8,
             "#7fbc41"
            ],
            [
             0.9,
             "#4d9221"
            ],
            [
             1,
             "#276419"
            ]
           ],
           "sequential": [
            [
             0,
             "#0d0887"
            ],
            [
             0.1111111111111111,
             "#46039f"
            ],
            [
             0.2222222222222222,
             "#7201a8"
            ],
            [
             0.3333333333333333,
             "#9c179e"
            ],
            [
             0.4444444444444444,
             "#bd3786"
            ],
            [
             0.5555555555555556,
             "#d8576b"
            ],
            [
             0.6666666666666666,
             "#ed7953"
            ],
            [
             0.7777777777777778,
             "#fb9f3a"
            ],
            [
             0.8888888888888888,
             "#fdca26"
            ],
            [
             1,
             "#f0f921"
            ]
           ],
           "sequentialminus": [
            [
             0,
             "#0d0887"
            ],
            [
             0.1111111111111111,
             "#46039f"
            ],
            [
             0.2222222222222222,
             "#7201a8"
            ],
            [
             0.3333333333333333,
             "#9c179e"
            ],
            [
             0.4444444444444444,
             "#bd3786"
            ],
            [
             0.5555555555555556,
             "#d8576b"
            ],
            [
             0.6666666666666666,
             "#ed7953"
            ],
            [
             0.7777777777777778,
             "#fb9f3a"
            ],
            [
             0.8888888888888888,
             "#fdca26"
            ],
            [
             1,
             "#f0f921"
            ]
           ]
          },
          "colorway": [
           "#636efa",
           "#EF553B",
           "#00cc96",
           "#ab63fa",
           "#FFA15A",
           "#19d3f3",
           "#FF6692",
           "#B6E880",
           "#FF97FF",
           "#FECB52"
          ],
          "font": {
           "color": "#2a3f5f"
          },
          "geo": {
           "bgcolor": "white",
           "lakecolor": "white",
           "landcolor": "#E5ECF6",
           "showlakes": true,
           "showland": true,
           "subunitcolor": "white"
          },
          "hoverlabel": {
           "align": "left"
          },
          "hovermode": "closest",
          "mapbox": {
           "style": "light"
          },
          "paper_bgcolor": "white",
          "plot_bgcolor": "#E5ECF6",
          "polar": {
           "angularaxis": {
            "gridcolor": "white",
            "linecolor": "white",
            "ticks": ""
           },
           "bgcolor": "#E5ECF6",
           "radialaxis": {
            "gridcolor": "white",
            "linecolor": "white",
            "ticks": ""
           }
          },
          "scene": {
           "xaxis": {
            "backgroundcolor": "#E5ECF6",
            "gridcolor": "white",
            "gridwidth": 2,
            "linecolor": "white",
            "showbackground": true,
            "ticks": "",
            "zerolinecolor": "white"
           },
           "yaxis": {
            "backgroundcolor": "#E5ECF6",
            "gridcolor": "white",
            "gridwidth": 2,
            "linecolor": "white",
            "showbackground": true,
            "ticks": "",
            "zerolinecolor": "white"
           },
           "zaxis": {
            "backgroundcolor": "#E5ECF6",
            "gridcolor": "white",
            "gridwidth": 2,
            "linecolor": "white",
            "showbackground": true,
            "ticks": "",
            "zerolinecolor": "white"
           }
          },
          "shapedefaults": {
           "line": {
            "color": "#2a3f5f"
           }
          },
          "ternary": {
           "aaxis": {
            "gridcolor": "white",
            "linecolor": "white",
            "ticks": ""
           },
           "baxis": {
            "gridcolor": "white",
            "linecolor": "white",
            "ticks": ""
           },
           "bgcolor": "#E5ECF6",
           "caxis": {
            "gridcolor": "white",
            "linecolor": "white",
            "ticks": ""
           }
          },
          "title": {
           "x": 0.05
          },
          "xaxis": {
           "automargin": true,
           "gridcolor": "white",
           "linecolor": "white",
           "ticks": "",
           "title": {
            "standoff": 15
           },
           "zerolinecolor": "white",
           "zerolinewidth": 2
          },
          "yaxis": {
           "automargin": true,
           "gridcolor": "white",
           "linecolor": "white",
           "ticks": "",
           "title": {
            "standoff": 15
           },
           "zerolinecolor": "white",
           "zerolinewidth": 2
          }
         }
        },
        "title": {
         "text": "Comparision score to exponential distribution",
         "x": 0.5,
         "y": 0.95
        },
        "width": 800,
        "xaxis": {
         "linecolor": "black",
         "title": {
          "text": "date"
         }
        },
        "yaxis": {
         "linecolor": "black",
         "title": {
          "text": "score"
         }
        }
       }
      },
      "text/html": [
       "<div>                            <div id=\"1c739d6c-2042-460c-9716-1e449611b11b\" class=\"plotly-graph-div\" style=\"height:525px; width:800px;\"></div>            <script type=\"text/javascript\">                require([\"plotly\"], function(Plotly) {                    window.PLOTLYENV=window.PLOTLYENV || {};                                    if (document.getElementById(\"1c739d6c-2042-460c-9716-1e449611b11b\")) {                    Plotly.newPlot(                        \"1c739d6c-2042-460c-9716-1e449611b11b\",                        [{\"mode\":\"lines\",\"name\":\"Line\",\"x\":[\"2017-09-10\",\"2017-09-11\",\"2017-09-12\",\"2017-09-13\",\"2017-09-14\",\"2017-09-15\",\"2017-09-16\",\"2017-09-17\",\"2017-09-18\",\"2017-09-19\",\"2017-09-20\",\"2017-09-21\",\"2017-09-22\",\"2017-09-23\",\"2017-09-24\",\"2017-09-25\",\"2017-09-26\",\"2017-09-27\",\"2017-09-28\",\"2017-09-29\",\"2017-09-30\",\"2017-10-01\",\"2017-10-02\",\"2017-10-03\",\"2017-10-04\",\"2017-10-05\",\"2017-10-06\",\"2017-10-07\",\"2017-10-08\",\"2017-10-09\",\"2017-10-10\",\"2017-10-11\",\"2017-10-12\",\"2017-10-13\",\"2017-10-14\",\"2017-10-15\",\"2017-10-16\",\"2017-10-17\",\"2017-10-18\",\"2017-10-19\",\"2017-10-20\",\"2017-10-21\",\"2017-10-22\",\"2017-10-23\",\"2017-10-24\",\"2017-10-25\",\"2017-10-26\",\"2017-10-27\",\"2017-10-28\",\"2017-10-29\",\"2017-10-30\",\"2017-10-31\",\"2017-11-01\",\"2017-11-02\",\"2017-11-03\",\"2017-11-04\",\"2017-11-05\",\"2017-11-06\",\"2017-11-07\",\"2017-11-08\",\"2017-11-09\",\"2017-11-10\",\"2017-11-11\",\"2017-11-12\",\"2017-11-13\",\"2017-11-14\",\"2017-11-15\",\"2017-11-16\",\"2017-11-17\",\"2017-11-18\",\"2017-11-19\",\"2017-11-20\",\"2017-11-21\",\"2017-11-22\",\"2017-11-23\",\"2017-11-24\",\"2017-11-25\",\"2017-11-26\",\"2017-11-27\",\"2017-11-28\",\"2017-11-29\",\"2017-11-30\",\"2017-12-01\",\"2017-12-02\",\"2017-12-03\",\"2017-12-04\",\"2017-12-05\",\"2017-12-06\",\"2017-12-07\",\"2017-12-08\",\"2017-12-09\",\"2017-12-10\",\"2017-12-11\",\"2017-12-12\",\"2017-12-13\",\"2017-12-14\",\"2017-12-15\",\"2017-12-16\",\"2017-12-17\",\"2017-12-18\",\"2017-12-19\",\"2017-12-20\",\"2017-12-21\",\"2017-12-22\",\"2017-12-23\",\"2017-12-24\",\"2017-12-25\",\"2017-12-26\",\"2017-12-27\",\"2017-12-28\",\"2017-12-29\",\"2017-12-30\",\"2017-12-31\",\"2018-01-01\",\"2018-01-02\",\"2018-01-03\",\"2018-01-04\",\"2018-01-05\",\"2018-01-06\",\"2018-01-07\",\"2018-01-08\",\"2018-01-09\",\"2018-01-10\",\"2018-01-11\",\"2018-01-12\",\"2018-01-13\",\"2018-01-14\",\"2018-01-15\",\"2018-01-16\",\"2018-01-17\",\"2018-01-18\",\"2018-01-19\",\"2018-01-20\",\"2018-01-21\",\"2018-01-22\",\"2018-01-23\",\"2018-01-24\",\"2018-01-25\",\"2018-01-26\",\"2018-01-27\",\"2018-01-28\",\"2018-01-29\",\"2018-01-30\",\"2018-01-31\",\"2018-02-01\",\"2018-02-02\",\"2018-02-03\",\"2018-02-04\",\"2018-02-05\",\"2018-02-06\",\"2018-02-07\",\"2018-02-08\",\"2018-02-09\",\"2018-02-10\",\"2018-02-11\",\"2018-02-12\",\"2018-02-13\",\"2018-02-14\",\"2018-02-15\",\"2018-02-16\",\"2018-02-17\",\"2018-02-18\",\"2018-02-19\",\"2018-02-20\",\"2018-02-21\",\"2018-02-22\",\"2018-02-23\",\"2018-02-24\",\"2018-02-25\",\"2018-02-26\",\"2018-02-27\",\"2018-02-28\",\"2018-03-01\",\"2018-03-02\",\"2018-03-03\",\"2018-03-04\",\"2018-03-05\",\"2018-03-06\",\"2018-03-07\",\"2018-03-08\",\"2018-03-09\",\"2018-03-10\",\"2018-03-11\",\"2018-03-12\",\"2018-03-13\",\"2018-03-14\",\"2018-03-15\",\"2018-03-16\",\"2018-03-17\",\"2018-03-18\",\"2018-03-19\",\"2018-03-20\",\"2018-03-21\",\"2018-03-22\",\"2018-03-23\",\"2018-03-24\",\"2018-03-25\",\"2018-03-26\",\"2018-03-27\",\"2018-03-28\",\"2018-03-29\",\"2018-03-30\",\"2018-03-31\",\"2018-04-01\",\"2018-04-02\",\"2018-04-03\",\"2018-04-04\",\"2018-04-05\",\"2018-04-06\",\"2018-04-07\",\"2018-04-08\",\"2018-04-09\",\"2018-04-10\",\"2018-04-11\",\"2018-04-12\",\"2018-04-13\",\"2018-04-14\",\"2018-04-15\",\"2018-04-16\",\"2018-04-17\",\"2018-04-18\",\"2018-04-19\",\"2018-04-20\",\"2018-04-21\",\"2018-04-22\",\"2018-04-23\",\"2018-04-24\",\"2018-04-25\",\"2018-04-26\",\"2018-04-27\",\"2018-04-28\",\"2018-04-29\",\"2018-04-30\",\"2018-05-01\",\"2018-05-02\",\"2018-05-03\",\"2018-05-04\",\"2018-05-05\",\"2018-05-06\"],\"y\":[0.0,1.1394174223483762,1.1394174223483762,0.0,0.0,0.0,0.0,0.0,12.867830880961648,17.752134830333446,23.28970729966173,28.09060068555321,34.85860611586157,47.47956005805149,59.207973516665,62.95286004390337,54.8895757909994,52.673082109790144,45.11093344839704,0.0,0.0,0.0,0.0,0.0,0.0,0.0,0.0,0.0,0.0,7.003624151655004,10.668753357471635,16.612717407985023,84.06222048119095,147.22097631652247,167.88925835525157,63.67452568508901,163.5016002311768,118.00398741143783,167.88541416331506,349.2965686850923,551.7102407407968,413.1143882838376,299.99789220559296,205.14887705256865,138.74146082831783,92.2274179622318,92.00607147609358,52.52819394889788,336.8642425294548,33.68909300348474,50.88291311754684,159.42418955842086,181.14832902531808,164.26616701119056,113.72183605454052,147.91247367106217,132.6405558065291,133.08686828770354,82.11314782858564,81.23250907323006,82.10624028028437,200.49227921600257,321.205218026102,239.59605621893903,133.4243221985501,111.39924495390224,134.91147991851244,181.3543090312134,150.2463534072305,9.214230042775045,124.60025258399013,107.40928557080024,75.37653268239941,156.49650462062883,242.8640863251042,276.0003145754675,210.82849197043848,96.83006585537126,162.77743578921425,145.94502704546557,181.30391332290048,186.4628823058498,152.66867723961508,80.9886101023219,38.82916595867314,30.76180253445256,28.78162354466261,150.3481174379071,126.00236526235348,139.5739328162485,184.18600380661985,428.4682093614646,2318.180827385093,306.11115198043456,308.66143284588776,824.3156379983341,608.4357728174411,550.8752479940583,730.5949930920365,1444.3622687220825,2288.8806420489827,2213.312305154989,1607.43737298439,657.0076226097062,421.3327080186757,304.6530794238995,272.61831807474675,294.2595275758813,315.4617512632668,324.45973924854883,419.836235375954,527.5152058032043,521.9957255288924,428.66625279110735,333.9579552689933,433.7215718380088,611.9589364282627,641.531387026994,590.9304989097958,505.680256657057,396.4698063022512,462.69950707558576,371.7963811922207,319.6909069626181,267.3549839091432,282.4125346429448,291.80804146037696,275.8912563136349,258.8331094417263,244.48886096677208,364.9120714905209,1221.3436666533205,1877.504971582336,2723.8795181086407,2036.7310811161824,2001.0179178839203,1904.6196897382024,1552.5431005002602,1229.3596754646442,1157.772619950241,993.1687009305303,873.9331275848525,780.0527604558723,651.1352506764596,560.0745861902762,604.9099111545314,551.5411850694538,496.0063890167564,419.2680065523604,533.44842774682,496.8842924226191,289.5835814665811,185.70173194237933,241.28050717140155,391.3269363554637,457.1952224670941,372.86603563255807,347.5169012433531,357.2411621389086,388.3396768995767,335.25607614539393,263.964288561023,239.27811342443945,268.49428833050865,311.3960214930537,304.01861574523633,245.63973652114888,187.05010501025157,178.52670908808807,230.85272415905405,236.4132460012933,250.5014897045068,265.0443671877314,288.60625540641325,318.11010123862,280.14948347830875,232.90370663714904,207.22084426159316,192.0504712159074,266.5956828474597,297.902398722277,272.2449091510834,205.8214085218916,129.85350961784695,9364.9881303685,595.4321418184417,655.2794767698246,448.0197818881281,503.6469891140322,379.1658685475406,312.4267986040227,184.96326678275335,352.5134248408248,416.8041391900054,386.5233966363568,338.56928047042214,292.1428366419506,292.36777226292713,254.4606625050066,226.4083988534233,216.06865578897612,227.30322404296265,216.37923005015853,230.88443738273276,202.24804033221312,214.25859591769407,220.79860637668835,197.92563052610927,180.42253860567584,140.87161070503674,143.75084897314716,127.91708630470828,149.03041434726973,178.4464538327274,202.2766984292978,294.36204640706126,291.55265749493884,285.3425875518819,222.7472835364221,195.0877288317002,200.60491738463284,213.9037100992774,294.38569491385465,300.22653370031503,313.67289497051894,264.1269755038851,302.7058558934428,326.93615218521927,309.4859221856309,275.61660198316093,263.757728286994,309.385587744173,297.88663747422527,307.4765866335292,309.51962148461945,362.5112759901325,379.3738748914966,351.7068311344024,254.9020471940593],\"type\":\"scatter\",\"showlegend\":false}],                        {\"template\":{\"data\":{\"histogram2dcontour\":[{\"type\":\"histogram2dcontour\",\"colorbar\":{\"outlinewidth\":0,\"ticks\":\"\"},\"colorscale\":[[0.0,\"#0d0887\"],[0.1111111111111111,\"#46039f\"],[0.2222222222222222,\"#7201a8\"],[0.3333333333333333,\"#9c179e\"],[0.4444444444444444,\"#bd3786\"],[0.5555555555555556,\"#d8576b\"],[0.6666666666666666,\"#ed7953\"],[0.7777777777777778,\"#fb9f3a\"],[0.8888888888888888,\"#fdca26\"],[1.0,\"#f0f921\"]]}],\"choropleth\":[{\"type\":\"choropleth\",\"colorbar\":{\"outlinewidth\":0,\"ticks\":\"\"}}],\"histogram2d\":[{\"type\":\"histogram2d\",\"colorbar\":{\"outlinewidth\":0,\"ticks\":\"\"},\"colorscale\":[[0.0,\"#0d0887\"],[0.1111111111111111,\"#46039f\"],[0.2222222222222222,\"#7201a8\"],[0.3333333333333333,\"#9c179e\"],[0.4444444444444444,\"#bd3786\"],[0.5555555555555556,\"#d8576b\"],[0.6666666666666666,\"#ed7953\"],[0.7777777777777778,\"#fb9f3a\"],[0.8888888888888888,\"#fdca26\"],[1.0,\"#f0f921\"]]}],\"heatmap\":[{\"type\":\"heatmap\",\"colorbar\":{\"outlinewidth\":0,\"ticks\":\"\"},\"colorscale\":[[0.0,\"#0d0887\"],[0.1111111111111111,\"#46039f\"],[0.2222222222222222,\"#7201a8\"],[0.3333333333333333,\"#9c179e\"],[0.4444444444444444,\"#bd3786\"],[0.5555555555555556,\"#d8576b\"],[0.6666666666666666,\"#ed7953\"],[0.7777777777777778,\"#fb9f3a\"],[0.8888888888888888,\"#fdca26\"],[1.0,\"#f0f921\"]]}],\"heatmapgl\":[{\"type\":\"heatmapgl\",\"colorbar\":{\"outlinewidth\":0,\"ticks\":\"\"},\"colorscale\":[[0.0,\"#0d0887\"],[0.1111111111111111,\"#46039f\"],[0.2222222222222222,\"#7201a8\"],[0.3333333333333333,\"#9c179e\"],[0.4444444444444444,\"#bd3786\"],[0.5555555555555556,\"#d8576b\"],[0.6666666666666666,\"#ed7953\"],[0.7777777777777778,\"#fb9f3a\"],[0.8888888888888888,\"#fdca26\"],[1.0,\"#f0f921\"]]}],\"contourcarpet\":[{\"type\":\"contourcarpet\",\"colorbar\":{\"outlinewidth\":0,\"ticks\":\"\"}}],\"contour\":[{\"type\":\"contour\",\"colorbar\":{\"outlinewidth\":0,\"ticks\":\"\"},\"colorscale\":[[0.0,\"#0d0887\"],[0.1111111111111111,\"#46039f\"],[0.2222222222222222,\"#7201a8\"],[0.3333333333333333,\"#9c179e\"],[0.4444444444444444,\"#bd3786\"],[0.5555555555555556,\"#d8576b\"],[0.6666666666666666,\"#ed7953\"],[0.7777777777777778,\"#fb9f3a\"],[0.8888888888888888,\"#fdca26\"],[1.0,\"#f0f921\"]]}],\"surface\":[{\"type\":\"surface\",\"colorbar\":{\"outlinewidth\":0,\"ticks\":\"\"},\"colorscale\":[[0.0,\"#0d0887\"],[0.1111111111111111,\"#46039f\"],[0.2222222222222222,\"#7201a8\"],[0.3333333333333333,\"#9c179e\"],[0.4444444444444444,\"#bd3786\"],[0.5555555555555556,\"#d8576b\"],[0.6666666666666666,\"#ed7953\"],[0.7777777777777778,\"#fb9f3a\"],[0.8888888888888888,\"#fdca26\"],[1.0,\"#f0f921\"]]}],\"mesh3d\":[{\"type\":\"mesh3d\",\"colorbar\":{\"outlinewidth\":0,\"ticks\":\"\"}}],\"scatter\":[{\"fillpattern\":{\"fillmode\":\"overlay\",\"size\":10,\"solidity\":0.2},\"type\":\"scatter\"}],\"parcoords\":[{\"type\":\"parcoords\",\"line\":{\"colorbar\":{\"outlinewidth\":0,\"ticks\":\"\"}}}],\"scatterpolargl\":[{\"type\":\"scatterpolargl\",\"marker\":{\"colorbar\":{\"outlinewidth\":0,\"ticks\":\"\"}}}],\"bar\":[{\"error_x\":{\"color\":\"#2a3f5f\"},\"error_y\":{\"color\":\"#2a3f5f\"},\"marker\":{\"line\":{\"color\":\"#E5ECF6\",\"width\":0.5},\"pattern\":{\"fillmode\":\"overlay\",\"size\":10,\"solidity\":0.2}},\"type\":\"bar\"}],\"scattergeo\":[{\"type\":\"scattergeo\",\"marker\":{\"colorbar\":{\"outlinewidth\":0,\"ticks\":\"\"}}}],\"scatterpolar\":[{\"type\":\"scatterpolar\",\"marker\":{\"colorbar\":{\"outlinewidth\":0,\"ticks\":\"\"}}}],\"histogram\":[{\"marker\":{\"pattern\":{\"fillmode\":\"overlay\",\"size\":10,\"solidity\":0.2}},\"type\":\"histogram\"}],\"scattergl\":[{\"type\":\"scattergl\",\"marker\":{\"colorbar\":{\"outlinewidth\":0,\"ticks\":\"\"}}}],\"scatter3d\":[{\"type\":\"scatter3d\",\"line\":{\"colorbar\":{\"outlinewidth\":0,\"ticks\":\"\"}},\"marker\":{\"colorbar\":{\"outlinewidth\":0,\"ticks\":\"\"}}}],\"scattermapbox\":[{\"type\":\"scattermapbox\",\"marker\":{\"colorbar\":{\"outlinewidth\":0,\"ticks\":\"\"}}}],\"scatterternary\":[{\"type\":\"scatterternary\",\"marker\":{\"colorbar\":{\"outlinewidth\":0,\"ticks\":\"\"}}}],\"scattercarpet\":[{\"type\":\"scattercarpet\",\"marker\":{\"colorbar\":{\"outlinewidth\":0,\"ticks\":\"\"}}}],\"carpet\":[{\"aaxis\":{\"endlinecolor\":\"#2a3f5f\",\"gridcolor\":\"white\",\"linecolor\":\"white\",\"minorgridcolor\":\"white\",\"startlinecolor\":\"#2a3f5f\"},\"baxis\":{\"endlinecolor\":\"#2a3f5f\",\"gridcolor\":\"white\",\"linecolor\":\"white\",\"minorgridcolor\":\"white\",\"startlinecolor\":\"#2a3f5f\"},\"type\":\"carpet\"}],\"table\":[{\"cells\":{\"fill\":{\"color\":\"#EBF0F8\"},\"line\":{\"color\":\"white\"}},\"header\":{\"fill\":{\"color\":\"#C8D4E3\"},\"line\":{\"color\":\"white\"}},\"type\":\"table\"}],\"barpolar\":[{\"marker\":{\"line\":{\"color\":\"#E5ECF6\",\"width\":0.5},\"pattern\":{\"fillmode\":\"overlay\",\"size\":10,\"solidity\":0.2}},\"type\":\"barpolar\"}],\"pie\":[{\"automargin\":true,\"type\":\"pie\"}]},\"layout\":{\"autotypenumbers\":\"strict\",\"colorway\":[\"#636efa\",\"#EF553B\",\"#00cc96\",\"#ab63fa\",\"#FFA15A\",\"#19d3f3\",\"#FF6692\",\"#B6E880\",\"#FF97FF\",\"#FECB52\"],\"font\":{\"color\":\"#2a3f5f\"},\"hovermode\":\"closest\",\"hoverlabel\":{\"align\":\"left\"},\"paper_bgcolor\":\"white\",\"plot_bgcolor\":\"#E5ECF6\",\"polar\":{\"bgcolor\":\"#E5ECF6\",\"angularaxis\":{\"gridcolor\":\"white\",\"linecolor\":\"white\",\"ticks\":\"\"},\"radialaxis\":{\"gridcolor\":\"white\",\"linecolor\":\"white\",\"ticks\":\"\"}},\"ternary\":{\"bgcolor\":\"#E5ECF6\",\"aaxis\":{\"gridcolor\":\"white\",\"linecolor\":\"white\",\"ticks\":\"\"},\"baxis\":{\"gridcolor\":\"white\",\"linecolor\":\"white\",\"ticks\":\"\"},\"caxis\":{\"gridcolor\":\"white\",\"linecolor\":\"white\",\"ticks\":\"\"}},\"coloraxis\":{\"colorbar\":{\"outlinewidth\":0,\"ticks\":\"\"}},\"colorscale\":{\"sequential\":[[0.0,\"#0d0887\"],[0.1111111111111111,\"#46039f\"],[0.2222222222222222,\"#7201a8\"],[0.3333333333333333,\"#9c179e\"],[0.4444444444444444,\"#bd3786\"],[0.5555555555555556,\"#d8576b\"],[0.6666666666666666,\"#ed7953\"],[0.7777777777777778,\"#fb9f3a\"],[0.8888888888888888,\"#fdca26\"],[1.0,\"#f0f921\"]],\"sequentialminus\":[[0.0,\"#0d0887\"],[0.1111111111111111,\"#46039f\"],[0.2222222222222222,\"#7201a8\"],[0.3333333333333333,\"#9c179e\"],[0.4444444444444444,\"#bd3786\"],[0.5555555555555556,\"#d8576b\"],[0.6666666666666666,\"#ed7953\"],[0.7777777777777778,\"#fb9f3a\"],[0.8888888888888888,\"#fdca26\"],[1.0,\"#f0f921\"]],\"diverging\":[[0,\"#8e0152\"],[0.1,\"#c51b7d\"],[0.2,\"#de77ae\"],[0.3,\"#f1b6da\"],[0.4,\"#fde0ef\"],[0.5,\"#f7f7f7\"],[0.6,\"#e6f5d0\"],[0.7,\"#b8e186\"],[0.8,\"#7fbc41\"],[0.9,\"#4d9221\"],[1,\"#276419\"]]},\"xaxis\":{\"gridcolor\":\"white\",\"linecolor\":\"white\",\"ticks\":\"\",\"title\":{\"standoff\":15},\"zerolinecolor\":\"white\",\"automargin\":true,\"zerolinewidth\":2},\"yaxis\":{\"gridcolor\":\"white\",\"linecolor\":\"white\",\"ticks\":\"\",\"title\":{\"standoff\":15},\"zerolinecolor\":\"white\",\"automargin\":true,\"zerolinewidth\":2},\"scene\":{\"xaxis\":{\"backgroundcolor\":\"#E5ECF6\",\"gridcolor\":\"white\",\"linecolor\":\"white\",\"showbackground\":true,\"ticks\":\"\",\"zerolinecolor\":\"white\",\"gridwidth\":2},\"yaxis\":{\"backgroundcolor\":\"#E5ECF6\",\"gridcolor\":\"white\",\"linecolor\":\"white\",\"showbackground\":true,\"ticks\":\"\",\"zerolinecolor\":\"white\",\"gridwidth\":2},\"zaxis\":{\"backgroundcolor\":\"#E5ECF6\",\"gridcolor\":\"white\",\"linecolor\":\"white\",\"showbackground\":true,\"ticks\":\"\",\"zerolinecolor\":\"white\",\"gridwidth\":2}},\"shapedefaults\":{\"line\":{\"color\":\"#2a3f5f\"}},\"annotationdefaults\":{\"arrowcolor\":\"#2a3f5f\",\"arrowhead\":0,\"arrowwidth\":1},\"geo\":{\"bgcolor\":\"white\",\"landcolor\":\"#E5ECF6\",\"subunitcolor\":\"white\",\"showland\":true,\"showlakes\":true,\"lakecolor\":\"white\"},\"title\":{\"x\":0.05},\"mapbox\":{\"style\":\"light\"}}},\"title\":{\"text\":\"Comparision score to exponential distribution\",\"x\":0.5,\"y\":0.95},\"xaxis\":{\"title\":{\"text\":\"date\"},\"linecolor\":\"black\"},\"yaxis\":{\"title\":{\"text\":\"score\"},\"linecolor\":\"black\"},\"paper_bgcolor\":\"white\",\"plot_bgcolor\":\"white\",\"width\":800},                        {\"responsive\": true}                    ).then(function(){\n",
       "                            \n",
       "var gd = document.getElementById('1c739d6c-2042-460c-9716-1e449611b11b');\n",
       "var x = new MutationObserver(function (mutations, observer) {{\n",
       "        var display = window.getComputedStyle(gd).display;\n",
       "        if (!display || display === 'none') {{\n",
       "            console.log([gd, 'removed!']);\n",
       "            Plotly.purge(gd);\n",
       "            observer.disconnect();\n",
       "        }}\n",
       "}});\n",
       "\n",
       "// Listen for the removal of the full notebook cells\n",
       "var notebookContainer = gd.closest('#notebook-container');\n",
       "if (notebookContainer) {{\n",
       "    x.observe(notebookContainer, {childList: true});\n",
       "}}\n",
       "\n",
       "// Listen for the clearing of the current output cell\n",
       "var outputEl = gd.closest('.output');\n",
       "if (outputEl) {{\n",
       "    x.observe(outputEl, {childList: true});\n",
       "}}\n",
       "\n",
       "                        })                };                });            </script>        </div>"
      ]
     },
     "metadata": {},
     "output_type": "display_data"
    }
   ],
   "source": [
    "fig = go.Figure()\n",
    "\n",
    "# Add a line trace\n",
    "fig.add_trace(go.Scatter(x=df_sliding['date'], y=df_sliding['score'], mode='lines', name='Line'))\n",
    "\n",
    "\n",
    "\n",
    "# Customize the layout\n",
    "fig.update_layout(\n",
    "    title=dict(\n",
    "        text='Comparision score to exponential distribution',  # Set the title here\n",
    "        x=0.5,  # Center the title horizontally (0.5 means middle)\n",
    "        y=0.95,  # Adjust the vertical position as needed (0.95 is near the top)\n",
    "    ),\n",
    "    xaxis=dict(title='date'),\n",
    "    yaxis=dict(title='score'),\n",
    "    paper_bgcolor='white',  # Set the background color to white\n",
    "    plot_bgcolor='white',   # Set the plot area background color to white\n",
    "    width=800\n",
    "    \n",
    ")\n",
    "\n",
    "fig.update_xaxes(linecolor='black')\n",
    "fig.update_yaxes(linecolor='black')\n",
    "fig.update_traces(showlegend=False)\n",
    "# Show the plot\n",
    "fig.show()"
   ]
  }
 ],
 "metadata": {
  "kernelspec": {
   "display_name": "Python 3 (ipykernel)",
   "language": "python",
   "name": "python3"
  },
  "language_info": {
   "codemirror_mode": {
    "name": "ipython",
    "version": 3
   },
   "file_extension": ".py",
   "mimetype": "text/x-python",
   "name": "python",
   "nbconvert_exporter": "python",
   "pygments_lexer": "ipython3",
   "version": "3.9.13"
  }
 },
 "nbformat": 4,
 "nbformat_minor": 5
}
