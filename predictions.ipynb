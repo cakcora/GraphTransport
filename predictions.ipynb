{
 "cells": [
  {
   "cell_type": "code",
   "execution_count": 161,
   "id": "20720ff5",
   "metadata": {
    "ExecuteTime": {
     "end_time": "2023-10-28T21:22:26.369116Z",
     "start_time": "2023-10-28T21:22:26.315385Z"
    }
   },
   "outputs": [],
   "source": [
    "import warnings\n",
    "warnings.filterwarnings(\"ignore\")\n",
    "\n",
    "import pandas as pd\n",
    "import numpy as np\n",
    "import seaborn as sns\n",
    "import networkx as nx\n",
    "import powerlaw\n",
    "from datetime import timedelta\n",
    "import plotly.graph_objects as go\n",
    "\n",
    "import torch\n",
    "import torch.nn as nn\n",
    "import torch.optim as optim\n",
    "from sklearn.model_selection import train_test_split\n",
    "from sklearn.preprocessing import MinMaxScaler\n",
    "from sklearn.metrics import mean_squared_error, mean_absolute_error, r2_score, explained_variance_score\n",
    "from tqdm import tqdm\n",
    "\n",
    "# Check if you want to install these libraries\n",
    "# !pip3 install torch\n",
    "# !pip3 install torchvision\n"
   ]
  },
  {
   "cell_type": "code",
   "execution_count": 162,
   "id": "a0ba2f54",
   "metadata": {
    "ExecuteTime": {
     "end_time": "2023-10-28T21:22:26.379244Z",
     "start_time": "2023-10-28T21:22:26.321820Z"
    }
   },
   "outputs": [],
   "source": [
    "#!conda install --yes kaleido"
   ]
  },
  {
   "cell_type": "code",
   "execution_count": 163,
   "id": "5532e6bd",
   "metadata": {
    "ExecuteTime": {
     "end_time": "2023-10-28T21:22:26.461486Z",
     "start_time": "2023-10-28T21:22:26.329797Z"
    }
   },
   "outputs": [],
   "source": [
    "file_path = \"Fig/\"  # Change this to your desired file path and format (e.g., .png, .jpg, .svg)\n",
    " \n",
    "# Save the figure to the specified file path\n",
    "network_name = \"aragon\"\n",
    "window_size = 1\n",
    "n = 3  # Replace with your desired value of n eigen values to use\n",
    "threshold = pd.to_datetime('2018-03-01').date()\n",
    "#read blockchain events from chartalist\n",
    "url = \"dataset/gt.txt\"\n",
    "\n",
    "selectedNetwork = pd.read_csv(\"dataset/network\"+network_name+\".txt\", sep=' ', names=[\"from\", \"to\", \"date\", \"value\"])\n",
    "selectedNetwork['date'] = pd.to_datetime(selectedNetwork['date'], unit='s')"
   ]
  },
  {
   "cell_type": "code",
   "execution_count": 164,
   "id": "530d14dc",
   "metadata": {
    "ExecuteTime": {
     "end_time": "2023-10-28T21:22:26.462021Z",
     "start_time": "2023-10-28T21:22:26.435037Z"
    }
   },
   "outputs": [
    {
     "data": {
      "text/plain": "          from      to                date                  value\n0        16037  245854 2017-07-18 04:52:49    2843000000000000000\n1           17  237348 2017-07-09 01:07:14   12340176380000000000\n2       206254  194319 2018-01-18 00:21:30  595756626170000000000\n3       256098  256097 2017-05-22 22:40:45  370000000000000000000\n4       194319  184024 2018-02-01 04:03:38    2648440000000000000\n...        ...     ...                 ...                    ...\n130266  204756  204757 2018-01-14 00:26:09   60556464810000000000\n130267  234906  248699 2017-07-15 23:42:22   50000000000000000000\n130268  194319  251188 2017-06-25 07:33:26  568447662250000000000\n130269      17   19526 2018-01-21 19:11:58   21107673650000000000\n130270  194319  248638 2017-07-15 15:01:45   10518420470000000000\n\n[130271 rows x 4 columns]",
      "text/html": "<div>\n<style scoped>\n    .dataframe tbody tr th:only-of-type {\n        vertical-align: middle;\n    }\n\n    .dataframe tbody tr th {\n        vertical-align: top;\n    }\n\n    .dataframe thead th {\n        text-align: right;\n    }\n</style>\n<table border=\"1\" class=\"dataframe\">\n  <thead>\n    <tr style=\"text-align: right;\">\n      <th></th>\n      <th>from</th>\n      <th>to</th>\n      <th>date</th>\n      <th>value</th>\n    </tr>\n  </thead>\n  <tbody>\n    <tr>\n      <th>0</th>\n      <td>16037</td>\n      <td>245854</td>\n      <td>2017-07-18 04:52:49</td>\n      <td>2843000000000000000</td>\n    </tr>\n    <tr>\n      <th>1</th>\n      <td>17</td>\n      <td>237348</td>\n      <td>2017-07-09 01:07:14</td>\n      <td>12340176380000000000</td>\n    </tr>\n    <tr>\n      <th>2</th>\n      <td>206254</td>\n      <td>194319</td>\n      <td>2018-01-18 00:21:30</td>\n      <td>595756626170000000000</td>\n    </tr>\n    <tr>\n      <th>3</th>\n      <td>256098</td>\n      <td>256097</td>\n      <td>2017-05-22 22:40:45</td>\n      <td>370000000000000000000</td>\n    </tr>\n    <tr>\n      <th>4</th>\n      <td>194319</td>\n      <td>184024</td>\n      <td>2018-02-01 04:03:38</td>\n      <td>2648440000000000000</td>\n    </tr>\n    <tr>\n      <th>...</th>\n      <td>...</td>\n      <td>...</td>\n      <td>...</td>\n      <td>...</td>\n    </tr>\n    <tr>\n      <th>130266</th>\n      <td>204756</td>\n      <td>204757</td>\n      <td>2018-01-14 00:26:09</td>\n      <td>60556464810000000000</td>\n    </tr>\n    <tr>\n      <th>130267</th>\n      <td>234906</td>\n      <td>248699</td>\n      <td>2017-07-15 23:42:22</td>\n      <td>50000000000000000000</td>\n    </tr>\n    <tr>\n      <th>130268</th>\n      <td>194319</td>\n      <td>251188</td>\n      <td>2017-06-25 07:33:26</td>\n      <td>568447662250000000000</td>\n    </tr>\n    <tr>\n      <th>130269</th>\n      <td>17</td>\n      <td>19526</td>\n      <td>2018-01-21 19:11:58</td>\n      <td>21107673650000000000</td>\n    </tr>\n    <tr>\n      <th>130270</th>\n      <td>194319</td>\n      <td>248638</td>\n      <td>2017-07-15 15:01:45</td>\n      <td>10518420470000000000</td>\n    </tr>\n  </tbody>\n</table>\n<p>130271 rows × 4 columns</p>\n</div>"
     },
     "execution_count": 164,
     "metadata": {},
     "output_type": "execute_result"
    }
   ],
   "source": [
    "selectedNetwork"
   ]
  },
  {
   "cell_type": "markdown",
   "id": "ce38b034",
   "metadata": {},
   "source": [
    "**Create the graph from transaction network**"
   ]
  },
  {
   "cell_type": "code",
   "execution_count": 165,
   "id": "77ab9963",
   "metadata": {
    "ExecuteTime": {
     "end_time": "2023-10-28T21:22:27.534675Z",
     "start_time": "2023-10-28T21:22:26.441365Z"
    }
   },
   "outputs": [
    {
     "name": "stdout",
     "output_type": "stream",
     "text": [
      "Calculating best minimal value for power law fit\n",
      "xmin progress: 98%\r"
     ]
    }
   ],
   "source": [
    "aWindowGraph = nx.DiGraph()\n",
    "# Populate graph with edges\n",
    "for item in selectedNetwork.to_dict(orient=\"records\"):\n",
    "    aWindowGraph.add_edge(item[\"from\"], item[\"to\"], value=item[\"value\"])\n",
    "fit = powerlaw.Fit(list(dict(aWindowGraph.degree()).values()), estimate_discrete=False)"
   ]
  },
  {
   "cell_type": "code",
   "execution_count": 166,
   "id": "6ac57766e4ae4bd9",
   "metadata": {
    "ExecuteTime": {
     "end_time": "2023-10-28T21:22:27.540303Z",
     "start_time": "2023-10-28T21:22:27.532294Z"
    }
   },
   "outputs": [],
   "source": [
    "\n",
    "\n",
    "# Read the file into a DataFrame\n",
    "df_events = pd.read_csv(url, delimiter='\\t')\n",
    "df_events['date'] = pd.to_datetime(df_events['date'], format='%d-%m-%Y')"
   ]
  },
  {
   "cell_type": "markdown",
   "id": "46355ac6",
   "metadata": {},
   "source": [
    "# Daily transaction network\n",
    "Each data points in the phase base represent transaction networks for each day"
   ]
  },
  {
   "cell_type": "code",
   "execution_count": 167,
   "id": "543f3a81",
   "metadata": {
    "ExecuteTime": {
     "end_time": "2023-10-28T21:22:27.656457Z",
     "start_time": "2023-10-28T21:22:27.540776Z"
    }
   },
   "outputs": [
    {
     "data": {
      "text/plain": "          from      to        date                   value\n49133   250733  248773  2017-05-17   135918900000000000000\n110195  254519  248578  2017-05-17  4800000000000000000000\n105736   51586  255124  2017-05-17   150000000000000000000\n12305    38556  255135  2017-05-17   100000000000000000000\n88428   254797  255142  2017-05-17  1470000000000000000000\n...        ...     ...         ...                     ...\n114933      17   91951  2018-05-06   682400128610000000000\n118737  194337  195499  2018-05-06     2304805430306600000\n81326   195500  195501  2018-05-06    31413345939999997952\n80973   195498  194319  2018-05-06    50000000000000000000\n8359    195501  194319  2018-05-06    31413345939999997952\n\n[130271 rows x 4 columns]",
      "text/html": "<div>\n<style scoped>\n    .dataframe tbody tr th:only-of-type {\n        vertical-align: middle;\n    }\n\n    .dataframe tbody tr th {\n        vertical-align: top;\n    }\n\n    .dataframe thead th {\n        text-align: right;\n    }\n</style>\n<table border=\"1\" class=\"dataframe\">\n  <thead>\n    <tr style=\"text-align: right;\">\n      <th></th>\n      <th>from</th>\n      <th>to</th>\n      <th>date</th>\n      <th>value</th>\n    </tr>\n  </thead>\n  <tbody>\n    <tr>\n      <th>49133</th>\n      <td>250733</td>\n      <td>248773</td>\n      <td>2017-05-17</td>\n      <td>135918900000000000000</td>\n    </tr>\n    <tr>\n      <th>110195</th>\n      <td>254519</td>\n      <td>248578</td>\n      <td>2017-05-17</td>\n      <td>4800000000000000000000</td>\n    </tr>\n    <tr>\n      <th>105736</th>\n      <td>51586</td>\n      <td>255124</td>\n      <td>2017-05-17</td>\n      <td>150000000000000000000</td>\n    </tr>\n    <tr>\n      <th>12305</th>\n      <td>38556</td>\n      <td>255135</td>\n      <td>2017-05-17</td>\n      <td>100000000000000000000</td>\n    </tr>\n    <tr>\n      <th>88428</th>\n      <td>254797</td>\n      <td>255142</td>\n      <td>2017-05-17</td>\n      <td>1470000000000000000000</td>\n    </tr>\n    <tr>\n      <th>...</th>\n      <td>...</td>\n      <td>...</td>\n      <td>...</td>\n      <td>...</td>\n    </tr>\n    <tr>\n      <th>114933</th>\n      <td>17</td>\n      <td>91951</td>\n      <td>2018-05-06</td>\n      <td>682400128610000000000</td>\n    </tr>\n    <tr>\n      <th>118737</th>\n      <td>194337</td>\n      <td>195499</td>\n      <td>2018-05-06</td>\n      <td>2304805430306600000</td>\n    </tr>\n    <tr>\n      <th>81326</th>\n      <td>195500</td>\n      <td>195501</td>\n      <td>2018-05-06</td>\n      <td>31413345939999997952</td>\n    </tr>\n    <tr>\n      <th>80973</th>\n      <td>195498</td>\n      <td>194319</td>\n      <td>2018-05-06</td>\n      <td>50000000000000000000</td>\n    </tr>\n    <tr>\n      <th>8359</th>\n      <td>195501</td>\n      <td>194319</td>\n      <td>2018-05-06</td>\n      <td>31413345939999997952</td>\n    </tr>\n  </tbody>\n</table>\n<p>130271 rows × 4 columns</p>\n</div>"
     },
     "execution_count": 167,
     "metadata": {},
     "output_type": "execute_result"
    }
   ],
   "source": [
    "selectedNetwork = pd.read_csv(\"dataset/network\"+network_name+\".txt\", sep=' ', names=[\"from\", \"to\", \"date\", \"value\"])\n",
    "selectedNetwork['date'] = pd.to_datetime(selectedNetwork['date'], unit='s')\n",
    "selectedNetwork = selectedNetwork.sort_values(by = 'date')\n",
    "selectedNetwork['date'] = selectedNetwork['date'].dt.date\n",
    "selectedNetwork"
   ]
  },
  {
   "cell_type": "markdown",
   "id": "537e96de",
   "metadata": {},
   "source": [
    "**Construct graph for each day and apply powerlaw test on each transaction graph and store it in CSV file**"
   ]
  },
  {
   "cell_type": "code",
   "execution_count": 168,
   "outputs": [
    {
     "name": "stdout",
     "output_type": "stream",
     "text": [
      "Calculating best minimal value for power law fit\n",
      "Calculating best minimal value for power law fit\n",
      "Calculating best minimal value for power law fit\n",
      "Calculating best minimal value for power law fit\n",
      "Calculating best minimal value for power law fit\n",
      "Calculating best minimal value for power law fit\n",
      "Calculating best minimal value for power law fit\n",
      "Calculating best minimal value for power law fit\n",
      "Calculating best minimal value for power law fit\n",
      "Calculating best minimal value for power law fit\n",
      "Calculating best minimal value for power law fit\n",
      "Calculating best minimal value for power law fit\n",
      "Calculating best minimal value for power law fit\n",
      "Calculating best minimal value for power law fit\n",
      "Calculating best minimal value for power law fit\n",
      "Calculating best minimal value for power law fit\n",
      "Calculating best minimal value for power law fit\n",
      "Calculating best minimal value for power law fit\n",
      "Calculating best minimal value for power law fit\n",
      "Calculating best minimal value for power law fit\n",
      "Calculating best minimal value for power law fit\n",
      "Calculating best minimal value for power law fit\n",
      "Calculating best minimal value for power law fit\n",
      "Calculating best minimal value for power law fit\n",
      "Calculating best minimal value for power law fit\n",
      "Calculating best minimal value for power law fit\n",
      "Calculating best minimal value for power law fit\n",
      "Calculating best minimal value for power law fit\n",
      "Calculating best minimal value for power law fit\n",
      "Calculating best minimal value for power law fit\n",
      "Calculating best minimal value for power law fit\n",
      "Calculating best minimal value for power law fit\n",
      "Calculating best minimal value for power law fit\n",
      "Calculating best minimal value for power law fit\n",
      "Calculating best minimal value for power law fit\n",
      "Calculating best minimal value for power law fit\n",
      "Calculating best minimal value for power law fit\n",
      "Calculating best minimal value for power law fit\n",
      "Calculating best minimal value for power law fit\n",
      "Calculating best minimal value for power law fit\n",
      "Calculating best minimal value for power law fit\n",
      "Calculating best minimal value for power law fit\n",
      "Calculating best minimal value for power law fit\n",
      "Calculating best minimal value for power law fit\n",
      "Calculating best minimal value for power law fit\n",
      "Calculating best minimal value for power law fit\n",
      "Calculating best minimal value for power law fit\n",
      "Calculating best minimal value for power law fit\n",
      "Calculating best minimal value for power law fit\n",
      "Calculating best minimal value for power law fit\n",
      "Calculating best minimal value for power law fit\n",
      "Calculating best minimal value for power law fit\n",
      "Calculating best minimal value for power law fit\n",
      "Calculating best minimal value for power law fit\n",
      "Calculating best minimal value for power law fit\n",
      "Calculating best minimal value for power law fit\n",
      "Calculating best minimal value for power law fit\n",
      "Calculating best minimal value for power law fit\n",
      "Calculating best minimal value for power law fit\n",
      "Calculating best minimal value for power law fit\n",
      "Calculating best minimal value for power law fit\n",
      "Calculating best minimal value for power law fit\n",
      "Calculating best minimal value for power law fit\n",
      "Calculating best minimal value for power law fit\n",
      "Calculating best minimal value for power law fit\n",
      "Calculating best minimal value for power law fit\n",
      "Calculating best minimal value for power law fit\n",
      "Calculating best minimal value for power law fit\n",
      "Calculating best minimal value for power law fit\n",
      "Calculating best minimal value for power law fit\n",
      "Calculating best minimal value for power law fit\n",
      "Calculating best minimal value for power law fit\n",
      "Calculating best minimal value for power law fit\n",
      "Calculating best minimal value for power law fit\n",
      "Calculating best minimal value for power law fit\n",
      "Calculating best minimal value for power law fit\n",
      "Calculating best minimal value for power law fit\n",
      "Calculating best minimal value for power law fit\n",
      "Calculating best minimal value for power law fit\n",
      "Calculating best minimal value for power law fit\n",
      "Calculating best minimal value for power law fit\n",
      "Calculating best minimal value for power law fit\n",
      "Calculating best minimal value for power law fit\n",
      "Calculating best minimal value for power law fit\n",
      "Calculating best minimal value for power law fit\n",
      "Calculating best minimal value for power law fit\n",
      "Calculating best minimal value for power law fit\n",
      "Calculating best minimal value for power law fit\n",
      "Calculating best minimal value for power law fit\n",
      "Calculating best minimal value for power law fit\n",
      "Calculating best minimal value for power law fit\n",
      "Calculating best minimal value for power law fit\n",
      "Calculating best minimal value for power law fit\n",
      "Calculating best minimal value for power law fit\n",
      "Calculating best minimal value for power law fit\n",
      "Calculating best minimal value for power law fit\n",
      "Calculating best minimal value for power law fit\n",
      "Calculating best minimal value for power law fit\n",
      "Calculating best minimal value for power law fit\n",
      "Calculating best minimal value for power law fit\n",
      "Calculating best minimal value for power law fit\n",
      "Calculating best minimal value for power law fit\n",
      "Calculating best minimal value for power law fit\n",
      "Calculating best minimal value for power law fit\n",
      "Calculating best minimal value for power law fit\n",
      "Calculating best minimal value for power law fit\n",
      "Calculating best minimal value for power law fit\n",
      "Calculating best minimal value for power law fit\n",
      "Calculating best minimal value for power law fit\n",
      "Calculating best minimal value for power law fit\n",
      "Calculating best minimal value for power law fit\n",
      "Calculating best minimal value for power law fit\n",
      "Calculating best minimal value for power law fit\n",
      "Calculating best minimal value for power law fit\n",
      "Calculating best minimal value for power law fit\n",
      "Calculating best minimal value for power law fit\n",
      "Calculating best minimal value for power law fit\n",
      "Calculating best minimal value for power law fit\n",
      "Calculating best minimal value for power law fit\n",
      "Calculating best minimal value for power law fit\n",
      "Calculating best minimal value for power law fit\n",
      "Calculating best minimal value for power law fit\n",
      "Calculating best minimal value for power law fit\n",
      "Calculating best minimal value for power law fit\n",
      "Calculating best minimal value for power law fit\n",
      "Calculating best minimal value for power law fit\n",
      "Calculating best minimal value for power law fit\n",
      "Calculating best minimal value for power law fit\n",
      "Calculating best minimal value for power law fit\n",
      "Calculating best minimal value for power law fit\n",
      "Calculating best minimal value for power law fit\n",
      "Calculating best minimal value for power law fit\n",
      "Calculating best minimal value for power law fit\n",
      "Calculating best minimal value for power law fit\n",
      "Calculating best minimal value for power law fit\n",
      "Calculating best minimal value for power law fit\n",
      "Calculating best minimal value for power law fit\n",
      "Calculating best minimal value for power law fit\n",
      "Calculating best minimal value for power law fit\n",
      "Calculating best minimal value for power law fit\n",
      "Calculating best minimal value for power law fit\n",
      "Calculating best minimal value for power law fit\n",
      "Calculating best minimal value for power law fit\n",
      "Calculating best minimal value for power law fit\n",
      "Calculating best minimal value for power law fit\n",
      "Calculating best minimal value for power law fit\n",
      "Calculating best minimal value for power law fit\n",
      "Calculating best minimal value for power law fit\n",
      "Calculating best minimal value for power law fit\n",
      "Calculating best minimal value for power law fit\n",
      "Calculating best minimal value for power law fit\n",
      "Calculating best minimal value for power law fit\n",
      "Calculating best minimal value for power law fit\n",
      "Calculating best minimal value for power law fit\n",
      "Calculating best minimal value for power law fit\n",
      "Calculating best minimal value for power law fit\n",
      "Calculating best minimal value for power law fit\n",
      "Calculating best minimal value for power law fit\n",
      "Calculating best minimal value for power law fit\n",
      "Calculating best minimal value for power law fit\n",
      "Calculating best minimal value for power law fit\n",
      "Calculating best minimal value for power law fit\n",
      "Calculating best minimal value for power law fit\n",
      "Calculating best minimal value for power law fit\n",
      "Calculating best minimal value for power law fit\n",
      "Calculating best minimal value for power law fit\n",
      "Calculating best minimal value for power law fit\n",
      "Calculating best minimal value for power law fit\n",
      "Calculating best minimal value for power law fit\n",
      "Calculating best minimal value for power law fit\n",
      "Calculating best minimal value for power law fit\n",
      "Calculating best minimal value for power law fit\n",
      "Calculating best minimal value for power law fit\n",
      "Calculating best minimal value for power law fit\n",
      "Calculating best minimal value for power law fit\n",
      "Calculating best minimal value for power law fit\n",
      "Calculating best minimal value for power law fit\n",
      "Calculating best minimal value for power law fit\n",
      "Calculating best minimal value for power law fit\n",
      "Calculating best minimal value for power law fit\n",
      "Calculating best minimal value for power law fit\n",
      "Calculating best minimal value for power law fit\n",
      "Calculating best minimal value for power law fit\n",
      "Calculating best minimal value for power law fit\n",
      "Calculating best minimal value for power law fit\n",
      "Calculating best minimal value for power law fit\n",
      "Calculating best minimal value for power law fit\n",
      "Calculating best minimal value for power law fit\n",
      "Calculating best minimal value for power law fit\n",
      "Calculating best minimal value for power law fit\n",
      "Calculating best minimal value for power law fit\n",
      "Calculating best minimal value for power law fit\n",
      "Calculating best minimal value for power law fit\n",
      "Calculating best minimal value for power law fit\n",
      "Calculating best minimal value for power law fit\n",
      "Calculating best minimal value for power law fit\n",
      "Calculating best minimal value for power law fit\n",
      "Calculating best minimal value for power law fit\n",
      "Calculating best minimal value for power law fit\n",
      "Calculating best minimal value for power law fit\n",
      "Calculating best minimal value for power law fit\n",
      "Calculating best minimal value for power law fit\n",
      "Calculating best minimal value for power law fit\n",
      "Calculating best minimal value for power law fit\n",
      "Calculating best minimal value for power law fit\n",
      "Calculating best minimal value for power law fit\n",
      "Calculating best minimal value for power law fit\n",
      "Calculating best minimal value for power law fit\n",
      "Calculating best minimal value for power law fit\n",
      "Calculating best minimal value for power law fit\n",
      "Calculating best minimal value for power law fit\n",
      "Calculating best minimal value for power law fit\n",
      "Calculating best minimal value for power law fit\n",
      "Calculating best minimal value for power law fit\n",
      "Calculating best minimal value for power law fit\n",
      "Calculating best minimal value for power law fit\n",
      "Calculating best minimal value for power law fit\n",
      "Calculating best minimal value for power law fit\n",
      "Calculating best minimal value for power law fit\n",
      "Calculating best minimal value for power law fit\n",
      "Calculating best minimal value for power law fit\n",
      "Calculating best minimal value for power law fit\n",
      "Calculating best minimal value for power law fit\n",
      "Calculating best minimal value for power law fit\n",
      "Calculating best minimal value for power law fit\n",
      "Calculating best minimal value for power law fit\n",
      "Calculating best minimal value for power law fit\n",
      "Calculating best minimal value for power law fit\n",
      "Calculating best minimal value for power law fit\n",
      "Calculating best minimal value for power law fit\n",
      "Calculating best minimal value for power law fit\n",
      "Calculating best minimal value for power law fit\n",
      "Calculating best minimal value for power law fit\n",
      "Calculating best minimal value for power law fit\n",
      "Calculating best minimal value for power law fit\n",
      "Calculating best minimal value for power law fit\n",
      "Calculating best minimal value for power law fit\n",
      "Calculating best minimal value for power law fit\n",
      "Calculating best minimal value for power law fit\n",
      "Calculating best minimal value for power law fit\n",
      "Calculating best minimal value for power law fit\n",
      "Calculating best minimal value for power law fit\n",
      "Calculating best minimal value for power law fit\n",
      "Calculating best minimal value for power law fit\n",
      "Calculating best minimal value for power law fit\n",
      "Calculating best minimal value for power law fit\n",
      "Calculating best minimal value for power law fit\n",
      "Calculating best minimal value for power law fit\n",
      "Calculating best minimal value for power law fit\n",
      "Calculating best minimal value for power law fit\n",
      "Calculating best minimal value for power law fit\n",
      "Calculating best minimal value for power law fit\n",
      "Calculating best minimal value for power law fit\n",
      "Calculating best minimal value for power law fit\n",
      "Calculating best minimal value for power law fit\n",
      "Calculating best minimal value for power law fit\n",
      "Calculating best minimal value for power law fit\n",
      "Calculating best minimal value for power law fit\n",
      "Calculating best minimal value for power law fit\n",
      "Calculating best minimal value for power law fit\n",
      "Calculating best minimal value for power law fit\n",
      "Calculating best minimal value for power law fit\n",
      "Calculating best minimal value for power law fit\n",
      "Calculating best minimal value for power law fit\n",
      "Calculating best minimal value for power law fit\n",
      "Calculating best minimal value for power law fit\n",
      "Calculating best minimal value for power law fit\n",
      "Calculating best minimal value for power law fit\n",
      "Calculating best minimal value for power law fit\n",
      "Calculating best minimal value for power law fit\n",
      "Calculating best minimal value for power law fit\n",
      "Calculating best minimal value for power law fit\n",
      "Calculating best minimal value for power law fit\n",
      "Calculating best minimal value for power law fit\n",
      "Calculating best minimal value for power law fit\n",
      "Calculating best minimal value for power law fit\n",
      "Calculating best minimal value for power law fit\n",
      "Calculating best minimal value for power law fit\n",
      "Calculating best minimal value for power law fit\n",
      "Calculating best minimal value for power law fit\n",
      "Calculating best minimal value for power law fit\n",
      "Calculating best minimal value for power law fit\n",
      "Calculating best minimal value for power law fit\n",
      "Calculating best minimal value for power law fit\n",
      "Calculating best minimal value for power law fit\n",
      "Calculating best minimal value for power law fit\n",
      "Calculating best minimal value for power law fit\n",
      "Calculating best minimal value for power law fit\n",
      "Calculating best minimal value for power law fit\n",
      "Calculating best minimal value for power law fit\n",
      "Calculating best minimal value for power law fit\n",
      "Calculating best minimal value for power law fit\n",
      "Calculating best minimal value for power law fit\n",
      "Calculating best minimal value for power law fit\n",
      "Calculating best minimal value for power law fit\n",
      "Calculating best minimal value for power law fit\n",
      "Calculating best minimal value for power law fit\n",
      "Calculating best minimal value for power law fit\n",
      "Calculating best minimal value for power law fit\n",
      "Calculating best minimal value for power law fit\n",
      "Calculating best minimal value for power law fit\n",
      "Calculating best minimal value for power law fit\n",
      "Calculating best minimal value for power law fit\n",
      "Calculating best minimal value for power law fit\n",
      "Calculating best minimal value for power law fit\n",
      "Calculating best minimal value for power law fit\n",
      "Calculating best minimal value for power law fit\n",
      "Calculating best minimal value for power law fit\n",
      "Calculating best minimal value for power law fit\n",
      "Calculating best minimal value for power law fit\n",
      "Calculating best minimal value for power law fit\n",
      "Calculating best minimal value for power law fit\n",
      "Calculating best minimal value for power law fit\n",
      "Calculating best minimal value for power law fit\n",
      "Calculating best minimal value for power law fit\n",
      "Calculating best minimal value for power law fit\n",
      "Calculating best minimal value for power law fit\n",
      "Calculating best minimal value for power law fit\n",
      "Calculating best minimal value for power law fit\n",
      "Calculating best minimal value for power law fit\n",
      "Calculating best minimal value for power law fit\n",
      "Calculating best minimal value for power law fit\n",
      "Calculating best minimal value for power law fit\n",
      "Calculating best minimal value for power law fit\n",
      "Calculating best minimal value for power law fit\n",
      "Calculating best minimal value for power law fit\n",
      "Calculating best minimal value for power law fit\n",
      "Calculating best minimal value for power law fit\n",
      "Calculating best minimal value for power law fit\n",
      "Calculating best minimal value for power law fit\n",
      "Calculating best minimal value for power law fit\n",
      "Calculating best minimal value for power law fit\n",
      "Calculating best minimal value for power law fit\n",
      "Calculating best minimal value for power law fit\n",
      "Calculating best minimal value for power law fit\n",
      "Calculating best minimal value for power law fit\n",
      "Calculating best minimal value for power law fit\n",
      "Calculating best minimal value for power law fit\n",
      "Calculating best minimal value for power law fit\n",
      "Calculating best minimal value for power law fit\n",
      "Calculating best minimal value for power law fit\n",
      "Calculating best minimal value for power law fit\n",
      "Calculating best minimal value for power law fit\n",
      "Calculating best minimal value for power law fit\n",
      "Calculating best minimal value for power law fit\n",
      "Calculating best minimal value for power law fit\n",
      "Calculating best minimal value for power law fit\n",
      "Calculating best minimal value for power law fit\n",
      "Calculating best minimal value for power law fit\n",
      "Calculating best minimal value for power law fit\n",
      "Calculating best minimal value for power law fit\n",
      "Calculating best minimal value for power law fit\n",
      "Calculating best minimal value for power law fit\n",
      "Calculating best minimal value for power law fit\n",
      "xmin progress: 66%\r"
     ]
    }
   ],
   "source": [
    "currDate = selectedNetwork['date'].min()\n",
    "aWindowGraph = nx.DiGraph()\n",
    "score_list = []\n",
    "column = [\"score\",\"#nodes\",\"xmin\",\"alpha\",\"date\"]\n",
    "row_list = []\n",
    "for index, row in selectedNetwork.iterrows():\n",
    "    if(row['date'] != currDate ):\n",
    "        row_df = []\n",
    "        \n",
    "        degrees = list(dict(aWindowGraph.degree()).values())\n",
    "        fit = powerlaw.Fit(degrees)\n",
    "        row_df.append(fit.distribution_compare('power_law', 'exponential')[0])\n",
    "        row_df.append(aWindowGraph.number_of_nodes())\n",
    "        row_df.append(fit.power_law.xmin)\n",
    "        row_df.append(fit.power_law.alpha)\n",
    "        row_df.append(currDate)\n",
    "        \n",
    "        currDate = row['date']\n",
    "        \n",
    "        row_list.append(row_df)\n",
    "        aWindowGraph = nx.DiGraph()\n",
    "    else:\n",
    "        aWindowGraph.add_edge(row[\"from\"], row[\"to\"], value=row[\"value\"])\n",
    "df_power_law = pd.DataFrame(row_list,columns= column)    \n",
    " "
   ],
   "metadata": {
    "collapsed": false,
    "ExecuteTime": {
     "end_time": "2023-10-28T21:22:32.292978Z",
     "start_time": "2023-10-28T21:22:27.666840Z"
    }
   },
   "id": "df6b5ad1"
  },
  {
   "cell_type": "code",
   "execution_count": 169,
   "id": "ed9c24d4",
   "metadata": {
    "ExecuteTime": {
     "end_time": "2023-10-28T21:22:32.297859Z",
     "start_time": "2023-10-28T21:22:32.293461Z"
    }
   },
   "outputs": [],
   "source": [
    "df_power_law['date'] = pd.to_datetime(df_power_law['date'])\n",
    "df_power_law['date'] = df_power_law['date'].dt.date\n",
    "\n",
    "event_days_data = df_power_law[df_power_law['date'] <= threshold]\n",
    "testNetwork = df_power_law[df_power_law['date'] > threshold]"
   ]
  },
  {
   "cell_type": "markdown",
   "id": "8ea7abd4",
   "metadata": {},
   "source": [
    "**Draw diagram to illustrate the trajectory with data points in steady period in green**"
   ]
  },
  {
   "cell_type": "code",
   "execution_count": 170,
   "id": "efa648d6",
   "metadata": {
    "ExecuteTime": {
     "end_time": "2023-10-28T21:22:32.451587Z",
     "start_time": "2023-10-28T21:22:32.307872Z"
    }
   },
   "outputs": [
    {
     "data": {
      "application/vnd.plotly.v1+json": {
       "data": [
        {
         "line": {
          "color": "black",
          "width": 1
         },
         "mode": "lines",
         "name": "Line",
         "x": [
          994,
          915,
          478,
          467,
          310,
          322,
          356,
          594,
          356,
          335,
          215,
          213,
          242,
          343,
          316,
          230,
          227,
          251,
          294,
          257,
          307,
          339,
          449,
          434,
          328,
          425,
          410,
          292,
          325,
          267,
          251,
          246,
          229,
          242,
          207,
          171,
          276,
          230,
          202,
          207,
          263,
          174,
          239,
          208,
          187,
          163,
          173,
          127,
          145,
          133,
          149,
          288,
          235,
          235,
          335,
          602,
          477,
          382,
          382,
          286,
          273,
          306,
          401,
          374,
          390,
          345,
          345,
          332,
          351,
          338,
          348,
          349,
          370,
          313,
          265,
          290,
          102,
          229,
          426,
          423,
          494,
          374,
          479,
          499,
          468,
          695,
          725,
          573,
          600,
          508,
          420,
          367,
          401,
          345,
          396,
          387,
          428,
          315,
          374,
          373,
          381,
          384,
          390,
          464,
          484,
          483,
          515,
          581,
          400,
          297,
          449,
          610,
          342,
          432,
          484,
          318,
          291,
          268,
          288,
          268,
          257,
          270,
          199,
          194,
          263,
          258,
          207,
          245,
          193,
          187,
          206,
          230,
          222,
          206,
          256,
          182,
          224,
          207,
          218,
          258,
          216,
          222,
          252,
          168,
          235,
          285,
          280,
          231,
          291,
          644,
          318,
          236,
          254,
          368,
          233,
          289,
          282,
          260,
          223,
          280,
          354,
          234,
          257,
          203,
          221,
          285,
          235,
          274,
          416,
          405,
          377,
          331,
          265,
          259,
          209,
          300,
          503,
          479,
          346,
          458,
          304,
          176,
          349,
          357,
          429,
          380,
          446,
          393,
          432,
          540,
          456,
          401,
          648,
          627,
          753,
          765,
          770,
          458,
          471,
          581,
          549,
          505,
          566,
          314,
          186,
          545,
          324,
          417,
          676,
          902,
          853,
          685,
          520,
          572,
          637,
          633,
          1042,
          732,
          778,
          609,
          567,
          459,
          639,
          589,
          565,
          545,
          703,
          554,
          544,
          464,
          449,
          1039,
          596,
          1124,
          819,
          649,
          552,
          249,
          339,
          845,
          570,
          701,
          640,
          521,
          605,
          400,
          411,
          364,
          412,
          336,
          343,
          610,
          327,
          376,
          468,
          512,
          395,
          375,
          381,
          298,
          304,
          460,
          271,
          249,
          294,
          268,
          197,
          175,
          179,
          217,
          147,
          165,
          212,
          291,
          225,
          229,
          192,
          141,
          209,
          227,
          225,
          159,
          114,
          136,
          110,
          112,
          207,
          146,
          185
         ],
         "y": [
          12.17069435435016,
          8.889134188890228,
          6.7820908269582,
          12.657813455101612,
          6.552929080964145,
          6.452563410886842,
          12.252801387728818,
          5.318663539006105,
          4.578060124941151,
          4.811172759989585,
          9.899071564151017,
          3.6076573931781146,
          9.454188084374039,
          5.400189800855267,
          5.56725451276625,
          9.964327351130022,
          9.167963252921137,
          3.7625612603332863,
          5.63940235632892,
          4.102202591094496,
          5.595447890120214,
          5.2736248142409545,
          10.944011370797158,
          11.433664300449466,
          5.324070282168137,
          4.882512032097746,
          7.609644953641261,
          4.9202502689650105,
          11.349784797788608,
          4.604723900957564,
          4.626460960013279,
          8.106632191739646,
          7.289184109384004,
          10.591875006731538,
          8.964053393105807,
          10.982131633986853,
          11.881369577822289,
          4.522467158826464,
          3.5941989199620683,
          4.710082418054592,
          4.143627107238924,
          4.353899860768754,
          3.983074221458902,
          7.667993263266916,
          8.670053136633445,
          3.7608880102723967,
          3.9926429953937954,
          8.4527221877729,
          8.598266771644106,
          7.808244480970112,
          3.371280023092698,
          1.929667387598046,
          11.370679557888927,
          3.901833418188246,
          4.399216700431515,
          6.2899657703594825,
          6.0377382994297,
          5.724985161651024,
          7.599127930047139,
          6.855409587532748,
          6.644188429865808,
          5.955394214202025,
          5.432646211392101,
          7.0409027061510585,
          8.211433140828085,
          6.43092870213759,
          7.892112085604291,
          7.6758374321414955,
          7.229165633749675,
          7.593144897584306,
          5.45801057232685,
          7.147103949373012,
          8.40576887942101,
          6.611055379054814,
          5.979709494088782,
          9.062362624859906,
          10.210259498191174,
          5.253158291527376,
          7.9456228149718005,
          7.060734815427647,
          9.717323359342124,
          9.002038906446368,
          9.75940296224077,
          10.763713224181497,
          9.889256385084368,
          9.18959979297597,
          10.01332142235026,
          11.97997029030871,
          12.774450954472977,
          11.513987406906821,
          9.620139784533292,
          8.421584037873473,
          10.21654555213278,
          8.04811808692848,
          9.956124801708853,
          7.83356206224671,
          9.638690012558103,
          7.654296219795215,
          8.42231212717511,
          8.00368749463706,
          8.165555717076668,
          7.650462497799427,
          9.542138231905966,
          8.490428957388616,
          8.94945309064483,
          10.236720740118342,
          10.97436032991281,
          9.990876928931037,
          12.542972125712936,
          3.7801808328443407,
          4.127009200980975,
          6.3771269617566935,
          3.9322636777011764,
          4.139661138004383,
          6.175479669633157,
          6.711663081375308,
          6.826705292947568,
          5.288002593859665,
          7.275227856895159,
          7.254724571439977,
          9.292391830577253,
          8.58203406792677,
          5.441505369862605,
          5.782706116969309,
          6.905266192679485,
          6.276760175158616,
          6.7181712281529125,
          7.822047199183082,
          6.444725594398593,
          5.7304838763685195,
          9.090677911642262,
          6.793092826726407,
          7.83362345079114,
          7.887249613244143,
          9.00533385732138,
          5.547579460110363,
          5.907919938594834,
          6.385991595197488,
          6.3159696021631975,
          5.325991310210549,
          5.620264032756201,
          7.93439320265867,
          6.331817609785375,
          5.773295357956457,
          8.210194610814513,
          9.384789409115072,
          7.098525169617756,
          7.254724571439976,
          8.81647279593625,
          11.855980664545294,
          8.029758457076042,
          6.322546806124169,
          6.663119241823983,
          5.990638743283103,
          6.26198620021152,
          7.521101992641508,
          8.50989418857019,
          9.194673269356716,
          7.155578437242937,
          9.645739507955017,
          8.65536583726707,
          6.635548625923082,
          6.232749915019894,
          8.955145512673909,
          7.001184703914519,
          9.500309204575668,
          7.361267705551001,
          9.324790930889833,
          10.596895912819999,
          10.548997349083956,
          6.6323388517987505,
          9.457328526308643,
          10.12368674096929,
          8.143787358477812,
          6.078446403461957,
          9.285789221497897,
          9.005899488237814,
          11.045271217620554,
          11.038634409410943,
          12.135670767463969,
          7.347562092122233,
          4.493059106106314,
          11.175564283363618,
          9.292809583975671,
          7.235326385538142,
          9.416926459536285,
          9.948013972855858,
          8.35544000008533,
          8.9263215392616,
          11.141743916821596,
          10.558855007549926,
          10.37669913832935,
          11.497459681579702,
          15.180381735363703,
          11.78891517704061,
          10.848896251284232,
          15.826375828906782,
          10.789854901642387,
          9.178739399020952,
          12.225716179201678,
          13.39903587861074,
          12.01440704985615,
          4.65307252050803,
          10.869506166532005,
          10.499453322699278,
          7.412780764896589,
          8.745093214183445,
          8.783094687747472,
          12.915988647468584,
          13.1032864552462,
          14.236935982207664,
          11.923515655123898,
          10.345886549003113,
          9.76697860406085,
          10.337091336406386,
          8.096017147897781,
          9.745775360847677,
          15.061555541402775,
          10.235127743126002,
          10.174926383554329,
          7.054622974014516,
          7.000155026095319,
          8.188755715601468,
          9.084106310194413,
          10.099021839580306,
          10.33399057045027,
          8.558344130467033,
          7.668105543422525,
          8.756261934732363,
          13.647923501086,
          11.062475415094017,
          9.716786610549022,
          23.342330218086154,
          10.87507104273975,
          6.97719184648224,
          2.3806203396764984,
          4.444819825990479,
          10.13156206418593,
          4.874695237765682,
          2.6818395659579632,
          8.502308506685043,
          2.653251122246103,
          8.589310824112863,
          10.183366963052915,
          14.378228791928647,
          14.340341722521076,
          8.61096358935226,
          8.705810204959825,
          10.401917716973463,
          9.733300099743298,
          6.652891821797146,
          8.879506544884737,
          9.557143544924623,
          10.852281793069224,
          10.911483075022621,
          11.143257333685696,
          13.081771940049736,
          9.066984252809052,
          9.853573588151933,
          9.28483508872082,
          8.329939839731358,
          10.865729094134325,
          7.850333277348601,
          8.672657064900568,
          9.664814406495701,
          8.922735910452303,
          7.100510690653402,
          7.713292156465677,
          8.63286700963832,
          6.427629843673622,
          6.728820339800517,
          6.47256616322129,
          9.002001182486497,
          10.843163123207693,
          9.051071384813484,
          7.919525125223871,
          7.545994237741757,
          4.992844952959631,
          6.997510801878118,
          6.811776420951162,
          6.129386578444561,
          6.52951353827717,
          6.366674733364444,
          4.850751148339419,
          6.862033785371956,
          6.7117957815000855,
          6.87446798159053,
          5.605156759949983,
          6.67796777143289
         ],
         "type": "scatter",
         "showlegend": false
        },
        {
         "line": {
          "color": "black"
         },
         "mode": "markers",
         "name": "Scatter",
         "x": [
          994,
          915,
          478,
          467,
          310,
          322,
          356,
          594,
          356,
          335,
          215,
          213,
          242,
          343,
          316,
          230,
          227,
          251,
          294,
          257,
          307,
          339,
          449,
          434,
          328,
          425,
          410,
          292,
          325,
          267,
          251,
          246,
          229,
          242,
          207,
          171,
          276,
          230,
          202,
          207,
          263,
          174,
          239,
          208,
          187,
          163,
          173,
          127,
          145,
          133,
          149,
          288,
          235,
          235,
          335,
          602,
          477,
          382,
          382,
          286,
          273,
          306,
          401,
          374,
          390,
          345,
          345,
          332,
          351,
          338,
          348,
          349,
          370,
          313,
          265,
          290,
          102,
          229,
          426,
          423,
          494,
          374,
          479,
          499,
          468,
          695,
          725,
          573,
          600,
          508,
          420,
          367,
          401,
          345,
          396,
          387,
          428,
          315,
          374,
          373,
          381,
          384,
          390,
          464,
          484,
          483,
          515,
          581,
          400,
          297,
          449,
          610,
          342,
          432,
          484,
          318,
          291,
          268,
          288,
          268,
          257,
          270,
          199,
          194,
          263,
          258,
          207,
          245,
          193,
          187,
          206,
          230,
          222,
          206,
          256,
          182,
          224,
          207,
          218,
          258,
          216,
          222,
          252,
          168,
          235,
          285,
          280,
          231,
          291,
          644,
          318,
          236,
          254,
          368,
          233,
          289,
          282,
          260,
          223,
          280,
          354,
          234,
          257,
          203,
          221,
          285,
          235,
          274,
          416,
          405,
          377,
          331,
          265,
          259,
          209,
          300,
          503,
          479,
          346,
          458,
          304,
          176,
          349,
          357,
          429,
          380,
          446,
          393,
          432,
          540,
          456,
          401,
          648,
          627,
          753,
          765,
          770,
          458,
          471,
          581,
          549,
          505,
          566,
          314,
          186,
          545,
          324,
          417,
          676,
          902,
          853,
          685,
          520,
          572,
          637,
          633,
          1042,
          732,
          778,
          609,
          567,
          459,
          639,
          589,
          565,
          545,
          703,
          554,
          544,
          464,
          449,
          1039,
          596,
          1124,
          819,
          649,
          552,
          249,
          339,
          845,
          570,
          701,
          640,
          521,
          605,
          400,
          411,
          364,
          412,
          336,
          343,
          610,
          327,
          376,
          468,
          512,
          395,
          375,
          381,
          298,
          304,
          460,
          271,
          249,
          294,
          268,
          197,
          175,
          179,
          217,
          147,
          165,
          212,
          291,
          225,
          229,
          192,
          141,
          209,
          227,
          225,
          159,
          114,
          136,
          110,
          112,
          207,
          146,
          185
         ],
         "y": [
          12.17069435435016,
          8.889134188890228,
          6.7820908269582,
          12.657813455101612,
          6.552929080964145,
          6.452563410886842,
          12.252801387728818,
          5.318663539006105,
          4.578060124941151,
          4.811172759989585,
          9.899071564151017,
          3.6076573931781146,
          9.454188084374039,
          5.400189800855267,
          5.56725451276625,
          9.964327351130022,
          9.167963252921137,
          3.7625612603332863,
          5.63940235632892,
          4.102202591094496,
          5.595447890120214,
          5.2736248142409545,
          10.944011370797158,
          11.433664300449466,
          5.324070282168137,
          4.882512032097746,
          7.609644953641261,
          4.9202502689650105,
          11.349784797788608,
          4.604723900957564,
          4.626460960013279,
          8.106632191739646,
          7.289184109384004,
          10.591875006731538,
          8.964053393105807,
          10.982131633986853,
          11.881369577822289,
          4.522467158826464,
          3.5941989199620683,
          4.710082418054592,
          4.143627107238924,
          4.353899860768754,
          3.983074221458902,
          7.667993263266916,
          8.670053136633445,
          3.7608880102723967,
          3.9926429953937954,
          8.4527221877729,
          8.598266771644106,
          7.808244480970112,
          3.371280023092698,
          1.929667387598046,
          11.370679557888927,
          3.901833418188246,
          4.399216700431515,
          6.2899657703594825,
          6.0377382994297,
          5.724985161651024,
          7.599127930047139,
          6.855409587532748,
          6.644188429865808,
          5.955394214202025,
          5.432646211392101,
          7.0409027061510585,
          8.211433140828085,
          6.43092870213759,
          7.892112085604291,
          7.6758374321414955,
          7.229165633749675,
          7.593144897584306,
          5.45801057232685,
          7.147103949373012,
          8.40576887942101,
          6.611055379054814,
          5.979709494088782,
          9.062362624859906,
          10.210259498191174,
          5.253158291527376,
          7.9456228149718005,
          7.060734815427647,
          9.717323359342124,
          9.002038906446368,
          9.75940296224077,
          10.763713224181497,
          9.889256385084368,
          9.18959979297597,
          10.01332142235026,
          11.97997029030871,
          12.774450954472977,
          11.513987406906821,
          9.620139784533292,
          8.421584037873473,
          10.21654555213278,
          8.04811808692848,
          9.956124801708853,
          7.83356206224671,
          9.638690012558103,
          7.654296219795215,
          8.42231212717511,
          8.00368749463706,
          8.165555717076668,
          7.650462497799427,
          9.542138231905966,
          8.490428957388616,
          8.94945309064483,
          10.236720740118342,
          10.97436032991281,
          9.990876928931037,
          12.542972125712936,
          3.7801808328443407,
          4.127009200980975,
          6.3771269617566935,
          3.9322636777011764,
          4.139661138004383,
          6.175479669633157,
          6.711663081375308,
          6.826705292947568,
          5.288002593859665,
          7.275227856895159,
          7.254724571439977,
          9.292391830577253,
          8.58203406792677,
          5.441505369862605,
          5.782706116969309,
          6.905266192679485,
          6.276760175158616,
          6.7181712281529125,
          7.822047199183082,
          6.444725594398593,
          5.7304838763685195,
          9.090677911642262,
          6.793092826726407,
          7.83362345079114,
          7.887249613244143,
          9.00533385732138,
          5.547579460110363,
          5.907919938594834,
          6.385991595197488,
          6.3159696021631975,
          5.325991310210549,
          5.620264032756201,
          7.93439320265867,
          6.331817609785375,
          5.773295357956457,
          8.210194610814513,
          9.384789409115072,
          7.098525169617756,
          7.254724571439976,
          8.81647279593625,
          11.855980664545294,
          8.029758457076042,
          6.322546806124169,
          6.663119241823983,
          5.990638743283103,
          6.26198620021152,
          7.521101992641508,
          8.50989418857019,
          9.194673269356716,
          7.155578437242937,
          9.645739507955017,
          8.65536583726707,
          6.635548625923082,
          6.232749915019894,
          8.955145512673909,
          7.001184703914519,
          9.500309204575668,
          7.361267705551001,
          9.324790930889833,
          10.596895912819999,
          10.548997349083956,
          6.6323388517987505,
          9.457328526308643,
          10.12368674096929,
          8.143787358477812,
          6.078446403461957,
          9.285789221497897,
          9.005899488237814,
          11.045271217620554,
          11.038634409410943,
          12.135670767463969,
          7.347562092122233,
          4.493059106106314,
          11.175564283363618,
          9.292809583975671,
          7.235326385538142,
          9.416926459536285,
          9.948013972855858,
          8.35544000008533,
          8.9263215392616,
          11.141743916821596,
          10.558855007549926,
          10.37669913832935,
          11.497459681579702,
          15.180381735363703,
          11.78891517704061,
          10.848896251284232,
          15.826375828906782,
          10.789854901642387,
          9.178739399020952,
          12.225716179201678,
          13.39903587861074,
          12.01440704985615,
          4.65307252050803,
          10.869506166532005,
          10.499453322699278,
          7.412780764896589,
          8.745093214183445,
          8.783094687747472,
          12.915988647468584,
          13.1032864552462,
          14.236935982207664,
          11.923515655123898,
          10.345886549003113,
          9.76697860406085,
          10.337091336406386,
          8.096017147897781,
          9.745775360847677,
          15.061555541402775,
          10.235127743126002,
          10.174926383554329,
          7.054622974014516,
          7.000155026095319,
          8.188755715601468,
          9.084106310194413,
          10.099021839580306,
          10.33399057045027,
          8.558344130467033,
          7.668105543422525,
          8.756261934732363,
          13.647923501086,
          11.062475415094017,
          9.716786610549022,
          23.342330218086154,
          10.87507104273975,
          6.97719184648224,
          2.3806203396764984,
          4.444819825990479,
          10.13156206418593,
          4.874695237765682,
          2.6818395659579632,
          8.502308506685043,
          2.653251122246103,
          8.589310824112863,
          10.183366963052915,
          14.378228791928647,
          14.340341722521076,
          8.61096358935226,
          8.705810204959825,
          10.401917716973463,
          9.733300099743298,
          6.652891821797146,
          8.879506544884737,
          9.557143544924623,
          10.852281793069224,
          10.911483075022621,
          11.143257333685696,
          13.081771940049736,
          9.066984252809052,
          9.853573588151933,
          9.28483508872082,
          8.329939839731358,
          10.865729094134325,
          7.850333277348601,
          8.672657064900568,
          9.664814406495701,
          8.922735910452303,
          7.100510690653402,
          7.713292156465677,
          8.63286700963832,
          6.427629843673622,
          6.728820339800517,
          6.47256616322129,
          9.002001182486497,
          10.843163123207693,
          9.051071384813484,
          7.919525125223871,
          7.545994237741757,
          4.992844952959631,
          6.997510801878118,
          6.811776420951162,
          6.129386578444561,
          6.52951353827717,
          6.366674733364444,
          4.850751148339419,
          6.862033785371956,
          6.7117957815000855,
          6.87446798159053,
          5.605156759949983,
          6.67796777143289
         ],
         "type": "scatter",
         "showlegend": false
        },
        {
         "line": {
          "color": "red",
          "width": 1
         },
         "mode": "lines",
         "name": "Line",
         "x": [
          170,
          238,
          139,
          351,
          205,
          182,
          171,
          159,
          143,
          99,
          104,
          77,
          124,
          124,
          94,
          108,
          150,
          95,
          154,
          195,
          149,
          89,
          106,
          91,
          93,
          110,
          91,
          106,
          118,
          102,
          89,
          88,
          92,
          89,
          78,
          76,
          64,
          80,
          70,
          97,
          89,
          113,
          124,
          94,
          145,
          109,
          117,
          133,
          145,
          223,
          156,
          142,
          138,
          182,
          135,
          201,
          130,
          130,
          147,
          110,
          109,
          112,
          170,
          149,
          130
         ],
         "y": [
          4.574004004512423,
          6.377132883061421,
          6.3408347457224865,
          8.782498209258627,
          7.9504992343532015,
          6.266142257699156,
          6.820160489494693,
          6.63198477548805,
          5.554567569685393,
          4.624393940611294,
          5.843217542270862,
          5.2962967376385475,
          5.360244586244256,
          4.554651085149377,
          5.488825142158639,
          5.315706295405006,
          6.681693245787357,
          5.894722505414693,
          6.0209468344773525,
          6.634877416470326,
          7.48756869632813,
          4.604204831293406,
          5.979215353106787,
          5.860820089297309,
          6.3365743250332,
          5.834550603201835,
          6.584486995116979,
          5.077399901830674,
          5.567284302398831,
          4.949606693274365,
          4.995756791912841,
          4.562877650325815,
          6.008651807444421,
          4.179318971632052,
          5.198589802577493,
          4.9817732144787605,
          3.7041599766429516,
          5.898927343235478,
          6.110468340411762,
          5.615324909679447,
          4.139339856584081,
          5.682014283898679,
          6.211493707843817,
          6.316724600616188,
          5.883873050515287,
          5.325508309093055,
          7.267500520662594,
          5.497686148824842,
          7.9926624992961095,
          7.739164545150962,
          5.733432839486419,
          6.410644043508871,
          6.835070645854967,
          10.335045834293824,
          7.285991515322289,
          7.909608625084597,
          7.377061743850409,
          6.462929435718408,
          6.708825445524163,
          6.738276528109417,
          6.039715123513071,
          6.268951764616823,
          8.485789480419875,
          9.059327900213427,
          8.273204311244914
         ],
         "type": "scatter",
         "showlegend": false
        },
        {
         "line": {
          "color": "red"
         },
         "mode": "markers",
         "name": "Scatter",
         "x": [
          170,
          238,
          139,
          351,
          205,
          182,
          171,
          159,
          143,
          99,
          104,
          77,
          124,
          124,
          94,
          108,
          150,
          95,
          154,
          195,
          149,
          89,
          106,
          91,
          93,
          110,
          91,
          106,
          118,
          102,
          89,
          88,
          92,
          89,
          78,
          76,
          64,
          80,
          70,
          97,
          89,
          113,
          124,
          94,
          145,
          109,
          117,
          133,
          145,
          223,
          156,
          142,
          138,
          182,
          135,
          201,
          130,
          130,
          147,
          110,
          109,
          112,
          170,
          149,
          130
         ],
         "y": [
          4.574004004512423,
          6.377132883061421,
          6.3408347457224865,
          8.782498209258627,
          7.9504992343532015,
          6.266142257699156,
          6.820160489494693,
          6.63198477548805,
          5.554567569685393,
          4.624393940611294,
          5.843217542270862,
          5.2962967376385475,
          5.360244586244256,
          4.554651085149377,
          5.488825142158639,
          5.315706295405006,
          6.681693245787357,
          5.894722505414693,
          6.0209468344773525,
          6.634877416470326,
          7.48756869632813,
          4.604204831293406,
          5.979215353106787,
          5.860820089297309,
          6.3365743250332,
          5.834550603201835,
          6.584486995116979,
          5.077399901830674,
          5.567284302398831,
          4.949606693274365,
          4.995756791912841,
          4.562877650325815,
          6.008651807444421,
          4.179318971632052,
          5.198589802577493,
          4.9817732144787605,
          3.7041599766429516,
          5.898927343235478,
          6.110468340411762,
          5.615324909679447,
          4.139339856584081,
          5.682014283898679,
          6.211493707843817,
          6.316724600616188,
          5.883873050515287,
          5.325508309093055,
          7.267500520662594,
          5.497686148824842,
          7.9926624992961095,
          7.739164545150962,
          5.733432839486419,
          6.410644043508871,
          6.835070645854967,
          10.335045834293824,
          7.285991515322289,
          7.909608625084597,
          7.377061743850409,
          6.462929435718408,
          6.708825445524163,
          6.738276528109417,
          6.039715123513071,
          6.268951764616823,
          8.485789480419875,
          9.059327900213427,
          8.273204311244914
         ],
         "type": "scatter",
         "showlegend": false
        }
       ],
       "layout": {
        "template": {
         "data": {
          "histogram2dcontour": [
           {
            "type": "histogram2dcontour",
            "colorbar": {
             "outlinewidth": 0,
             "ticks": ""
            },
            "colorscale": [
             [
              0.0,
              "#0d0887"
             ],
             [
              0.1111111111111111,
              "#46039f"
             ],
             [
              0.2222222222222222,
              "#7201a8"
             ],
             [
              0.3333333333333333,
              "#9c179e"
             ],
             [
              0.4444444444444444,
              "#bd3786"
             ],
             [
              0.5555555555555556,
              "#d8576b"
             ],
             [
              0.6666666666666666,
              "#ed7953"
             ],
             [
              0.7777777777777778,
              "#fb9f3a"
             ],
             [
              0.8888888888888888,
              "#fdca26"
             ],
             [
              1.0,
              "#f0f921"
             ]
            ]
           }
          ],
          "choropleth": [
           {
            "type": "choropleth",
            "colorbar": {
             "outlinewidth": 0,
             "ticks": ""
            }
           }
          ],
          "histogram2d": [
           {
            "type": "histogram2d",
            "colorbar": {
             "outlinewidth": 0,
             "ticks": ""
            },
            "colorscale": [
             [
              0.0,
              "#0d0887"
             ],
             [
              0.1111111111111111,
              "#46039f"
             ],
             [
              0.2222222222222222,
              "#7201a8"
             ],
             [
              0.3333333333333333,
              "#9c179e"
             ],
             [
              0.4444444444444444,
              "#bd3786"
             ],
             [
              0.5555555555555556,
              "#d8576b"
             ],
             [
              0.6666666666666666,
              "#ed7953"
             ],
             [
              0.7777777777777778,
              "#fb9f3a"
             ],
             [
              0.8888888888888888,
              "#fdca26"
             ],
             [
              1.0,
              "#f0f921"
             ]
            ]
           }
          ],
          "heatmap": [
           {
            "type": "heatmap",
            "colorbar": {
             "outlinewidth": 0,
             "ticks": ""
            },
            "colorscale": [
             [
              0.0,
              "#0d0887"
             ],
             [
              0.1111111111111111,
              "#46039f"
             ],
             [
              0.2222222222222222,
              "#7201a8"
             ],
             [
              0.3333333333333333,
              "#9c179e"
             ],
             [
              0.4444444444444444,
              "#bd3786"
             ],
             [
              0.5555555555555556,
              "#d8576b"
             ],
             [
              0.6666666666666666,
              "#ed7953"
             ],
             [
              0.7777777777777778,
              "#fb9f3a"
             ],
             [
              0.8888888888888888,
              "#fdca26"
             ],
             [
              1.0,
              "#f0f921"
             ]
            ]
           }
          ],
          "heatmapgl": [
           {
            "type": "heatmapgl",
            "colorbar": {
             "outlinewidth": 0,
             "ticks": ""
            },
            "colorscale": [
             [
              0.0,
              "#0d0887"
             ],
             [
              0.1111111111111111,
              "#46039f"
             ],
             [
              0.2222222222222222,
              "#7201a8"
             ],
             [
              0.3333333333333333,
              "#9c179e"
             ],
             [
              0.4444444444444444,
              "#bd3786"
             ],
             [
              0.5555555555555556,
              "#d8576b"
             ],
             [
              0.6666666666666666,
              "#ed7953"
             ],
             [
              0.7777777777777778,
              "#fb9f3a"
             ],
             [
              0.8888888888888888,
              "#fdca26"
             ],
             [
              1.0,
              "#f0f921"
             ]
            ]
           }
          ],
          "contourcarpet": [
           {
            "type": "contourcarpet",
            "colorbar": {
             "outlinewidth": 0,
             "ticks": ""
            }
           }
          ],
          "contour": [
           {
            "type": "contour",
            "colorbar": {
             "outlinewidth": 0,
             "ticks": ""
            },
            "colorscale": [
             [
              0.0,
              "#0d0887"
             ],
             [
              0.1111111111111111,
              "#46039f"
             ],
             [
              0.2222222222222222,
              "#7201a8"
             ],
             [
              0.3333333333333333,
              "#9c179e"
             ],
             [
              0.4444444444444444,
              "#bd3786"
             ],
             [
              0.5555555555555556,
              "#d8576b"
             ],
             [
              0.6666666666666666,
              "#ed7953"
             ],
             [
              0.7777777777777778,
              "#fb9f3a"
             ],
             [
              0.8888888888888888,
              "#fdca26"
             ],
             [
              1.0,
              "#f0f921"
             ]
            ]
           }
          ],
          "surface": [
           {
            "type": "surface",
            "colorbar": {
             "outlinewidth": 0,
             "ticks": ""
            },
            "colorscale": [
             [
              0.0,
              "#0d0887"
             ],
             [
              0.1111111111111111,
              "#46039f"
             ],
             [
              0.2222222222222222,
              "#7201a8"
             ],
             [
              0.3333333333333333,
              "#9c179e"
             ],
             [
              0.4444444444444444,
              "#bd3786"
             ],
             [
              0.5555555555555556,
              "#d8576b"
             ],
             [
              0.6666666666666666,
              "#ed7953"
             ],
             [
              0.7777777777777778,
              "#fb9f3a"
             ],
             [
              0.8888888888888888,
              "#fdca26"
             ],
             [
              1.0,
              "#f0f921"
             ]
            ]
           }
          ],
          "mesh3d": [
           {
            "type": "mesh3d",
            "colorbar": {
             "outlinewidth": 0,
             "ticks": ""
            }
           }
          ],
          "scatter": [
           {
            "marker": {
             "line": {
              "color": "#283442"
             }
            },
            "type": "scatter"
           }
          ],
          "parcoords": [
           {
            "type": "parcoords",
            "line": {
             "colorbar": {
              "outlinewidth": 0,
              "ticks": ""
             }
            }
           }
          ],
          "scatterpolargl": [
           {
            "type": "scatterpolargl",
            "marker": {
             "colorbar": {
              "outlinewidth": 0,
              "ticks": ""
             }
            }
           }
          ],
          "bar": [
           {
            "error_x": {
             "color": "#f2f5fa"
            },
            "error_y": {
             "color": "#f2f5fa"
            },
            "marker": {
             "line": {
              "color": "rgb(17,17,17)",
              "width": 0.5
             },
             "pattern": {
              "fillmode": "overlay",
              "size": 10,
              "solidity": 0.2
             }
            },
            "type": "bar"
           }
          ],
          "scattergeo": [
           {
            "type": "scattergeo",
            "marker": {
             "colorbar": {
              "outlinewidth": 0,
              "ticks": ""
             }
            }
           }
          ],
          "scatterpolar": [
           {
            "type": "scatterpolar",
            "marker": {
             "colorbar": {
              "outlinewidth": 0,
              "ticks": ""
             }
            }
           }
          ],
          "histogram": [
           {
            "marker": {
             "pattern": {
              "fillmode": "overlay",
              "size": 10,
              "solidity": 0.2
             }
            },
            "type": "histogram"
           }
          ],
          "scattergl": [
           {
            "marker": {
             "line": {
              "color": "#283442"
             }
            },
            "type": "scattergl"
           }
          ],
          "scatter3d": [
           {
            "type": "scatter3d",
            "line": {
             "colorbar": {
              "outlinewidth": 0,
              "ticks": ""
             }
            },
            "marker": {
             "colorbar": {
              "outlinewidth": 0,
              "ticks": ""
             }
            }
           }
          ],
          "scattermapbox": [
           {
            "type": "scattermapbox",
            "marker": {
             "colorbar": {
              "outlinewidth": 0,
              "ticks": ""
             }
            }
           }
          ],
          "scatterternary": [
           {
            "type": "scatterternary",
            "marker": {
             "colorbar": {
              "outlinewidth": 0,
              "ticks": ""
             }
            }
           }
          ],
          "scattercarpet": [
           {
            "type": "scattercarpet",
            "marker": {
             "colorbar": {
              "outlinewidth": 0,
              "ticks": ""
             }
            }
           }
          ],
          "carpet": [
           {
            "aaxis": {
             "endlinecolor": "#A2B1C6",
             "gridcolor": "#506784",
             "linecolor": "#506784",
             "minorgridcolor": "#506784",
             "startlinecolor": "#A2B1C6"
            },
            "baxis": {
             "endlinecolor": "#A2B1C6",
             "gridcolor": "#506784",
             "linecolor": "#506784",
             "minorgridcolor": "#506784",
             "startlinecolor": "#A2B1C6"
            },
            "type": "carpet"
           }
          ],
          "table": [
           {
            "cells": {
             "fill": {
              "color": "#506784"
             },
             "line": {
              "color": "rgb(17,17,17)"
             }
            },
            "header": {
             "fill": {
              "color": "#2a3f5f"
             },
             "line": {
              "color": "rgb(17,17,17)"
             }
            },
            "type": "table"
           }
          ],
          "barpolar": [
           {
            "marker": {
             "line": {
              "color": "rgb(17,17,17)",
              "width": 0.5
             },
             "pattern": {
              "fillmode": "overlay",
              "size": 10,
              "solidity": 0.2
             }
            },
            "type": "barpolar"
           }
          ],
          "pie": [
           {
            "automargin": true,
            "type": "pie"
           }
          ]
         },
         "layout": {
          "autotypenumbers": "strict",
          "colorway": [
           "#636efa",
           "#EF553B",
           "#00cc96",
           "#ab63fa",
           "#FFA15A",
           "#19d3f3",
           "#FF6692",
           "#B6E880",
           "#FF97FF",
           "#FECB52"
          ],
          "font": {
           "color": "#f2f5fa"
          },
          "hovermode": "closest",
          "hoverlabel": {
           "align": "left"
          },
          "paper_bgcolor": "rgb(17,17,17)",
          "plot_bgcolor": "rgb(17,17,17)",
          "polar": {
           "bgcolor": "rgb(17,17,17)",
           "angularaxis": {
            "gridcolor": "#506784",
            "linecolor": "#506784",
            "ticks": ""
           },
           "radialaxis": {
            "gridcolor": "#506784",
            "linecolor": "#506784",
            "ticks": ""
           }
          },
          "ternary": {
           "bgcolor": "rgb(17,17,17)",
           "aaxis": {
            "gridcolor": "#506784",
            "linecolor": "#506784",
            "ticks": ""
           },
           "baxis": {
            "gridcolor": "#506784",
            "linecolor": "#506784",
            "ticks": ""
           },
           "caxis": {
            "gridcolor": "#506784",
            "linecolor": "#506784",
            "ticks": ""
           }
          },
          "coloraxis": {
           "colorbar": {
            "outlinewidth": 0,
            "ticks": ""
           }
          },
          "colorscale": {
           "sequential": [
            [
             0.0,
             "#0d0887"
            ],
            [
             0.1111111111111111,
             "#46039f"
            ],
            [
             0.2222222222222222,
             "#7201a8"
            ],
            [
             0.3333333333333333,
             "#9c179e"
            ],
            [
             0.4444444444444444,
             "#bd3786"
            ],
            [
             0.5555555555555556,
             "#d8576b"
            ],
            [
             0.6666666666666666,
             "#ed7953"
            ],
            [
             0.7777777777777778,
             "#fb9f3a"
            ],
            [
             0.8888888888888888,
             "#fdca26"
            ],
            [
             1.0,
             "#f0f921"
            ]
           ],
           "sequentialminus": [
            [
             0.0,
             "#0d0887"
            ],
            [
             0.1111111111111111,
             "#46039f"
            ],
            [
             0.2222222222222222,
             "#7201a8"
            ],
            [
             0.3333333333333333,
             "#9c179e"
            ],
            [
             0.4444444444444444,
             "#bd3786"
            ],
            [
             0.5555555555555556,
             "#d8576b"
            ],
            [
             0.6666666666666666,
             "#ed7953"
            ],
            [
             0.7777777777777778,
             "#fb9f3a"
            ],
            [
             0.8888888888888888,
             "#fdca26"
            ],
            [
             1.0,
             "#f0f921"
            ]
           ],
           "diverging": [
            [
             0,
             "#8e0152"
            ],
            [
             0.1,
             "#c51b7d"
            ],
            [
             0.2,
             "#de77ae"
            ],
            [
             0.3,
             "#f1b6da"
            ],
            [
             0.4,
             "#fde0ef"
            ],
            [
             0.5,
             "#f7f7f7"
            ],
            [
             0.6,
             "#e6f5d0"
            ],
            [
             0.7,
             "#b8e186"
            ],
            [
             0.8,
             "#7fbc41"
            ],
            [
             0.9,
             "#4d9221"
            ],
            [
             1,
             "#276419"
            ]
           ]
          },
          "xaxis": {
           "gridcolor": "#283442",
           "linecolor": "#506784",
           "ticks": "",
           "title": {
            "standoff": 15
           },
           "zerolinecolor": "#283442",
           "automargin": true,
           "zerolinewidth": 2
          },
          "yaxis": {
           "gridcolor": "#283442",
           "linecolor": "#506784",
           "ticks": "",
           "title": {
            "standoff": 15
           },
           "zerolinecolor": "#283442",
           "automargin": true,
           "zerolinewidth": 2
          },
          "scene": {
           "xaxis": {
            "backgroundcolor": "rgb(17,17,17)",
            "gridcolor": "#506784",
            "linecolor": "#506784",
            "showbackground": true,
            "ticks": "",
            "zerolinecolor": "#C8D4E3",
            "gridwidth": 2
           },
           "yaxis": {
            "backgroundcolor": "rgb(17,17,17)",
            "gridcolor": "#506784",
            "linecolor": "#506784",
            "showbackground": true,
            "ticks": "",
            "zerolinecolor": "#C8D4E3",
            "gridwidth": 2
           },
           "zaxis": {
            "backgroundcolor": "rgb(17,17,17)",
            "gridcolor": "#506784",
            "linecolor": "#506784",
            "showbackground": true,
            "ticks": "",
            "zerolinecolor": "#C8D4E3",
            "gridwidth": 2
           }
          },
          "shapedefaults": {
           "line": {
            "color": "#f2f5fa"
           }
          },
          "annotationdefaults": {
           "arrowcolor": "#f2f5fa",
           "arrowhead": 0,
           "arrowwidth": 1
          },
          "geo": {
           "bgcolor": "rgb(17,17,17)",
           "landcolor": "rgb(17,17,17)",
           "subunitcolor": "#506784",
           "showland": true,
           "showlakes": true,
           "lakecolor": "rgb(17,17,17)"
          },
          "title": {
           "x": 0.05
          },
          "updatemenudefaults": {
           "bgcolor": "#506784",
           "borderwidth": 0
          },
          "sliderdefaults": {
           "bgcolor": "#C8D4E3",
           "borderwidth": 1,
           "bordercolor": "rgb(17,17,17)",
           "tickwidth": 0
          },
          "mapbox": {
           "style": "dark"
          }
         }
        },
        "title": {
         "text": "aragon's Trajectory",
         "x": 0.5,
         "y": 0.95
        },
        "xaxis": {
         "title": {
          "text": "#nodes"
         },
         "linecolor": "black"
        },
        "yaxis": {
         "title": {
          "text": "alpha"
         },
         "linecolor": "black"
        },
        "paper_bgcolor": "white",
        "plot_bgcolor": "white",
        "width": 1000
       },
       "config": {
        "plotlyServerURL": "https://plot.ly"
       }
      },
      "text/html": "<div>                            <div id=\"5104e4ff-bf70-40f3-8e41-a7e199f955ae\" class=\"plotly-graph-div\" style=\"height:525px; width:1000px;\"></div>            <script type=\"text/javascript\">                require([\"plotly\"], function(Plotly) {                    window.PLOTLYENV=window.PLOTLYENV || {};                                    if (document.getElementById(\"5104e4ff-bf70-40f3-8e41-a7e199f955ae\")) {                    Plotly.newPlot(                        \"5104e4ff-bf70-40f3-8e41-a7e199f955ae\",                        [{\"line\":{\"color\":\"black\",\"width\":1},\"mode\":\"lines\",\"name\":\"Line\",\"x\":[994,915,478,467,310,322,356,594,356,335,215,213,242,343,316,230,227,251,294,257,307,339,449,434,328,425,410,292,325,267,251,246,229,242,207,171,276,230,202,207,263,174,239,208,187,163,173,127,145,133,149,288,235,235,335,602,477,382,382,286,273,306,401,374,390,345,345,332,351,338,348,349,370,313,265,290,102,229,426,423,494,374,479,499,468,695,725,573,600,508,420,367,401,345,396,387,428,315,374,373,381,384,390,464,484,483,515,581,400,297,449,610,342,432,484,318,291,268,288,268,257,270,199,194,263,258,207,245,193,187,206,230,222,206,256,182,224,207,218,258,216,222,252,168,235,285,280,231,291,644,318,236,254,368,233,289,282,260,223,280,354,234,257,203,221,285,235,274,416,405,377,331,265,259,209,300,503,479,346,458,304,176,349,357,429,380,446,393,432,540,456,401,648,627,753,765,770,458,471,581,549,505,566,314,186,545,324,417,676,902,853,685,520,572,637,633,1042,732,778,609,567,459,639,589,565,545,703,554,544,464,449,1039,596,1124,819,649,552,249,339,845,570,701,640,521,605,400,411,364,412,336,343,610,327,376,468,512,395,375,381,298,304,460,271,249,294,268,197,175,179,217,147,165,212,291,225,229,192,141,209,227,225,159,114,136,110,112,207,146,185],\"y\":[12.17069435435016,8.889134188890228,6.7820908269582,12.657813455101612,6.552929080964145,6.452563410886842,12.252801387728818,5.318663539006105,4.578060124941151,4.811172759989585,9.899071564151017,3.6076573931781146,9.454188084374039,5.400189800855267,5.56725451276625,9.964327351130022,9.167963252921137,3.7625612603332863,5.63940235632892,4.102202591094496,5.595447890120214,5.2736248142409545,10.944011370797158,11.433664300449466,5.324070282168137,4.882512032097746,7.609644953641261,4.9202502689650105,11.349784797788608,4.604723900957564,4.626460960013279,8.106632191739646,7.289184109384004,10.591875006731538,8.964053393105807,10.982131633986853,11.881369577822289,4.522467158826464,3.5941989199620683,4.710082418054592,4.143627107238924,4.353899860768754,3.983074221458902,7.667993263266916,8.670053136633445,3.7608880102723967,3.9926429953937954,8.4527221877729,8.598266771644106,7.808244480970112,3.371280023092698,1.929667387598046,11.370679557888927,3.901833418188246,4.399216700431515,6.2899657703594825,6.0377382994297,5.724985161651024,7.599127930047139,6.855409587532748,6.644188429865808,5.955394214202025,5.432646211392101,7.0409027061510585,8.211433140828085,6.43092870213759,7.892112085604291,7.6758374321414955,7.229165633749675,7.593144897584306,5.45801057232685,7.147103949373012,8.40576887942101,6.611055379054814,5.979709494088782,9.062362624859906,10.210259498191174,5.253158291527376,7.9456228149718005,7.060734815427647,9.717323359342124,9.002038906446368,9.75940296224077,10.763713224181497,9.889256385084368,9.18959979297597,10.01332142235026,11.97997029030871,12.774450954472977,11.513987406906821,9.620139784533292,8.421584037873473,10.21654555213278,8.04811808692848,9.956124801708853,7.83356206224671,9.638690012558103,7.654296219795215,8.42231212717511,8.00368749463706,8.165555717076668,7.650462497799427,9.542138231905966,8.490428957388616,8.94945309064483,10.236720740118342,10.97436032991281,9.990876928931037,12.542972125712936,3.7801808328443407,4.127009200980975,6.3771269617566935,3.9322636777011764,4.139661138004383,6.175479669633157,6.711663081375308,6.826705292947568,5.288002593859665,7.275227856895159,7.254724571439977,9.292391830577253,8.58203406792677,5.441505369862605,5.782706116969309,6.905266192679485,6.276760175158616,6.7181712281529125,7.822047199183082,6.444725594398593,5.7304838763685195,9.090677911642262,6.793092826726407,7.83362345079114,7.887249613244143,9.00533385732138,5.547579460110363,5.907919938594834,6.385991595197488,6.3159696021631975,5.325991310210549,5.620264032756201,7.93439320265867,6.331817609785375,5.773295357956457,8.210194610814513,9.384789409115072,7.098525169617756,7.254724571439976,8.81647279593625,11.855980664545294,8.029758457076042,6.322546806124169,6.663119241823983,5.990638743283103,6.26198620021152,7.521101992641508,8.50989418857019,9.194673269356716,7.155578437242937,9.645739507955017,8.65536583726707,6.635548625923082,6.232749915019894,8.955145512673909,7.001184703914519,9.500309204575668,7.361267705551001,9.324790930889833,10.596895912819999,10.548997349083956,6.6323388517987505,9.457328526308643,10.12368674096929,8.143787358477812,6.078446403461957,9.285789221497897,9.005899488237814,11.045271217620554,11.038634409410943,12.135670767463969,7.347562092122233,4.493059106106314,11.175564283363618,9.292809583975671,7.235326385538142,9.416926459536285,9.948013972855858,8.35544000008533,8.9263215392616,11.141743916821596,10.558855007549926,10.37669913832935,11.497459681579702,15.180381735363703,11.78891517704061,10.848896251284232,15.826375828906782,10.789854901642387,9.178739399020952,12.225716179201678,13.39903587861074,12.01440704985615,4.65307252050803,10.869506166532005,10.499453322699278,7.412780764896589,8.745093214183445,8.783094687747472,12.915988647468584,13.1032864552462,14.236935982207664,11.923515655123898,10.345886549003113,9.76697860406085,10.337091336406386,8.096017147897781,9.745775360847677,15.061555541402775,10.235127743126002,10.174926383554329,7.054622974014516,7.000155026095319,8.188755715601468,9.084106310194413,10.099021839580306,10.33399057045027,8.558344130467033,7.668105543422525,8.756261934732363,13.647923501086,11.062475415094017,9.716786610549022,23.342330218086154,10.87507104273975,6.97719184648224,2.3806203396764984,4.444819825990479,10.13156206418593,4.874695237765682,2.6818395659579632,8.502308506685043,2.653251122246103,8.589310824112863,10.183366963052915,14.378228791928647,14.340341722521076,8.61096358935226,8.705810204959825,10.401917716973463,9.733300099743298,6.652891821797146,8.879506544884737,9.557143544924623,10.852281793069224,10.911483075022621,11.143257333685696,13.081771940049736,9.066984252809052,9.853573588151933,9.28483508872082,8.329939839731358,10.865729094134325,7.850333277348601,8.672657064900568,9.664814406495701,8.922735910452303,7.100510690653402,7.713292156465677,8.63286700963832,6.427629843673622,6.728820339800517,6.47256616322129,9.002001182486497,10.843163123207693,9.051071384813484,7.919525125223871,7.545994237741757,4.992844952959631,6.997510801878118,6.811776420951162,6.129386578444561,6.52951353827717,6.366674733364444,4.850751148339419,6.862033785371956,6.7117957815000855,6.87446798159053,5.605156759949983,6.67796777143289],\"type\":\"scatter\",\"showlegend\":false},{\"line\":{\"color\":\"black\"},\"mode\":\"markers\",\"name\":\"Scatter\",\"x\":[994,915,478,467,310,322,356,594,356,335,215,213,242,343,316,230,227,251,294,257,307,339,449,434,328,425,410,292,325,267,251,246,229,242,207,171,276,230,202,207,263,174,239,208,187,163,173,127,145,133,149,288,235,235,335,602,477,382,382,286,273,306,401,374,390,345,345,332,351,338,348,349,370,313,265,290,102,229,426,423,494,374,479,499,468,695,725,573,600,508,420,367,401,345,396,387,428,315,374,373,381,384,390,464,484,483,515,581,400,297,449,610,342,432,484,318,291,268,288,268,257,270,199,194,263,258,207,245,193,187,206,230,222,206,256,182,224,207,218,258,216,222,252,168,235,285,280,231,291,644,318,236,254,368,233,289,282,260,223,280,354,234,257,203,221,285,235,274,416,405,377,331,265,259,209,300,503,479,346,458,304,176,349,357,429,380,446,393,432,540,456,401,648,627,753,765,770,458,471,581,549,505,566,314,186,545,324,417,676,902,853,685,520,572,637,633,1042,732,778,609,567,459,639,589,565,545,703,554,544,464,449,1039,596,1124,819,649,552,249,339,845,570,701,640,521,605,400,411,364,412,336,343,610,327,376,468,512,395,375,381,298,304,460,271,249,294,268,197,175,179,217,147,165,212,291,225,229,192,141,209,227,225,159,114,136,110,112,207,146,185],\"y\":[12.17069435435016,8.889134188890228,6.7820908269582,12.657813455101612,6.552929080964145,6.452563410886842,12.252801387728818,5.318663539006105,4.578060124941151,4.811172759989585,9.899071564151017,3.6076573931781146,9.454188084374039,5.400189800855267,5.56725451276625,9.964327351130022,9.167963252921137,3.7625612603332863,5.63940235632892,4.102202591094496,5.595447890120214,5.2736248142409545,10.944011370797158,11.433664300449466,5.324070282168137,4.882512032097746,7.609644953641261,4.9202502689650105,11.349784797788608,4.604723900957564,4.626460960013279,8.106632191739646,7.289184109384004,10.591875006731538,8.964053393105807,10.982131633986853,11.881369577822289,4.522467158826464,3.5941989199620683,4.710082418054592,4.143627107238924,4.353899860768754,3.983074221458902,7.667993263266916,8.670053136633445,3.7608880102723967,3.9926429953937954,8.4527221877729,8.598266771644106,7.808244480970112,3.371280023092698,1.929667387598046,11.370679557888927,3.901833418188246,4.399216700431515,6.2899657703594825,6.0377382994297,5.724985161651024,7.599127930047139,6.855409587532748,6.644188429865808,5.955394214202025,5.432646211392101,7.0409027061510585,8.211433140828085,6.43092870213759,7.892112085604291,7.6758374321414955,7.229165633749675,7.593144897584306,5.45801057232685,7.147103949373012,8.40576887942101,6.611055379054814,5.979709494088782,9.062362624859906,10.210259498191174,5.253158291527376,7.9456228149718005,7.060734815427647,9.717323359342124,9.002038906446368,9.75940296224077,10.763713224181497,9.889256385084368,9.18959979297597,10.01332142235026,11.97997029030871,12.774450954472977,11.513987406906821,9.620139784533292,8.421584037873473,10.21654555213278,8.04811808692848,9.956124801708853,7.83356206224671,9.638690012558103,7.654296219795215,8.42231212717511,8.00368749463706,8.165555717076668,7.650462497799427,9.542138231905966,8.490428957388616,8.94945309064483,10.236720740118342,10.97436032991281,9.990876928931037,12.542972125712936,3.7801808328443407,4.127009200980975,6.3771269617566935,3.9322636777011764,4.139661138004383,6.175479669633157,6.711663081375308,6.826705292947568,5.288002593859665,7.275227856895159,7.254724571439977,9.292391830577253,8.58203406792677,5.441505369862605,5.782706116969309,6.905266192679485,6.276760175158616,6.7181712281529125,7.822047199183082,6.444725594398593,5.7304838763685195,9.090677911642262,6.793092826726407,7.83362345079114,7.887249613244143,9.00533385732138,5.547579460110363,5.907919938594834,6.385991595197488,6.3159696021631975,5.325991310210549,5.620264032756201,7.93439320265867,6.331817609785375,5.773295357956457,8.210194610814513,9.384789409115072,7.098525169617756,7.254724571439976,8.81647279593625,11.855980664545294,8.029758457076042,6.322546806124169,6.663119241823983,5.990638743283103,6.26198620021152,7.521101992641508,8.50989418857019,9.194673269356716,7.155578437242937,9.645739507955017,8.65536583726707,6.635548625923082,6.232749915019894,8.955145512673909,7.001184703914519,9.500309204575668,7.361267705551001,9.324790930889833,10.596895912819999,10.548997349083956,6.6323388517987505,9.457328526308643,10.12368674096929,8.143787358477812,6.078446403461957,9.285789221497897,9.005899488237814,11.045271217620554,11.038634409410943,12.135670767463969,7.347562092122233,4.493059106106314,11.175564283363618,9.292809583975671,7.235326385538142,9.416926459536285,9.948013972855858,8.35544000008533,8.9263215392616,11.141743916821596,10.558855007549926,10.37669913832935,11.497459681579702,15.180381735363703,11.78891517704061,10.848896251284232,15.826375828906782,10.789854901642387,9.178739399020952,12.225716179201678,13.39903587861074,12.01440704985615,4.65307252050803,10.869506166532005,10.499453322699278,7.412780764896589,8.745093214183445,8.783094687747472,12.915988647468584,13.1032864552462,14.236935982207664,11.923515655123898,10.345886549003113,9.76697860406085,10.337091336406386,8.096017147897781,9.745775360847677,15.061555541402775,10.235127743126002,10.174926383554329,7.054622974014516,7.000155026095319,8.188755715601468,9.084106310194413,10.099021839580306,10.33399057045027,8.558344130467033,7.668105543422525,8.756261934732363,13.647923501086,11.062475415094017,9.716786610549022,23.342330218086154,10.87507104273975,6.97719184648224,2.3806203396764984,4.444819825990479,10.13156206418593,4.874695237765682,2.6818395659579632,8.502308506685043,2.653251122246103,8.589310824112863,10.183366963052915,14.378228791928647,14.340341722521076,8.61096358935226,8.705810204959825,10.401917716973463,9.733300099743298,6.652891821797146,8.879506544884737,9.557143544924623,10.852281793069224,10.911483075022621,11.143257333685696,13.081771940049736,9.066984252809052,9.853573588151933,9.28483508872082,8.329939839731358,10.865729094134325,7.850333277348601,8.672657064900568,9.664814406495701,8.922735910452303,7.100510690653402,7.713292156465677,8.63286700963832,6.427629843673622,6.728820339800517,6.47256616322129,9.002001182486497,10.843163123207693,9.051071384813484,7.919525125223871,7.545994237741757,4.992844952959631,6.997510801878118,6.811776420951162,6.129386578444561,6.52951353827717,6.366674733364444,4.850751148339419,6.862033785371956,6.7117957815000855,6.87446798159053,5.605156759949983,6.67796777143289],\"type\":\"scatter\",\"showlegend\":false},{\"line\":{\"color\":\"red\",\"width\":1},\"mode\":\"lines\",\"name\":\"Line\",\"x\":[170,238,139,351,205,182,171,159,143,99,104,77,124,124,94,108,150,95,154,195,149,89,106,91,93,110,91,106,118,102,89,88,92,89,78,76,64,80,70,97,89,113,124,94,145,109,117,133,145,223,156,142,138,182,135,201,130,130,147,110,109,112,170,149,130],\"y\":[4.574004004512423,6.377132883061421,6.3408347457224865,8.782498209258627,7.9504992343532015,6.266142257699156,6.820160489494693,6.63198477548805,5.554567569685393,4.624393940611294,5.843217542270862,5.2962967376385475,5.360244586244256,4.554651085149377,5.488825142158639,5.315706295405006,6.681693245787357,5.894722505414693,6.0209468344773525,6.634877416470326,7.48756869632813,4.604204831293406,5.979215353106787,5.860820089297309,6.3365743250332,5.834550603201835,6.584486995116979,5.077399901830674,5.567284302398831,4.949606693274365,4.995756791912841,4.562877650325815,6.008651807444421,4.179318971632052,5.198589802577493,4.9817732144787605,3.7041599766429516,5.898927343235478,6.110468340411762,5.615324909679447,4.139339856584081,5.682014283898679,6.211493707843817,6.316724600616188,5.883873050515287,5.325508309093055,7.267500520662594,5.497686148824842,7.9926624992961095,7.739164545150962,5.733432839486419,6.410644043508871,6.835070645854967,10.335045834293824,7.285991515322289,7.909608625084597,7.377061743850409,6.462929435718408,6.708825445524163,6.738276528109417,6.039715123513071,6.268951764616823,8.485789480419875,9.059327900213427,8.273204311244914],\"type\":\"scatter\",\"showlegend\":false},{\"line\":{\"color\":\"red\"},\"mode\":\"markers\",\"name\":\"Scatter\",\"x\":[170,238,139,351,205,182,171,159,143,99,104,77,124,124,94,108,150,95,154,195,149,89,106,91,93,110,91,106,118,102,89,88,92,89,78,76,64,80,70,97,89,113,124,94,145,109,117,133,145,223,156,142,138,182,135,201,130,130,147,110,109,112,170,149,130],\"y\":[4.574004004512423,6.377132883061421,6.3408347457224865,8.782498209258627,7.9504992343532015,6.266142257699156,6.820160489494693,6.63198477548805,5.554567569685393,4.624393940611294,5.843217542270862,5.2962967376385475,5.360244586244256,4.554651085149377,5.488825142158639,5.315706295405006,6.681693245787357,5.894722505414693,6.0209468344773525,6.634877416470326,7.48756869632813,4.604204831293406,5.979215353106787,5.860820089297309,6.3365743250332,5.834550603201835,6.584486995116979,5.077399901830674,5.567284302398831,4.949606693274365,4.995756791912841,4.562877650325815,6.008651807444421,4.179318971632052,5.198589802577493,4.9817732144787605,3.7041599766429516,5.898927343235478,6.110468340411762,5.615324909679447,4.139339856584081,5.682014283898679,6.211493707843817,6.316724600616188,5.883873050515287,5.325508309093055,7.267500520662594,5.497686148824842,7.9926624992961095,7.739164545150962,5.733432839486419,6.410644043508871,6.835070645854967,10.335045834293824,7.285991515322289,7.909608625084597,7.377061743850409,6.462929435718408,6.708825445524163,6.738276528109417,6.039715123513071,6.268951764616823,8.485789480419875,9.059327900213427,8.273204311244914],\"type\":\"scatter\",\"showlegend\":false}],                        {\"template\":{\"data\":{\"histogram2dcontour\":[{\"type\":\"histogram2dcontour\",\"colorbar\":{\"outlinewidth\":0,\"ticks\":\"\"},\"colorscale\":[[0.0,\"#0d0887\"],[0.1111111111111111,\"#46039f\"],[0.2222222222222222,\"#7201a8\"],[0.3333333333333333,\"#9c179e\"],[0.4444444444444444,\"#bd3786\"],[0.5555555555555556,\"#d8576b\"],[0.6666666666666666,\"#ed7953\"],[0.7777777777777778,\"#fb9f3a\"],[0.8888888888888888,\"#fdca26\"],[1.0,\"#f0f921\"]]}],\"choropleth\":[{\"type\":\"choropleth\",\"colorbar\":{\"outlinewidth\":0,\"ticks\":\"\"}}],\"histogram2d\":[{\"type\":\"histogram2d\",\"colorbar\":{\"outlinewidth\":0,\"ticks\":\"\"},\"colorscale\":[[0.0,\"#0d0887\"],[0.1111111111111111,\"#46039f\"],[0.2222222222222222,\"#7201a8\"],[0.3333333333333333,\"#9c179e\"],[0.4444444444444444,\"#bd3786\"],[0.5555555555555556,\"#d8576b\"],[0.6666666666666666,\"#ed7953\"],[0.7777777777777778,\"#fb9f3a\"],[0.8888888888888888,\"#fdca26\"],[1.0,\"#f0f921\"]]}],\"heatmap\":[{\"type\":\"heatmap\",\"colorbar\":{\"outlinewidth\":0,\"ticks\":\"\"},\"colorscale\":[[0.0,\"#0d0887\"],[0.1111111111111111,\"#46039f\"],[0.2222222222222222,\"#7201a8\"],[0.3333333333333333,\"#9c179e\"],[0.4444444444444444,\"#bd3786\"],[0.5555555555555556,\"#d8576b\"],[0.6666666666666666,\"#ed7953\"],[0.7777777777777778,\"#fb9f3a\"],[0.8888888888888888,\"#fdca26\"],[1.0,\"#f0f921\"]]}],\"heatmapgl\":[{\"type\":\"heatmapgl\",\"colorbar\":{\"outlinewidth\":0,\"ticks\":\"\"},\"colorscale\":[[0.0,\"#0d0887\"],[0.1111111111111111,\"#46039f\"],[0.2222222222222222,\"#7201a8\"],[0.3333333333333333,\"#9c179e\"],[0.4444444444444444,\"#bd3786\"],[0.5555555555555556,\"#d8576b\"],[0.6666666666666666,\"#ed7953\"],[0.7777777777777778,\"#fb9f3a\"],[0.8888888888888888,\"#fdca26\"],[1.0,\"#f0f921\"]]}],\"contourcarpet\":[{\"type\":\"contourcarpet\",\"colorbar\":{\"outlinewidth\":0,\"ticks\":\"\"}}],\"contour\":[{\"type\":\"contour\",\"colorbar\":{\"outlinewidth\":0,\"ticks\":\"\"},\"colorscale\":[[0.0,\"#0d0887\"],[0.1111111111111111,\"#46039f\"],[0.2222222222222222,\"#7201a8\"],[0.3333333333333333,\"#9c179e\"],[0.4444444444444444,\"#bd3786\"],[0.5555555555555556,\"#d8576b\"],[0.6666666666666666,\"#ed7953\"],[0.7777777777777778,\"#fb9f3a\"],[0.8888888888888888,\"#fdca26\"],[1.0,\"#f0f921\"]]}],\"surface\":[{\"type\":\"surface\",\"colorbar\":{\"outlinewidth\":0,\"ticks\":\"\"},\"colorscale\":[[0.0,\"#0d0887\"],[0.1111111111111111,\"#46039f\"],[0.2222222222222222,\"#7201a8\"],[0.3333333333333333,\"#9c179e\"],[0.4444444444444444,\"#bd3786\"],[0.5555555555555556,\"#d8576b\"],[0.6666666666666666,\"#ed7953\"],[0.7777777777777778,\"#fb9f3a\"],[0.8888888888888888,\"#fdca26\"],[1.0,\"#f0f921\"]]}],\"mesh3d\":[{\"type\":\"mesh3d\",\"colorbar\":{\"outlinewidth\":0,\"ticks\":\"\"}}],\"scatter\":[{\"marker\":{\"line\":{\"color\":\"#283442\"}},\"type\":\"scatter\"}],\"parcoords\":[{\"type\":\"parcoords\",\"line\":{\"colorbar\":{\"outlinewidth\":0,\"ticks\":\"\"}}}],\"scatterpolargl\":[{\"type\":\"scatterpolargl\",\"marker\":{\"colorbar\":{\"outlinewidth\":0,\"ticks\":\"\"}}}],\"bar\":[{\"error_x\":{\"color\":\"#f2f5fa\"},\"error_y\":{\"color\":\"#f2f5fa\"},\"marker\":{\"line\":{\"color\":\"rgb(17,17,17)\",\"width\":0.5},\"pattern\":{\"fillmode\":\"overlay\",\"size\":10,\"solidity\":0.2}},\"type\":\"bar\"}],\"scattergeo\":[{\"type\":\"scattergeo\",\"marker\":{\"colorbar\":{\"outlinewidth\":0,\"ticks\":\"\"}}}],\"scatterpolar\":[{\"type\":\"scatterpolar\",\"marker\":{\"colorbar\":{\"outlinewidth\":0,\"ticks\":\"\"}}}],\"histogram\":[{\"marker\":{\"pattern\":{\"fillmode\":\"overlay\",\"size\":10,\"solidity\":0.2}},\"type\":\"histogram\"}],\"scattergl\":[{\"marker\":{\"line\":{\"color\":\"#283442\"}},\"type\":\"scattergl\"}],\"scatter3d\":[{\"type\":\"scatter3d\",\"line\":{\"colorbar\":{\"outlinewidth\":0,\"ticks\":\"\"}},\"marker\":{\"colorbar\":{\"outlinewidth\":0,\"ticks\":\"\"}}}],\"scattermapbox\":[{\"type\":\"scattermapbox\",\"marker\":{\"colorbar\":{\"outlinewidth\":0,\"ticks\":\"\"}}}],\"scatterternary\":[{\"type\":\"scatterternary\",\"marker\":{\"colorbar\":{\"outlinewidth\":0,\"ticks\":\"\"}}}],\"scattercarpet\":[{\"type\":\"scattercarpet\",\"marker\":{\"colorbar\":{\"outlinewidth\":0,\"ticks\":\"\"}}}],\"carpet\":[{\"aaxis\":{\"endlinecolor\":\"#A2B1C6\",\"gridcolor\":\"#506784\",\"linecolor\":\"#506784\",\"minorgridcolor\":\"#506784\",\"startlinecolor\":\"#A2B1C6\"},\"baxis\":{\"endlinecolor\":\"#A2B1C6\",\"gridcolor\":\"#506784\",\"linecolor\":\"#506784\",\"minorgridcolor\":\"#506784\",\"startlinecolor\":\"#A2B1C6\"},\"type\":\"carpet\"}],\"table\":[{\"cells\":{\"fill\":{\"color\":\"#506784\"},\"line\":{\"color\":\"rgb(17,17,17)\"}},\"header\":{\"fill\":{\"color\":\"#2a3f5f\"},\"line\":{\"color\":\"rgb(17,17,17)\"}},\"type\":\"table\"}],\"barpolar\":[{\"marker\":{\"line\":{\"color\":\"rgb(17,17,17)\",\"width\":0.5},\"pattern\":{\"fillmode\":\"overlay\",\"size\":10,\"solidity\":0.2}},\"type\":\"barpolar\"}],\"pie\":[{\"automargin\":true,\"type\":\"pie\"}]},\"layout\":{\"autotypenumbers\":\"strict\",\"colorway\":[\"#636efa\",\"#EF553B\",\"#00cc96\",\"#ab63fa\",\"#FFA15A\",\"#19d3f3\",\"#FF6692\",\"#B6E880\",\"#FF97FF\",\"#FECB52\"],\"font\":{\"color\":\"#f2f5fa\"},\"hovermode\":\"closest\",\"hoverlabel\":{\"align\":\"left\"},\"paper_bgcolor\":\"rgb(17,17,17)\",\"plot_bgcolor\":\"rgb(17,17,17)\",\"polar\":{\"bgcolor\":\"rgb(17,17,17)\",\"angularaxis\":{\"gridcolor\":\"#506784\",\"linecolor\":\"#506784\",\"ticks\":\"\"},\"radialaxis\":{\"gridcolor\":\"#506784\",\"linecolor\":\"#506784\",\"ticks\":\"\"}},\"ternary\":{\"bgcolor\":\"rgb(17,17,17)\",\"aaxis\":{\"gridcolor\":\"#506784\",\"linecolor\":\"#506784\",\"ticks\":\"\"},\"baxis\":{\"gridcolor\":\"#506784\",\"linecolor\":\"#506784\",\"ticks\":\"\"},\"caxis\":{\"gridcolor\":\"#506784\",\"linecolor\":\"#506784\",\"ticks\":\"\"}},\"coloraxis\":{\"colorbar\":{\"outlinewidth\":0,\"ticks\":\"\"}},\"colorscale\":{\"sequential\":[[0.0,\"#0d0887\"],[0.1111111111111111,\"#46039f\"],[0.2222222222222222,\"#7201a8\"],[0.3333333333333333,\"#9c179e\"],[0.4444444444444444,\"#bd3786\"],[0.5555555555555556,\"#d8576b\"],[0.6666666666666666,\"#ed7953\"],[0.7777777777777778,\"#fb9f3a\"],[0.8888888888888888,\"#fdca26\"],[1.0,\"#f0f921\"]],\"sequentialminus\":[[0.0,\"#0d0887\"],[0.1111111111111111,\"#46039f\"],[0.2222222222222222,\"#7201a8\"],[0.3333333333333333,\"#9c179e\"],[0.4444444444444444,\"#bd3786\"],[0.5555555555555556,\"#d8576b\"],[0.6666666666666666,\"#ed7953\"],[0.7777777777777778,\"#fb9f3a\"],[0.8888888888888888,\"#fdca26\"],[1.0,\"#f0f921\"]],\"diverging\":[[0,\"#8e0152\"],[0.1,\"#c51b7d\"],[0.2,\"#de77ae\"],[0.3,\"#f1b6da\"],[0.4,\"#fde0ef\"],[0.5,\"#f7f7f7\"],[0.6,\"#e6f5d0\"],[0.7,\"#b8e186\"],[0.8,\"#7fbc41\"],[0.9,\"#4d9221\"],[1,\"#276419\"]]},\"xaxis\":{\"gridcolor\":\"#283442\",\"linecolor\":\"#506784\",\"ticks\":\"\",\"title\":{\"standoff\":15},\"zerolinecolor\":\"#283442\",\"automargin\":true,\"zerolinewidth\":2},\"yaxis\":{\"gridcolor\":\"#283442\",\"linecolor\":\"#506784\",\"ticks\":\"\",\"title\":{\"standoff\":15},\"zerolinecolor\":\"#283442\",\"automargin\":true,\"zerolinewidth\":2},\"scene\":{\"xaxis\":{\"backgroundcolor\":\"rgb(17,17,17)\",\"gridcolor\":\"#506784\",\"linecolor\":\"#506784\",\"showbackground\":true,\"ticks\":\"\",\"zerolinecolor\":\"#C8D4E3\",\"gridwidth\":2},\"yaxis\":{\"backgroundcolor\":\"rgb(17,17,17)\",\"gridcolor\":\"#506784\",\"linecolor\":\"#506784\",\"showbackground\":true,\"ticks\":\"\",\"zerolinecolor\":\"#C8D4E3\",\"gridwidth\":2},\"zaxis\":{\"backgroundcolor\":\"rgb(17,17,17)\",\"gridcolor\":\"#506784\",\"linecolor\":\"#506784\",\"showbackground\":true,\"ticks\":\"\",\"zerolinecolor\":\"#C8D4E3\",\"gridwidth\":2}},\"shapedefaults\":{\"line\":{\"color\":\"#f2f5fa\"}},\"annotationdefaults\":{\"arrowcolor\":\"#f2f5fa\",\"arrowhead\":0,\"arrowwidth\":1},\"geo\":{\"bgcolor\":\"rgb(17,17,17)\",\"landcolor\":\"rgb(17,17,17)\",\"subunitcolor\":\"#506784\",\"showland\":true,\"showlakes\":true,\"lakecolor\":\"rgb(17,17,17)\"},\"title\":{\"x\":0.05},\"updatemenudefaults\":{\"bgcolor\":\"#506784\",\"borderwidth\":0},\"sliderdefaults\":{\"bgcolor\":\"#C8D4E3\",\"borderwidth\":1,\"bordercolor\":\"rgb(17,17,17)\",\"tickwidth\":0},\"mapbox\":{\"style\":\"dark\"}}},\"title\":{\"text\":\"aragon's Trajectory\",\"x\":0.5,\"y\":0.95},\"xaxis\":{\"title\":{\"text\":\"#nodes\"},\"linecolor\":\"black\"},\"yaxis\":{\"title\":{\"text\":\"alpha\"},\"linecolor\":\"black\"},\"paper_bgcolor\":\"white\",\"plot_bgcolor\":\"white\",\"width\":1000},                        {\"responsive\": true}                    ).then(function(){\n                            \nvar gd = document.getElementById('5104e4ff-bf70-40f3-8e41-a7e199f955ae');\nvar x = new MutationObserver(function (mutations, observer) {{\n        var display = window.getComputedStyle(gd).display;\n        if (!display || display === 'none') {{\n            console.log([gd, 'removed!']);\n            Plotly.purge(gd);\n            observer.disconnect();\n        }}\n}});\n\n// Listen for the removal of the full notebook cells\nvar notebookContainer = gd.closest('#notebook-container');\nif (notebookContainer) {{\n    x.observe(notebookContainer, {childList: true});\n}}\n\n// Listen for the clearing of the current output cell\nvar outputEl = gd.closest('.output');\nif (outputEl) {{\n    x.observe(outputEl, {childList: true});\n}}\n\n                        })                };                });            </script>        </div>"
     },
     "metadata": {},
     "output_type": "display_data"
    }
   ],
   "source": [
    "fig = go.Figure()\n",
    "\n",
    "# Add a line trace\n",
    "fig.add_trace(go.Scatter(x=event_days_data['#nodes'], y=event_days_data['alpha'], mode='lines', name='Line', line=dict(width=1, color='black')))\n",
    "fig.add_trace(go.Scatter(x=event_days_data['#nodes'], y=event_days_data['alpha'], mode='markers', name='Scatter', line=dict(color='black')))\n",
    "fig.add_trace(go.Scatter(x=testNetwork['#nodes'], y=testNetwork['alpha'], mode='lines', name='Line',line=dict(width=1,color='red')))\n",
    "fig.add_trace(go.Scatter(x=testNetwork['#nodes'], y=testNetwork['alpha'], mode='markers', name='Scatter',line=dict(color='red')))\n",
    "\n",
    "# Customize the layout\n",
    "fig.update_layout(\n",
    "    title=dict(\n",
    "        text=network_name+'\\'s Trajectory',  # Set the title here\n",
    "        x=0.5,  # Center the title horizontally (0.5 means middle)\n",
    "        y=0.95,  # Adjust the vertical position as needed (0.95 is near the top)\n",
    "    ),\n",
    "    xaxis=dict(title='#nodes'),\n",
    "    yaxis=dict(title='alpha'),\n",
    "    paper_bgcolor='white',  # Set the background color to white\n",
    "    plot_bgcolor='white',   # Set the plot area background color to white\n",
    "    width=1000\n",
    "    \n",
    ")\n",
    "\n",
    "fig.update_xaxes(linecolor='black')\n",
    "fig.update_yaxes(linecolor='black')\n",
    "fig.update_traces(showlegend=False)\n",
    "# Show the plot\n",
    "fig.show()\n",
    "fig.write_image(file_path+\"alpha\"+network_name+\"_\"+str(window_size)+\".png\")\n"
   ]
  },
  {
   "cell_type": "markdown",
   "id": "6664fcbb",
   "metadata": {},
   "source": [
    "# Sliding window\n",
    "Each data points in the phase base represent transaction networks for windows of 7 days"
   ]
  },
  {
   "cell_type": "code",
   "execution_count": 171,
   "id": "51e2adc8",
   "metadata": {
    "ExecuteTime": {
     "end_time": "2023-10-28T21:22:32.524145Z",
     "start_time": "2023-10-28T21:22:32.453995Z"
    }
   },
   "outputs": [],
   "source": [
    "file_path = file_path + network_name + \"/\" + str(window_size) + \"/\"\n",
    "\n",
    "\n",
    "threshold = pd.to_datetime('2018-03-01').date()\n",
    "selectedNetwork = pd.read_csv(\"dataset/network\"+network_name+\".txt\", sep=' ', names=[\"from\", \"to\", \"date\", \"value\"])\n",
    "selectedNetwork['date'] = pd.to_datetime(selectedNetwork['date'], unit='s')"
   ]
  },
  {
   "cell_type": "code",
   "execution_count": 172,
   "id": "a2dc8bfd",
   "metadata": {
    "ExecuteTime": {
     "end_time": "2023-10-28T21:22:32.531492Z",
     "start_time": "2023-10-28T21:22:32.528689Z"
    }
   },
   "outputs": [
    {
     "data": {
      "text/plain": "          from      to                date                  value\n0        16037  245854 2017-07-18 04:52:49    2843000000000000000\n1           17  237348 2017-07-09 01:07:14   12340176380000000000\n2       206254  194319 2018-01-18 00:21:30  595756626170000000000\n3       256098  256097 2017-05-22 22:40:45  370000000000000000000\n4       194319  184024 2018-02-01 04:03:38    2648440000000000000\n...        ...     ...                 ...                    ...\n130266  204756  204757 2018-01-14 00:26:09   60556464810000000000\n130267  234906  248699 2017-07-15 23:42:22   50000000000000000000\n130268  194319  251188 2017-06-25 07:33:26  568447662250000000000\n130269      17   19526 2018-01-21 19:11:58   21107673650000000000\n130270  194319  248638 2017-07-15 15:01:45   10518420470000000000\n\n[130271 rows x 4 columns]",
      "text/html": "<div>\n<style scoped>\n    .dataframe tbody tr th:only-of-type {\n        vertical-align: middle;\n    }\n\n    .dataframe tbody tr th {\n        vertical-align: top;\n    }\n\n    .dataframe thead th {\n        text-align: right;\n    }\n</style>\n<table border=\"1\" class=\"dataframe\">\n  <thead>\n    <tr style=\"text-align: right;\">\n      <th></th>\n      <th>from</th>\n      <th>to</th>\n      <th>date</th>\n      <th>value</th>\n    </tr>\n  </thead>\n  <tbody>\n    <tr>\n      <th>0</th>\n      <td>16037</td>\n      <td>245854</td>\n      <td>2017-07-18 04:52:49</td>\n      <td>2843000000000000000</td>\n    </tr>\n    <tr>\n      <th>1</th>\n      <td>17</td>\n      <td>237348</td>\n      <td>2017-07-09 01:07:14</td>\n      <td>12340176380000000000</td>\n    </tr>\n    <tr>\n      <th>2</th>\n      <td>206254</td>\n      <td>194319</td>\n      <td>2018-01-18 00:21:30</td>\n      <td>595756626170000000000</td>\n    </tr>\n    <tr>\n      <th>3</th>\n      <td>256098</td>\n      <td>256097</td>\n      <td>2017-05-22 22:40:45</td>\n      <td>370000000000000000000</td>\n    </tr>\n    <tr>\n      <th>4</th>\n      <td>194319</td>\n      <td>184024</td>\n      <td>2018-02-01 04:03:38</td>\n      <td>2648440000000000000</td>\n    </tr>\n    <tr>\n      <th>...</th>\n      <td>...</td>\n      <td>...</td>\n      <td>...</td>\n      <td>...</td>\n    </tr>\n    <tr>\n      <th>130266</th>\n      <td>204756</td>\n      <td>204757</td>\n      <td>2018-01-14 00:26:09</td>\n      <td>60556464810000000000</td>\n    </tr>\n    <tr>\n      <th>130267</th>\n      <td>234906</td>\n      <td>248699</td>\n      <td>2017-07-15 23:42:22</td>\n      <td>50000000000000000000</td>\n    </tr>\n    <tr>\n      <th>130268</th>\n      <td>194319</td>\n      <td>251188</td>\n      <td>2017-06-25 07:33:26</td>\n      <td>568447662250000000000</td>\n    </tr>\n    <tr>\n      <th>130269</th>\n      <td>17</td>\n      <td>19526</td>\n      <td>2018-01-21 19:11:58</td>\n      <td>21107673650000000000</td>\n    </tr>\n    <tr>\n      <th>130270</th>\n      <td>194319</td>\n      <td>248638</td>\n      <td>2017-07-15 15:01:45</td>\n      <td>10518420470000000000</td>\n    </tr>\n  </tbody>\n</table>\n<p>130271 rows × 4 columns</p>\n</div>"
     },
     "execution_count": 172,
     "metadata": {},
     "output_type": "execute_result"
    }
   ],
   "source": [
    "selectedNetwork"
   ]
  },
  {
   "cell_type": "markdown",
   "id": "c41d61a6",
   "metadata": {},
   "source": [
    "**Apply sliding window algorithm and apply powerlaw test on each window and store to dataframe**"
   ]
  },
  {
   "cell_type": "code",
   "execution_count": 173,
   "id": "4a52e2d3",
   "metadata": {
    "ExecuteTime": {
     "end_time": "2023-10-28T21:22:32.538304Z",
     "start_time": "2023-10-28T21:22:32.536697Z"
    }
   },
   "outputs": [],
   "source": [
    "def sliding_window_dates(start_date, end_date, window_size=7):\n",
    "    # Initialize the sliding window\n",
    "    \n",
    "    window_end = start_date   # Initial window size is 6 days\n",
    "    \n",
    "    \n",
    "    # Slide the window through the date interval\n",
    "    while window_end <= end_date:\n",
    "        window_start = window_end - timedelta(days=(window_size-1))\n",
    "        if(window_start >= start_date):\n",
    "            yield (window_start, window_end)\n",
    "        \n",
    "        \n",
    "        # Slide the window by one day\n",
    "       \n",
    "        window_end += timedelta(days=1)\n",
    "\n",
    "\n",
    "start_date = selectedNetwork['date'].min()\n",
    "end_date = selectedNetwork['date'].max()\n",
    "\n",
    " "
   ]
  },
  {
   "cell_type": "code",
   "execution_count": 174,
   "id": "d47016906f42706f",
   "metadata": {
    "ExecuteTime": {
     "end_time": "2023-10-28T21:22:32.791214Z",
     "start_time": "2023-10-28T21:22:32.543157Z"
    }
   },
   "outputs": [],
   "source": [
    "start_date = selectedNetwork['date'].min()\n",
    "end_date = selectedNetwork['date'].max()\n",
    "\n",
    "score_list = []\n",
    "\n",
    "rnn_column_names = [f\"e{i}\" for i in range(n)]\n",
    "column = [\"#nodes\",\"window_start\",\"window_end\"] + rnn_column_names\n",
    "row_list = []\n",
    "\n",
    "dates = sliding_window_dates(start_date, end_date,window_size)\n",
    "\n",
    "\n",
    "for window_start, window_end in dates:\n",
    "    selectedNetworkInTimeFrame = selectedNetwork[\n",
    "        (selectedNetwork['date'] >= window_start) & (selectedNetwork['date'] <= window_end)]\n",
    "    aWindowGraph = nx.DiGraph()\n",
    "\n",
    "    for index, row in selectedNetworkInTimeFrame.iterrows():\n",
    "        aWindowGraph.add_edge(row[\"from\"], row[\"to\"], value=row[\"value\"])\n",
    "    row_df = []\n",
    "\n",
    "    adjacency_matrix = nx.to_numpy_array(aWindowGraph)\n",
    "\n",
    "    # Calculate the eigenvalues\n",
    "    eigenvalues = np.linalg.eigvals(adjacency_matrix)\n",
    "\n",
    "    # Sort the eigenvalues in descending order\n",
    "    sorted_eigenvalues = np.sort(eigenvalues)[::-1]\n",
    "\n",
    "    # Extract the largest two eigenvalues\n",
    "    largest_eigenvalues = sorted_eigenvalues[:3]\n",
    "    \n",
    "    if(len(largest_eigenvalues) >= 3):\n",
    "        row_df.append(aWindowGraph.number_of_nodes())\n",
    "        row_df.append(window_start)\n",
    "        row_df.append(window_end)\n",
    "        for i in range(0,n):\n",
    "            row_df.append(largest_eigenvalues[i].real)\n",
    "        \n",
    "        row_list.append(row_df)\n",
    "\n",
    "df_sliding = pd.DataFrame(row_list,columns= column)  \n"
   ]
  },
  {
   "cell_type": "code",
   "execution_count": 175,
   "outputs": [
    {
     "data": {
      "text/plain": "Empty DataFrame\nColumns: [#nodes, window_start, window_end, e0, e1, e2, e3, e4, e5, e6, e7, e8, e9]\nIndex: []",
      "text/html": "<div>\n<style scoped>\n    .dataframe tbody tr th:only-of-type {\n        vertical-align: middle;\n    }\n\n    .dataframe tbody tr th {\n        vertical-align: top;\n    }\n\n    .dataframe thead th {\n        text-align: right;\n    }\n</style>\n<table border=\"1\" class=\"dataframe\">\n  <thead>\n    <tr style=\"text-align: right;\">\n      <th></th>\n      <th>#nodes</th>\n      <th>window_start</th>\n      <th>window_end</th>\n      <th>e0</th>\n      <th>e1</th>\n      <th>e2</th>\n      <th>e3</th>\n      <th>e4</th>\n      <th>e5</th>\n      <th>e6</th>\n      <th>e7</th>\n      <th>e8</th>\n      <th>e9</th>\n    </tr>\n  </thead>\n  <tbody>\n  </tbody>\n</table>\n</div>"
     },
     "execution_count": 175,
     "metadata": {},
     "output_type": "execute_result"
    }
   ],
   "source": [
    "df_sliding"
   ],
   "metadata": {
    "collapsed": false,
    "ExecuteTime": {
     "end_time": "2023-10-28T21:22:32.797515Z",
     "start_time": "2023-10-28T21:22:32.794291Z"
    }
   },
   "id": "3464b283d11b8c3e"
  },
  {
   "cell_type": "code",
   "execution_count": 176,
   "id": "b754603917be8175",
   "metadata": {
    "ExecuteTime": {
     "end_time": "2023-10-28T21:22:32.805084Z",
     "start_time": "2023-10-28T21:22:32.803255Z"
    }
   },
   "outputs": [
    {
     "data": {
      "text/plain": "         date                                              event\n0  2016-02-10                        Bitcoin Classic is released\n1  2016-02-23            Bitcoin Core version 0.12.0 is released\n2  2016-06-11  Bitcoin market capitalization reaches US$ 10 b...\n3  2016-04-15            Bitcoin Core version 0.12.1 is released\n4  2016-08-02               The Bitfinex hack is first announced\n..        ...                                                ...\n67 2019-05-02            Bitcoin Core version 0.18.0 is released\n68 2019-08-09            Bitcoin Core version 0.18.1 is released\n69 2019-10-18                  The 18 millionth bitcoin is mined\n70 2019-10-24         Bitcoin Core version 0.19.0.1 is released \n71 2017-08-23  Crypto wallet Exodus adds Aragon and EOS in la...\n\n[72 rows x 2 columns]",
      "text/html": "<div>\n<style scoped>\n    .dataframe tbody tr th:only-of-type {\n        vertical-align: middle;\n    }\n\n    .dataframe tbody tr th {\n        vertical-align: top;\n    }\n\n    .dataframe thead th {\n        text-align: right;\n    }\n</style>\n<table border=\"1\" class=\"dataframe\">\n  <thead>\n    <tr style=\"text-align: right;\">\n      <th></th>\n      <th>date</th>\n      <th>event</th>\n    </tr>\n  </thead>\n  <tbody>\n    <tr>\n      <th>0</th>\n      <td>2016-02-10</td>\n      <td>Bitcoin Classic is released</td>\n    </tr>\n    <tr>\n      <th>1</th>\n      <td>2016-02-23</td>\n      <td>Bitcoin Core version 0.12.0 is released</td>\n    </tr>\n    <tr>\n      <th>2</th>\n      <td>2016-06-11</td>\n      <td>Bitcoin market capitalization reaches US$ 10 b...</td>\n    </tr>\n    <tr>\n      <th>3</th>\n      <td>2016-04-15</td>\n      <td>Bitcoin Core version 0.12.1 is released</td>\n    </tr>\n    <tr>\n      <th>4</th>\n      <td>2016-08-02</td>\n      <td>The Bitfinex hack is first announced</td>\n    </tr>\n    <tr>\n      <th>...</th>\n      <td>...</td>\n      <td>...</td>\n    </tr>\n    <tr>\n      <th>67</th>\n      <td>2019-05-02</td>\n      <td>Bitcoin Core version 0.18.0 is released</td>\n    </tr>\n    <tr>\n      <th>68</th>\n      <td>2019-08-09</td>\n      <td>Bitcoin Core version 0.18.1 is released</td>\n    </tr>\n    <tr>\n      <th>69</th>\n      <td>2019-10-18</td>\n      <td>The 18 millionth bitcoin is mined</td>\n    </tr>\n    <tr>\n      <th>70</th>\n      <td>2019-10-24</td>\n      <td>Bitcoin Core version 0.19.0.1 is released</td>\n    </tr>\n    <tr>\n      <th>71</th>\n      <td>2017-08-23</td>\n      <td>Crypto wallet Exodus adds Aragon and EOS in la...</td>\n    </tr>\n  </tbody>\n</table>\n<p>72 rows × 2 columns</p>\n</div>"
     },
     "execution_count": 176,
     "metadata": {},
     "output_type": "execute_result"
    }
   ],
   "source": [
    "\n",
    "df_sliding['window_start'] = pd.to_datetime(df_sliding['window_start'], format='%Y-%m-%d')\n",
    "df_sliding['window_end'] = pd.to_datetime(df_sliding['window_end'], format='%Y-%m-%d')\n",
    "# Convert 'date' in df_events to datetime\n",
    "df_events['date'] = pd.to_datetime(df_events['date'], format='%Y-%m-%d')\n",
    "df_events"
   ]
  },
  {
   "cell_type": "code",
   "execution_count": 177,
   "id": "4e560e57",
   "metadata": {
    "ExecuteTime": {
     "end_time": "2023-10-28T21:22:32.819053Z",
     "start_time": "2023-10-28T21:22:32.805164Z"
    }
   },
   "outputs": [],
   "source": [
    "\n",
    "def experiment(network_name,window_size, n):\n",
    "    result = [f\"e{i}\" for i in range(n)]\n",
    "    column_names = [\"#nodes\",\"window_start\",\"window_end\",\"nodes\",\"alpha\",\"xmin\"]+result\n",
    "    # Change this to your desired file path and format (e.g., .png, .jpg, .svg)\n",
    "    \n",
    "    selectedNetwork = pd.read_csv(\"dataset/network\"+network_name+\".txt\", sep=' ', names=[\"from\", \"to\", \"date\", \"value\"])\n",
    "    selectedNetwork['date'] = pd.to_datetime(selectedNetwork['date'], unit='s')\n",
    "    selectedNetwork = selectedNetwork.sort_values(by = 'date')\n",
    "    selectedNetwork['date'] = selectedNetwork['date'].dt.date\n",
    "    \n",
    "    start_date = selectedNetwork['date'].min()\n",
    "    end_date = selectedNetwork['date'].max()\n",
    "      \n",
    "    row_list = []\n",
    "\n",
    "    for window_start, window_end in sliding_window_dates(start_date, end_date,window_size):\n",
    "        selectedNetworkInTimeFrame = selectedNetwork[\n",
    "            (selectedNetwork['date'] >= window_start) & (selectedNetwork['date'] <= window_end)]\n",
    "        aWindowGraph = nx.DiGraph()\n",
    "\n",
    "        for index, row in selectedNetworkInTimeFrame.iterrows():\n",
    "            aWindowGraph.add_edge(row[\"from\"], row[\"to\"], value=row[\"value\"])\n",
    "        row_df = []\n",
    "        degrees = list(dict(aWindowGraph.degree()).values())\n",
    "        fit = powerlaw.Fit(degrees,verbose=False)\n",
    "        \n",
    "        adjacency_matrix = nx.to_numpy_array(aWindowGraph)\n",
    "        # Calculate the eigenvalues\n",
    "        eigenvalues = np.linalg.eigvals(adjacency_matrix)\n",
    "    \n",
    "        # Sort the eigenvalues in descending order\n",
    "        sorted_eigenvalues = np.sort(eigenvalues)[::-1]\n",
    "    \n",
    "        # Extract the largest two eigenvalues\n",
    "        largest_eigenvalues = sorted_eigenvalues[:n]\n",
    "       \n",
    "        if(len(largest_eigenvalues) >= n):\n",
    "                row_df.append(aWindowGraph.number_of_nodes())\n",
    "                row_df.append(window_start)\n",
    "                row_df.append(window_end)\n",
    "                row_df.append(aWindowGraph.number_of_nodes())\n",
    "                row_df.append(fit.power_law.alpha)\n",
    "                row_df.append(fit.power_law.xmin)\n",
    "                for i in range(0,n):\n",
    "                    row_df.append(largest_eigenvalues[i].real)\n",
    "            \n",
    "                row_list.append(row_df)   \n",
    "    \n",
    "    \n",
    "    return pd.DataFrame(row_list,columns= column_names) \n",
    "    "
   ]
  },
  {
   "cell_type": "code",
   "execution_count": 178,
   "id": "8e42f86c",
   "metadata": {
    "ExecuteTime": {
     "end_time": "2023-10-28T21:27:28.990776Z",
     "start_time": "2023-10-28T21:22:32.815859Z"
    }
   },
   "outputs": [
    {
     "name": "stdout",
     "output_type": "stream",
     "text": [
      "xmin progress: 90%\r"
     ]
    }
   ],
   "source": [
    "df = experiment(network_name,7, 3)"
   ]
  },
  {
   "cell_type": "code",
   "execution_count": 179,
   "outputs": [
    {
     "name": "stdout",
     "output_type": "stream",
     "text": [
      "     #nodes window_start  window_end  nodes      alpha  xmin        e0  \\\n",
      "0      3145   2017-05-17  2017-05-23   3145   4.586912   3.0  3.404611   \n",
      "1      2775   2017-05-18  2017-05-24   2775   9.191478   2.0  2.936838   \n",
      "2      2318   2017-05-19  2017-05-25   2318   8.788327   2.0  2.633650   \n",
      "3      2208   2017-05-20  2017-05-26   2208   8.589375   2.0  2.373650   \n",
      "4      1984   2017-05-21  2017-05-27   1984   9.250640   2.0  2.086745   \n",
      "..      ...          ...         ...    ...        ...   ...       ...   \n",
      "344     856   2018-04-26  2018-05-02    856  12.136441   2.0  2.802039   \n",
      "345     837   2018-04-27  2018-05-03    837  13.192193   2.0  2.668402   \n",
      "346     855   2018-04-28  2018-05-04    855  13.962887   2.0  2.884499   \n",
      "347     852   2018-04-29  2018-05-05    852  14.571401   2.0  3.036589   \n",
      "348     762   2018-04-30  2018-05-06    762  14.310812   2.0  2.924018   \n",
      "\n",
      "               e1            e2  \n",
      "0    1.000000e+00  1.000000e+00  \n",
      "1    1.000000e+00  1.000000e+00  \n",
      "2    1.000000e+00  1.000000e+00  \n",
      "3    1.000000e+00  1.000000e+00  \n",
      "4    1.000000e+00  1.000000e+00  \n",
      "..            ...           ...  \n",
      "344  1.000000e+00  1.015716e-08  \n",
      "345  1.000000e+00  6.174850e-09  \n",
      "346  8.698406e-09  6.403970e-09  \n",
      "347  9.881969e-09  7.764515e-09  \n",
      "348  7.583426e-09  7.583426e-09  \n",
      "\n",
      "[349 rows x 9 columns]\n"
     ]
    }
   ],
   "source": [
    "print(df)\n",
    " "
   ],
   "metadata": {
    "collapsed": false,
    "ExecuteTime": {
     "end_time": "2023-10-28T21:27:29.000262Z",
     "start_time": "2023-10-28T21:27:28.990618Z"
    }
   },
   "id": "8bf02c46a7cd4f20"
  },
  {
   "cell_type": "code",
   "execution_count": 180,
   "outputs": [],
   "source": [
    "price_file = \"dataset/price_dataset/\" + network_name + \"_price.csv\"\n",
    "price = pd.read_csv(price_file, sep=',', header=0)\n",
    "price['date'] = pd.to_datetime(price['date'], format='%Y-%m-%d')\n",
    "price['date'] = pd.to_datetime(price['date']).dt.date\n",
    "# Convert the 'window_start' column in 'df_sliding' to datetime with date part\n",
    "df_sliding['window_start'] = pd.to_datetime(df_sliding['window_start']).dt.date\n",
    "\n",
    "# Now, both 'date' columns have the same datetime data type\n",
    "merged_df = pd.merge(price, df_sliding, left_on='date', right_on='window_start', how='inner')"
   ],
   "metadata": {
    "collapsed": false,
    "ExecuteTime": {
     "end_time": "2023-10-28T21:27:29.030809Z",
     "start_time": "2023-10-28T21:27:29.004327Z"
    }
   },
   "id": "cc2d6e991495e07a"
  },
  {
   "cell_type": "code",
   "execution_count": 181,
   "outputs": [
    {
     "data": {
      "text/plain": "Empty DataFrame\nColumns: [Unnamed: 0, open, high, low, close, volume, marketCap, date, #nodes, window_start, window_end, e0, e1, e2, e3, e4, e5, e6, e7, e8, e9]\nIndex: []\n\n[0 rows x 21 columns]",
      "text/html": "<div>\n<style scoped>\n    .dataframe tbody tr th:only-of-type {\n        vertical-align: middle;\n    }\n\n    .dataframe tbody tr th {\n        vertical-align: top;\n    }\n\n    .dataframe thead th {\n        text-align: right;\n    }\n</style>\n<table border=\"1\" class=\"dataframe\">\n  <thead>\n    <tr style=\"text-align: right;\">\n      <th></th>\n      <th>Unnamed: 0</th>\n      <th>open</th>\n      <th>high</th>\n      <th>low</th>\n      <th>close</th>\n      <th>volume</th>\n      <th>marketCap</th>\n      <th>date</th>\n      <th>#nodes</th>\n      <th>window_start</th>\n      <th>...</th>\n      <th>e0</th>\n      <th>e1</th>\n      <th>e2</th>\n      <th>e3</th>\n      <th>e4</th>\n      <th>e5</th>\n      <th>e6</th>\n      <th>e7</th>\n      <th>e8</th>\n      <th>e9</th>\n    </tr>\n  </thead>\n  <tbody>\n  </tbody>\n</table>\n<p>0 rows × 21 columns</p>\n</div>"
     },
     "execution_count": 181,
     "metadata": {},
     "output_type": "execute_result"
    }
   ],
   "source": [
    "merged_df"
   ],
   "metadata": {
    "collapsed": false,
    "ExecuteTime": {
     "end_time": "2023-10-28T21:27:29.035722Z",
     "start_time": "2023-10-28T21:27:29.017811Z"
    }
   },
   "id": "c7d5675eace34586"
  },
  {
   "cell_type": "code",
   "execution_count": 182,
   "outputs": [
    {
     "ename": "ValueError",
     "evalue": "Found array with 0 sample(s) (shape=(0, 12)) while a minimum of 1 is required by MinMaxScaler.",
     "output_type": "error",
     "traceback": [
      "\u001B[0;31m---------------------------------------------------------------------------\u001B[0m",
      "\u001B[0;31mValueError\u001B[0m                                Traceback (most recent call last)",
      "Cell \u001B[0;32mIn[182], line 9\u001B[0m\n\u001B[1;32m      7\u001B[0m \u001B[38;5;66;03m# Normalize the data\u001B[39;00m\n\u001B[1;32m      8\u001B[0m scaler \u001B[38;5;241m=\u001B[39m MinMaxScaler()\n\u001B[0;32m----> 9\u001B[0m data \u001B[38;5;241m=\u001B[39m scaler\u001B[38;5;241m.\u001B[39mfit_transform(data)\n\u001B[1;32m     10\u001B[0m \u001B[38;5;66;03m# Shift the 'close' column by window_size\u001B[39;00m\n\u001B[1;32m     12\u001B[0m data[:, \u001B[38;5;241m-\u001B[39m\u001B[38;5;241m1\u001B[39m] \u001B[38;5;241m=\u001B[39m np\u001B[38;5;241m.\u001B[39mroll(data[:, \u001B[38;5;241m-\u001B[39m\u001B[38;5;241m1\u001B[39m], \u001B[38;5;241m-\u001B[39mwindow_size)\n",
      "File \u001B[0;32m~/anaconda3/lib/python3.11/site-packages/sklearn/utils/_set_output.py:140\u001B[0m, in \u001B[0;36m_wrap_method_output.<locals>.wrapped\u001B[0;34m(self, X, *args, **kwargs)\u001B[0m\n\u001B[1;32m    138\u001B[0m \u001B[38;5;129m@wraps\u001B[39m(f)\n\u001B[1;32m    139\u001B[0m \u001B[38;5;28;01mdef\u001B[39;00m \u001B[38;5;21mwrapped\u001B[39m(\u001B[38;5;28mself\u001B[39m, X, \u001B[38;5;241m*\u001B[39margs, \u001B[38;5;241m*\u001B[39m\u001B[38;5;241m*\u001B[39mkwargs):\n\u001B[0;32m--> 140\u001B[0m     data_to_wrap \u001B[38;5;241m=\u001B[39m f(\u001B[38;5;28mself\u001B[39m, X, \u001B[38;5;241m*\u001B[39margs, \u001B[38;5;241m*\u001B[39m\u001B[38;5;241m*\u001B[39mkwargs)\n\u001B[1;32m    141\u001B[0m     \u001B[38;5;28;01mif\u001B[39;00m \u001B[38;5;28misinstance\u001B[39m(data_to_wrap, \u001B[38;5;28mtuple\u001B[39m):\n\u001B[1;32m    142\u001B[0m         \u001B[38;5;66;03m# only wrap the first output for cross decomposition\u001B[39;00m\n\u001B[1;32m    143\u001B[0m         return_tuple \u001B[38;5;241m=\u001B[39m (\n\u001B[1;32m    144\u001B[0m             _wrap_data_with_container(method, data_to_wrap[\u001B[38;5;241m0\u001B[39m], X, \u001B[38;5;28mself\u001B[39m),\n\u001B[1;32m    145\u001B[0m             \u001B[38;5;241m*\u001B[39mdata_to_wrap[\u001B[38;5;241m1\u001B[39m:],\n\u001B[1;32m    146\u001B[0m         )\n",
      "File \u001B[0;32m~/anaconda3/lib/python3.11/site-packages/sklearn/base.py:915\u001B[0m, in \u001B[0;36mTransformerMixin.fit_transform\u001B[0;34m(self, X, y, **fit_params)\u001B[0m\n\u001B[1;32m    911\u001B[0m \u001B[38;5;66;03m# non-optimized default implementation; override when a better\u001B[39;00m\n\u001B[1;32m    912\u001B[0m \u001B[38;5;66;03m# method is possible for a given clustering algorithm\u001B[39;00m\n\u001B[1;32m    913\u001B[0m \u001B[38;5;28;01mif\u001B[39;00m y \u001B[38;5;129;01mis\u001B[39;00m \u001B[38;5;28;01mNone\u001B[39;00m:\n\u001B[1;32m    914\u001B[0m     \u001B[38;5;66;03m# fit method of arity 1 (unsupervised transformation)\u001B[39;00m\n\u001B[0;32m--> 915\u001B[0m     \u001B[38;5;28;01mreturn\u001B[39;00m \u001B[38;5;28mself\u001B[39m\u001B[38;5;241m.\u001B[39mfit(X, \u001B[38;5;241m*\u001B[39m\u001B[38;5;241m*\u001B[39mfit_params)\u001B[38;5;241m.\u001B[39mtransform(X)\n\u001B[1;32m    916\u001B[0m \u001B[38;5;28;01melse\u001B[39;00m:\n\u001B[1;32m    917\u001B[0m     \u001B[38;5;66;03m# fit method of arity 2 (supervised transformation)\u001B[39;00m\n\u001B[1;32m    918\u001B[0m     \u001B[38;5;28;01mreturn\u001B[39;00m \u001B[38;5;28mself\u001B[39m\u001B[38;5;241m.\u001B[39mfit(X, y, \u001B[38;5;241m*\u001B[39m\u001B[38;5;241m*\u001B[39mfit_params)\u001B[38;5;241m.\u001B[39mtransform(X)\n",
      "File \u001B[0;32m~/anaconda3/lib/python3.11/site-packages/sklearn/preprocessing/_data.py:434\u001B[0m, in \u001B[0;36mMinMaxScaler.fit\u001B[0;34m(self, X, y)\u001B[0m\n\u001B[1;32m    432\u001B[0m \u001B[38;5;66;03m# Reset internal state before fitting\u001B[39;00m\n\u001B[1;32m    433\u001B[0m \u001B[38;5;28mself\u001B[39m\u001B[38;5;241m.\u001B[39m_reset()\n\u001B[0;32m--> 434\u001B[0m \u001B[38;5;28;01mreturn\u001B[39;00m \u001B[38;5;28mself\u001B[39m\u001B[38;5;241m.\u001B[39mpartial_fit(X, y)\n",
      "File \u001B[0;32m~/anaconda3/lib/python3.11/site-packages/sklearn/base.py:1151\u001B[0m, in \u001B[0;36m_fit_context.<locals>.decorator.<locals>.wrapper\u001B[0;34m(estimator, *args, **kwargs)\u001B[0m\n\u001B[1;32m   1144\u001B[0m     estimator\u001B[38;5;241m.\u001B[39m_validate_params()\n\u001B[1;32m   1146\u001B[0m \u001B[38;5;28;01mwith\u001B[39;00m config_context(\n\u001B[1;32m   1147\u001B[0m     skip_parameter_validation\u001B[38;5;241m=\u001B[39m(\n\u001B[1;32m   1148\u001B[0m         prefer_skip_nested_validation \u001B[38;5;129;01mor\u001B[39;00m global_skip_validation\n\u001B[1;32m   1149\u001B[0m     )\n\u001B[1;32m   1150\u001B[0m ):\n\u001B[0;32m-> 1151\u001B[0m     \u001B[38;5;28;01mreturn\u001B[39;00m fit_method(estimator, \u001B[38;5;241m*\u001B[39margs, \u001B[38;5;241m*\u001B[39m\u001B[38;5;241m*\u001B[39mkwargs)\n",
      "File \u001B[0;32m~/anaconda3/lib/python3.11/site-packages/sklearn/preprocessing/_data.py:472\u001B[0m, in \u001B[0;36mMinMaxScaler.partial_fit\u001B[0;34m(self, X, y)\u001B[0m\n\u001B[1;32m    466\u001B[0m     \u001B[38;5;28;01mraise\u001B[39;00m \u001B[38;5;167;01mTypeError\u001B[39;00m(\n\u001B[1;32m    467\u001B[0m         \u001B[38;5;124m\"\u001B[39m\u001B[38;5;124mMinMaxScaler does not support sparse input. \u001B[39m\u001B[38;5;124m\"\u001B[39m\n\u001B[1;32m    468\u001B[0m         \u001B[38;5;124m\"\u001B[39m\u001B[38;5;124mConsider using MaxAbsScaler instead.\u001B[39m\u001B[38;5;124m\"\u001B[39m\n\u001B[1;32m    469\u001B[0m     )\n\u001B[1;32m    471\u001B[0m first_pass \u001B[38;5;241m=\u001B[39m \u001B[38;5;129;01mnot\u001B[39;00m \u001B[38;5;28mhasattr\u001B[39m(\u001B[38;5;28mself\u001B[39m, \u001B[38;5;124m\"\u001B[39m\u001B[38;5;124mn_samples_seen_\u001B[39m\u001B[38;5;124m\"\u001B[39m)\n\u001B[0;32m--> 472\u001B[0m X \u001B[38;5;241m=\u001B[39m \u001B[38;5;28mself\u001B[39m\u001B[38;5;241m.\u001B[39m_validate_data(\n\u001B[1;32m    473\u001B[0m     X,\n\u001B[1;32m    474\u001B[0m     reset\u001B[38;5;241m=\u001B[39mfirst_pass,\n\u001B[1;32m    475\u001B[0m     dtype\u001B[38;5;241m=\u001B[39mFLOAT_DTYPES,\n\u001B[1;32m    476\u001B[0m     force_all_finite\u001B[38;5;241m=\u001B[39m\u001B[38;5;124m\"\u001B[39m\u001B[38;5;124mallow-nan\u001B[39m\u001B[38;5;124m\"\u001B[39m,\n\u001B[1;32m    477\u001B[0m )\n\u001B[1;32m    479\u001B[0m data_min \u001B[38;5;241m=\u001B[39m np\u001B[38;5;241m.\u001B[39mnanmin(X, axis\u001B[38;5;241m=\u001B[39m\u001B[38;5;241m0\u001B[39m)\n\u001B[1;32m    480\u001B[0m data_max \u001B[38;5;241m=\u001B[39m np\u001B[38;5;241m.\u001B[39mnanmax(X, axis\u001B[38;5;241m=\u001B[39m\u001B[38;5;241m0\u001B[39m)\n",
      "File \u001B[0;32m~/anaconda3/lib/python3.11/site-packages/sklearn/base.py:604\u001B[0m, in \u001B[0;36mBaseEstimator._validate_data\u001B[0;34m(self, X, y, reset, validate_separately, cast_to_ndarray, **check_params)\u001B[0m\n\u001B[1;32m    602\u001B[0m         out \u001B[38;5;241m=\u001B[39m X, y\n\u001B[1;32m    603\u001B[0m \u001B[38;5;28;01melif\u001B[39;00m \u001B[38;5;129;01mnot\u001B[39;00m no_val_X \u001B[38;5;129;01mand\u001B[39;00m no_val_y:\n\u001B[0;32m--> 604\u001B[0m     out \u001B[38;5;241m=\u001B[39m check_array(X, input_name\u001B[38;5;241m=\u001B[39m\u001B[38;5;124m\"\u001B[39m\u001B[38;5;124mX\u001B[39m\u001B[38;5;124m\"\u001B[39m, \u001B[38;5;241m*\u001B[39m\u001B[38;5;241m*\u001B[39mcheck_params)\n\u001B[1;32m    605\u001B[0m \u001B[38;5;28;01melif\u001B[39;00m no_val_X \u001B[38;5;129;01mand\u001B[39;00m \u001B[38;5;129;01mnot\u001B[39;00m no_val_y:\n\u001B[1;32m    606\u001B[0m     out \u001B[38;5;241m=\u001B[39m _check_y(y, \u001B[38;5;241m*\u001B[39m\u001B[38;5;241m*\u001B[39mcheck_params)\n",
      "File \u001B[0;32m~/anaconda3/lib/python3.11/site-packages/sklearn/utils/validation.py:969\u001B[0m, in \u001B[0;36mcheck_array\u001B[0;34m(array, accept_sparse, accept_large_sparse, dtype, order, copy, force_all_finite, ensure_2d, allow_nd, ensure_min_samples, ensure_min_features, estimator, input_name)\u001B[0m\n\u001B[1;32m    967\u001B[0m     n_samples \u001B[38;5;241m=\u001B[39m _num_samples(array)\n\u001B[1;32m    968\u001B[0m     \u001B[38;5;28;01mif\u001B[39;00m n_samples \u001B[38;5;241m<\u001B[39m ensure_min_samples:\n\u001B[0;32m--> 969\u001B[0m         \u001B[38;5;28;01mraise\u001B[39;00m \u001B[38;5;167;01mValueError\u001B[39;00m(\n\u001B[1;32m    970\u001B[0m             \u001B[38;5;124m\"\u001B[39m\u001B[38;5;124mFound array with \u001B[39m\u001B[38;5;132;01m%d\u001B[39;00m\u001B[38;5;124m sample(s) (shape=\u001B[39m\u001B[38;5;132;01m%s\u001B[39;00m\u001B[38;5;124m) while a\u001B[39m\u001B[38;5;124m\"\u001B[39m\n\u001B[1;32m    971\u001B[0m             \u001B[38;5;124m\"\u001B[39m\u001B[38;5;124m minimum of \u001B[39m\u001B[38;5;132;01m%d\u001B[39;00m\u001B[38;5;124m is required\u001B[39m\u001B[38;5;132;01m%s\u001B[39;00m\u001B[38;5;124m.\u001B[39m\u001B[38;5;124m\"\u001B[39m\n\u001B[1;32m    972\u001B[0m             \u001B[38;5;241m%\u001B[39m (n_samples, array\u001B[38;5;241m.\u001B[39mshape, ensure_min_samples, context)\n\u001B[1;32m    973\u001B[0m         )\n\u001B[1;32m    975\u001B[0m \u001B[38;5;28;01mif\u001B[39;00m ensure_min_features \u001B[38;5;241m>\u001B[39m \u001B[38;5;241m0\u001B[39m \u001B[38;5;129;01mand\u001B[39;00m array\u001B[38;5;241m.\u001B[39mndim \u001B[38;5;241m==\u001B[39m \u001B[38;5;241m2\u001B[39m:\n\u001B[1;32m    976\u001B[0m     n_features \u001B[38;5;241m=\u001B[39m array\u001B[38;5;241m.\u001B[39mshape[\u001B[38;5;241m1\u001B[39m]\n",
      "\u001B[0;31mValueError\u001B[0m: Found array with 0 sample(s) (shape=(0, 12)) while a minimum of 1 is required by MinMaxScaler."
     ]
    }
   ],
   "source": [
    "# Select the relevant columns\n",
    "rnn_column_names = [f\"e{i}\" for i in range(n)]\n",
    "rnn_column_names.append(\"open\")\n",
    "items_to_fetch = rnn_column_names + ['close']\n",
    "data = merged_df[items_to_fetch].copy()\n",
    " \n",
    "# Normalize the data\n",
    "scaler = MinMaxScaler()\n",
    "data = scaler.fit_transform(data)\n",
    "# Shift the 'close' column by window_size\n",
    " \n",
    "data[:, -1] = np.roll(data[:, -1], -window_size)\n",
    "\n",
    "# Split the data into features (X) and labels (y)\n",
    "X = data[:, :-1]  # Features (eigen values)\n",
    "y = data[:, -1]   # Labels (close)\n",
    "\n",
    " \n",
    "# Convert data to PyTorch tensors\n",
    "X = torch.tensor(X, dtype=torch.float32)\n",
    "y = torch.tensor(y, dtype=torch.float32)\n",
    "X = X.view(-1, 1, len(rnn_column_names))\n",
    "# Split the data into training and testing sets\n",
    "X_train, X_test, y_train, y_test = train_test_split(X, y, test_size=0.2, random_state=42)\n",
    "\n"
   ],
   "metadata": {
    "collapsed": false,
    "ExecuteTime": {
     "end_time": "2023-10-28T21:27:29.933856Z",
     "start_time": "2023-10-28T21:27:29.029752Z"
    }
   },
   "id": "b855da464271631e"
  },
  {
   "cell_type": "code",
   "execution_count": null,
   "outputs": [],
   "source": [],
   "metadata": {
    "collapsed": false,
    "ExecuteTime": {
     "end_time": "2023-10-28T21:27:29.936878Z",
     "start_time": "2023-10-28T21:27:29.934998Z"
    }
   },
   "id": "41c7c8cfb4e2afe5"
  },
  {
   "cell_type": "code",
   "execution_count": null,
   "outputs": [],
   "source": [
    "# Define the RNN model using PyTorch\n",
    "class SimpleRNNModel(nn.Module):\n",
    "    def __init__(self, input_size, hidden_size, num_layers):\n",
    "        super(SimpleRNNModel, self).__init__()\n",
    "        self.rnn = nn.RNN(input_size, hidden_size, num_layers, batch_first=True)\n",
    "        self.fc = nn.Linear(hidden_size, 1)  # Output layer\n",
    "\n",
    "    def forward(self, x):\n",
    "        out, _ = self.rnn(x)\n",
    "        out = self.fc(out[:, -1, :])  # Get the last time step output\n",
    "        return out\n",
    "\n",
    "# Initialize the RNN model\n",
    "input_size = len(rnn_column_names)\n",
    "hidden_size = 64\n",
    "num_layers = 3\n",
    "\n",
    "model = SimpleRNNModel(input_size, hidden_size, num_layers)\n",
    "\n"
   ],
   "metadata": {
    "collapsed": false,
    "ExecuteTime": {
     "end_time": "2023-10-28T21:27:29.940985Z",
     "start_time": "2023-10-28T21:27:29.939260Z"
    }
   },
   "id": "3dff1b3beeb2c86"
  },
  {
   "cell_type": "code",
   "execution_count": null,
   "outputs": [],
   "source": [
    "# Define loss and optimizer\n",
    "criterion = nn.MSELoss()\n",
    "optimizer = optim.Adam(model.parameters(), lr=0.001)\n",
    "test_losses = []\n",
    "# Training loop\n",
    "epochs = 50\n",
    "for epoch in range(epochs):\n",
    "    outputs = model(X_train)\n",
    "    optimizer.zero_grad()\n",
    "    loss = criterion(outputs, y_train)\n",
    "    loss.backward()\n",
    "    optimizer.step()\n",
    "\n",
    "    \n",
    "    test_losses.append(loss.item())\n",
    "\n",
    "    test_loss = 0.0  # Initialize test loss\n",
    "    model.eval()\n",
    "    with torch.no_grad():\n",
    "        test_outputs = model(X_test)\n",
    "        test_loss = criterion(test_outputs, y_test)\n",
    "\n",
    "    mse = mean_squared_error(y_test, test_outputs)\n",
    "    rmse = np.sqrt(mse)\n",
    "    mae = mean_absolute_error(y_test, test_outputs)\n",
    "    r2 = r2_score(y_test, test_outputs)\n",
    "    explained_variance = explained_variance_score(y_test, test_outputs)\n",
    "\n",
    "    print(f'Epoch [{epoch+1}/{epochs}], Loss: {loss.item()}, Test Loss: {test_loss.item()}, Test MSE: {mse}, RMSE: {rmse}, MAE: {mae}, R2: {r2}, Explained Variance: {explained_variance}')\n",
    "     \n",
    "\n",
    "\n",
    " \n"
   ],
   "metadata": {
    "collapsed": false,
    "ExecuteTime": {
     "start_time": "2023-10-28T21:27:29.942864Z"
    }
   },
   "id": "dea49469b55a873b"
  },
  {
   "cell_type": "code",
   "execution_count": null,
   "outputs": [],
   "source": [
    "import matplotlib.pyplot as plt\n",
    "plt.plot(range(epochs), test_losses, label='Test Loss')\n",
    "plt.xlabel('Epoch')\n",
    "plt.ylabel('Loss')\n",
    "plt.legend()\n",
    "plt.show()"
   ],
   "metadata": {
    "collapsed": false,
    "ExecuteTime": {
     "start_time": "2023-10-28T21:27:29.948522Z"
    }
   },
   "id": "50e6ef4757027f7"
  },
  {
   "cell_type": "code",
   "execution_count": null,
   "outputs": [],
   "source": [
    "plt.figure(figsize=(8, 8))\n",
    "plt.scatter(y_test, test_outputs, alpha=0.5)\n",
    "plt.xlabel('Real Values')\n",
    "plt.ylabel('Predicted Values')\n",
    "plt.title('Predicted vs. Real Values')\n",
    "plt.show()"
   ],
   "metadata": {
    "collapsed": false,
    "ExecuteTime": {
     "start_time": "2023-10-28T21:27:29.952768Z"
    }
   },
   "id": "4180bd5c8f51844a"
  },
  {
   "cell_type": "code",
   "execution_count": null,
   "outputs": [],
   "source": [],
   "metadata": {
    "collapsed": false,
    "ExecuteTime": {
     "start_time": "2023-10-28T21:27:29.957702Z"
    }
   },
   "id": "891ff9649812e791"
  }
 ],
 "metadata": {
  "kernelspec": {
   "display_name": "Python 3 (ipykernel)",
   "language": "python",
   "name": "python3"
  },
  "language_info": {
   "codemirror_mode": {
    "name": "ipython",
    "version": 3
   },
   "file_extension": ".py",
   "mimetype": "text/x-python",
   "name": "python",
   "nbconvert_exporter": "python",
   "pygments_lexer": "ipython3",
   "version": "3.9.13"
  }
 },
 "nbformat": 4,
 "nbformat_minor": 5
}
