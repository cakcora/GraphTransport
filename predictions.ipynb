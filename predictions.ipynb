{
 "cells": [
  {
   "cell_type": "code",
   "execution_count": 32,
   "id": "20720ff5",
   "metadata": {
    "ExecuteTime": {
     "end_time": "2023-10-30T18:06:55.771830Z",
     "start_time": "2023-10-30T18:06:55.651507Z"
    }
   },
   "outputs": [],
   "source": [
    "import warnings\n",
    "warnings.filterwarnings(\"ignore\")\n",
    "\n",
    "import pandas as pd\n",
    "import numpy as np\n",
    "import seaborn as sns\n",
    "import networkx as nx\n",
    "import powerlaw\n",
    "from datetime import timedelta\n",
    "import plotly.graph_objects as go\n",
    "\n",
    "import torch\n",
    "import torch.nn as nn\n",
    "import torch.optim as optim\n",
    "from sklearn.model_selection import train_test_split\n",
    "from sklearn.preprocessing import MinMaxScaler\n",
    "from sklearn.metrics import mean_squared_error, mean_absolute_error, r2_score, explained_variance_score\n",
    "from tqdm import tqdm\n",
    "\n",
    "# Check if you want to install these libraries\n",
    "# !pip3 install torch\n",
    "# !pip3 install torchvision\n"
   ]
  },
  {
   "cell_type": "code",
   "execution_count": 33,
   "id": "a0ba2f54",
   "metadata": {
    "ExecuteTime": {
     "end_time": "2023-10-30T18:06:55.781635Z",
     "start_time": "2023-10-30T18:06:55.655595Z"
    }
   },
   "outputs": [],
   "source": [
    "#!conda install --yes kaleido"
   ]
  },
  {
   "cell_type": "code",
   "execution_count": 34,
   "id": "5532e6bd",
   "metadata": {
    "ExecuteTime": {
     "end_time": "2023-10-30T18:06:55.927905Z",
     "start_time": "2023-10-30T18:06:55.660806Z"
    }
   },
   "outputs": [],
   "source": [
    "file_path = \"Fig/\"  # Change this to your desired file path and format (e.g., .png, .jpg, .svg)\n",
    " \n",
    "# Save the figure to the specified file path\n",
    "network_name = \"aragon\"\n",
    "window_size = 3\n",
    "n = 3  # Replace with your desired value of n eigen values to use\n",
    "threshold = pd.to_datetime('2018-03-01').date()\n",
    "#read blockchain events from chartalist\n",
    "url = \"dataset/gt.txt\"\n",
    "\n",
    "selectedNetwork = pd.read_csv(\"dataset/network\"+network_name+\".txt\", sep=' ', names=[\"from\", \"to\", \"date\", \"value\"])\n",
    "selectedNetwork['date'] = pd.to_datetime(selectedNetwork['date'], unit='s')"
   ]
  },
  {
   "cell_type": "code",
   "execution_count": 35,
   "id": "530d14dc",
   "metadata": {
    "ExecuteTime": {
     "end_time": "2023-10-30T18:06:55.929296Z",
     "start_time": "2023-10-30T18:06:55.769930Z"
    }
   },
   "outputs": [
    {
     "data": {
      "text/plain": "          from      to                date                  value\n0        16037  245854 2017-07-18 04:52:49    2843000000000000000\n1           17  237348 2017-07-09 01:07:14   12340176380000000000\n2       206254  194319 2018-01-18 00:21:30  595756626170000000000\n3       256098  256097 2017-05-22 22:40:45  370000000000000000000\n4       194319  184024 2018-02-01 04:03:38    2648440000000000000\n...        ...     ...                 ...                    ...\n130266  204756  204757 2018-01-14 00:26:09   60556464810000000000\n130267  234906  248699 2017-07-15 23:42:22   50000000000000000000\n130268  194319  251188 2017-06-25 07:33:26  568447662250000000000\n130269      17   19526 2018-01-21 19:11:58   21107673650000000000\n130270  194319  248638 2017-07-15 15:01:45   10518420470000000000\n\n[130271 rows x 4 columns]",
      "text/html": "<div>\n<style scoped>\n    .dataframe tbody tr th:only-of-type {\n        vertical-align: middle;\n    }\n\n    .dataframe tbody tr th {\n        vertical-align: top;\n    }\n\n    .dataframe thead th {\n        text-align: right;\n    }\n</style>\n<table border=\"1\" class=\"dataframe\">\n  <thead>\n    <tr style=\"text-align: right;\">\n      <th></th>\n      <th>from</th>\n      <th>to</th>\n      <th>date</th>\n      <th>value</th>\n    </tr>\n  </thead>\n  <tbody>\n    <tr>\n      <th>0</th>\n      <td>16037</td>\n      <td>245854</td>\n      <td>2017-07-18 04:52:49</td>\n      <td>2843000000000000000</td>\n    </tr>\n    <tr>\n      <th>1</th>\n      <td>17</td>\n      <td>237348</td>\n      <td>2017-07-09 01:07:14</td>\n      <td>12340176380000000000</td>\n    </tr>\n    <tr>\n      <th>2</th>\n      <td>206254</td>\n      <td>194319</td>\n      <td>2018-01-18 00:21:30</td>\n      <td>595756626170000000000</td>\n    </tr>\n    <tr>\n      <th>3</th>\n      <td>256098</td>\n      <td>256097</td>\n      <td>2017-05-22 22:40:45</td>\n      <td>370000000000000000000</td>\n    </tr>\n    <tr>\n      <th>4</th>\n      <td>194319</td>\n      <td>184024</td>\n      <td>2018-02-01 04:03:38</td>\n      <td>2648440000000000000</td>\n    </tr>\n    <tr>\n      <th>...</th>\n      <td>...</td>\n      <td>...</td>\n      <td>...</td>\n      <td>...</td>\n    </tr>\n    <tr>\n      <th>130266</th>\n      <td>204756</td>\n      <td>204757</td>\n      <td>2018-01-14 00:26:09</td>\n      <td>60556464810000000000</td>\n    </tr>\n    <tr>\n      <th>130267</th>\n      <td>234906</td>\n      <td>248699</td>\n      <td>2017-07-15 23:42:22</td>\n      <td>50000000000000000000</td>\n    </tr>\n    <tr>\n      <th>130268</th>\n      <td>194319</td>\n      <td>251188</td>\n      <td>2017-06-25 07:33:26</td>\n      <td>568447662250000000000</td>\n    </tr>\n    <tr>\n      <th>130269</th>\n      <td>17</td>\n      <td>19526</td>\n      <td>2018-01-21 19:11:58</td>\n      <td>21107673650000000000</td>\n    </tr>\n    <tr>\n      <th>130270</th>\n      <td>194319</td>\n      <td>248638</td>\n      <td>2017-07-15 15:01:45</td>\n      <td>10518420470000000000</td>\n    </tr>\n  </tbody>\n</table>\n<p>130271 rows × 4 columns</p>\n</div>"
     },
     "execution_count": 35,
     "metadata": {},
     "output_type": "execute_result"
    }
   ],
   "source": [
    "selectedNetwork"
   ]
  },
  {
   "cell_type": "markdown",
   "id": "ce38b034",
   "metadata": {},
   "source": [
    "**Create the graph from transaction network**"
   ]
  },
  {
   "cell_type": "code",
   "execution_count": 36,
   "id": "77ab9963",
   "metadata": {
    "ExecuteTime": {
     "end_time": "2023-10-30T18:06:56.904414Z",
     "start_time": "2023-10-30T18:06:56.045056Z"
    }
   },
   "outputs": [
    {
     "name": "stdout",
     "output_type": "stream",
     "text": [
      "Calculating best minimal value for power law fit\n",
      "xmin progress: 98%\r"
     ]
    }
   ],
   "source": [
    "aWindowGraph = nx.DiGraph()\n",
    "# Populate graph with edges\n",
    "for item in selectedNetwork.to_dict(orient=\"records\"):\n",
    "    aWindowGraph.add_edge(item[\"from\"], item[\"to\"], value=item[\"value\"])\n",
    "fit = powerlaw.Fit(list(dict(aWindowGraph.degree()).values()), estimate_discrete=False)"
   ]
  },
  {
   "cell_type": "code",
   "execution_count": 37,
   "id": "6ac57766e4ae4bd9",
   "metadata": {
    "ExecuteTime": {
     "end_time": "2023-10-30T18:06:56.915970Z",
     "start_time": "2023-10-30T18:06:56.899672Z"
    }
   },
   "outputs": [],
   "source": [
    "\n",
    "\n",
    "# Read the file into a DataFrame\n",
    "df_events = pd.read_csv(url, delimiter='\\t')\n",
    "df_events['date'] = pd.to_datetime(df_events['date'], format='%d-%m-%Y')"
   ]
  },
  {
   "cell_type": "markdown",
   "id": "46355ac6",
   "metadata": {},
   "source": [
    "# Daily transaction network\n",
    "Each data points in the phase base represent transaction networks for each day"
   ]
  },
  {
   "cell_type": "code",
   "execution_count": 38,
   "id": "543f3a81",
   "metadata": {
    "ExecuteTime": {
     "end_time": "2023-10-30T18:06:57.029759Z",
     "start_time": "2023-10-30T18:06:56.907189Z"
    }
   },
   "outputs": [
    {
     "data": {
      "text/plain": "          from      to        date                   value\n49133   250733  248773  2017-05-17   135918900000000000000\n110195  254519  248578  2017-05-17  4800000000000000000000\n105736   51586  255124  2017-05-17   150000000000000000000\n12305    38556  255135  2017-05-17   100000000000000000000\n88428   254797  255142  2017-05-17  1470000000000000000000\n...        ...     ...         ...                     ...\n114933      17   91951  2018-05-06   682400128610000000000\n118737  194337  195499  2018-05-06     2304805430306600000\n81326   195500  195501  2018-05-06    31413345939999997952\n80973   195498  194319  2018-05-06    50000000000000000000\n8359    195501  194319  2018-05-06    31413345939999997952\n\n[130271 rows x 4 columns]",
      "text/html": "<div>\n<style scoped>\n    .dataframe tbody tr th:only-of-type {\n        vertical-align: middle;\n    }\n\n    .dataframe tbody tr th {\n        vertical-align: top;\n    }\n\n    .dataframe thead th {\n        text-align: right;\n    }\n</style>\n<table border=\"1\" class=\"dataframe\">\n  <thead>\n    <tr style=\"text-align: right;\">\n      <th></th>\n      <th>from</th>\n      <th>to</th>\n      <th>date</th>\n      <th>value</th>\n    </tr>\n  </thead>\n  <tbody>\n    <tr>\n      <th>49133</th>\n      <td>250733</td>\n      <td>248773</td>\n      <td>2017-05-17</td>\n      <td>135918900000000000000</td>\n    </tr>\n    <tr>\n      <th>110195</th>\n      <td>254519</td>\n      <td>248578</td>\n      <td>2017-05-17</td>\n      <td>4800000000000000000000</td>\n    </tr>\n    <tr>\n      <th>105736</th>\n      <td>51586</td>\n      <td>255124</td>\n      <td>2017-05-17</td>\n      <td>150000000000000000000</td>\n    </tr>\n    <tr>\n      <th>12305</th>\n      <td>38556</td>\n      <td>255135</td>\n      <td>2017-05-17</td>\n      <td>100000000000000000000</td>\n    </tr>\n    <tr>\n      <th>88428</th>\n      <td>254797</td>\n      <td>255142</td>\n      <td>2017-05-17</td>\n      <td>1470000000000000000000</td>\n    </tr>\n    <tr>\n      <th>...</th>\n      <td>...</td>\n      <td>...</td>\n      <td>...</td>\n      <td>...</td>\n    </tr>\n    <tr>\n      <th>114933</th>\n      <td>17</td>\n      <td>91951</td>\n      <td>2018-05-06</td>\n      <td>682400128610000000000</td>\n    </tr>\n    <tr>\n      <th>118737</th>\n      <td>194337</td>\n      <td>195499</td>\n      <td>2018-05-06</td>\n      <td>2304805430306600000</td>\n    </tr>\n    <tr>\n      <th>81326</th>\n      <td>195500</td>\n      <td>195501</td>\n      <td>2018-05-06</td>\n      <td>31413345939999997952</td>\n    </tr>\n    <tr>\n      <th>80973</th>\n      <td>195498</td>\n      <td>194319</td>\n      <td>2018-05-06</td>\n      <td>50000000000000000000</td>\n    </tr>\n    <tr>\n      <th>8359</th>\n      <td>195501</td>\n      <td>194319</td>\n      <td>2018-05-06</td>\n      <td>31413345939999997952</td>\n    </tr>\n  </tbody>\n</table>\n<p>130271 rows × 4 columns</p>\n</div>"
     },
     "execution_count": 38,
     "metadata": {},
     "output_type": "execute_result"
    }
   ],
   "source": [
    "selectedNetwork = pd.read_csv(\"dataset/network\"+network_name+\".txt\", sep=' ', names=[\"from\", \"to\", \"date\", \"value\"])\n",
    "selectedNetwork['date'] = pd.to_datetime(selectedNetwork['date'], unit='s')\n",
    "selectedNetwork = selectedNetwork.sort_values(by = 'date')\n",
    "selectedNetwork['date'] = selectedNetwork['date'].dt.date\n",
    "selectedNetwork"
   ]
  },
  {
   "cell_type": "markdown",
   "id": "537e96de",
   "metadata": {},
   "source": [
    "**Construct graph for each day and apply powerlaw test on each transaction graph and store it in CSV file**"
   ]
  },
  {
   "cell_type": "code",
   "execution_count": 39,
   "outputs": [
    {
     "name": "stdout",
     "output_type": "stream",
     "text": [
      "Calculating best minimal value for power law fit\n",
      "Calculating best minimal value for power law fit\n",
      "Calculating best minimal value for power law fit\n",
      "Calculating best minimal value for power law fit\n",
      "Calculating best minimal value for power law fit\n",
      "Calculating best minimal value for power law fit\n",
      "Calculating best minimal value for power law fit\n",
      "Calculating best minimal value for power law fit\n",
      "Calculating best minimal value for power law fit\n",
      "Calculating best minimal value for power law fit\n",
      "Calculating best minimal value for power law fit\n",
      "Calculating best minimal value for power law fit\n",
      "Calculating best minimal value for power law fit\n",
      "Calculating best minimal value for power law fit\n",
      "Calculating best minimal value for power law fit\n",
      "Calculating best minimal value for power law fit\n",
      "Calculating best minimal value for power law fit\n",
      "Calculating best minimal value for power law fit\n",
      "Calculating best minimal value for power law fit\n",
      "Calculating best minimal value for power law fit\n",
      "Calculating best minimal value for power law fit\n",
      "Calculating best minimal value for power law fit\n",
      "Calculating best minimal value for power law fit\n",
      "Calculating best minimal value for power law fit\n",
      "Calculating best minimal value for power law fit\n",
      "Calculating best minimal value for power law fit\n",
      "Calculating best minimal value for power law fit\n",
      "Calculating best minimal value for power law fit\n",
      "Calculating best minimal value for power law fit\n",
      "Calculating best minimal value for power law fit\n",
      "Calculating best minimal value for power law fit\n",
      "Calculating best minimal value for power law fit\n",
      "Calculating best minimal value for power law fit\n",
      "Calculating best minimal value for power law fit\n",
      "Calculating best minimal value for power law fit\n",
      "Calculating best minimal value for power law fit\n",
      "Calculating best minimal value for power law fit\n",
      "Calculating best minimal value for power law fit\n",
      "Calculating best minimal value for power law fit\n",
      "Calculating best minimal value for power law fit\n",
      "Calculating best minimal value for power law fit\n",
      "Calculating best minimal value for power law fit\n",
      "Calculating best minimal value for power law fit\n",
      "Calculating best minimal value for power law fit\n",
      "Calculating best minimal value for power law fit\n",
      "Calculating best minimal value for power law fit\n",
      "Calculating best minimal value for power law fit\n",
      "Calculating best minimal value for power law fit\n",
      "Calculating best minimal value for power law fit\n",
      "Calculating best minimal value for power law fit\n",
      "Calculating best minimal value for power law fit\n",
      "Calculating best minimal value for power law fit\n",
      "Calculating best minimal value for power law fit\n",
      "Calculating best minimal value for power law fit\n",
      "Calculating best minimal value for power law fit\n",
      "Calculating best minimal value for power law fit\n",
      "Calculating best minimal value for power law fit\n",
      "Calculating best minimal value for power law fit\n",
      "Calculating best minimal value for power law fit\n",
      "Calculating best minimal value for power law fit\n",
      "Calculating best minimal value for power law fit\n",
      "Calculating best minimal value for power law fit\n",
      "Calculating best minimal value for power law fit\n",
      "Calculating best minimal value for power law fit\n",
      "Calculating best minimal value for power law fit\n",
      "Calculating best minimal value for power law fit\n",
      "Calculating best minimal value for power law fit\n",
      "Calculating best minimal value for power law fit\n",
      "Calculating best minimal value for power law fit\n",
      "Calculating best minimal value for power law fit\n",
      "Calculating best minimal value for power law fit\n",
      "Calculating best minimal value for power law fit\n",
      "Calculating best minimal value for power law fit\n",
      "Calculating best minimal value for power law fit\n",
      "Calculating best minimal value for power law fit\n",
      "Calculating best minimal value for power law fit\n",
      "Calculating best minimal value for power law fit\n",
      "Calculating best minimal value for power law fit\n",
      "Calculating best minimal value for power law fit\n",
      "Calculating best minimal value for power law fit\n",
      "Calculating best minimal value for power law fit\n",
      "Calculating best minimal value for power law fit\n",
      "Calculating best minimal value for power law fit\n",
      "Calculating best minimal value for power law fit\n",
      "Calculating best minimal value for power law fit\n",
      "Calculating best minimal value for power law fit\n",
      "Calculating best minimal value for power law fit\n",
      "Calculating best minimal value for power law fit\n",
      "Calculating best minimal value for power law fit\n",
      "Calculating best minimal value for power law fit\n",
      "Calculating best minimal value for power law fit\n",
      "Calculating best minimal value for power law fit\n",
      "Calculating best minimal value for power law fit\n",
      "Calculating best minimal value for power law fit\n",
      "Calculating best minimal value for power law fit\n",
      "Calculating best minimal value for power law fit\n",
      "Calculating best minimal value for power law fit\n",
      "Calculating best minimal value for power law fit\n",
      "Calculating best minimal value for power law fit\n",
      "Calculating best minimal value for power law fit\n",
      "Calculating best minimal value for power law fit\n",
      "Calculating best minimal value for power law fit\n",
      "Calculating best minimal value for power law fit\n",
      "Calculating best minimal value for power law fit\n",
      "Calculating best minimal value for power law fit\n",
      "Calculating best minimal value for power law fit\n",
      "Calculating best minimal value for power law fit\n",
      "Calculating best minimal value for power law fit\n",
      "Calculating best minimal value for power law fit\n",
      "Calculating best minimal value for power law fit\n",
      "Calculating best minimal value for power law fit\n",
      "Calculating best minimal value for power law fit\n",
      "Calculating best minimal value for power law fit\n",
      "Calculating best minimal value for power law fit\n",
      "Calculating best minimal value for power law fit\n",
      "Calculating best minimal value for power law fit\n",
      "Calculating best minimal value for power law fit\n",
      "Calculating best minimal value for power law fit\n",
      "Calculating best minimal value for power law fit\n",
      "Calculating best minimal value for power law fit\n",
      "Calculating best minimal value for power law fit\n",
      "Calculating best minimal value for power law fit\n",
      "Calculating best minimal value for power law fit\n",
      "Calculating best minimal value for power law fit\n",
      "Calculating best minimal value for power law fit\n",
      "Calculating best minimal value for power law fit\n",
      "Calculating best minimal value for power law fit\n",
      "Calculating best minimal value for power law fit\n",
      "Calculating best minimal value for power law fit\n",
      "Calculating best minimal value for power law fit\n",
      "Calculating best minimal value for power law fit\n",
      "Calculating best minimal value for power law fit\n",
      "Calculating best minimal value for power law fit\n",
      "Calculating best minimal value for power law fit\n",
      "Calculating best minimal value for power law fit\n",
      "Calculating best minimal value for power law fit\n",
      "Calculating best minimal value for power law fit\n",
      "Calculating best minimal value for power law fit\n",
      "Calculating best minimal value for power law fit\n",
      "Calculating best minimal value for power law fit\n",
      "Calculating best minimal value for power law fit\n",
      "Calculating best minimal value for power law fit\n",
      "Calculating best minimal value for power law fit\n",
      "Calculating best minimal value for power law fit\n",
      "Calculating best minimal value for power law fit\n",
      "Calculating best minimal value for power law fit\n",
      "Calculating best minimal value for power law fit\n",
      "Calculating best minimal value for power law fit\n",
      "Calculating best minimal value for power law fit\n",
      "Calculating best minimal value for power law fit\n",
      "Calculating best minimal value for power law fit\n",
      "Calculating best minimal value for power law fit\n",
      "Calculating best minimal value for power law fit\n",
      "Calculating best minimal value for power law fit\n",
      "Calculating best minimal value for power law fit\n",
      "Calculating best minimal value for power law fit\n",
      "Calculating best minimal value for power law fit\n",
      "Calculating best minimal value for power law fit\n",
      "Calculating best minimal value for power law fit\n",
      "Calculating best minimal value for power law fit\n",
      "Calculating best minimal value for power law fit\n",
      "Calculating best minimal value for power law fit\n",
      "Calculating best minimal value for power law fit\n",
      "Calculating best minimal value for power law fit\n",
      "Calculating best minimal value for power law fit\n",
      "Calculating best minimal value for power law fit\n",
      "Calculating best minimal value for power law fit\n",
      "Calculating best minimal value for power law fit\n",
      "Calculating best minimal value for power law fit\n",
      "Calculating best minimal value for power law fit\n",
      "Calculating best minimal value for power law fit\n",
      "Calculating best minimal value for power law fit\n",
      "Calculating best minimal value for power law fit\n",
      "Calculating best minimal value for power law fit\n",
      "Calculating best minimal value for power law fit\n",
      "Calculating best minimal value for power law fit\n",
      "Calculating best minimal value for power law fit\n",
      "Calculating best minimal value for power law fit\n",
      "Calculating best minimal value for power law fit\n",
      "Calculating best minimal value for power law fit\n",
      "Calculating best minimal value for power law fit\n",
      "Calculating best minimal value for power law fit\n",
      "Calculating best minimal value for power law fit\n",
      "Calculating best minimal value for power law fit\n",
      "Calculating best minimal value for power law fit\n",
      "Calculating best minimal value for power law fit\n",
      "Calculating best minimal value for power law fit\n",
      "Calculating best minimal value for power law fit\n",
      "Calculating best minimal value for power law fit\n",
      "Calculating best minimal value for power law fit\n",
      "Calculating best minimal value for power law fit\n",
      "Calculating best minimal value for power law fit\n",
      "Calculating best minimal value for power law fit\n",
      "Calculating best minimal value for power law fit\n",
      "Calculating best minimal value for power law fit\n",
      "Calculating best minimal value for power law fit\n",
      "Calculating best minimal value for power law fit\n",
      "Calculating best minimal value for power law fit\n",
      "Calculating best minimal value for power law fit\n",
      "Calculating best minimal value for power law fit\n",
      "Calculating best minimal value for power law fit\n",
      "Calculating best minimal value for power law fit\n",
      "Calculating best minimal value for power law fit\n",
      "Calculating best minimal value for power law fit\n",
      "Calculating best minimal value for power law fit\n",
      "Calculating best minimal value for power law fit\n",
      "Calculating best minimal value for power law fit\n",
      "Calculating best minimal value for power law fit\n",
      "Calculating best minimal value for power law fit\n",
      "Calculating best minimal value for power law fit\n",
      "Calculating best minimal value for power law fit\n",
      "Calculating best minimal value for power law fit\n",
      "Calculating best minimal value for power law fit\n",
      "Calculating best minimal value for power law fit\n",
      "Calculating best minimal value for power law fit\n",
      "Calculating best minimal value for power law fit\n",
      "Calculating best minimal value for power law fit\n",
      "Calculating best minimal value for power law fit\n",
      "Calculating best minimal value for power law fit\n",
      "Calculating best minimal value for power law fit\n",
      "Calculating best minimal value for power law fit\n",
      "Calculating best minimal value for power law fit\n",
      "Calculating best minimal value for power law fit\n",
      "Calculating best minimal value for power law fit\n",
      "Calculating best minimal value for power law fit\n",
      "Calculating best minimal value for power law fit\n",
      "Calculating best minimal value for power law fit\n",
      "Calculating best minimal value for power law fit\n",
      "Calculating best minimal value for power law fit\n",
      "Calculating best minimal value for power law fit\n",
      "Calculating best minimal value for power law fit\n",
      "Calculating best minimal value for power law fit\n",
      "Calculating best minimal value for power law fit\n",
      "Calculating best minimal value for power law fit\n",
      "Calculating best minimal value for power law fit\n",
      "Calculating best minimal value for power law fit\n",
      "Calculating best minimal value for power law fit\n",
      "Calculating best minimal value for power law fit\n",
      "Calculating best minimal value for power law fit\n",
      "Calculating best minimal value for power law fit\n",
      "Calculating best minimal value for power law fit\n",
      "Calculating best minimal value for power law fit\n",
      "Calculating best minimal value for power law fit\n",
      "Calculating best minimal value for power law fit\n",
      "Calculating best minimal value for power law fit\n",
      "Calculating best minimal value for power law fit\n",
      "Calculating best minimal value for power law fit\n",
      "Calculating best minimal value for power law fit\n",
      "Calculating best minimal value for power law fit\n",
      "Calculating best minimal value for power law fit\n",
      "Calculating best minimal value for power law fit\n",
      "Calculating best minimal value for power law fit\n",
      "Calculating best minimal value for power law fit\n",
      "Calculating best minimal value for power law fit\n",
      "Calculating best minimal value for power law fit\n",
      "Calculating best minimal value for power law fit\n",
      "Calculating best minimal value for power law fit\n",
      "Calculating best minimal value for power law fit\n",
      "Calculating best minimal value for power law fit\n",
      "Calculating best minimal value for power law fit\n",
      "Calculating best minimal value for power law fit\n",
      "Calculating best minimal value for power law fit\n",
      "Calculating best minimal value for power law fit\n",
      "Calculating best minimal value for power law fit\n",
      "Calculating best minimal value for power law fit\n",
      "Calculating best minimal value for power law fit\n",
      "Calculating best minimal value for power law fit\n",
      "Calculating best minimal value for power law fit\n",
      "Calculating best minimal value for power law fit\n",
      "Calculating best minimal value for power law fit\n",
      "Calculating best minimal value for power law fit\n",
      "Calculating best minimal value for power law fit\n",
      "Calculating best minimal value for power law fit\n",
      "Calculating best minimal value for power law fit\n",
      "Calculating best minimal value for power law fit\n",
      "Calculating best minimal value for power law fit\n",
      "Calculating best minimal value for power law fit\n",
      "Calculating best minimal value for power law fit\n",
      "Calculating best minimal value for power law fit\n",
      "Calculating best minimal value for power law fit\n",
      "Calculating best minimal value for power law fit\n",
      "Calculating best minimal value for power law fit\n",
      "Calculating best minimal value for power law fit\n",
      "Calculating best minimal value for power law fit\n",
      "Calculating best minimal value for power law fit\n",
      "Calculating best minimal value for power law fit\n",
      "Calculating best minimal value for power law fit\n",
      "Calculating best minimal value for power law fit\n",
      "Calculating best minimal value for power law fit\n",
      "Calculating best minimal value for power law fit\n",
      "Calculating best minimal value for power law fit\n",
      "Calculating best minimal value for power law fit\n",
      "Calculating best minimal value for power law fit\n",
      "Calculating best minimal value for power law fit\n",
      "Calculating best minimal value for power law fit\n",
      "Calculating best minimal value for power law fit\n",
      "Calculating best minimal value for power law fit\n",
      "Calculating best minimal value for power law fit\n",
      "Calculating best minimal value for power law fit\n",
      "Calculating best minimal value for power law fit\n",
      "Calculating best minimal value for power law fit\n",
      "Calculating best minimal value for power law fit\n",
      "Calculating best minimal value for power law fit\n",
      "Calculating best minimal value for power law fit\n",
      "Calculating best minimal value for power law fit\n",
      "Calculating best minimal value for power law fit\n",
      "Calculating best minimal value for power law fit\n",
      "Calculating best minimal value for power law fit\n",
      "Calculating best minimal value for power law fit\n",
      "Calculating best minimal value for power law fit\n",
      "Calculating best minimal value for power law fit\n",
      "Calculating best minimal value for power law fit\n",
      "Calculating best minimal value for power law fit\n",
      "Calculating best minimal value for power law fit\n",
      "Calculating best minimal value for power law fit\n",
      "Calculating best minimal value for power law fit\n",
      "Calculating best minimal value for power law fit\n",
      "Calculating best minimal value for power law fit\n",
      "Calculating best minimal value for power law fit\n",
      "Calculating best minimal value for power law fit\n",
      "Calculating best minimal value for power law fit\n",
      "Calculating best minimal value for power law fit\n",
      "Calculating best minimal value for power law fit\n",
      "Calculating best minimal value for power law fit\n",
      "Calculating best minimal value for power law fit\n",
      "Calculating best minimal value for power law fit\n",
      "Calculating best minimal value for power law fit\n",
      "Calculating best minimal value for power law fit\n",
      "Calculating best minimal value for power law fit\n",
      "Calculating best minimal value for power law fit\n",
      "Calculating best minimal value for power law fit\n",
      "Calculating best minimal value for power law fit\n",
      "Calculating best minimal value for power law fit\n",
      "Calculating best minimal value for power law fit\n",
      "Calculating best minimal value for power law fit\n",
      "Calculating best minimal value for power law fit\n",
      "Calculating best minimal value for power law fit\n",
      "Calculating best minimal value for power law fit\n",
      "Calculating best minimal value for power law fit\n",
      "Calculating best minimal value for power law fit\n",
      "Calculating best minimal value for power law fit\n",
      "Calculating best minimal value for power law fit\n",
      "Calculating best minimal value for power law fit\n",
      "Calculating best minimal value for power law fit\n",
      "Calculating best minimal value for power law fit\n",
      "Calculating best minimal value for power law fit\n",
      "Calculating best minimal value for power law fit\n",
      "Calculating best minimal value for power law fit\n",
      "Calculating best minimal value for power law fit\n",
      "Calculating best minimal value for power law fit\n",
      "Calculating best minimal value for power law fit\n",
      "Calculating best minimal value for power law fit\n",
      "Calculating best minimal value for power law fit\n",
      "Calculating best minimal value for power law fit\n",
      "xmin progress: 66%\r"
     ]
    }
   ],
   "source": [
    "currDate = selectedNetwork['date'].min()\n",
    "aWindowGraph = nx.DiGraph()\n",
    "score_list = []\n",
    "column = [\"score\",\"#nodes\",\"xmin\",\"alpha\",\"date\"]\n",
    "row_list = []\n",
    "for index, row in selectedNetwork.iterrows():\n",
    "    if(row['date'] != currDate ):\n",
    "        row_df = []\n",
    "        \n",
    "        degrees = list(dict(aWindowGraph.degree()).values())\n",
    "        fit = powerlaw.Fit(degrees)\n",
    "        row_df.append(fit.distribution_compare('power_law', 'exponential')[0])\n",
    "        row_df.append(aWindowGraph.number_of_nodes())\n",
    "        row_df.append(fit.power_law.xmin)\n",
    "        row_df.append(fit.power_law.alpha)\n",
    "        row_df.append(currDate)\n",
    "        \n",
    "        currDate = row['date']\n",
    "        \n",
    "        row_list.append(row_df)\n",
    "        aWindowGraph = nx.DiGraph()\n",
    "    else:\n",
    "        aWindowGraph.add_edge(row[\"from\"], row[\"to\"], value=row[\"value\"])\n",
    "df_power_law = pd.DataFrame(row_list,columns= column)    \n",
    " "
   ],
   "metadata": {
    "collapsed": false,
    "ExecuteTime": {
     "end_time": "2023-10-30T18:07:01.708236Z",
     "start_time": "2023-10-30T18:06:57.037098Z"
    }
   },
   "id": "df6b5ad1"
  },
  {
   "cell_type": "code",
   "execution_count": 40,
   "id": "ed9c24d4",
   "metadata": {
    "ExecuteTime": {
     "end_time": "2023-10-30T18:07:01.713769Z",
     "start_time": "2023-10-30T18:07:01.708751Z"
    }
   },
   "outputs": [],
   "source": [
    "df_power_law['date'] = pd.to_datetime(df_power_law['date'])\n",
    "df_power_law['date'] = df_power_law['date'].dt.date\n",
    "\n",
    "event_days_data = df_power_law[df_power_law['date'] <= threshold]\n",
    "testNetwork = df_power_law[df_power_law['date'] > threshold]"
   ]
  },
  {
   "cell_type": "markdown",
   "id": "8ea7abd4",
   "metadata": {},
   "source": [
    "**Draw diagram to illustrate the trajectory with data points in steady period in green**"
   ]
  },
  {
   "cell_type": "code",
   "execution_count": 41,
   "id": "efa648d6",
   "metadata": {
    "ExecuteTime": {
     "end_time": "2023-10-30T18:07:01.866081Z",
     "start_time": "2023-10-30T18:07:01.717263Z"
    }
   },
   "outputs": [
    {
     "data": {
      "application/vnd.plotly.v1+json": {
       "data": [
        {
         "line": {
          "color": "black",
          "width": 1
         },
         "mode": "lines",
         "name": "Line",
         "x": [
          994,
          915,
          478,
          467,
          310,
          322,
          356,
          594,
          356,
          335,
          215,
          213,
          242,
          343,
          316,
          230,
          227,
          251,
          294,
          257,
          307,
          339,
          449,
          434,
          328,
          425,
          410,
          292,
          325,
          267,
          251,
          246,
          229,
          242,
          207,
          171,
          276,
          230,
          202,
          207,
          263,
          174,
          239,
          208,
          187,
          163,
          173,
          127,
          145,
          133,
          149,
          288,
          235,
          235,
          335,
          602,
          477,
          382,
          382,
          286,
          273,
          306,
          401,
          374,
          390,
          345,
          345,
          332,
          351,
          338,
          348,
          349,
          370,
          313,
          265,
          290,
          102,
          229,
          426,
          423,
          494,
          374,
          479,
          499,
          468,
          695,
          725,
          573,
          600,
          508,
          420,
          367,
          401,
          345,
          396,
          387,
          428,
          315,
          374,
          373,
          381,
          384,
          390,
          464,
          484,
          483,
          515,
          581,
          400,
          297,
          449,
          610,
          342,
          432,
          484,
          318,
          291,
          268,
          288,
          268,
          257,
          270,
          199,
          194,
          263,
          258,
          207,
          245,
          193,
          187,
          206,
          230,
          222,
          206,
          256,
          182,
          224,
          207,
          218,
          258,
          216,
          222,
          252,
          168,
          235,
          285,
          280,
          231,
          291,
          644,
          318,
          236,
          254,
          368,
          233,
          289,
          282,
          260,
          223,
          280,
          354,
          234,
          257,
          203,
          221,
          285,
          235,
          274,
          416,
          405,
          377,
          331,
          265,
          259,
          209,
          300,
          503,
          479,
          346,
          458,
          304,
          176,
          349,
          357,
          429,
          380,
          446,
          393,
          432,
          540,
          456,
          401,
          648,
          627,
          753,
          765,
          770,
          458,
          471,
          581,
          549,
          505,
          566,
          314,
          186,
          545,
          324,
          417,
          676,
          902,
          853,
          685,
          520,
          572,
          637,
          633,
          1042,
          732,
          778,
          609,
          567,
          459,
          639,
          589,
          565,
          545,
          703,
          554,
          544,
          464,
          449,
          1039,
          596,
          1124,
          819,
          649,
          552,
          249,
          339,
          845,
          570,
          701,
          640,
          521,
          605,
          400,
          411,
          364,
          412,
          336,
          343,
          610,
          327,
          376,
          468,
          512,
          395,
          375,
          381,
          298,
          304,
          460,
          271,
          249,
          294,
          268,
          197,
          175,
          179,
          217,
          147,
          165,
          212,
          291,
          225,
          229,
          192,
          141,
          209,
          227,
          225,
          159,
          114,
          136,
          110,
          112,
          207,
          146,
          185
         ],
         "y": [
          12.17069435435016,
          8.889134188890228,
          6.7820908269582,
          12.657813455101612,
          6.552929080964145,
          6.452563410886842,
          12.252801387728818,
          5.318663539006105,
          4.578060124941151,
          4.811172759989585,
          9.899071564151017,
          3.6076573931781146,
          9.454188084374039,
          5.400189800855267,
          5.56725451276625,
          9.964327351130022,
          9.167963252921137,
          3.7625612603332863,
          5.63940235632892,
          4.102202591094496,
          5.595447890120214,
          5.2736248142409545,
          10.944011370797158,
          11.433664300449466,
          5.324070282168137,
          4.882512032097746,
          7.609644953641261,
          4.9202502689650105,
          11.349784797788608,
          4.604723900957564,
          4.626460960013279,
          8.106632191739646,
          7.289184109384004,
          10.591875006731538,
          8.964053393105807,
          10.982131633986853,
          11.881369577822289,
          4.522467158826464,
          3.5941989199620683,
          4.710082418054592,
          4.143627107238924,
          4.353899860768754,
          3.983074221458902,
          7.667993263266916,
          8.670053136633445,
          3.7608880102723967,
          3.9926429953937954,
          8.4527221877729,
          8.598266771644106,
          7.808244480970112,
          3.371280023092698,
          1.929667387598046,
          11.370679557888927,
          3.901833418188246,
          4.399216700431515,
          6.2899657703594825,
          6.0377382994297,
          5.724985161651024,
          7.599127930047139,
          6.855409587532748,
          6.644188429865808,
          5.955394214202025,
          5.432646211392101,
          7.0409027061510585,
          8.211433140828085,
          6.43092870213759,
          7.892112085604291,
          7.6758374321414955,
          7.229165633749675,
          7.593144897584306,
          5.45801057232685,
          7.147103949373012,
          8.40576887942101,
          6.611055379054814,
          5.979709494088782,
          9.062362624859906,
          10.210259498191174,
          5.253158291527376,
          7.9456228149718005,
          7.060734815427647,
          9.717323359342124,
          9.002038906446368,
          9.75940296224077,
          10.763713224181497,
          9.889256385084368,
          9.18959979297597,
          10.01332142235026,
          11.97997029030871,
          12.774450954472977,
          11.513987406906821,
          9.620139784533292,
          8.421584037873473,
          10.21654555213278,
          8.04811808692848,
          9.956124801708853,
          7.83356206224671,
          9.638690012558103,
          7.654296219795215,
          8.42231212717511,
          8.00368749463706,
          8.165555717076668,
          7.650462497799427,
          9.542138231905966,
          8.490428957388616,
          8.94945309064483,
          10.236720740118342,
          10.97436032991281,
          9.990876928931037,
          12.542972125712936,
          3.7801808328443407,
          4.127009200980975,
          6.3771269617566935,
          3.9322636777011764,
          4.139661138004383,
          6.175479669633157,
          6.711663081375308,
          6.826705292947568,
          5.288002593859665,
          7.275227856895159,
          7.254724571439977,
          9.292391830577253,
          8.58203406792677,
          5.441505369862605,
          5.782706116969309,
          6.905266192679485,
          6.276760175158616,
          6.7181712281529125,
          7.822047199183082,
          6.444725594398593,
          5.7304838763685195,
          9.090677911642262,
          6.793092826726407,
          7.83362345079114,
          7.887249613244143,
          9.00533385732138,
          5.547579460110363,
          5.907919938594834,
          6.385991595197488,
          6.3159696021631975,
          5.325991310210549,
          5.620264032756201,
          7.93439320265867,
          6.331817609785375,
          5.773295357956457,
          8.210194610814513,
          9.384789409115072,
          7.098525169617756,
          7.254724571439976,
          8.81647279593625,
          11.855980664545294,
          8.029758457076042,
          6.322546806124169,
          6.663119241823983,
          5.990638743283103,
          6.26198620021152,
          7.521101992641508,
          8.50989418857019,
          9.194673269356716,
          7.155578437242937,
          9.645739507955017,
          8.65536583726707,
          6.635548625923082,
          6.232749915019894,
          8.955145512673909,
          7.001184703914519,
          9.500309204575668,
          7.361267705551001,
          9.324790930889833,
          10.596895912819999,
          10.548997349083956,
          6.6323388517987505,
          9.457328526308643,
          10.12368674096929,
          8.143787358477812,
          6.078446403461957,
          9.285789221497897,
          9.005899488237814,
          11.045271217620554,
          11.038634409410943,
          12.135670767463969,
          7.347562092122233,
          4.493059106106314,
          11.175564283363618,
          9.292809583975671,
          7.235326385538142,
          9.416926459536285,
          9.948013972855858,
          8.35544000008533,
          8.9263215392616,
          11.141743916821596,
          10.558855007549926,
          10.37669913832935,
          11.497459681579702,
          15.180381735363703,
          11.78891517704061,
          10.848896251284232,
          15.826375828906782,
          10.789854901642387,
          9.178739399020952,
          12.225716179201678,
          13.39903587861074,
          12.01440704985615,
          4.65307252050803,
          10.869506166532005,
          10.499453322699278,
          7.412780764896589,
          8.745093214183445,
          8.783094687747472,
          12.915988647468584,
          13.1032864552462,
          14.236935982207664,
          11.923515655123898,
          10.345886549003113,
          9.76697860406085,
          10.337091336406386,
          8.096017147897781,
          9.745775360847677,
          15.061555541402775,
          10.235127743126002,
          10.174926383554329,
          7.054622974014516,
          7.000155026095319,
          8.188755715601468,
          9.084106310194413,
          10.099021839580306,
          10.33399057045027,
          8.558344130467033,
          7.668105543422525,
          8.756261934732363,
          13.647923501086,
          11.062475415094017,
          9.716786610549022,
          23.342330218086154,
          10.87507104273975,
          6.97719184648224,
          2.3806203396764984,
          4.444819825990479,
          10.13156206418593,
          4.874695237765682,
          2.6818395659579632,
          8.502308506685043,
          2.653251122246103,
          8.589310824112863,
          10.183366963052915,
          14.378228791928647,
          14.340341722521076,
          8.61096358935226,
          8.705810204959825,
          10.401917716973463,
          9.733300099743298,
          6.652891821797146,
          8.879506544884737,
          9.557143544924623,
          10.852281793069224,
          10.911483075022621,
          11.143257333685696,
          13.081771940049736,
          9.066984252809052,
          9.853573588151933,
          9.28483508872082,
          8.329939839731358,
          10.865729094134325,
          7.850333277348601,
          8.672657064900568,
          9.664814406495701,
          8.922735910452303,
          7.100510690653402,
          7.713292156465677,
          8.63286700963832,
          6.427629843673622,
          6.728820339800517,
          6.47256616322129,
          9.002001182486497,
          10.843163123207693,
          9.051071384813484,
          7.919525125223871,
          7.545994237741757,
          4.992844952959631,
          6.997510801878118,
          6.811776420951162,
          6.129386578444561,
          6.52951353827717,
          6.366674733364444,
          4.850751148339419,
          6.862033785371956,
          6.7117957815000855,
          6.87446798159053,
          5.605156759949983,
          6.67796777143289
         ],
         "type": "scatter",
         "showlegend": false
        },
        {
         "line": {
          "color": "black"
         },
         "mode": "markers",
         "name": "Scatter",
         "x": [
          994,
          915,
          478,
          467,
          310,
          322,
          356,
          594,
          356,
          335,
          215,
          213,
          242,
          343,
          316,
          230,
          227,
          251,
          294,
          257,
          307,
          339,
          449,
          434,
          328,
          425,
          410,
          292,
          325,
          267,
          251,
          246,
          229,
          242,
          207,
          171,
          276,
          230,
          202,
          207,
          263,
          174,
          239,
          208,
          187,
          163,
          173,
          127,
          145,
          133,
          149,
          288,
          235,
          235,
          335,
          602,
          477,
          382,
          382,
          286,
          273,
          306,
          401,
          374,
          390,
          345,
          345,
          332,
          351,
          338,
          348,
          349,
          370,
          313,
          265,
          290,
          102,
          229,
          426,
          423,
          494,
          374,
          479,
          499,
          468,
          695,
          725,
          573,
          600,
          508,
          420,
          367,
          401,
          345,
          396,
          387,
          428,
          315,
          374,
          373,
          381,
          384,
          390,
          464,
          484,
          483,
          515,
          581,
          400,
          297,
          449,
          610,
          342,
          432,
          484,
          318,
          291,
          268,
          288,
          268,
          257,
          270,
          199,
          194,
          263,
          258,
          207,
          245,
          193,
          187,
          206,
          230,
          222,
          206,
          256,
          182,
          224,
          207,
          218,
          258,
          216,
          222,
          252,
          168,
          235,
          285,
          280,
          231,
          291,
          644,
          318,
          236,
          254,
          368,
          233,
          289,
          282,
          260,
          223,
          280,
          354,
          234,
          257,
          203,
          221,
          285,
          235,
          274,
          416,
          405,
          377,
          331,
          265,
          259,
          209,
          300,
          503,
          479,
          346,
          458,
          304,
          176,
          349,
          357,
          429,
          380,
          446,
          393,
          432,
          540,
          456,
          401,
          648,
          627,
          753,
          765,
          770,
          458,
          471,
          581,
          549,
          505,
          566,
          314,
          186,
          545,
          324,
          417,
          676,
          902,
          853,
          685,
          520,
          572,
          637,
          633,
          1042,
          732,
          778,
          609,
          567,
          459,
          639,
          589,
          565,
          545,
          703,
          554,
          544,
          464,
          449,
          1039,
          596,
          1124,
          819,
          649,
          552,
          249,
          339,
          845,
          570,
          701,
          640,
          521,
          605,
          400,
          411,
          364,
          412,
          336,
          343,
          610,
          327,
          376,
          468,
          512,
          395,
          375,
          381,
          298,
          304,
          460,
          271,
          249,
          294,
          268,
          197,
          175,
          179,
          217,
          147,
          165,
          212,
          291,
          225,
          229,
          192,
          141,
          209,
          227,
          225,
          159,
          114,
          136,
          110,
          112,
          207,
          146,
          185
         ],
         "y": [
          12.17069435435016,
          8.889134188890228,
          6.7820908269582,
          12.657813455101612,
          6.552929080964145,
          6.452563410886842,
          12.252801387728818,
          5.318663539006105,
          4.578060124941151,
          4.811172759989585,
          9.899071564151017,
          3.6076573931781146,
          9.454188084374039,
          5.400189800855267,
          5.56725451276625,
          9.964327351130022,
          9.167963252921137,
          3.7625612603332863,
          5.63940235632892,
          4.102202591094496,
          5.595447890120214,
          5.2736248142409545,
          10.944011370797158,
          11.433664300449466,
          5.324070282168137,
          4.882512032097746,
          7.609644953641261,
          4.9202502689650105,
          11.349784797788608,
          4.604723900957564,
          4.626460960013279,
          8.106632191739646,
          7.289184109384004,
          10.591875006731538,
          8.964053393105807,
          10.982131633986853,
          11.881369577822289,
          4.522467158826464,
          3.5941989199620683,
          4.710082418054592,
          4.143627107238924,
          4.353899860768754,
          3.983074221458902,
          7.667993263266916,
          8.670053136633445,
          3.7608880102723967,
          3.9926429953937954,
          8.4527221877729,
          8.598266771644106,
          7.808244480970112,
          3.371280023092698,
          1.929667387598046,
          11.370679557888927,
          3.901833418188246,
          4.399216700431515,
          6.2899657703594825,
          6.0377382994297,
          5.724985161651024,
          7.599127930047139,
          6.855409587532748,
          6.644188429865808,
          5.955394214202025,
          5.432646211392101,
          7.0409027061510585,
          8.211433140828085,
          6.43092870213759,
          7.892112085604291,
          7.6758374321414955,
          7.229165633749675,
          7.593144897584306,
          5.45801057232685,
          7.147103949373012,
          8.40576887942101,
          6.611055379054814,
          5.979709494088782,
          9.062362624859906,
          10.210259498191174,
          5.253158291527376,
          7.9456228149718005,
          7.060734815427647,
          9.717323359342124,
          9.002038906446368,
          9.75940296224077,
          10.763713224181497,
          9.889256385084368,
          9.18959979297597,
          10.01332142235026,
          11.97997029030871,
          12.774450954472977,
          11.513987406906821,
          9.620139784533292,
          8.421584037873473,
          10.21654555213278,
          8.04811808692848,
          9.956124801708853,
          7.83356206224671,
          9.638690012558103,
          7.654296219795215,
          8.42231212717511,
          8.00368749463706,
          8.165555717076668,
          7.650462497799427,
          9.542138231905966,
          8.490428957388616,
          8.94945309064483,
          10.236720740118342,
          10.97436032991281,
          9.990876928931037,
          12.542972125712936,
          3.7801808328443407,
          4.127009200980975,
          6.3771269617566935,
          3.9322636777011764,
          4.139661138004383,
          6.175479669633157,
          6.711663081375308,
          6.826705292947568,
          5.288002593859665,
          7.275227856895159,
          7.254724571439977,
          9.292391830577253,
          8.58203406792677,
          5.441505369862605,
          5.782706116969309,
          6.905266192679485,
          6.276760175158616,
          6.7181712281529125,
          7.822047199183082,
          6.444725594398593,
          5.7304838763685195,
          9.090677911642262,
          6.793092826726407,
          7.83362345079114,
          7.887249613244143,
          9.00533385732138,
          5.547579460110363,
          5.907919938594834,
          6.385991595197488,
          6.3159696021631975,
          5.325991310210549,
          5.620264032756201,
          7.93439320265867,
          6.331817609785375,
          5.773295357956457,
          8.210194610814513,
          9.384789409115072,
          7.098525169617756,
          7.254724571439976,
          8.81647279593625,
          11.855980664545294,
          8.029758457076042,
          6.322546806124169,
          6.663119241823983,
          5.990638743283103,
          6.26198620021152,
          7.521101992641508,
          8.50989418857019,
          9.194673269356716,
          7.155578437242937,
          9.645739507955017,
          8.65536583726707,
          6.635548625923082,
          6.232749915019894,
          8.955145512673909,
          7.001184703914519,
          9.500309204575668,
          7.361267705551001,
          9.324790930889833,
          10.596895912819999,
          10.548997349083956,
          6.6323388517987505,
          9.457328526308643,
          10.12368674096929,
          8.143787358477812,
          6.078446403461957,
          9.285789221497897,
          9.005899488237814,
          11.045271217620554,
          11.038634409410943,
          12.135670767463969,
          7.347562092122233,
          4.493059106106314,
          11.175564283363618,
          9.292809583975671,
          7.235326385538142,
          9.416926459536285,
          9.948013972855858,
          8.35544000008533,
          8.9263215392616,
          11.141743916821596,
          10.558855007549926,
          10.37669913832935,
          11.497459681579702,
          15.180381735363703,
          11.78891517704061,
          10.848896251284232,
          15.826375828906782,
          10.789854901642387,
          9.178739399020952,
          12.225716179201678,
          13.39903587861074,
          12.01440704985615,
          4.65307252050803,
          10.869506166532005,
          10.499453322699278,
          7.412780764896589,
          8.745093214183445,
          8.783094687747472,
          12.915988647468584,
          13.1032864552462,
          14.236935982207664,
          11.923515655123898,
          10.345886549003113,
          9.76697860406085,
          10.337091336406386,
          8.096017147897781,
          9.745775360847677,
          15.061555541402775,
          10.235127743126002,
          10.174926383554329,
          7.054622974014516,
          7.000155026095319,
          8.188755715601468,
          9.084106310194413,
          10.099021839580306,
          10.33399057045027,
          8.558344130467033,
          7.668105543422525,
          8.756261934732363,
          13.647923501086,
          11.062475415094017,
          9.716786610549022,
          23.342330218086154,
          10.87507104273975,
          6.97719184648224,
          2.3806203396764984,
          4.444819825990479,
          10.13156206418593,
          4.874695237765682,
          2.6818395659579632,
          8.502308506685043,
          2.653251122246103,
          8.589310824112863,
          10.183366963052915,
          14.378228791928647,
          14.340341722521076,
          8.61096358935226,
          8.705810204959825,
          10.401917716973463,
          9.733300099743298,
          6.652891821797146,
          8.879506544884737,
          9.557143544924623,
          10.852281793069224,
          10.911483075022621,
          11.143257333685696,
          13.081771940049736,
          9.066984252809052,
          9.853573588151933,
          9.28483508872082,
          8.329939839731358,
          10.865729094134325,
          7.850333277348601,
          8.672657064900568,
          9.664814406495701,
          8.922735910452303,
          7.100510690653402,
          7.713292156465677,
          8.63286700963832,
          6.427629843673622,
          6.728820339800517,
          6.47256616322129,
          9.002001182486497,
          10.843163123207693,
          9.051071384813484,
          7.919525125223871,
          7.545994237741757,
          4.992844952959631,
          6.997510801878118,
          6.811776420951162,
          6.129386578444561,
          6.52951353827717,
          6.366674733364444,
          4.850751148339419,
          6.862033785371956,
          6.7117957815000855,
          6.87446798159053,
          5.605156759949983,
          6.67796777143289
         ],
         "type": "scatter",
         "showlegend": false
        },
        {
         "line": {
          "color": "red",
          "width": 1
         },
         "mode": "lines",
         "name": "Line",
         "x": [
          170,
          238,
          139,
          351,
          205,
          182,
          171,
          159,
          143,
          99,
          104,
          77,
          124,
          124,
          94,
          108,
          150,
          95,
          154,
          195,
          149,
          89,
          106,
          91,
          93,
          110,
          91,
          106,
          118,
          102,
          89,
          88,
          92,
          89,
          78,
          76,
          64,
          80,
          70,
          97,
          89,
          113,
          124,
          94,
          145,
          109,
          117,
          133,
          145,
          223,
          156,
          142,
          138,
          182,
          135,
          201,
          130,
          130,
          147,
          110,
          109,
          112,
          170,
          149,
          130
         ],
         "y": [
          4.574004004512423,
          6.377132883061421,
          6.3408347457224865,
          8.782498209258627,
          7.9504992343532015,
          6.266142257699156,
          6.820160489494693,
          6.63198477548805,
          5.554567569685393,
          4.624393940611294,
          5.843217542270862,
          5.2962967376385475,
          5.360244586244256,
          4.554651085149377,
          5.488825142158639,
          5.315706295405006,
          6.681693245787357,
          5.894722505414693,
          6.0209468344773525,
          6.634877416470326,
          7.48756869632813,
          4.604204831293406,
          5.979215353106787,
          5.860820089297309,
          6.3365743250332,
          5.834550603201835,
          6.584486995116979,
          5.077399901830674,
          5.567284302398831,
          4.949606693274365,
          4.995756791912841,
          4.562877650325815,
          6.008651807444421,
          4.179318971632052,
          5.198589802577493,
          4.9817732144787605,
          3.7041599766429516,
          5.898927343235478,
          6.110468340411762,
          5.615324909679447,
          4.139339856584081,
          5.682014283898679,
          6.211493707843817,
          6.316724600616188,
          5.883873050515287,
          5.325508309093055,
          7.267500520662594,
          5.497686148824842,
          7.9926624992961095,
          7.739164545150962,
          5.733432839486419,
          6.410644043508871,
          6.835070645854967,
          10.335045834293824,
          7.285991515322289,
          7.909608625084597,
          7.377061743850409,
          6.462929435718408,
          6.708825445524163,
          6.738276528109417,
          6.039715123513071,
          6.268951764616823,
          8.485789480419875,
          9.059327900213427,
          8.273204311244914
         ],
         "type": "scatter",
         "showlegend": false
        },
        {
         "line": {
          "color": "red"
         },
         "mode": "markers",
         "name": "Scatter",
         "x": [
          170,
          238,
          139,
          351,
          205,
          182,
          171,
          159,
          143,
          99,
          104,
          77,
          124,
          124,
          94,
          108,
          150,
          95,
          154,
          195,
          149,
          89,
          106,
          91,
          93,
          110,
          91,
          106,
          118,
          102,
          89,
          88,
          92,
          89,
          78,
          76,
          64,
          80,
          70,
          97,
          89,
          113,
          124,
          94,
          145,
          109,
          117,
          133,
          145,
          223,
          156,
          142,
          138,
          182,
          135,
          201,
          130,
          130,
          147,
          110,
          109,
          112,
          170,
          149,
          130
         ],
         "y": [
          4.574004004512423,
          6.377132883061421,
          6.3408347457224865,
          8.782498209258627,
          7.9504992343532015,
          6.266142257699156,
          6.820160489494693,
          6.63198477548805,
          5.554567569685393,
          4.624393940611294,
          5.843217542270862,
          5.2962967376385475,
          5.360244586244256,
          4.554651085149377,
          5.488825142158639,
          5.315706295405006,
          6.681693245787357,
          5.894722505414693,
          6.0209468344773525,
          6.634877416470326,
          7.48756869632813,
          4.604204831293406,
          5.979215353106787,
          5.860820089297309,
          6.3365743250332,
          5.834550603201835,
          6.584486995116979,
          5.077399901830674,
          5.567284302398831,
          4.949606693274365,
          4.995756791912841,
          4.562877650325815,
          6.008651807444421,
          4.179318971632052,
          5.198589802577493,
          4.9817732144787605,
          3.7041599766429516,
          5.898927343235478,
          6.110468340411762,
          5.615324909679447,
          4.139339856584081,
          5.682014283898679,
          6.211493707843817,
          6.316724600616188,
          5.883873050515287,
          5.325508309093055,
          7.267500520662594,
          5.497686148824842,
          7.9926624992961095,
          7.739164545150962,
          5.733432839486419,
          6.410644043508871,
          6.835070645854967,
          10.335045834293824,
          7.285991515322289,
          7.909608625084597,
          7.377061743850409,
          6.462929435718408,
          6.708825445524163,
          6.738276528109417,
          6.039715123513071,
          6.268951764616823,
          8.485789480419875,
          9.059327900213427,
          8.273204311244914
         ],
         "type": "scatter",
         "showlegend": false
        }
       ],
       "layout": {
        "template": {
         "data": {
          "histogram2dcontour": [
           {
            "type": "histogram2dcontour",
            "colorbar": {
             "outlinewidth": 0,
             "ticks": ""
            },
            "colorscale": [
             [
              0.0,
              "#0d0887"
             ],
             [
              0.1111111111111111,
              "#46039f"
             ],
             [
              0.2222222222222222,
              "#7201a8"
             ],
             [
              0.3333333333333333,
              "#9c179e"
             ],
             [
              0.4444444444444444,
              "#bd3786"
             ],
             [
              0.5555555555555556,
              "#d8576b"
             ],
             [
              0.6666666666666666,
              "#ed7953"
             ],
             [
              0.7777777777777778,
              "#fb9f3a"
             ],
             [
              0.8888888888888888,
              "#fdca26"
             ],
             [
              1.0,
              "#f0f921"
             ]
            ]
           }
          ],
          "choropleth": [
           {
            "type": "choropleth",
            "colorbar": {
             "outlinewidth": 0,
             "ticks": ""
            }
           }
          ],
          "histogram2d": [
           {
            "type": "histogram2d",
            "colorbar": {
             "outlinewidth": 0,
             "ticks": ""
            },
            "colorscale": [
             [
              0.0,
              "#0d0887"
             ],
             [
              0.1111111111111111,
              "#46039f"
             ],
             [
              0.2222222222222222,
              "#7201a8"
             ],
             [
              0.3333333333333333,
              "#9c179e"
             ],
             [
              0.4444444444444444,
              "#bd3786"
             ],
             [
              0.5555555555555556,
              "#d8576b"
             ],
             [
              0.6666666666666666,
              "#ed7953"
             ],
             [
              0.7777777777777778,
              "#fb9f3a"
             ],
             [
              0.8888888888888888,
              "#fdca26"
             ],
             [
              1.0,
              "#f0f921"
             ]
            ]
           }
          ],
          "heatmap": [
           {
            "type": "heatmap",
            "colorbar": {
             "outlinewidth": 0,
             "ticks": ""
            },
            "colorscale": [
             [
              0.0,
              "#0d0887"
             ],
             [
              0.1111111111111111,
              "#46039f"
             ],
             [
              0.2222222222222222,
              "#7201a8"
             ],
             [
              0.3333333333333333,
              "#9c179e"
             ],
             [
              0.4444444444444444,
              "#bd3786"
             ],
             [
              0.5555555555555556,
              "#d8576b"
             ],
             [
              0.6666666666666666,
              "#ed7953"
             ],
             [
              0.7777777777777778,
              "#fb9f3a"
             ],
             [
              0.8888888888888888,
              "#fdca26"
             ],
             [
              1.0,
              "#f0f921"
             ]
            ]
           }
          ],
          "heatmapgl": [
           {
            "type": "heatmapgl",
            "colorbar": {
             "outlinewidth": 0,
             "ticks": ""
            },
            "colorscale": [
             [
              0.0,
              "#0d0887"
             ],
             [
              0.1111111111111111,
              "#46039f"
             ],
             [
              0.2222222222222222,
              "#7201a8"
             ],
             [
              0.3333333333333333,
              "#9c179e"
             ],
             [
              0.4444444444444444,
              "#bd3786"
             ],
             [
              0.5555555555555556,
              "#d8576b"
             ],
             [
              0.6666666666666666,
              "#ed7953"
             ],
             [
              0.7777777777777778,
              "#fb9f3a"
             ],
             [
              0.8888888888888888,
              "#fdca26"
             ],
             [
              1.0,
              "#f0f921"
             ]
            ]
           }
          ],
          "contourcarpet": [
           {
            "type": "contourcarpet",
            "colorbar": {
             "outlinewidth": 0,
             "ticks": ""
            }
           }
          ],
          "contour": [
           {
            "type": "contour",
            "colorbar": {
             "outlinewidth": 0,
             "ticks": ""
            },
            "colorscale": [
             [
              0.0,
              "#0d0887"
             ],
             [
              0.1111111111111111,
              "#46039f"
             ],
             [
              0.2222222222222222,
              "#7201a8"
             ],
             [
              0.3333333333333333,
              "#9c179e"
             ],
             [
              0.4444444444444444,
              "#bd3786"
             ],
             [
              0.5555555555555556,
              "#d8576b"
             ],
             [
              0.6666666666666666,
              "#ed7953"
             ],
             [
              0.7777777777777778,
              "#fb9f3a"
             ],
             [
              0.8888888888888888,
              "#fdca26"
             ],
             [
              1.0,
              "#f0f921"
             ]
            ]
           }
          ],
          "surface": [
           {
            "type": "surface",
            "colorbar": {
             "outlinewidth": 0,
             "ticks": ""
            },
            "colorscale": [
             [
              0.0,
              "#0d0887"
             ],
             [
              0.1111111111111111,
              "#46039f"
             ],
             [
              0.2222222222222222,
              "#7201a8"
             ],
             [
              0.3333333333333333,
              "#9c179e"
             ],
             [
              0.4444444444444444,
              "#bd3786"
             ],
             [
              0.5555555555555556,
              "#d8576b"
             ],
             [
              0.6666666666666666,
              "#ed7953"
             ],
             [
              0.7777777777777778,
              "#fb9f3a"
             ],
             [
              0.8888888888888888,
              "#fdca26"
             ],
             [
              1.0,
              "#f0f921"
             ]
            ]
           }
          ],
          "mesh3d": [
           {
            "type": "mesh3d",
            "colorbar": {
             "outlinewidth": 0,
             "ticks": ""
            }
           }
          ],
          "scatter": [
           {
            "marker": {
             "line": {
              "color": "#283442"
             }
            },
            "type": "scatter"
           }
          ],
          "parcoords": [
           {
            "type": "parcoords",
            "line": {
             "colorbar": {
              "outlinewidth": 0,
              "ticks": ""
             }
            }
           }
          ],
          "scatterpolargl": [
           {
            "type": "scatterpolargl",
            "marker": {
             "colorbar": {
              "outlinewidth": 0,
              "ticks": ""
             }
            }
           }
          ],
          "bar": [
           {
            "error_x": {
             "color": "#f2f5fa"
            },
            "error_y": {
             "color": "#f2f5fa"
            },
            "marker": {
             "line": {
              "color": "rgb(17,17,17)",
              "width": 0.5
             },
             "pattern": {
              "fillmode": "overlay",
              "size": 10,
              "solidity": 0.2
             }
            },
            "type": "bar"
           }
          ],
          "scattergeo": [
           {
            "type": "scattergeo",
            "marker": {
             "colorbar": {
              "outlinewidth": 0,
              "ticks": ""
             }
            }
           }
          ],
          "scatterpolar": [
           {
            "type": "scatterpolar",
            "marker": {
             "colorbar": {
              "outlinewidth": 0,
              "ticks": ""
             }
            }
           }
          ],
          "histogram": [
           {
            "marker": {
             "pattern": {
              "fillmode": "overlay",
              "size": 10,
              "solidity": 0.2
             }
            },
            "type": "histogram"
           }
          ],
          "scattergl": [
           {
            "marker": {
             "line": {
              "color": "#283442"
             }
            },
            "type": "scattergl"
           }
          ],
          "scatter3d": [
           {
            "type": "scatter3d",
            "line": {
             "colorbar": {
              "outlinewidth": 0,
              "ticks": ""
             }
            },
            "marker": {
             "colorbar": {
              "outlinewidth": 0,
              "ticks": ""
             }
            }
           }
          ],
          "scattermapbox": [
           {
            "type": "scattermapbox",
            "marker": {
             "colorbar": {
              "outlinewidth": 0,
              "ticks": ""
             }
            }
           }
          ],
          "scatterternary": [
           {
            "type": "scatterternary",
            "marker": {
             "colorbar": {
              "outlinewidth": 0,
              "ticks": ""
             }
            }
           }
          ],
          "scattercarpet": [
           {
            "type": "scattercarpet",
            "marker": {
             "colorbar": {
              "outlinewidth": 0,
              "ticks": ""
             }
            }
           }
          ],
          "carpet": [
           {
            "aaxis": {
             "endlinecolor": "#A2B1C6",
             "gridcolor": "#506784",
             "linecolor": "#506784",
             "minorgridcolor": "#506784",
             "startlinecolor": "#A2B1C6"
            },
            "baxis": {
             "endlinecolor": "#A2B1C6",
             "gridcolor": "#506784",
             "linecolor": "#506784",
             "minorgridcolor": "#506784",
             "startlinecolor": "#A2B1C6"
            },
            "type": "carpet"
           }
          ],
          "table": [
           {
            "cells": {
             "fill": {
              "color": "#506784"
             },
             "line": {
              "color": "rgb(17,17,17)"
             }
            },
            "header": {
             "fill": {
              "color": "#2a3f5f"
             },
             "line": {
              "color": "rgb(17,17,17)"
             }
            },
            "type": "table"
           }
          ],
          "barpolar": [
           {
            "marker": {
             "line": {
              "color": "rgb(17,17,17)",
              "width": 0.5
             },
             "pattern": {
              "fillmode": "overlay",
              "size": 10,
              "solidity": 0.2
             }
            },
            "type": "barpolar"
           }
          ],
          "pie": [
           {
            "automargin": true,
            "type": "pie"
           }
          ]
         },
         "layout": {
          "autotypenumbers": "strict",
          "colorway": [
           "#636efa",
           "#EF553B",
           "#00cc96",
           "#ab63fa",
           "#FFA15A",
           "#19d3f3",
           "#FF6692",
           "#B6E880",
           "#FF97FF",
           "#FECB52"
          ],
          "font": {
           "color": "#f2f5fa"
          },
          "hovermode": "closest",
          "hoverlabel": {
           "align": "left"
          },
          "paper_bgcolor": "rgb(17,17,17)",
          "plot_bgcolor": "rgb(17,17,17)",
          "polar": {
           "bgcolor": "rgb(17,17,17)",
           "angularaxis": {
            "gridcolor": "#506784",
            "linecolor": "#506784",
            "ticks": ""
           },
           "radialaxis": {
            "gridcolor": "#506784",
            "linecolor": "#506784",
            "ticks": ""
           }
          },
          "ternary": {
           "bgcolor": "rgb(17,17,17)",
           "aaxis": {
            "gridcolor": "#506784",
            "linecolor": "#506784",
            "ticks": ""
           },
           "baxis": {
            "gridcolor": "#506784",
            "linecolor": "#506784",
            "ticks": ""
           },
           "caxis": {
            "gridcolor": "#506784",
            "linecolor": "#506784",
            "ticks": ""
           }
          },
          "coloraxis": {
           "colorbar": {
            "outlinewidth": 0,
            "ticks": ""
           }
          },
          "colorscale": {
           "sequential": [
            [
             0.0,
             "#0d0887"
            ],
            [
             0.1111111111111111,
             "#46039f"
            ],
            [
             0.2222222222222222,
             "#7201a8"
            ],
            [
             0.3333333333333333,
             "#9c179e"
            ],
            [
             0.4444444444444444,
             "#bd3786"
            ],
            [
             0.5555555555555556,
             "#d8576b"
            ],
            [
             0.6666666666666666,
             "#ed7953"
            ],
            [
             0.7777777777777778,
             "#fb9f3a"
            ],
            [
             0.8888888888888888,
             "#fdca26"
            ],
            [
             1.0,
             "#f0f921"
            ]
           ],
           "sequentialminus": [
            [
             0.0,
             "#0d0887"
            ],
            [
             0.1111111111111111,
             "#46039f"
            ],
            [
             0.2222222222222222,
             "#7201a8"
            ],
            [
             0.3333333333333333,
             "#9c179e"
            ],
            [
             0.4444444444444444,
             "#bd3786"
            ],
            [
             0.5555555555555556,
             "#d8576b"
            ],
            [
             0.6666666666666666,
             "#ed7953"
            ],
            [
             0.7777777777777778,
             "#fb9f3a"
            ],
            [
             0.8888888888888888,
             "#fdca26"
            ],
            [
             1.0,
             "#f0f921"
            ]
           ],
           "diverging": [
            [
             0,
             "#8e0152"
            ],
            [
             0.1,
             "#c51b7d"
            ],
            [
             0.2,
             "#de77ae"
            ],
            [
             0.3,
             "#f1b6da"
            ],
            [
             0.4,
             "#fde0ef"
            ],
            [
             0.5,
             "#f7f7f7"
            ],
            [
             0.6,
             "#e6f5d0"
            ],
            [
             0.7,
             "#b8e186"
            ],
            [
             0.8,
             "#7fbc41"
            ],
            [
             0.9,
             "#4d9221"
            ],
            [
             1,
             "#276419"
            ]
           ]
          },
          "xaxis": {
           "gridcolor": "#283442",
           "linecolor": "#506784",
           "ticks": "",
           "title": {
            "standoff": 15
           },
           "zerolinecolor": "#283442",
           "automargin": true,
           "zerolinewidth": 2
          },
          "yaxis": {
           "gridcolor": "#283442",
           "linecolor": "#506784",
           "ticks": "",
           "title": {
            "standoff": 15
           },
           "zerolinecolor": "#283442",
           "automargin": true,
           "zerolinewidth": 2
          },
          "scene": {
           "xaxis": {
            "backgroundcolor": "rgb(17,17,17)",
            "gridcolor": "#506784",
            "linecolor": "#506784",
            "showbackground": true,
            "ticks": "",
            "zerolinecolor": "#C8D4E3",
            "gridwidth": 2
           },
           "yaxis": {
            "backgroundcolor": "rgb(17,17,17)",
            "gridcolor": "#506784",
            "linecolor": "#506784",
            "showbackground": true,
            "ticks": "",
            "zerolinecolor": "#C8D4E3",
            "gridwidth": 2
           },
           "zaxis": {
            "backgroundcolor": "rgb(17,17,17)",
            "gridcolor": "#506784",
            "linecolor": "#506784",
            "showbackground": true,
            "ticks": "",
            "zerolinecolor": "#C8D4E3",
            "gridwidth": 2
           }
          },
          "shapedefaults": {
           "line": {
            "color": "#f2f5fa"
           }
          },
          "annotationdefaults": {
           "arrowcolor": "#f2f5fa",
           "arrowhead": 0,
           "arrowwidth": 1
          },
          "geo": {
           "bgcolor": "rgb(17,17,17)",
           "landcolor": "rgb(17,17,17)",
           "subunitcolor": "#506784",
           "showland": true,
           "showlakes": true,
           "lakecolor": "rgb(17,17,17)"
          },
          "title": {
           "x": 0.05
          },
          "updatemenudefaults": {
           "bgcolor": "#506784",
           "borderwidth": 0
          },
          "sliderdefaults": {
           "bgcolor": "#C8D4E3",
           "borderwidth": 1,
           "bordercolor": "rgb(17,17,17)",
           "tickwidth": 0
          },
          "mapbox": {
           "style": "dark"
          }
         }
        },
        "title": {
         "text": "aragon's Trajectory",
         "x": 0.5,
         "y": 0.95
        },
        "xaxis": {
         "title": {
          "text": "#nodes"
         },
         "linecolor": "black"
        },
        "yaxis": {
         "title": {
          "text": "alpha"
         },
         "linecolor": "black"
        },
        "paper_bgcolor": "white",
        "plot_bgcolor": "white",
        "width": 1000
       },
       "config": {
        "plotlyServerURL": "https://plot.ly"
       }
      },
      "text/html": "<div>                            <div id=\"1770c900-a00d-48e1-bee3-3d82921afa4d\" class=\"plotly-graph-div\" style=\"height:525px; width:1000px;\"></div>            <script type=\"text/javascript\">                require([\"plotly\"], function(Plotly) {                    window.PLOTLYENV=window.PLOTLYENV || {};                                    if (document.getElementById(\"1770c900-a00d-48e1-bee3-3d82921afa4d\")) {                    Plotly.newPlot(                        \"1770c900-a00d-48e1-bee3-3d82921afa4d\",                        [{\"line\":{\"color\":\"black\",\"width\":1},\"mode\":\"lines\",\"name\":\"Line\",\"x\":[994,915,478,467,310,322,356,594,356,335,215,213,242,343,316,230,227,251,294,257,307,339,449,434,328,425,410,292,325,267,251,246,229,242,207,171,276,230,202,207,263,174,239,208,187,163,173,127,145,133,149,288,235,235,335,602,477,382,382,286,273,306,401,374,390,345,345,332,351,338,348,349,370,313,265,290,102,229,426,423,494,374,479,499,468,695,725,573,600,508,420,367,401,345,396,387,428,315,374,373,381,384,390,464,484,483,515,581,400,297,449,610,342,432,484,318,291,268,288,268,257,270,199,194,263,258,207,245,193,187,206,230,222,206,256,182,224,207,218,258,216,222,252,168,235,285,280,231,291,644,318,236,254,368,233,289,282,260,223,280,354,234,257,203,221,285,235,274,416,405,377,331,265,259,209,300,503,479,346,458,304,176,349,357,429,380,446,393,432,540,456,401,648,627,753,765,770,458,471,581,549,505,566,314,186,545,324,417,676,902,853,685,520,572,637,633,1042,732,778,609,567,459,639,589,565,545,703,554,544,464,449,1039,596,1124,819,649,552,249,339,845,570,701,640,521,605,400,411,364,412,336,343,610,327,376,468,512,395,375,381,298,304,460,271,249,294,268,197,175,179,217,147,165,212,291,225,229,192,141,209,227,225,159,114,136,110,112,207,146,185],\"y\":[12.17069435435016,8.889134188890228,6.7820908269582,12.657813455101612,6.552929080964145,6.452563410886842,12.252801387728818,5.318663539006105,4.578060124941151,4.811172759989585,9.899071564151017,3.6076573931781146,9.454188084374039,5.400189800855267,5.56725451276625,9.964327351130022,9.167963252921137,3.7625612603332863,5.63940235632892,4.102202591094496,5.595447890120214,5.2736248142409545,10.944011370797158,11.433664300449466,5.324070282168137,4.882512032097746,7.609644953641261,4.9202502689650105,11.349784797788608,4.604723900957564,4.626460960013279,8.106632191739646,7.289184109384004,10.591875006731538,8.964053393105807,10.982131633986853,11.881369577822289,4.522467158826464,3.5941989199620683,4.710082418054592,4.143627107238924,4.353899860768754,3.983074221458902,7.667993263266916,8.670053136633445,3.7608880102723967,3.9926429953937954,8.4527221877729,8.598266771644106,7.808244480970112,3.371280023092698,1.929667387598046,11.370679557888927,3.901833418188246,4.399216700431515,6.2899657703594825,6.0377382994297,5.724985161651024,7.599127930047139,6.855409587532748,6.644188429865808,5.955394214202025,5.432646211392101,7.0409027061510585,8.211433140828085,6.43092870213759,7.892112085604291,7.6758374321414955,7.229165633749675,7.593144897584306,5.45801057232685,7.147103949373012,8.40576887942101,6.611055379054814,5.979709494088782,9.062362624859906,10.210259498191174,5.253158291527376,7.9456228149718005,7.060734815427647,9.717323359342124,9.002038906446368,9.75940296224077,10.763713224181497,9.889256385084368,9.18959979297597,10.01332142235026,11.97997029030871,12.774450954472977,11.513987406906821,9.620139784533292,8.421584037873473,10.21654555213278,8.04811808692848,9.956124801708853,7.83356206224671,9.638690012558103,7.654296219795215,8.42231212717511,8.00368749463706,8.165555717076668,7.650462497799427,9.542138231905966,8.490428957388616,8.94945309064483,10.236720740118342,10.97436032991281,9.990876928931037,12.542972125712936,3.7801808328443407,4.127009200980975,6.3771269617566935,3.9322636777011764,4.139661138004383,6.175479669633157,6.711663081375308,6.826705292947568,5.288002593859665,7.275227856895159,7.254724571439977,9.292391830577253,8.58203406792677,5.441505369862605,5.782706116969309,6.905266192679485,6.276760175158616,6.7181712281529125,7.822047199183082,6.444725594398593,5.7304838763685195,9.090677911642262,6.793092826726407,7.83362345079114,7.887249613244143,9.00533385732138,5.547579460110363,5.907919938594834,6.385991595197488,6.3159696021631975,5.325991310210549,5.620264032756201,7.93439320265867,6.331817609785375,5.773295357956457,8.210194610814513,9.384789409115072,7.098525169617756,7.254724571439976,8.81647279593625,11.855980664545294,8.029758457076042,6.322546806124169,6.663119241823983,5.990638743283103,6.26198620021152,7.521101992641508,8.50989418857019,9.194673269356716,7.155578437242937,9.645739507955017,8.65536583726707,6.635548625923082,6.232749915019894,8.955145512673909,7.001184703914519,9.500309204575668,7.361267705551001,9.324790930889833,10.596895912819999,10.548997349083956,6.6323388517987505,9.457328526308643,10.12368674096929,8.143787358477812,6.078446403461957,9.285789221497897,9.005899488237814,11.045271217620554,11.038634409410943,12.135670767463969,7.347562092122233,4.493059106106314,11.175564283363618,9.292809583975671,7.235326385538142,9.416926459536285,9.948013972855858,8.35544000008533,8.9263215392616,11.141743916821596,10.558855007549926,10.37669913832935,11.497459681579702,15.180381735363703,11.78891517704061,10.848896251284232,15.826375828906782,10.789854901642387,9.178739399020952,12.225716179201678,13.39903587861074,12.01440704985615,4.65307252050803,10.869506166532005,10.499453322699278,7.412780764896589,8.745093214183445,8.783094687747472,12.915988647468584,13.1032864552462,14.236935982207664,11.923515655123898,10.345886549003113,9.76697860406085,10.337091336406386,8.096017147897781,9.745775360847677,15.061555541402775,10.235127743126002,10.174926383554329,7.054622974014516,7.000155026095319,8.188755715601468,9.084106310194413,10.099021839580306,10.33399057045027,8.558344130467033,7.668105543422525,8.756261934732363,13.647923501086,11.062475415094017,9.716786610549022,23.342330218086154,10.87507104273975,6.97719184648224,2.3806203396764984,4.444819825990479,10.13156206418593,4.874695237765682,2.6818395659579632,8.502308506685043,2.653251122246103,8.589310824112863,10.183366963052915,14.378228791928647,14.340341722521076,8.61096358935226,8.705810204959825,10.401917716973463,9.733300099743298,6.652891821797146,8.879506544884737,9.557143544924623,10.852281793069224,10.911483075022621,11.143257333685696,13.081771940049736,9.066984252809052,9.853573588151933,9.28483508872082,8.329939839731358,10.865729094134325,7.850333277348601,8.672657064900568,9.664814406495701,8.922735910452303,7.100510690653402,7.713292156465677,8.63286700963832,6.427629843673622,6.728820339800517,6.47256616322129,9.002001182486497,10.843163123207693,9.051071384813484,7.919525125223871,7.545994237741757,4.992844952959631,6.997510801878118,6.811776420951162,6.129386578444561,6.52951353827717,6.366674733364444,4.850751148339419,6.862033785371956,6.7117957815000855,6.87446798159053,5.605156759949983,6.67796777143289],\"type\":\"scatter\",\"showlegend\":false},{\"line\":{\"color\":\"black\"},\"mode\":\"markers\",\"name\":\"Scatter\",\"x\":[994,915,478,467,310,322,356,594,356,335,215,213,242,343,316,230,227,251,294,257,307,339,449,434,328,425,410,292,325,267,251,246,229,242,207,171,276,230,202,207,263,174,239,208,187,163,173,127,145,133,149,288,235,235,335,602,477,382,382,286,273,306,401,374,390,345,345,332,351,338,348,349,370,313,265,290,102,229,426,423,494,374,479,499,468,695,725,573,600,508,420,367,401,345,396,387,428,315,374,373,381,384,390,464,484,483,515,581,400,297,449,610,342,432,484,318,291,268,288,268,257,270,199,194,263,258,207,245,193,187,206,230,222,206,256,182,224,207,218,258,216,222,252,168,235,285,280,231,291,644,318,236,254,368,233,289,282,260,223,280,354,234,257,203,221,285,235,274,416,405,377,331,265,259,209,300,503,479,346,458,304,176,349,357,429,380,446,393,432,540,456,401,648,627,753,765,770,458,471,581,549,505,566,314,186,545,324,417,676,902,853,685,520,572,637,633,1042,732,778,609,567,459,639,589,565,545,703,554,544,464,449,1039,596,1124,819,649,552,249,339,845,570,701,640,521,605,400,411,364,412,336,343,610,327,376,468,512,395,375,381,298,304,460,271,249,294,268,197,175,179,217,147,165,212,291,225,229,192,141,209,227,225,159,114,136,110,112,207,146,185],\"y\":[12.17069435435016,8.889134188890228,6.7820908269582,12.657813455101612,6.552929080964145,6.452563410886842,12.252801387728818,5.318663539006105,4.578060124941151,4.811172759989585,9.899071564151017,3.6076573931781146,9.454188084374039,5.400189800855267,5.56725451276625,9.964327351130022,9.167963252921137,3.7625612603332863,5.63940235632892,4.102202591094496,5.595447890120214,5.2736248142409545,10.944011370797158,11.433664300449466,5.324070282168137,4.882512032097746,7.609644953641261,4.9202502689650105,11.349784797788608,4.604723900957564,4.626460960013279,8.106632191739646,7.289184109384004,10.591875006731538,8.964053393105807,10.982131633986853,11.881369577822289,4.522467158826464,3.5941989199620683,4.710082418054592,4.143627107238924,4.353899860768754,3.983074221458902,7.667993263266916,8.670053136633445,3.7608880102723967,3.9926429953937954,8.4527221877729,8.598266771644106,7.808244480970112,3.371280023092698,1.929667387598046,11.370679557888927,3.901833418188246,4.399216700431515,6.2899657703594825,6.0377382994297,5.724985161651024,7.599127930047139,6.855409587532748,6.644188429865808,5.955394214202025,5.432646211392101,7.0409027061510585,8.211433140828085,6.43092870213759,7.892112085604291,7.6758374321414955,7.229165633749675,7.593144897584306,5.45801057232685,7.147103949373012,8.40576887942101,6.611055379054814,5.979709494088782,9.062362624859906,10.210259498191174,5.253158291527376,7.9456228149718005,7.060734815427647,9.717323359342124,9.002038906446368,9.75940296224077,10.763713224181497,9.889256385084368,9.18959979297597,10.01332142235026,11.97997029030871,12.774450954472977,11.513987406906821,9.620139784533292,8.421584037873473,10.21654555213278,8.04811808692848,9.956124801708853,7.83356206224671,9.638690012558103,7.654296219795215,8.42231212717511,8.00368749463706,8.165555717076668,7.650462497799427,9.542138231905966,8.490428957388616,8.94945309064483,10.236720740118342,10.97436032991281,9.990876928931037,12.542972125712936,3.7801808328443407,4.127009200980975,6.3771269617566935,3.9322636777011764,4.139661138004383,6.175479669633157,6.711663081375308,6.826705292947568,5.288002593859665,7.275227856895159,7.254724571439977,9.292391830577253,8.58203406792677,5.441505369862605,5.782706116969309,6.905266192679485,6.276760175158616,6.7181712281529125,7.822047199183082,6.444725594398593,5.7304838763685195,9.090677911642262,6.793092826726407,7.83362345079114,7.887249613244143,9.00533385732138,5.547579460110363,5.907919938594834,6.385991595197488,6.3159696021631975,5.325991310210549,5.620264032756201,7.93439320265867,6.331817609785375,5.773295357956457,8.210194610814513,9.384789409115072,7.098525169617756,7.254724571439976,8.81647279593625,11.855980664545294,8.029758457076042,6.322546806124169,6.663119241823983,5.990638743283103,6.26198620021152,7.521101992641508,8.50989418857019,9.194673269356716,7.155578437242937,9.645739507955017,8.65536583726707,6.635548625923082,6.232749915019894,8.955145512673909,7.001184703914519,9.500309204575668,7.361267705551001,9.324790930889833,10.596895912819999,10.548997349083956,6.6323388517987505,9.457328526308643,10.12368674096929,8.143787358477812,6.078446403461957,9.285789221497897,9.005899488237814,11.045271217620554,11.038634409410943,12.135670767463969,7.347562092122233,4.493059106106314,11.175564283363618,9.292809583975671,7.235326385538142,9.416926459536285,9.948013972855858,8.35544000008533,8.9263215392616,11.141743916821596,10.558855007549926,10.37669913832935,11.497459681579702,15.180381735363703,11.78891517704061,10.848896251284232,15.826375828906782,10.789854901642387,9.178739399020952,12.225716179201678,13.39903587861074,12.01440704985615,4.65307252050803,10.869506166532005,10.499453322699278,7.412780764896589,8.745093214183445,8.783094687747472,12.915988647468584,13.1032864552462,14.236935982207664,11.923515655123898,10.345886549003113,9.76697860406085,10.337091336406386,8.096017147897781,9.745775360847677,15.061555541402775,10.235127743126002,10.174926383554329,7.054622974014516,7.000155026095319,8.188755715601468,9.084106310194413,10.099021839580306,10.33399057045027,8.558344130467033,7.668105543422525,8.756261934732363,13.647923501086,11.062475415094017,9.716786610549022,23.342330218086154,10.87507104273975,6.97719184648224,2.3806203396764984,4.444819825990479,10.13156206418593,4.874695237765682,2.6818395659579632,8.502308506685043,2.653251122246103,8.589310824112863,10.183366963052915,14.378228791928647,14.340341722521076,8.61096358935226,8.705810204959825,10.401917716973463,9.733300099743298,6.652891821797146,8.879506544884737,9.557143544924623,10.852281793069224,10.911483075022621,11.143257333685696,13.081771940049736,9.066984252809052,9.853573588151933,9.28483508872082,8.329939839731358,10.865729094134325,7.850333277348601,8.672657064900568,9.664814406495701,8.922735910452303,7.100510690653402,7.713292156465677,8.63286700963832,6.427629843673622,6.728820339800517,6.47256616322129,9.002001182486497,10.843163123207693,9.051071384813484,7.919525125223871,7.545994237741757,4.992844952959631,6.997510801878118,6.811776420951162,6.129386578444561,6.52951353827717,6.366674733364444,4.850751148339419,6.862033785371956,6.7117957815000855,6.87446798159053,5.605156759949983,6.67796777143289],\"type\":\"scatter\",\"showlegend\":false},{\"line\":{\"color\":\"red\",\"width\":1},\"mode\":\"lines\",\"name\":\"Line\",\"x\":[170,238,139,351,205,182,171,159,143,99,104,77,124,124,94,108,150,95,154,195,149,89,106,91,93,110,91,106,118,102,89,88,92,89,78,76,64,80,70,97,89,113,124,94,145,109,117,133,145,223,156,142,138,182,135,201,130,130,147,110,109,112,170,149,130],\"y\":[4.574004004512423,6.377132883061421,6.3408347457224865,8.782498209258627,7.9504992343532015,6.266142257699156,6.820160489494693,6.63198477548805,5.554567569685393,4.624393940611294,5.843217542270862,5.2962967376385475,5.360244586244256,4.554651085149377,5.488825142158639,5.315706295405006,6.681693245787357,5.894722505414693,6.0209468344773525,6.634877416470326,7.48756869632813,4.604204831293406,5.979215353106787,5.860820089297309,6.3365743250332,5.834550603201835,6.584486995116979,5.077399901830674,5.567284302398831,4.949606693274365,4.995756791912841,4.562877650325815,6.008651807444421,4.179318971632052,5.198589802577493,4.9817732144787605,3.7041599766429516,5.898927343235478,6.110468340411762,5.615324909679447,4.139339856584081,5.682014283898679,6.211493707843817,6.316724600616188,5.883873050515287,5.325508309093055,7.267500520662594,5.497686148824842,7.9926624992961095,7.739164545150962,5.733432839486419,6.410644043508871,6.835070645854967,10.335045834293824,7.285991515322289,7.909608625084597,7.377061743850409,6.462929435718408,6.708825445524163,6.738276528109417,6.039715123513071,6.268951764616823,8.485789480419875,9.059327900213427,8.273204311244914],\"type\":\"scatter\",\"showlegend\":false},{\"line\":{\"color\":\"red\"},\"mode\":\"markers\",\"name\":\"Scatter\",\"x\":[170,238,139,351,205,182,171,159,143,99,104,77,124,124,94,108,150,95,154,195,149,89,106,91,93,110,91,106,118,102,89,88,92,89,78,76,64,80,70,97,89,113,124,94,145,109,117,133,145,223,156,142,138,182,135,201,130,130,147,110,109,112,170,149,130],\"y\":[4.574004004512423,6.377132883061421,6.3408347457224865,8.782498209258627,7.9504992343532015,6.266142257699156,6.820160489494693,6.63198477548805,5.554567569685393,4.624393940611294,5.843217542270862,5.2962967376385475,5.360244586244256,4.554651085149377,5.488825142158639,5.315706295405006,6.681693245787357,5.894722505414693,6.0209468344773525,6.634877416470326,7.48756869632813,4.604204831293406,5.979215353106787,5.860820089297309,6.3365743250332,5.834550603201835,6.584486995116979,5.077399901830674,5.567284302398831,4.949606693274365,4.995756791912841,4.562877650325815,6.008651807444421,4.179318971632052,5.198589802577493,4.9817732144787605,3.7041599766429516,5.898927343235478,6.110468340411762,5.615324909679447,4.139339856584081,5.682014283898679,6.211493707843817,6.316724600616188,5.883873050515287,5.325508309093055,7.267500520662594,5.497686148824842,7.9926624992961095,7.739164545150962,5.733432839486419,6.410644043508871,6.835070645854967,10.335045834293824,7.285991515322289,7.909608625084597,7.377061743850409,6.462929435718408,6.708825445524163,6.738276528109417,6.039715123513071,6.268951764616823,8.485789480419875,9.059327900213427,8.273204311244914],\"type\":\"scatter\",\"showlegend\":false}],                        {\"template\":{\"data\":{\"histogram2dcontour\":[{\"type\":\"histogram2dcontour\",\"colorbar\":{\"outlinewidth\":0,\"ticks\":\"\"},\"colorscale\":[[0.0,\"#0d0887\"],[0.1111111111111111,\"#46039f\"],[0.2222222222222222,\"#7201a8\"],[0.3333333333333333,\"#9c179e\"],[0.4444444444444444,\"#bd3786\"],[0.5555555555555556,\"#d8576b\"],[0.6666666666666666,\"#ed7953\"],[0.7777777777777778,\"#fb9f3a\"],[0.8888888888888888,\"#fdca26\"],[1.0,\"#f0f921\"]]}],\"choropleth\":[{\"type\":\"choropleth\",\"colorbar\":{\"outlinewidth\":0,\"ticks\":\"\"}}],\"histogram2d\":[{\"type\":\"histogram2d\",\"colorbar\":{\"outlinewidth\":0,\"ticks\":\"\"},\"colorscale\":[[0.0,\"#0d0887\"],[0.1111111111111111,\"#46039f\"],[0.2222222222222222,\"#7201a8\"],[0.3333333333333333,\"#9c179e\"],[0.4444444444444444,\"#bd3786\"],[0.5555555555555556,\"#d8576b\"],[0.6666666666666666,\"#ed7953\"],[0.7777777777777778,\"#fb9f3a\"],[0.8888888888888888,\"#fdca26\"],[1.0,\"#f0f921\"]]}],\"heatmap\":[{\"type\":\"heatmap\",\"colorbar\":{\"outlinewidth\":0,\"ticks\":\"\"},\"colorscale\":[[0.0,\"#0d0887\"],[0.1111111111111111,\"#46039f\"],[0.2222222222222222,\"#7201a8\"],[0.3333333333333333,\"#9c179e\"],[0.4444444444444444,\"#bd3786\"],[0.5555555555555556,\"#d8576b\"],[0.6666666666666666,\"#ed7953\"],[0.7777777777777778,\"#fb9f3a\"],[0.8888888888888888,\"#fdca26\"],[1.0,\"#f0f921\"]]}],\"heatmapgl\":[{\"type\":\"heatmapgl\",\"colorbar\":{\"outlinewidth\":0,\"ticks\":\"\"},\"colorscale\":[[0.0,\"#0d0887\"],[0.1111111111111111,\"#46039f\"],[0.2222222222222222,\"#7201a8\"],[0.3333333333333333,\"#9c179e\"],[0.4444444444444444,\"#bd3786\"],[0.5555555555555556,\"#d8576b\"],[0.6666666666666666,\"#ed7953\"],[0.7777777777777778,\"#fb9f3a\"],[0.8888888888888888,\"#fdca26\"],[1.0,\"#f0f921\"]]}],\"contourcarpet\":[{\"type\":\"contourcarpet\",\"colorbar\":{\"outlinewidth\":0,\"ticks\":\"\"}}],\"contour\":[{\"type\":\"contour\",\"colorbar\":{\"outlinewidth\":0,\"ticks\":\"\"},\"colorscale\":[[0.0,\"#0d0887\"],[0.1111111111111111,\"#46039f\"],[0.2222222222222222,\"#7201a8\"],[0.3333333333333333,\"#9c179e\"],[0.4444444444444444,\"#bd3786\"],[0.5555555555555556,\"#d8576b\"],[0.6666666666666666,\"#ed7953\"],[0.7777777777777778,\"#fb9f3a\"],[0.8888888888888888,\"#fdca26\"],[1.0,\"#f0f921\"]]}],\"surface\":[{\"type\":\"surface\",\"colorbar\":{\"outlinewidth\":0,\"ticks\":\"\"},\"colorscale\":[[0.0,\"#0d0887\"],[0.1111111111111111,\"#46039f\"],[0.2222222222222222,\"#7201a8\"],[0.3333333333333333,\"#9c179e\"],[0.4444444444444444,\"#bd3786\"],[0.5555555555555556,\"#d8576b\"],[0.6666666666666666,\"#ed7953\"],[0.7777777777777778,\"#fb9f3a\"],[0.8888888888888888,\"#fdca26\"],[1.0,\"#f0f921\"]]}],\"mesh3d\":[{\"type\":\"mesh3d\",\"colorbar\":{\"outlinewidth\":0,\"ticks\":\"\"}}],\"scatter\":[{\"marker\":{\"line\":{\"color\":\"#283442\"}},\"type\":\"scatter\"}],\"parcoords\":[{\"type\":\"parcoords\",\"line\":{\"colorbar\":{\"outlinewidth\":0,\"ticks\":\"\"}}}],\"scatterpolargl\":[{\"type\":\"scatterpolargl\",\"marker\":{\"colorbar\":{\"outlinewidth\":0,\"ticks\":\"\"}}}],\"bar\":[{\"error_x\":{\"color\":\"#f2f5fa\"},\"error_y\":{\"color\":\"#f2f5fa\"},\"marker\":{\"line\":{\"color\":\"rgb(17,17,17)\",\"width\":0.5},\"pattern\":{\"fillmode\":\"overlay\",\"size\":10,\"solidity\":0.2}},\"type\":\"bar\"}],\"scattergeo\":[{\"type\":\"scattergeo\",\"marker\":{\"colorbar\":{\"outlinewidth\":0,\"ticks\":\"\"}}}],\"scatterpolar\":[{\"type\":\"scatterpolar\",\"marker\":{\"colorbar\":{\"outlinewidth\":0,\"ticks\":\"\"}}}],\"histogram\":[{\"marker\":{\"pattern\":{\"fillmode\":\"overlay\",\"size\":10,\"solidity\":0.2}},\"type\":\"histogram\"}],\"scattergl\":[{\"marker\":{\"line\":{\"color\":\"#283442\"}},\"type\":\"scattergl\"}],\"scatter3d\":[{\"type\":\"scatter3d\",\"line\":{\"colorbar\":{\"outlinewidth\":0,\"ticks\":\"\"}},\"marker\":{\"colorbar\":{\"outlinewidth\":0,\"ticks\":\"\"}}}],\"scattermapbox\":[{\"type\":\"scattermapbox\",\"marker\":{\"colorbar\":{\"outlinewidth\":0,\"ticks\":\"\"}}}],\"scatterternary\":[{\"type\":\"scatterternary\",\"marker\":{\"colorbar\":{\"outlinewidth\":0,\"ticks\":\"\"}}}],\"scattercarpet\":[{\"type\":\"scattercarpet\",\"marker\":{\"colorbar\":{\"outlinewidth\":0,\"ticks\":\"\"}}}],\"carpet\":[{\"aaxis\":{\"endlinecolor\":\"#A2B1C6\",\"gridcolor\":\"#506784\",\"linecolor\":\"#506784\",\"minorgridcolor\":\"#506784\",\"startlinecolor\":\"#A2B1C6\"},\"baxis\":{\"endlinecolor\":\"#A2B1C6\",\"gridcolor\":\"#506784\",\"linecolor\":\"#506784\",\"minorgridcolor\":\"#506784\",\"startlinecolor\":\"#A2B1C6\"},\"type\":\"carpet\"}],\"table\":[{\"cells\":{\"fill\":{\"color\":\"#506784\"},\"line\":{\"color\":\"rgb(17,17,17)\"}},\"header\":{\"fill\":{\"color\":\"#2a3f5f\"},\"line\":{\"color\":\"rgb(17,17,17)\"}},\"type\":\"table\"}],\"barpolar\":[{\"marker\":{\"line\":{\"color\":\"rgb(17,17,17)\",\"width\":0.5},\"pattern\":{\"fillmode\":\"overlay\",\"size\":10,\"solidity\":0.2}},\"type\":\"barpolar\"}],\"pie\":[{\"automargin\":true,\"type\":\"pie\"}]},\"layout\":{\"autotypenumbers\":\"strict\",\"colorway\":[\"#636efa\",\"#EF553B\",\"#00cc96\",\"#ab63fa\",\"#FFA15A\",\"#19d3f3\",\"#FF6692\",\"#B6E880\",\"#FF97FF\",\"#FECB52\"],\"font\":{\"color\":\"#f2f5fa\"},\"hovermode\":\"closest\",\"hoverlabel\":{\"align\":\"left\"},\"paper_bgcolor\":\"rgb(17,17,17)\",\"plot_bgcolor\":\"rgb(17,17,17)\",\"polar\":{\"bgcolor\":\"rgb(17,17,17)\",\"angularaxis\":{\"gridcolor\":\"#506784\",\"linecolor\":\"#506784\",\"ticks\":\"\"},\"radialaxis\":{\"gridcolor\":\"#506784\",\"linecolor\":\"#506784\",\"ticks\":\"\"}},\"ternary\":{\"bgcolor\":\"rgb(17,17,17)\",\"aaxis\":{\"gridcolor\":\"#506784\",\"linecolor\":\"#506784\",\"ticks\":\"\"},\"baxis\":{\"gridcolor\":\"#506784\",\"linecolor\":\"#506784\",\"ticks\":\"\"},\"caxis\":{\"gridcolor\":\"#506784\",\"linecolor\":\"#506784\",\"ticks\":\"\"}},\"coloraxis\":{\"colorbar\":{\"outlinewidth\":0,\"ticks\":\"\"}},\"colorscale\":{\"sequential\":[[0.0,\"#0d0887\"],[0.1111111111111111,\"#46039f\"],[0.2222222222222222,\"#7201a8\"],[0.3333333333333333,\"#9c179e\"],[0.4444444444444444,\"#bd3786\"],[0.5555555555555556,\"#d8576b\"],[0.6666666666666666,\"#ed7953\"],[0.7777777777777778,\"#fb9f3a\"],[0.8888888888888888,\"#fdca26\"],[1.0,\"#f0f921\"]],\"sequentialminus\":[[0.0,\"#0d0887\"],[0.1111111111111111,\"#46039f\"],[0.2222222222222222,\"#7201a8\"],[0.3333333333333333,\"#9c179e\"],[0.4444444444444444,\"#bd3786\"],[0.5555555555555556,\"#d8576b\"],[0.6666666666666666,\"#ed7953\"],[0.7777777777777778,\"#fb9f3a\"],[0.8888888888888888,\"#fdca26\"],[1.0,\"#f0f921\"]],\"diverging\":[[0,\"#8e0152\"],[0.1,\"#c51b7d\"],[0.2,\"#de77ae\"],[0.3,\"#f1b6da\"],[0.4,\"#fde0ef\"],[0.5,\"#f7f7f7\"],[0.6,\"#e6f5d0\"],[0.7,\"#b8e186\"],[0.8,\"#7fbc41\"],[0.9,\"#4d9221\"],[1,\"#276419\"]]},\"xaxis\":{\"gridcolor\":\"#283442\",\"linecolor\":\"#506784\",\"ticks\":\"\",\"title\":{\"standoff\":15},\"zerolinecolor\":\"#283442\",\"automargin\":true,\"zerolinewidth\":2},\"yaxis\":{\"gridcolor\":\"#283442\",\"linecolor\":\"#506784\",\"ticks\":\"\",\"title\":{\"standoff\":15},\"zerolinecolor\":\"#283442\",\"automargin\":true,\"zerolinewidth\":2},\"scene\":{\"xaxis\":{\"backgroundcolor\":\"rgb(17,17,17)\",\"gridcolor\":\"#506784\",\"linecolor\":\"#506784\",\"showbackground\":true,\"ticks\":\"\",\"zerolinecolor\":\"#C8D4E3\",\"gridwidth\":2},\"yaxis\":{\"backgroundcolor\":\"rgb(17,17,17)\",\"gridcolor\":\"#506784\",\"linecolor\":\"#506784\",\"showbackground\":true,\"ticks\":\"\",\"zerolinecolor\":\"#C8D4E3\",\"gridwidth\":2},\"zaxis\":{\"backgroundcolor\":\"rgb(17,17,17)\",\"gridcolor\":\"#506784\",\"linecolor\":\"#506784\",\"showbackground\":true,\"ticks\":\"\",\"zerolinecolor\":\"#C8D4E3\",\"gridwidth\":2}},\"shapedefaults\":{\"line\":{\"color\":\"#f2f5fa\"}},\"annotationdefaults\":{\"arrowcolor\":\"#f2f5fa\",\"arrowhead\":0,\"arrowwidth\":1},\"geo\":{\"bgcolor\":\"rgb(17,17,17)\",\"landcolor\":\"rgb(17,17,17)\",\"subunitcolor\":\"#506784\",\"showland\":true,\"showlakes\":true,\"lakecolor\":\"rgb(17,17,17)\"},\"title\":{\"x\":0.05},\"updatemenudefaults\":{\"bgcolor\":\"#506784\",\"borderwidth\":0},\"sliderdefaults\":{\"bgcolor\":\"#C8D4E3\",\"borderwidth\":1,\"bordercolor\":\"rgb(17,17,17)\",\"tickwidth\":0},\"mapbox\":{\"style\":\"dark\"}}},\"title\":{\"text\":\"aragon's Trajectory\",\"x\":0.5,\"y\":0.95},\"xaxis\":{\"title\":{\"text\":\"#nodes\"},\"linecolor\":\"black\"},\"yaxis\":{\"title\":{\"text\":\"alpha\"},\"linecolor\":\"black\"},\"paper_bgcolor\":\"white\",\"plot_bgcolor\":\"white\",\"width\":1000},                        {\"responsive\": true}                    ).then(function(){\n                            \nvar gd = document.getElementById('1770c900-a00d-48e1-bee3-3d82921afa4d');\nvar x = new MutationObserver(function (mutations, observer) {{\n        var display = window.getComputedStyle(gd).display;\n        if (!display || display === 'none') {{\n            console.log([gd, 'removed!']);\n            Plotly.purge(gd);\n            observer.disconnect();\n        }}\n}});\n\n// Listen for the removal of the full notebook cells\nvar notebookContainer = gd.closest('#notebook-container');\nif (notebookContainer) {{\n    x.observe(notebookContainer, {childList: true});\n}}\n\n// Listen for the clearing of the current output cell\nvar outputEl = gd.closest('.output');\nif (outputEl) {{\n    x.observe(outputEl, {childList: true});\n}}\n\n                        })                };                });            </script>        </div>"
     },
     "metadata": {},
     "output_type": "display_data"
    }
   ],
   "source": [
    "fig = go.Figure()\n",
    "\n",
    "# Add a line trace\n",
    "fig.add_trace(go.Scatter(x=event_days_data['#nodes'], y=event_days_data['alpha'], mode='lines', name='Line', line=dict(width=1, color='black')))\n",
    "fig.add_trace(go.Scatter(x=event_days_data['#nodes'], y=event_days_data['alpha'], mode='markers', name='Scatter', line=dict(color='black')))\n",
    "fig.add_trace(go.Scatter(x=testNetwork['#nodes'], y=testNetwork['alpha'], mode='lines', name='Line',line=dict(width=1,color='red')))\n",
    "fig.add_trace(go.Scatter(x=testNetwork['#nodes'], y=testNetwork['alpha'], mode='markers', name='Scatter',line=dict(color='red')))\n",
    "\n",
    "# Customize the layout\n",
    "fig.update_layout(\n",
    "    title=dict(\n",
    "        text=network_name+'\\'s Trajectory',  # Set the title here\n",
    "        x=0.5,  # Center the title horizontally (0.5 means middle)\n",
    "        y=0.95,  # Adjust the vertical position as needed (0.95 is near the top)\n",
    "    ),\n",
    "    xaxis=dict(title='#nodes'),\n",
    "    yaxis=dict(title='alpha'),\n",
    "    paper_bgcolor='white',  # Set the background color to white\n",
    "    plot_bgcolor='white',   # Set the plot area background color to white\n",
    "    width=1000\n",
    "    \n",
    ")\n",
    "\n",
    "fig.update_xaxes(linecolor='black')\n",
    "fig.update_yaxes(linecolor='black')\n",
    "fig.update_traces(showlegend=False)\n",
    "# Show the plot\n",
    "fig.show()\n",
    "fig.write_image(file_path+\"alpha\"+network_name+\"_\"+str(window_size)+\".png\")\n"
   ]
  },
  {
   "cell_type": "markdown",
   "id": "6664fcbb",
   "metadata": {},
   "source": [
    "# Sliding window\n",
    "Each data points in the phase base represent transaction networks for windows of 7 days"
   ]
  },
  {
   "cell_type": "code",
   "execution_count": 42,
   "id": "51e2adc8",
   "metadata": {
    "ExecuteTime": {
     "end_time": "2023-10-30T18:07:01.939379Z",
     "start_time": "2023-10-30T18:07:01.867704Z"
    }
   },
   "outputs": [],
   "source": [
    "file_path = file_path + network_name + \"/\" + str(window_size) + \"/\"\n",
    "\n",
    "\n",
    "threshold = pd.to_datetime('2018-03-01').date()\n",
    "selectedNetwork = pd.read_csv(\"dataset/network\"+network_name+\".txt\", sep=' ', names=[\"from\", \"to\", \"date\", \"value\"])\n",
    "selectedNetwork['date'] = pd.to_datetime(selectedNetwork['date'], unit='s')"
   ]
  },
  {
   "cell_type": "code",
   "execution_count": 43,
   "id": "a2dc8bfd",
   "metadata": {
    "ExecuteTime": {
     "end_time": "2023-10-30T18:07:01.946897Z",
     "start_time": "2023-10-30T18:07:01.944335Z"
    }
   },
   "outputs": [
    {
     "data": {
      "text/plain": "          from      to                date                  value\n0        16037  245854 2017-07-18 04:52:49    2843000000000000000\n1           17  237348 2017-07-09 01:07:14   12340176380000000000\n2       206254  194319 2018-01-18 00:21:30  595756626170000000000\n3       256098  256097 2017-05-22 22:40:45  370000000000000000000\n4       194319  184024 2018-02-01 04:03:38    2648440000000000000\n...        ...     ...                 ...                    ...\n130266  204756  204757 2018-01-14 00:26:09   60556464810000000000\n130267  234906  248699 2017-07-15 23:42:22   50000000000000000000\n130268  194319  251188 2017-06-25 07:33:26  568447662250000000000\n130269      17   19526 2018-01-21 19:11:58   21107673650000000000\n130270  194319  248638 2017-07-15 15:01:45   10518420470000000000\n\n[130271 rows x 4 columns]",
      "text/html": "<div>\n<style scoped>\n    .dataframe tbody tr th:only-of-type {\n        vertical-align: middle;\n    }\n\n    .dataframe tbody tr th {\n        vertical-align: top;\n    }\n\n    .dataframe thead th {\n        text-align: right;\n    }\n</style>\n<table border=\"1\" class=\"dataframe\">\n  <thead>\n    <tr style=\"text-align: right;\">\n      <th></th>\n      <th>from</th>\n      <th>to</th>\n      <th>date</th>\n      <th>value</th>\n    </tr>\n  </thead>\n  <tbody>\n    <tr>\n      <th>0</th>\n      <td>16037</td>\n      <td>245854</td>\n      <td>2017-07-18 04:52:49</td>\n      <td>2843000000000000000</td>\n    </tr>\n    <tr>\n      <th>1</th>\n      <td>17</td>\n      <td>237348</td>\n      <td>2017-07-09 01:07:14</td>\n      <td>12340176380000000000</td>\n    </tr>\n    <tr>\n      <th>2</th>\n      <td>206254</td>\n      <td>194319</td>\n      <td>2018-01-18 00:21:30</td>\n      <td>595756626170000000000</td>\n    </tr>\n    <tr>\n      <th>3</th>\n      <td>256098</td>\n      <td>256097</td>\n      <td>2017-05-22 22:40:45</td>\n      <td>370000000000000000000</td>\n    </tr>\n    <tr>\n      <th>4</th>\n      <td>194319</td>\n      <td>184024</td>\n      <td>2018-02-01 04:03:38</td>\n      <td>2648440000000000000</td>\n    </tr>\n    <tr>\n      <th>...</th>\n      <td>...</td>\n      <td>...</td>\n      <td>...</td>\n      <td>...</td>\n    </tr>\n    <tr>\n      <th>130266</th>\n      <td>204756</td>\n      <td>204757</td>\n      <td>2018-01-14 00:26:09</td>\n      <td>60556464810000000000</td>\n    </tr>\n    <tr>\n      <th>130267</th>\n      <td>234906</td>\n      <td>248699</td>\n      <td>2017-07-15 23:42:22</td>\n      <td>50000000000000000000</td>\n    </tr>\n    <tr>\n      <th>130268</th>\n      <td>194319</td>\n      <td>251188</td>\n      <td>2017-06-25 07:33:26</td>\n      <td>568447662250000000000</td>\n    </tr>\n    <tr>\n      <th>130269</th>\n      <td>17</td>\n      <td>19526</td>\n      <td>2018-01-21 19:11:58</td>\n      <td>21107673650000000000</td>\n    </tr>\n    <tr>\n      <th>130270</th>\n      <td>194319</td>\n      <td>248638</td>\n      <td>2017-07-15 15:01:45</td>\n      <td>10518420470000000000</td>\n    </tr>\n  </tbody>\n</table>\n<p>130271 rows × 4 columns</p>\n</div>"
     },
     "execution_count": 43,
     "metadata": {},
     "output_type": "execute_result"
    }
   ],
   "source": [
    "selectedNetwork"
   ]
  },
  {
   "cell_type": "markdown",
   "id": "c41d61a6",
   "metadata": {},
   "source": [
    "**Apply sliding window algorithm and apply powerlaw test on each window and store to dataframe**"
   ]
  },
  {
   "cell_type": "code",
   "execution_count": 44,
   "id": "4a52e2d3",
   "metadata": {
    "ExecuteTime": {
     "end_time": "2023-10-30T18:07:01.954136Z",
     "start_time": "2023-10-30T18:07:01.951608Z"
    }
   },
   "outputs": [],
   "source": [
    "def sliding_window_dates(start_date, end_date, window_size=7):\n",
    "    # Initialize the sliding window\n",
    "    \n",
    "    window_end = start_date   # Initial window size is 6 days\n",
    "    \n",
    "    \n",
    "    # Slide the window through the date interval\n",
    "    while window_end <= end_date:\n",
    "        window_start = window_end - timedelta(days=(window_size-1))\n",
    "        if(window_start >= start_date):\n",
    "            yield (window_start, window_end)\n",
    "        \n",
    "        \n",
    "        # Slide the window by one day\n",
    "       \n",
    "        window_end += timedelta(days=1)\n",
    "\n",
    "\n",
    "start_date = selectedNetwork['date'].min()\n",
    "end_date = selectedNetwork['date'].max()\n",
    "\n",
    " "
   ]
  },
  {
   "cell_type": "code",
   "execution_count": 45,
   "id": "d47016906f42706f",
   "metadata": {
    "ExecuteTime": {
     "end_time": "2023-10-30T18:07:17.111196Z",
     "start_time": "2023-10-30T18:07:01.958306Z"
    }
   },
   "outputs": [
    {
     "name": "stdout",
     "output_type": "stream",
     "text": [
      "[2068, Timestamp('2017-05-17 18:36:22'), Timestamp('2017-05-19 18:36:22'), 2.7778710697861513, 1.0000000000000013, 1.0000000000000013]\n",
      "[1021, Timestamp('2017-05-18 18:36:22'), Timestamp('2017-05-20 18:36:22'), 1.7963219032594415, 1.0, 1.0]\n",
      "[757, Timestamp('2017-05-19 18:36:22'), Timestamp('2017-05-21 18:36:22'), 1.0, 1.0, 1.0]\n",
      "[567, Timestamp('2017-05-20 18:36:22'), Timestamp('2017-05-22 18:36:22'), 1.2599210498948752, 0.0, 0.0]\n",
      "[585, Timestamp('2017-05-21 18:36:22'), Timestamp('2017-05-23 18:36:22'), 1.259921049894873, 1.0, 0.0]\n",
      "[859, Timestamp('2017-05-22 18:36:22'), Timestamp('2017-05-24 18:36:22'), 1.4422495703074096, 1.0, 9.41842561629421e-17]\n",
      "[932, Timestamp('2017-05-23 18:36:22'), Timestamp('2017-05-25 18:36:22'), 1.5213797068045678, 1.0, 0.0]\n",
      "[662, Timestamp('2017-05-24 18:36:22'), Timestamp('2017-05-26 18:36:22'), 1.0, 1.0, 0.0]\n",
      "[565, Timestamp('2017-05-25 18:36:22'), Timestamp('2017-05-27 18:36:22'), 1.0, 1.0, 1.0]\n",
      "[451, Timestamp('2017-05-26 18:36:22'), Timestamp('2017-05-28 18:36:22'), 1.0, 1.0, 1.0]\n",
      "[395, Timestamp('2017-05-27 18:36:22'), Timestamp('2017-05-29 18:36:22'), 1.0, 1.0, 0.0]\n",
      "[492, Timestamp('2017-05-28 18:36:22'), Timestamp('2017-05-30 18:36:22'), 1.5874010519682002, 1.0000000000000007, 1.0]\n",
      "[629, Timestamp('2017-05-29 18:36:22'), Timestamp('2017-05-31 18:36:22'), 2.2239800905693157, 1.2599210498948712, 1.0]\n",
      "[555, Timestamp('2017-05-30 18:36:22'), Timestamp('2017-06-01 18:36:22'), 2.2239800905693174, 1.0, 1.0]\n",
      "[446, Timestamp('2017-05-31 18:36:22'), Timestamp('2017-06-02 18:36:22'), 1.0, 1.0, 0.9999999999999998]\n",
      "[442, Timestamp('2017-06-01 18:36:22'), Timestamp('2017-06-03 18:36:22'), 1.0000000000000002, 1.0, 0.9999999999999998]\n",
      "[497, Timestamp('2017-06-02 18:36:22'), Timestamp('2017-06-04 18:36:22'), 1.1938591113212238, 0.15458967671833215, 0.15458967671833215]\n",
      "[516, Timestamp('2017-06-03 18:36:22'), Timestamp('2017-06-05 18:36:22'), 2.9999999999999996, 1.0000000000000016, 5.581045976502062e-09]\n",
      "[540, Timestamp('2017-06-04 18:36:22'), Timestamp('2017-06-06 18:36:22'), 3.044437903791903, 1.4970544287013576, 1.0000000000000004]\n",
      "[584, Timestamp('2017-06-05 18:36:22'), Timestamp('2017-06-07 18:36:22'), 4.0745360986352, 1.0000000000000002, 1.0144564947520378e-08]\n",
      "[764, Timestamp('2017-06-06 18:36:22'), Timestamp('2017-06-08 18:36:22'), 4.082891857489348, 1.402378574660939, 1.9142449986335487e-06]\n",
      "[732, Timestamp('2017-06-07 18:36:22'), Timestamp('2017-06-09 18:36:22'), 3.902996170909942, 1.2861234074950147, 2.495921949276802e-08]\n",
      "[721, Timestamp('2017-06-08 18:36:22'), Timestamp('2017-06-10 18:36:22'), 2.0000000000000013, 1.5874010519682007, 1.4142135623730954]\n",
      "[685, Timestamp('2017-06-09 18:36:22'), Timestamp('2017-06-11 18:36:22'), 2.0800838230519103, 1.4142135623730958, 1.0000000000000004]\n",
      "[807, Timestamp('2017-06-10 18:36:22'), Timestamp('2017-06-12 18:36:22'), 3.5033980603867225, 1.0000000000000002, 1.0]\n",
      "[694, Timestamp('2017-06-11 18:36:22'), Timestamp('2017-06-13 18:36:22'), 3.476026644886451, 1.414213562373095, 1.0]\n",
      "[575, Timestamp('2017-06-12 18:36:22'), Timestamp('2017-06-14 18:36:22'), 1.4142135623730951, 1.259921049894873, 1.0]\n",
      "[555, Timestamp('2017-06-13 18:36:22'), Timestamp('2017-06-15 18:36:22'), 1.0, 1.0, 0.9999999999999998]\n",
      "[493, Timestamp('2017-06-14 18:36:22'), Timestamp('2017-06-16 18:36:22'), 1.5874010519682005, 1.0, 8.245449975821241e-16]\n",
      "[506, Timestamp('2017-06-15 18:36:22'), Timestamp('2017-06-17 18:36:22'), 1.2599210498948727, 0.0, 0.0]\n",
      "[468, Timestamp('2017-06-16 18:36:22'), Timestamp('2017-06-18 18:36:22'), 1.0, 0.9999999999999998, 0.0]\n",
      "[435, Timestamp('2017-06-17 18:36:22'), Timestamp('2017-06-19 18:36:22'), 1.0, 1.0, 0.9999999999999998]\n",
      "[470, Timestamp('2017-06-18 18:36:22'), Timestamp('2017-06-20 18:36:22'), 1.0, 1.0, 0.0]\n",
      "[357, Timestamp('2017-06-19 18:36:22'), Timestamp('2017-06-21 18:36:22'), 1.0, 0.0, 0.0]\n",
      "[346, Timestamp('2017-06-20 18:36:22'), Timestamp('2017-06-22 18:36:22'), 1.4422495703074114, 1.0, 1.742637615756646e-08]\n",
      "[518, Timestamp('2017-06-21 18:36:22'), Timestamp('2017-06-23 18:36:22'), 1.4422495703074094, 1.000000000000001, 1.0]\n",
      "[452, Timestamp('2017-06-22 18:36:22'), Timestamp('2017-06-24 18:36:22'), 2.154434690031884, 1.0, 1.0]\n",
      "[373, Timestamp('2017-06-23 18:36:22'), Timestamp('2017-06-25 18:36:22'), 2.7589241763811176, 1.0, 1.0716191072370137e-16]\n",
      "[398, Timestamp('2017-06-24 18:36:22'), Timestamp('2017-06-26 18:36:22'), 1.4422495703074096, 5.378998028243709e-17, 0.0]\n",
      "[447, Timestamp('2017-06-25 18:36:22'), Timestamp('2017-06-27 18:36:22'), 1.9129311827723918, 1.2599210498948736, 2.47478773605781e-09]\n",
      "[426, Timestamp('2017-06-26 18:36:22'), Timestamp('2017-06-28 18:36:22'), 2.884499140614821, 1.0, 1.0]\n",
      "[409, Timestamp('2017-06-27 18:36:22'), Timestamp('2017-06-29 18:36:22'), 2.571281590658234, 1.2599210498948725, 1.0]\n",
      "[394, Timestamp('2017-06-28 18:36:22'), Timestamp('2017-06-30 18:36:22'), 1.3953369944670744, 1.2599210498948754, 6.931646166001024e-09]\n",
      "[354, Timestamp('2017-06-29 18:36:22'), Timestamp('2017-07-01 18:36:22'), 1.9129311827723885, 2.7369110631344083e-48, 0.0]\n",
      "[357, Timestamp('2017-06-30 18:36:22'), Timestamp('2017-07-02 18:36:22'), 2.154434690031885, 1.0, 1.583081442225951e-08]\n",
      "[289, Timestamp('2017-07-01 18:36:22'), Timestamp('2017-07-03 18:36:22'), 1.2599210498948732, 1.2207440846057604, 9.80552867694857e-17]\n",
      "[240, Timestamp('2017-07-02 18:36:22'), Timestamp('2017-07-04 18:36:22'), 1.2599210498948747, 0.0, 0.0]\n",
      "[266, Timestamp('2017-07-03 18:36:22'), Timestamp('2017-07-05 18:36:22'), 0.0, 0.0, 0.0]\n",
      "[262, Timestamp('2017-07-04 18:36:22'), Timestamp('2017-07-06 18:36:22'), 1.0, 0.9999999999999994, 0.9999999999999993]\n",
      "[389, Timestamp('2017-07-05 18:36:22'), Timestamp('2017-07-07 18:36:22'), 1.9325087502555809, 0.9999999999999999, 0.9999999999999998]\n",
      "[478, Timestamp('2017-07-06 18:36:22'), Timestamp('2017-07-08 18:36:22'), 1.7720290019648677, 1.0, 3.848075339106296e-09]\n",
      "[431, Timestamp('2017-07-07 18:36:22'), Timestamp('2017-07-09 18:36:22'), 1.8171205928321401, 1.0000000000000002, 9.363776130728916e-09]\n",
      "[461, Timestamp('2017-07-08 18:36:22'), Timestamp('2017-07-10 18:36:22'), 1.9999999999999984, 2.574350460781008e-09, 2.574350460781008e-09]\n",
      "[864, Timestamp('2017-07-09 18:36:22'), Timestamp('2017-07-11 18:36:22'), 2.962496068407373, 4.314071261680662e-09, 3.455174852650342e-09]\n",
      "[1024, Timestamp('2017-07-10 18:36:22'), Timestamp('2017-07-12 18:36:22'), 3.34118258132394, 7.888857765478922e-09, 7.197509870645287e-09]\n",
      "[827, Timestamp('2017-07-11 18:36:22'), Timestamp('2017-07-13 18:36:22'), 3.1851511533084516, 3.865705027861215e-09, 2.0949544788504e-09]\n",
      "[781, Timestamp('2017-07-12 18:36:22'), Timestamp('2017-07-14 18:36:22'), 3.2396118012774844, 0.9999999999999996, 9.632494601323278e-09]\n",
      "[658, Timestamp('2017-07-13 18:36:22'), Timestamp('2017-07-15 18:36:22'), 2.843866979851569, 0.9999999999999996, 9.263654805954784e-09]\n",
      "[556, Timestamp('2017-07-14 18:36:22'), Timestamp('2017-07-16 18:36:22'), 2.5198420997897535, 1.0, 3.5946680422050794e-09]\n",
      "[561, Timestamp('2017-07-15 18:36:22'), Timestamp('2017-07-17 18:36:22'), 3.0365889718756613, 7.331232899500629e-09, 7.331232899500629e-09]\n",
      "[627, Timestamp('2017-07-16 18:36:22'), Timestamp('2017-07-18 18:36:22'), 3.207534329995825, 1.0, 9.075285239006665e-09]\n",
      "[727, Timestamp('2017-07-17 18:36:22'), Timestamp('2017-07-19 18:36:22'), 3.3912114430141704, 1.2599210498948734, 1.0000000000000007]\n",
      "[726, Timestamp('2017-07-18 18:36:22'), Timestamp('2017-07-20 18:36:22'), 3.44821724038273, 1.5874010519682038, 1.0000000000000018]\n",
      "[721, Timestamp('2017-07-19 18:36:22'), Timestamp('2017-07-21 18:36:22'), 3.6088260801386944, 1.2599210498948774, 9.266627680463848e-09]\n",
      "[698, Timestamp('2017-07-20 18:36:22'), Timestamp('2017-07-22 18:36:22'), 3.756285754221071, 6.754849495509745e-09, 6.742364125526905e-09]\n",
      "[647, Timestamp('2017-07-21 18:36:22'), Timestamp('2017-07-23 18:36:22'), 3.3019272488946316, 1.503854513971965e-08, 7.011053333004803e-09]\n",
      "[634, Timestamp('2017-07-22 18:36:22'), Timestamp('2017-07-24 18:36:22'), 2.962496068407378, 0.9999999999999998, 1.87177828402111e-09]\n",
      "[645, Timestamp('2017-07-23 18:36:22'), Timestamp('2017-07-25 18:36:22'), 2.7589241763811203, 3.55290480029817e-09, 3.2331111196829055e-09]\n",
      "[663, Timestamp('2017-07-24 18:36:22'), Timestamp('2017-07-26 18:36:22'), 2.5198420997897606, 1.0000000000000002, 5.964000287550026e-09]\n",
      "[676, Timestamp('2017-07-25 18:36:22'), Timestamp('2017-07-27 18:36:22'), 2.675978734935634, 1.0000000000000009, 1.0]\n",
      "[707, Timestamp('2017-07-26 18:36:22'), Timestamp('2017-07-28 18:36:22'), 2.9999999999999982, 1.0000000000000016, 1.0]\n",
      "[680, Timestamp('2017-07-27 18:36:22'), Timestamp('2017-07-29 18:36:22'), 2.571281590658235, 1.0, 1.0]\n",
      "[575, Timestamp('2017-07-28 18:36:22'), Timestamp('2017-07-30 18:36:22'), 2.3513346877207573, 1.706075088909557e-08, 4.371818142517467e-09]\n",
      "[510, Timestamp('2017-07-29 18:36:22'), Timestamp('2017-07-31 18:36:22'), 2.5198420997897513, 4.91715378054627e-09, 4.91715378054627e-09]\n",
      "[426, Timestamp('2017-07-30 18:36:22'), Timestamp('2017-08-01 18:36:22'), 2.0, 1.2600416919013538e-08, 3.354852623255068e-09]\n",
      "[327, Timestamp('2017-07-31 18:36:22'), Timestamp('2017-08-02 18:36:22'), 1.5874010519682002, 8.93087661702622e-09, 1.1102230246251565e-16]\n",
      "[567, Timestamp('2017-08-01 18:36:22'), Timestamp('2017-08-03 18:36:22'), 2.3513346877207586, 0.9999999999999996, 1.0392283098830463e-08]\n",
      "[829, Timestamp('2017-08-02 18:36:22'), Timestamp('2017-08-04 18:36:22'), 3.0365889718756636, 1.2599210498948763, 0.9999999999999994]\n",
      "[876, Timestamp('2017-08-03 18:36:22'), Timestamp('2017-08-05 18:36:22'), 3.3619754067989573, 1.4422495703074099, 1.259921049894874]\n",
      "[830, Timestamp('2017-08-04 18:36:22'), Timestamp('2017-08-06 18:36:22'), 3.4199518933534017, 1.2599210498948716, 0.9999999999999996]\n",
      "[802, Timestamp('2017-08-05 18:36:22'), Timestamp('2017-08-07 18:36:22'), 2.924017738212872, 1.0000000000000004, 1.0000000000000004]\n",
      "[901, Timestamp('2017-08-06 18:36:22'), Timestamp('2017-08-08 18:36:22'), 3.1748021039364005, 1.0000000000000004, 0.9999999999999998]\n",
      "[960, Timestamp('2017-08-07 18:36:22'), Timestamp('2017-08-09 18:36:22'), 3.6088260801386944, 5.8679688849899285e-09, 5.710765435072675e-09]\n",
      "[1057, Timestamp('2017-08-08 18:36:22'), Timestamp('2017-08-10 18:36:22'), 3.936497183102178, 9.05502546629923e-09, 7.874193982226437e-09]\n",
      "[1287, Timestamp('2017-08-09 18:36:22'), Timestamp('2017-08-11 18:36:22'), 4.254320865115002, 6.384436582273888e-09, 5.676463967471733e-09]\n",
      "[1313, Timestamp('2017-08-10 18:36:22'), Timestamp('2017-08-12 18:36:22'), 4.235823584254913, 1.2599210498948725, 9.52251904912778e-09]\n",
      "[1144, Timestamp('2017-08-11 18:36:22'), Timestamp('2017-08-13 18:36:22'), 3.7920290469815745, 9.923411141353721e-09, 4.704639371846793e-09]\n",
      "[1042, Timestamp('2017-08-12 18:36:22'), Timestamp('2017-08-14 18:36:22'), 3.7215844479201405, 0.935752579372123, 0.4999246132875083]\n",
      "[963, Timestamp('2017-08-13 18:36:22'), Timestamp('2017-08-15 18:36:22'), 3.361975406798962, 0.9999999999999997, 3.217666125374849e-05]\n",
      "[777, Timestamp('2017-08-14 18:36:22'), Timestamp('2017-08-16 18:36:22'), 2.6684016487219466, 1.0000000000000007, 6.054555212390576e-09]\n",
      "[715, Timestamp('2017-08-15 18:36:22'), Timestamp('2017-08-17 18:36:22'), 2.80227534019098, 0.9539523545472302, 5.516005454020951e-09]\n",
      "[719, Timestamp('2017-08-16 18:36:22'), Timestamp('2017-08-18 18:36:22'), 3.0600345798034225, 0.9999999999999998, 0.9999999999999997]\n",
      "[698, Timestamp('2017-08-17 18:36:22'), Timestamp('2017-08-19 18:36:22'), 2.620741394208896, 1.0, 8.766827840281995e-09]\n",
      "[724, Timestamp('2017-08-18 18:36:22'), Timestamp('2017-08-20 18:36:22'), 3.0365889718756667, 1.2207440846057582, 7.0940771560303314e-09]\n",
      "[774, Timestamp('2017-08-19 18:36:22'), Timestamp('2017-08-21 18:36:22'), 3.5033980603867283, 1.000000000000001, 7.265271868334547e-09]\n",
      "[774, Timestamp('2017-08-20 18:36:22'), Timestamp('2017-08-22 18:36:22'), 3.702267890088569, 1.0, 0.18944543952504805]\n",
      "[669, Timestamp('2017-08-21 18:36:22'), Timestamp('2017-08-23 18:36:22'), 2.999999999999998, 1.0000000000000009, 1.0]\n",
      "[699, Timestamp('2017-08-22 18:36:22'), Timestamp('2017-08-24 18:36:22'), 3.0365889718756667, 1.0000000000000009, 6.948445138133937e-09]\n",
      "[767, Timestamp('2017-08-23 18:36:22'), Timestamp('2017-08-25 18:36:22'), 3.141380652391393, 0.9999999999999997, 7.108717306876356e-09]\n",
      "[749, Timestamp('2017-08-24 18:36:22'), Timestamp('2017-08-26 18:36:22'), 3.518485032701679, 1.2599210498948747, 7.499218422597648e-09]\n",
      "[725, Timestamp('2017-08-25 18:36:22'), Timestamp('2017-08-27 18:36:22'), 3.9636421715731656, 8.542575444847246e-09, 7.516162134454787e-09]\n",
      "[768, Timestamp('2017-08-26 18:36:22'), Timestamp('2017-08-28 18:36:22'), 3.9948052416207256, 8.209606201295155e-09, 5.973627257425419e-09]\n",
      "[882, Timestamp('2017-08-27 18:36:22'), Timestamp('2017-08-29 18:36:22'), 4.015504494432284, 1.0000000000000004, 1.0100869709792302e-08]\n",
      "[983, Timestamp('2017-08-28 18:36:22'), Timestamp('2017-08-30 18:36:22'), 3.477992729379167, 1.0000000000000002, 0.20733935958584632]\n",
      "[950, Timestamp('2017-08-29 18:36:22'), Timestamp('2017-08-31 18:36:22'), 3.3912114430141664, 1.0, 8.46459233220358e-09]\n",
      "[1034, Timestamp('2017-08-30 18:36:22'), Timestamp('2017-09-01 18:36:22'), 3.6342411856642896, 1.0000000000000002, 1.0]\n",
      "[983, Timestamp('2017-08-31 18:36:22'), Timestamp('2017-09-02 18:36:22'), 3.239611801277485, 1.0000000000000013, 1.0]\n",
      "[728, Timestamp('2017-09-01 18:36:22'), Timestamp('2017-09-03 18:36:22'), 2.289428485106662, 6.4104092890688824e-09, 3.826397648721481e-09]\n",
      "[679, Timestamp('2017-09-02 18:36:22'), Timestamp('2017-09-04 18:36:22'), 0.9999999999999998, 0.0, 0.0]\n",
      "[923, Timestamp('2017-09-03 18:36:22'), Timestamp('2017-09-05 18:36:22'), 3.0040984039089347, 0.9999999999999999, 2.540261932013066e-05]\n",
      "[954, Timestamp('2017-09-04 18:36:22'), Timestamp('2017-09-06 18:36:22'), 2.8489359641331107, 1.0000000000000002, 4.10947198335402e-05]\n",
      "[754, Timestamp('2017-09-05 18:36:22'), Timestamp('2017-09-07 18:36:22'), 2.2239800905693214, 1.259921049894873, 4.06122863978968e-09]\n",
      "[772, Timestamp('2017-09-06 18:36:22'), Timestamp('2017-09-08 18:36:22'), 1.442249570307408, 1.2599210498948747, 1.0000000000000004]\n",
      "[764, Timestamp('2017-09-07 18:36:22'), Timestamp('2017-09-09 18:36:22'), 2.6207413942088964, 1.0000000000000002, 0.9999999999999998]\n",
      "[731, Timestamp('2017-09-08 18:36:22'), Timestamp('2017-09-10 18:36:22'), 2.080083823051907, 1.0, 0.9999999999999999]\n",
      "[531, Timestamp('2017-09-09 18:36:22'), Timestamp('2017-09-11 18:36:22'), 2.0800838230519054, 1.0000000000000007, 1.1337280135641015e-08]\n",
      "[573, Timestamp('2017-09-10 18:36:22'), Timestamp('2017-09-12 18:36:22'), 2.6012441869121146, 1.0000000000000004, 6.631131868139119e-09]\n",
      "[569, Timestamp('2017-09-11 18:36:22'), Timestamp('2017-09-13 18:36:22'), 2.837138668623927, 1.0, 5.430736847323395e-09]\n",
      "[489, Timestamp('2017-09-12 18:36:22'), Timestamp('2017-09-14 18:36:22'), 2.289428485106666, 1.502905775560935e-08, 4.891081011459182e-09]\n",
      "[504, Timestamp('2017-09-13 18:36:22'), Timestamp('2017-09-15 18:36:22'), 1.9999999999999998, 1.057494211425473e-08, 2.1292708530922463e-09]\n",
      "[503, Timestamp('2017-09-14 18:36:22'), Timestamp('2017-09-16 18:36:22'), 2.080083823051903, 1.0, 2.100014828687682e-08]\n",
      "[403, Timestamp('2017-09-15 18:36:22'), Timestamp('2017-09-17 18:36:22'), 2.223980090569315, 1.6180339887498945, 8.500564049850123e-09]\n",
      "[393, Timestamp('2017-09-16 18:36:22'), Timestamp('2017-09-18 18:36:22'), 1.7099759466766962, 1.6180339887498942, 6.3606496163213114e-09]\n",
      "[480, Timestamp('2017-09-17 18:36:22'), Timestamp('2017-09-19 18:36:22'), 1.9129311827723892, 0.9999999999999988, 1.074021765960636e-08]\n",
      "[487, Timestamp('2017-09-18 18:36:22'), Timestamp('2017-09-20 18:36:22'), 3.0000000000000004, 1.0000000000000004, 9.319838378668532e-09]\n",
      "[446, Timestamp('2017-09-19 18:36:22'), Timestamp('2017-09-21 18:36:22'), 2.924017738212874, 1.0000000000000009, 1.0]\n",
      "[417, Timestamp('2017-09-20 18:36:22'), Timestamp('2017-09-22 18:36:22'), 2.4334962621305487, 1.0, 0.9999999999999997]\n",
      "[375, Timestamp('2017-09-21 18:36:22'), Timestamp('2017-09-23 18:36:22'), 1.817120592832141, 0.9999999999999998, 5.7294652532289754e-09]\n",
      "[373, Timestamp('2017-09-22 18:36:22'), Timestamp('2017-09-24 18:36:22'), 2.5198420997897446, 4.832802724629932e-09, 3.294723471893312e-09]\n",
      "[411, Timestamp('2017-09-23 18:36:22'), Timestamp('2017-09-25 18:36:22'), 2.4662120743304783, 1.000000000000002, 5.2738769269720365e-09]\n",
      "[435, Timestamp('2017-09-24 18:36:22'), Timestamp('2017-09-26 18:36:22'), 1.8171205928321388, 5.726499283628301e-09, 1.4607415833014648e-09]\n",
      "[414, Timestamp('2017-09-25 18:36:22'), Timestamp('2017-09-27 18:36:22'), 2.2239800905693152, 5.118837402472833e-09, 6.613278808796832e-10]\n",
      "[447, Timestamp('2017-09-26 18:36:22'), Timestamp('2017-09-28 18:36:22'), 2.154434690031882, 1.744806593361837e-08, 3.469446951953614e-18]\n",
      "[433, Timestamp('2017-09-27 18:36:22'), Timestamp('2017-09-29 18:36:22'), 2.154434690031884, 1.0, 6.870507386582667e-09]\n",
      "[382, Timestamp('2017-09-28 18:36:22'), Timestamp('2017-09-30 18:36:22'), 2.0000000000000036, 1.0, 2.4894808688751353e-17]\n",
      "[402, Timestamp('2017-09-29 18:36:22'), Timestamp('2017-10-01 18:36:22'), 2.35133468772076, 1.1027147116149804e-08, 7.593866926864163e-09]\n",
      "[434, Timestamp('2017-09-30 18:36:22'), Timestamp('2017-10-02 18:36:22'), 2.2894284851066633, 6.0894955409359525e-09, 5.082621275633835e-09]\n",
      "[452, Timestamp('2017-10-01 18:36:22'), Timestamp('2017-10-03 18:36:22'), 2.080083823051904, 4.2296768967021785e-16, 4.2296768967021785e-16]\n",
      "[454, Timestamp('2017-10-02 18:36:22'), Timestamp('2017-10-04 18:36:22'), 1.8171205928321437, 1.0000000000000013, 7.52344044377266e-09]\n",
      "[421, Timestamp('2017-10-03 18:36:22'), Timestamp('2017-10-05 18:36:22'), 2.1544346900318847, 1.0, 0.9999999999999998]\n",
      "[459, Timestamp('2017-10-04 18:36:22'), Timestamp('2017-10-06 18:36:22'), 2.1544346900318803, 1.0000000000000007, 1.5225643042219115e-08]\n",
      "[443, Timestamp('2017-10-05 18:36:22'), Timestamp('2017-10-07 18:36:22'), 2.3513346877207573, 7.203730692234709e-09, 3.803273863700087e-09]\n",
      "[381, Timestamp('2017-10-06 18:36:22'), Timestamp('2017-10-08 18:36:22'), 2.571281590658236, 5.933631828666732e-09, 3.549402525319059e-09]\n",
      "[452, Timestamp('2017-10-07 18:36:22'), Timestamp('2017-10-09 18:36:22'), 2.668401648721951, 3.770484122607854e-09, 3.136560673429067e-09]\n",
      "[532, Timestamp('2017-10-08 18:36:22'), Timestamp('2017-10-10 18:36:22'), 1.912931182772386, 1.4422495703074072, 0.9999999999999998]\n",
      "[524, Timestamp('2017-10-09 18:36:22'), Timestamp('2017-10-11 18:36:22'), 2.080083823051907, 1.0, 6.4905591411145674e-09]\n",
      "[519, Timestamp('2017-10-10 18:36:22'), Timestamp('2017-10-12 18:36:22'), 2.6684016487219435, 1.0000000000000002, 1.1053380883354834e-08]\n",
      "[840, Timestamp('2017-10-11 18:36:22'), Timestamp('2017-10-13 18:36:22'), 5.625178257958465, 1.0000000000000007, 1.6716595566124148e-08]\n",
      "[930, Timestamp('2017-10-12 18:36:22'), Timestamp('2017-10-14 18:36:22'), 5.633468168393699, 1.0071997174743256e-08, 1.0071997174743256e-08]\n",
      "[614, Timestamp('2017-10-13 18:36:22'), Timestamp('2017-10-15 18:36:22'), 2.714417616594909, 0.9999999999999986, 6.5932849853332975e-09]\n",
      "[479, Timestamp('2017-10-14 18:36:22'), Timestamp('2017-10-16 18:36:22'), 2.223980090569314, 1.0000000000000004, 0.9999999999999999]\n",
      "[585, Timestamp('2017-10-15 18:36:22'), Timestamp('2017-10-17 18:36:22'), 2.502169000737878, 1.0000000000000009, 1.0000000000000009]\n",
      "[589, Timestamp('2017-10-16 18:36:22'), Timestamp('2017-10-18 18:36:22'), 2.602368462454906, 0.9381733262623461, 1.1041693050042874e-08]\n",
      "[505, Timestamp('2017-10-17 18:36:22'), Timestamp('2017-10-19 18:36:22'), 2.71441761659491, 1.0000000000000002, 1.0]\n",
      "[532, Timestamp('2017-10-18 18:36:22'), Timestamp('2017-10-20 18:36:22'), 2.5712815906582414, 1.2599210498948756, 1.0]\n",
      "[540, Timestamp('2017-10-19 18:36:22'), Timestamp('2017-10-21 18:36:22'), 2.962496068407369, 1.0000000000000042, 1.0]\n",
      "[489, Timestamp('2017-10-20 18:36:22'), Timestamp('2017-10-22 18:36:22'), 2.7589241763811274, 1.189207115002721, 5.141149101489347e-09]\n",
      "[461, Timestamp('2017-10-21 18:36:22'), Timestamp('2017-10-23 18:36:22'), 2.6207413942089013, 1.0000000000000004, 5.267244916112912e-09]\n",
      "[586, Timestamp('2017-10-22 18:36:22'), Timestamp('2017-10-24 18:36:22'), 3.301927248894619, 8.58468826775247e-09, 6.643473091611577e-09]\n",
      "[596, Timestamp('2017-10-23 18:36:22'), Timestamp('2017-10-25 18:36:22'), 2.943937366757109, 0.9585394201769297, 1.1897210433809421e-08]\n",
      "[476, Timestamp('2017-10-24 18:36:22'), Timestamp('2017-10-26 18:36:22'), 2.8020393306553912, 1.0, 5.75366578871428e-09]\n",
      "[451, Timestamp('2017-10-25 18:36:22'), Timestamp('2017-10-27 18:36:22'), 2.5198420997897464, 0.9999999999999994, 5.609897194835243e-09]\n",
      "[422, Timestamp('2017-10-26 18:36:22'), Timestamp('2017-10-28 18:36:22'), 2.4101422641752293, 0.9999999999999999, 0.9999999999999999]\n",
      "[461, Timestamp('2017-10-27 18:36:22'), Timestamp('2017-10-29 18:36:22'), 2.1867866375671854, 1.2906488013467108, 0.11407063116458732]\n",
      "[507, Timestamp('2017-10-28 18:36:22'), Timestamp('2017-10-30 18:36:22'), 2.115874982581349, 0.9999999999999998, 7.872691318098462e-09]\n",
      "[492, Timestamp('2017-10-29 18:36:22'), Timestamp('2017-10-31 18:36:22'), 2.71441761659491, 1.0, 0.9999999999999999]\n",
      "[575, Timestamp('2017-10-30 18:36:22'), Timestamp('2017-11-01 18:36:22'), 3.0723168256858457, 1.000000000000001, 1.0]\n",
      "[779, Timestamp('2017-10-31 18:36:22'), Timestamp('2017-11-02 18:36:22'), 3.0365889718756662, 1.0000000000000004, 1.0]\n",
      "[807, Timestamp('2017-11-01 18:36:22'), Timestamp('2017-11-03 18:36:22'), 3.4199518933534008, 1.2599210498948745, 4.9712694321641325e-09]\n",
      "[664, Timestamp('2017-11-02 18:36:22'), Timestamp('2017-11-04 18:36:22'), 3.5303483353260674, 1.4422495703074079, 7.55940865989835e-09]\n",
      "[596, Timestamp('2017-11-03 18:36:22'), Timestamp('2017-11-05 18:36:22'), 3.4199518933534003, 1.0000000000000004, 1.1015368276677487e-08]\n",
      "[535, Timestamp('2017-11-04 18:36:22'), Timestamp('2017-11-06 18:36:22'), 3.3912114430141647, 7.701391413991832e-09, 7.701391413991832e-09]\n",
      "[461, Timestamp('2017-11-05 18:36:22'), Timestamp('2017-11-07 18:36:22'), 2.620741394208906, 1.1657561121796459e-08, 8.77775170443567e-09]\n",
      "[441, Timestamp('2017-11-06 18:36:22'), Timestamp('2017-11-08 18:36:22'), 2.620741394208899, 1.0000000000000009, 6.219712840019974e-09]\n",
      "[638, Timestamp('2017-11-07 18:36:22'), Timestamp('2017-11-09 18:36:22'), 2.620741394208901, 0.9999999999999999, 8.315026749117702e-09]\n",
      "[947, Timestamp('2017-11-08 18:36:22'), Timestamp('2017-11-10 18:36:22'), 4.1793391963812345, 1.0000000000000022, 1.0000000000000002]\n",
      "[890, Timestamp('2017-11-09 18:36:22'), Timestamp('2017-11-11 18:36:22'), 4.21716332650876, 1.2599210498948754, 1.2207440846057604]\n",
      "[793, Timestamp('2017-11-10 18:36:22'), Timestamp('2017-11-12 18:36:22'), 3.936497183102183, 1.0000000000000016, 1.0000000000000013]\n",
      "[768, Timestamp('2017-11-11 18:36:22'), Timestamp('2017-11-13 18:36:22'), 3.732511156817249, 0.9999999999999984, 1.2102162264650182e-08]\n",
      "[493, Timestamp('2017-11-12 18:36:22'), Timestamp('2017-11-14 18:36:22'), 2.714417616594913, 1.2599210498948734, 6.862851045579949e-09]\n",
      "[459, Timestamp('2017-11-13 18:36:22'), Timestamp('2017-11-15 18:36:22'), 2.080083823051905, 0.9999999999999996, 7.294120996889052e-09]\n",
      "[614, Timestamp('2017-11-14 18:36:22'), Timestamp('2017-11-16 18:36:22'), 3.0000000000000027, 7.402457521329685e-09, 6.9191431326764995e-09]\n",
      "[752, Timestamp('2017-11-15 18:36:22'), Timestamp('2017-11-17 18:36:22'), 3.232737449126166, 8.149705575913e-09, 6.480201746406466e-09]\n",
      "[802, Timestamp('2017-11-16 18:36:22'), Timestamp('2017-11-18 18:36:22'), 3.765479918402086, 1.0, 1.7858213071250627e-08]\n",
      "[769, Timestamp('2017-11-17 18:36:22'), Timestamp('2017-11-19 18:36:22'), 3.3912114430141664, 1.0000000000000004, 1.0]\n",
      "[762, Timestamp('2017-11-18 18:36:22'), Timestamp('2017-11-20 18:36:22'), 3.4199518933533923, 1.0000000000000007, 1.0000000000000004]\n",
      "[826, Timestamp('2017-11-19 18:36:22'), Timestamp('2017-11-21 18:36:22'), 3.448217240382733, 1.0000000000000016, 0.9999999999999999]\n",
      "[932, Timestamp('2017-11-20 18:36:22'), Timestamp('2017-11-22 18:36:22'), 3.141380652391394, 0.9999999999999998, 0.9999999999999996]\n",
      "[958, Timestamp('2017-11-21 18:36:22'), Timestamp('2017-11-23 18:36:22'), 3.4282449419657484, 1.2346425066787446e-08, 8.840130447345043e-09]\n",
      "[827, Timestamp('2017-11-22 18:36:22'), Timestamp('2017-11-24 18:36:22'), 3.036588971875669, 1.0846277856682643e-08, 6.9920368694597465e-09]\n",
      "[1005, Timestamp('2017-11-23 18:36:22'), Timestamp('2017-11-25 18:36:22'), 3.644074688959693, 1.3432541237060298e-08, 6.603989436780185e-09]\n",
      "[1164, Timestamp('2017-11-24 18:36:22'), Timestamp('2017-11-26 18:36:22'), 4.441254310164883, 6.8301155104709735e-09, 5.829767439756673e-09]\n",
      "[1213, Timestamp('2017-11-25 18:36:22'), Timestamp('2017-11-27 18:36:22'), 4.217163326508748, 1.4198911450444434e-08, 1.3303767405649796e-08]\n",
      "[1433, Timestamp('2017-11-26 18:36:22'), Timestamp('2017-11-28 18:36:22'), 4.396829672158191, 1.3825163391484494e-08, 1.1734052495420657e-08]\n",
      "[1533, Timestamp('2017-11-27 18:36:22'), Timestamp('2017-11-29 18:36:22'), 4.235823584254891, 9.600110760656741e-09, 8.800444455938612e-09]\n",
      "[1286, Timestamp('2017-11-28 18:36:22'), Timestamp('2017-11-30 18:36:22'), 3.8258623655447845, 0.9999999999999996, 4.947313250238468e-09]\n",
      "[920, Timestamp('2017-11-29 18:36:22'), Timestamp('2017-12-01 18:36:22'), 3.141380652391392, 1.0000000000000002, 8.410790931817328e-09]\n",
      "[960, Timestamp('2017-11-30 18:36:22'), Timestamp('2017-12-02 18:36:22'), 3.5568933044900635, 1.0000000000000016, 0.9999999999999994]\n",
      "[1100, Timestamp('2017-12-01 18:36:22'), Timestamp('2017-12-03 18:36:22'), 3.936497183102165, 1.0000000000000002, 1.0]\n",
      "[1051, Timestamp('2017-12-02 18:36:22'), Timestamp('2017-12-04 18:36:22'), 3.419951893353401, 1.0000000000000013, 1.0]\n",
      "[993, Timestamp('2017-12-03 18:36:22'), Timestamp('2017-12-05 18:36:22'), 3.0365889718756707, 1.0, 0.9999999999999996]\n",
      "[924, Timestamp('2017-12-04 18:36:22'), Timestamp('2017-12-06 18:36:22'), 1.709975946676699, 7.151175561970679e-09, 2.7714838954832925e-17]\n",
      "[632, Timestamp('2017-12-05 18:36:22'), Timestamp('2017-12-07 18:36:22'), 0.0, 0.0, 0.0]\n",
      "[668, Timestamp('2017-12-06 18:36:22'), Timestamp('2017-12-08 18:36:22'), 1.5874010519681994, 1.0, 6.7407306215102825e-09]\n",
      "[857, Timestamp('2017-12-07 18:36:22'), Timestamp('2017-12-09 18:36:22'), 2.5712815906582343, 1.0, 7.566016660236068e-09]\n",
      "[710, Timestamp('2017-12-08 18:36:22'), Timestamp('2017-12-10 18:36:22'), 2.668401648721942, 7.945968481606812e-09, 7.945968481606812e-09]\n",
      "[918, Timestamp('2017-12-09 18:36:22'), Timestamp('2017-12-11 18:36:22'), 3.1072325059538612, 6.452596939686963e-09, 5.709920928380907e-09]\n",
      "[1383, Timestamp('2017-12-10 18:36:22'), Timestamp('2017-12-12 18:36:22'), 3.7388995203124322, 1.0000000000000009, 1.0000000000000004]\n",
      "[1676, Timestamp('2017-12-11 18:36:22'), Timestamp('2017-12-13 18:36:22'), 3.8089938517123083, 1.0000000000000002, 1.0000000000000002]\n",
      "[1583, Timestamp('2017-12-12 18:36:22'), Timestamp('2017-12-14 18:36:22'), 3.8149972150907354, 1.000000000000002, 1.0000000000000004]\n",
      "[1275, Timestamp('2017-12-13 18:36:22'), Timestamp('2017-12-15 18:36:22'), 3.984334204181473, 1.0, 1.0]\n",
      "[1071, Timestamp('2017-12-14 18:36:22'), Timestamp('2017-12-16 18:36:22'), 3.3019272488946276, 1.0000000000000013, 1.0]\n",
      "[1153, Timestamp('2017-12-15 18:36:22'), Timestamp('2017-12-17 18:36:22'), 3.2396118012774875, 1.2599210498948745, 1.0]\n",
      "[1177, Timestamp('2017-12-16 18:36:22'), Timestamp('2017-12-18 18:36:22'), 3.10723250595386, 1.0, 1.0]\n",
      "[1530, Timestamp('2017-12-17 18:36:22'), Timestamp('2017-12-19 18:36:22'), 3.68503285034519, 1.0000000000000004, 0.986216767463511]\n",
      "[1723, Timestamp('2017-12-18 18:36:22'), Timestamp('2017-12-20 18:36:22'), 4.863933515747002, 1.0000000000000002, 0.9957192187808613]\n",
      "[1539, Timestamp('2017-12-19 18:36:22'), Timestamp('2017-12-21 18:36:22'), 4.309890672054954, 0.9999999999999987, 0.9936522547699808]\n",
      "[1379, Timestamp('2017-12-20 18:36:22'), Timestamp('2017-12-22 18:36:22'), 3.848501131276803, 1.000000000000001, 1.0000000000000007]\n",
      "[1153, Timestamp('2017-12-21 18:36:22'), Timestamp('2017-12-23 18:36:22'), 3.487083749043489, 1.0000000000000009, 1.0000000000000007]\n",
      "[1011, Timestamp('2017-12-22 18:36:22'), Timestamp('2017-12-24 18:36:22'), 3.8515577804601238, 1.451459735611481e-07, 2.8559844385803846e-08]\n",
      "[1044, Timestamp('2017-12-23 18:36:22'), Timestamp('2017-12-25 18:36:22'), 3.7198760097266517, 1.0000000000000016, 8.443750591766174e-09]\n",
      "[1099, Timestamp('2017-12-24 18:36:22'), Timestamp('2017-12-26 18:36:22'), 3.215420532701817, 1.0000000000000004, 1.0]\n",
      "[1155, Timestamp('2017-12-25 18:36:22'), Timestamp('2017-12-27 18:36:22'), 3.024008624891479, 1.0, 1.0]\n",
      "[1108, Timestamp('2017-12-26 18:36:22'), Timestamp('2017-12-28 18:36:22'), 3.1748021039363983, 1.0, 1.0]\n",
      "[1131, Timestamp('2017-12-27 18:36:22'), Timestamp('2017-12-29 18:36:22'), 2.802039330655389, 1.0000000000000004, 1.0]\n",
      "[1201, Timestamp('2017-12-28 18:36:22'), Timestamp('2017-12-30 18:36:22'), 2.9240177382128665, 1.0, 1.0]\n",
      "[1160, Timestamp('2017-12-29 18:36:22'), Timestamp('2017-12-31 18:36:22'), 3.0365889718756676, 1.0, 0.9999999999999996]\n",
      "[972, Timestamp('2017-12-30 18:36:22'), Timestamp('2018-01-01 18:36:22'), 2.223980090569315, 1.0000000000000002, 1.0]\n",
      "[846, Timestamp('2017-12-31 18:36:22'), Timestamp('2018-01-02 18:36:22'), 1.0, 0.0, 0.0]\n",
      "[1272, Timestamp('2018-01-01 18:36:22'), Timestamp('2018-01-03 18:36:22'), 2.685719743144993, 1.0, 1.0]\n",
      "[1425, Timestamp('2018-01-02 18:36:22'), Timestamp('2018-01-04 18:36:22'), 2.7214611126081203, 1.0000000000000044, 1.0]\n",
      "[1675, Timestamp('2018-01-03 18:36:22'), Timestamp('2018-01-05 18:36:22'), 3.4252546283937484, 0.9999999999999998, 0.9740725867946302]\n",
      "[1824, Timestamp('2018-01-04 18:36:22'), Timestamp('2018-01-06 18:36:22'), 4.041240020622191, 1.0826206573285188e-08, 7.830551379684153e-09]\n",
      "[1302, Timestamp('2018-01-05 18:36:22'), Timestamp('2018-01-07 18:36:22'), 3.0000000000000036, 1.0000000000000002, 1.0]\n",
      "[1169, Timestamp('2018-01-06 18:36:22'), Timestamp('2018-01-08 18:36:22'), 2.6781149921105154, 1.0, 1.0]\n",
      "[915, Timestamp('2018-01-07 18:36:22'), Timestamp('2018-01-09 18:36:22'), 2.5081777584272373, 1.0, 1.0]\n",
      "[493, Timestamp('2018-01-08 18:36:22'), Timestamp('2018-01-10 18:36:22'), 1.618033988749895, 1.259921049894873, 1.0]\n",
      "[954, Timestamp('2018-01-09 18:36:22'), Timestamp('2018-01-11 18:36:22'), 2.5198420997897477, 1.0, 6.467644301164228e-09]\n",
      "[1381, Timestamp('2018-01-10 18:36:22'), Timestamp('2018-01-12 18:36:22'), 3.3707019558504356, 1.0, 8.633502014907692e-09]\n",
      "[1258, Timestamp('2018-01-11 18:36:22'), Timestamp('2018-01-13 18:36:22'), 2.8438669798515663, 1.0, 1.0]\n",
      "[1173, Timestamp('2018-01-12 18:36:22'), Timestamp('2018-01-14 18:36:22'), 3.000000000000003, 0.9206964196560028, 6.824846683719814e-09]\n",
      "[1155, Timestamp('2018-01-13 18:36:22'), Timestamp('2018-01-15 18:36:22'), 3.058678451199353, 6.401757981943609e-08, 6.401757981943609e-08]\n",
      "[1075, Timestamp('2018-01-14 18:36:22'), Timestamp('2018-01-16 18:36:22'), 2.887614234347752, 1.0, 3.1105749685339493e-09]\n",
      "[1001, Timestamp('2018-01-15 18:36:22'), Timestamp('2018-01-17 18:36:22'), 2.802039330655388, 1.0, 6.4838950054906015e-09]\n",
      "[831, Timestamp('2018-01-16 18:36:22'), Timestamp('2018-01-18 18:36:22'), 2.519842099789751, 4.421133121109836e-09, 4.421133121109836e-09]\n",
      "[738, Timestamp('2018-01-17 18:36:22'), Timestamp('2018-01-19 18:36:22'), 2.466212074330474, 1.0825578134463392e-08, 4.723168371679944e-09]\n",
      "[772, Timestamp('2018-01-18 18:36:22'), Timestamp('2018-01-20 18:36:22'), 2.2894284851066637, 9.450176949794976e-09, 9.450176949794976e-09]\n",
      "[741, Timestamp('2018-01-19 18:36:22'), Timestamp('2018-01-21 18:36:22'), 3.188183002880751, 7.703719777548943e-34, 7.703719777548943e-34]\n",
      "[630, Timestamp('2018-01-20 18:36:22'), Timestamp('2018-01-22 18:36:22'), 3.2140586089250225, 1.000000000000001, 1.000000000000001]\n",
      "[902, Timestamp('2018-01-21 18:36:22'), Timestamp('2018-01-23 18:36:22'), 2.7626809060240825, 1.000000000000001, 1.0]\n",
      "[956, Timestamp('2018-01-22 18:36:22'), Timestamp('2018-01-24 18:36:22'), 3.4325466853751303, 1.0000000000000013, 0.8586753838401239]\n",
      "[658, Timestamp('2018-01-23 18:36:22'), Timestamp('2018-01-25 18:36:22'), 2.488045428898574, 1.000000000000001, 8.109898680965162e-09]\n",
      "[792, Timestamp('2018-01-24 18:36:22'), Timestamp('2018-01-26 18:36:22'), 4.25333784253611, 1.0, 2.8506801245644898e-09]\n",
      "[980, Timestamp('2018-01-25 18:36:22'), Timestamp('2018-01-27 18:36:22'), 5.789003925346135, 0.9999999999999999, 9.963795585692906e-09]\n",
      "[875, Timestamp('2018-01-26 18:36:22'), Timestamp('2018-01-28 18:36:22'), 4.229356138688711, 1.0000000000000013, 0.9955533562578508]\n",
      "[775, Timestamp('2018-01-27 18:36:22'), Timestamp('2018-01-29 18:36:22'), 2.7882837853358744, 1.000000000000001, 1.0]\n",
      "[763, Timestamp('2018-01-28 18:36:22'), Timestamp('2018-01-30 18:36:22'), 2.433496262130541, 1.0, 0.9999999999999996]\n",
      "[654, Timestamp('2018-01-29 18:36:22'), Timestamp('2018-01-31 18:36:22'), 2.080083823051907, 5.543898299873628e-09, 2.207783489971645e-09]\n",
      "[590, Timestamp('2018-01-30 18:36:22'), Timestamp('2018-02-01 18:36:22'), 2.4005293718949297, 5.673339644024667e-09, 4.417060957185043e-09]\n",
      "[752, Timestamp('2018-01-31 18:36:22'), Timestamp('2018-02-02 18:36:22'), 2.41014226417523, 1.1382047261564834e-09, 5.940160895305051e-10]\n",
      "[717, Timestamp('2018-02-01 18:36:22'), Timestamp('2018-02-03 18:36:22'), 2.7589241763811216, 1.0, 4.471424447401972e-09]\n",
      "[542, Timestamp('2018-02-02 18:36:22'), Timestamp('2018-02-04 18:36:22'), 2.3513346877207555, 1.0000000000000002, 1.0]\n",
      "[507, Timestamp('2018-02-03 18:36:22'), Timestamp('2018-02-05 18:36:22'), 1.9999999999999998, 1.0000000000000004, 4.717655244258538e-09]\n",
      "[560, Timestamp('2018-02-04 18:36:22'), Timestamp('2018-02-06 18:36:22'), 2.898256384976407, 6.9208896445976685e-09, 6.77047416827289e-09]\n",
      "[528, Timestamp('2018-02-05 18:36:22'), Timestamp('2018-02-07 18:36:22'), 3.0365889718756662, 2.281974036516341e-09, 2.1885871329999517e-09]\n",
      "[383, Timestamp('2018-02-06 18:36:22'), Timestamp('2018-02-08 18:36:22'), 2.080083823051904, 7.521840435309844e-09, 3.5247226996785467e-09]\n",
      "[324, Timestamp('2018-02-07 18:36:22'), Timestamp('2018-02-09 18:36:22'), 1.259921049894873, 1.0, 0.0]\n",
      "[393, Timestamp('2018-02-08 18:36:22'), Timestamp('2018-02-10 18:36:22'), 1.5874010519682002, 1.0, 1.0]\n",
      "[385, Timestamp('2018-02-09 18:36:22'), Timestamp('2018-02-11 18:36:22'), 2.102370779307517, 1.0, 0.9999999999999989]\n",
      "[304, Timestamp('2018-02-10 18:36:22'), Timestamp('2018-02-12 18:36:22'), 1.4422495703074096, 1.0, 1.0]\n",
      "[339, Timestamp('2018-02-11 18:36:22'), Timestamp('2018-02-13 18:36:22'), 1.663251938771468, 1.618033988749895, 1.0000000000000002]\n",
      "[461, Timestamp('2018-02-12 18:36:22'), Timestamp('2018-02-14 18:36:22'), 1.7720290019648677, 1.4655712318767669, 5.09565244688791e-09]\n",
      "[498, Timestamp('2018-02-13 18:36:22'), Timestamp('2018-02-15 18:36:22'), 1.91293118277239, 1.0, 1.3789474740584905e-16]\n",
      "[470, Timestamp('2018-02-14 18:36:22'), Timestamp('2018-02-16 18:36:22'), 1.5874010519682, 1.0, 0.0]\n",
      "[438, Timestamp('2018-02-15 18:36:22'), Timestamp('2018-02-17 18:36:22'), 1.5874010519681987, 1.0, 1.0]\n",
      "[326, Timestamp('2018-02-16 18:36:22'), Timestamp('2018-02-18 18:36:22'), 1.4422495703074114, 1.0, 1.742637615756646e-08]\n",
      "[312, Timestamp('2018-02-17 18:36:22'), Timestamp('2018-02-19 18:36:22'), 1.709975946676699, 1.0, 4.095548011554949e-09]\n",
      "[413, Timestamp('2018-02-18 18:36:22'), Timestamp('2018-02-20 18:36:22'), 1.465571231876768, 1.4422495703074083, 6.479836343321069e-09]\n",
      "[448, Timestamp('2018-02-19 18:36:22'), Timestamp('2018-02-21 18:36:22'), 1.0, 0.9999999999999998, 0.0]\n",
      "[384, Timestamp('2018-02-20 18:36:22'), Timestamp('2018-02-22 18:36:22'), 1.587401051968199, 0.9999999999999998, 8.043323991166077e-09]\n",
      "[295, Timestamp('2018-02-21 18:36:22'), Timestamp('2018-02-23 18:36:22'), 1.5874010519681998, 7.14272252601996e-09, 4.177139251828025e-09]\n",
      "[248, Timestamp('2018-02-22 18:36:22'), Timestamp('2018-02-24 18:36:22'), 1.2599210498948745, 3.915224214910747e-09, 0.0]\n",
      "[232, Timestamp('2018-02-23 18:36:22'), Timestamp('2018-02-25 18:36:22'), 1.505787061217051, 0.8367192695071682, 8.983770450950548e-09]\n",
      "[232, Timestamp('2018-02-24 18:36:22'), Timestamp('2018-02-26 18:36:22'), 1.5874010519682002, 0.0, 0.0]\n",
      "[298, Timestamp('2018-02-25 18:36:22'), Timestamp('2018-02-27 18:36:22'), 1.7429592021663154, 5.232731699069397e-09, 1.5938212254839057e-17]\n",
      "[322, Timestamp('2018-02-26 18:36:22'), Timestamp('2018-02-28 18:36:22'), 1.642934884271909, 1.4422495703074079, 6.383475689366487e-09]\n",
      "[316, Timestamp('2018-02-27 18:36:22'), Timestamp('2018-03-01 18:36:22'), 1.4422495703074096, 1.0000000000000004, 5.754403030466815e-17]\n",
      "[344, Timestamp('2018-02-28 18:36:22'), Timestamp('2018-03-02 18:36:22'), 1.8171205928321397, 1.259921049894873, 1.0]\n",
      "[397, Timestamp('2018-03-01 18:36:22'), Timestamp('2018-03-03 18:36:22'), 2.5575864657548726, 1.0000000000000004, 0.9999999999999998]\n",
      "[375, Timestamp('2018-03-02 18:36:22'), Timestamp('2018-03-04 18:36:22'), 2.686916862548641, 0.9999999999999994, 0.9999999999999993]\n",
      "[422, Timestamp('2018-03-03 18:36:22'), Timestamp('2018-03-05 18:36:22'), 3.402485946846542, 1.0, 1.0]\n",
      "[530, Timestamp('2018-03-04 18:36:22'), Timestamp('2018-03-06 18:36:22'), 5.664687923479376, 1.0, 1.0]\n",
      "[428, Timestamp('2018-03-05 18:36:22'), Timestamp('2018-03-07 18:36:22'), 4.633128654501178, 0.9976386490221841, 6.5412184806242965e-09]\n",
      "[330, Timestamp('2018-03-06 18:36:22'), Timestamp('2018-03-08 18:36:22'), 1.2599210498948716, 1.0000000000000002, 1.0]\n",
      "[335, Timestamp('2018-03-07 18:36:22'), Timestamp('2018-03-09 18:36:22'), 1.4422495703074114, 1.0, 1.4982914608456105e-09]\n",
      "[308, Timestamp('2018-03-08 18:36:22'), Timestamp('2018-03-10 18:36:22'), 1.7429592021663138, 3.940249338861302e-09, 2.183689687203439e-16]\n",
      "[239, Timestamp('2018-03-09 18:36:22'), Timestamp('2018-03-11 18:36:22'), 1.8350866816396323, 1.0138659726061768e-09, 1.0138659726061768e-09]\n",
      "[215, Timestamp('2018-03-10 18:36:22'), Timestamp('2018-03-12 18:36:22'), 1.8171205928321401, 1.0, 2.081816045192924e-09]\n",
      "[190, Timestamp('2018-03-11 18:36:22'), Timestamp('2018-03-13 18:36:22'), 1.7099759466766975, 1.0, 1.0]\n",
      "[180, Timestamp('2018-03-12 18:36:22'), Timestamp('2018-03-14 18:36:22'), 1.0, 1.0, 1.0]\n",
      "[215, Timestamp('2018-03-13 18:36:22'), Timestamp('2018-03-15 18:36:22'), 1.0, 0.0, 0.0]\n",
      "[229, Timestamp('2018-03-14 18:36:22'), Timestamp('2018-03-16 18:36:22'), 1.5874010519681991, 3.052183709075082e-16, 3.052183709075082e-16]\n",
      "[205, Timestamp('2018-03-15 18:36:22'), Timestamp('2018-03-17 18:36:22'), 1.4422495703074127, 6.162975822039155e-33, 0.0]\n",
      "[235, Timestamp('2018-03-16 18:36:22'), Timestamp('2018-03-18 18:36:22'), 1.2599210498948727, 0.0, 0.0]\n",
      "[251, Timestamp('2018-03-17 18:36:22'), Timestamp('2018-03-19 18:36:22'), 1.5874010519681987, 1.570092458683775e-16, 1.1102230246251565e-16]\n",
      "[213, Timestamp('2018-03-18 18:36:22'), Timestamp('2018-03-20 18:36:22'), 2.0346719180264468, 7.174142080180402e-09, 4.205906227838984e-16]\n",
      "[308, Timestamp('2018-03-19 18:36:22'), Timestamp('2018-03-21 18:36:22'), 2.1788203868775193, 1.437835722905196e-10, 5.190937983466389e-17]\n",
      "[343, Timestamp('2018-03-20 18:36:22'), Timestamp('2018-03-22 18:36:22'), 1.8695875747465491, 8.442526425425948e-09, 6.164400665786317e-09]\n",
      "[252, Timestamp('2018-03-21 18:36:22'), Timestamp('2018-03-23 18:36:22'), 1.7099759466766973, 8.4977506412651e-09, 4.903637305719602e-09]\n",
      "[195, Timestamp('2018-03-22 18:36:22'), Timestamp('2018-03-24 18:36:22'), 1.4422495703074087, 0.0, 0.0]\n",
      "[196, Timestamp('2018-03-23 18:36:22'), Timestamp('2018-03-25 18:36:22'), 0.9999999999999998, 0.0, 0.0]\n",
      "[181, Timestamp('2018-03-24 18:36:22'), Timestamp('2018-03-26 18:36:22'), 1.2599210498948739, 3.915224338087294e-09, 0.0]\n",
      "[185, Timestamp('2018-03-25 18:36:22'), Timestamp('2018-03-27 18:36:22'), 1.2599210498948732, 3.915224338087294e-09, 0.0]\n",
      "[200, Timestamp('2018-03-26 18:36:22'), Timestamp('2018-03-28 18:36:22'), 1.2599210498948732, 1.0, 3.915224338087294e-09]\n",
      "[185, Timestamp('2018-03-27 18:36:22'), Timestamp('2018-03-29 18:36:22'), 1.4422495703074096, 1.0, 5.378998028243709e-17]\n",
      "[216, Timestamp('2018-03-28 18:36:22'), Timestamp('2018-03-30 18:36:22'), 1.8171205928321403, 1.154517986772369e-08, 4.269011642614737e-09]\n",
      "[202, Timestamp('2018-03-29 18:36:22'), Timestamp('2018-03-31 18:36:22'), 1.4422495703074105, 2.1886535658969824e-12, 2.1886535658969824e-12]\n",
      "[187, Timestamp('2018-03-30 18:36:22'), Timestamp('2018-04-01 18:36:22'), 2.080083823051904, 2.3915723482931055e-16, 2.3915723482931055e-16]\n",
      "[184, Timestamp('2018-03-31 18:36:22'), Timestamp('2018-04-02 18:36:22'), 2.080083823051907, 1.0000000000000002, 1.7389351332770387e-08]\n",
      "[173, Timestamp('2018-04-01 18:36:22'), Timestamp('2018-04-03 18:36:22'), 1.5874010519682, 9.83496956790858e-09, 0.0]\n",
      "[175, Timestamp('2018-04-02 18:36:22'), Timestamp('2018-04-04 18:36:22'), 1.259921049894873, 0.9999999999999998, 1.149673585146546e-17]\n",
      "[163, Timestamp('2018-04-03 18:36:22'), Timestamp('2018-04-05 18:36:22'), 1.7099759466766975, 0.9999999999999998, 1.5648856518615342e-16]\n",
      "[154, Timestamp('2018-04-04 18:36:22'), Timestamp('2018-04-06 18:36:22'), 1.5874010519681994, 0.0, 0.0]\n",
      "[128, Timestamp('2018-04-05 18:36:22'), Timestamp('2018-04-07 18:36:22'), 1.2599210498948732, 3.915224338087294e-09, 0.0]\n",
      "[143, Timestamp('2018-04-06 18:36:22'), Timestamp('2018-04-08 18:36:22'), 1.4422495703074114, 1.742637615756646e-08, 0.0]\n",
      "[142, Timestamp('2018-04-07 18:36:22'), Timestamp('2018-04-09 18:36:22'), 1.91293118277239, 3.929148673087468e-16, 5.0210307977331587e-17]\n",
      "[147, Timestamp('2018-04-08 18:36:22'), Timestamp('2018-04-10 18:36:22'), 2.000000000000001, 8.392128544545912e-09, 2.460645999185095e-17]\n",
      "[166, Timestamp('2018-04-09 18:36:22'), Timestamp('2018-04-11 18:36:22'), 1.5874010519681994, 2.220446049250313e-16, 0.0]\n",
      "[193, Timestamp('2018-04-10 18:36:22'), Timestamp('2018-04-12 18:36:22'), 1.8171205928321432, 4.6252360750639175e-09, 4.567296508251395e-13]\n",
      "[217, Timestamp('2018-04-11 18:36:22'), Timestamp('2018-04-13 18:36:22'), 2.1544346900318834, 6.277372711633785e-09, 2.7226318412388325e-09]\n",
      "[215, Timestamp('2018-04-12 18:36:22'), Timestamp('2018-04-14 18:36:22'), 2.6684016487219475, 1.0, 3.9104451596830825e-10]\n",
      "[237, Timestamp('2018-04-13 18:36:22'), Timestamp('2018-04-15 18:36:22'), 2.6207413942088977, 1.0000000000000002, 1.0]\n",
      "[240, Timestamp('2018-04-14 18:36:22'), Timestamp('2018-04-16 18:36:22'), 1.2207440846057622, 0.0, 0.0]\n",
      "[222, Timestamp('2018-04-15 18:36:22'), Timestamp('2018-04-17 18:36:22'), 1.81712059283214, 1.0267004756558838e-08, 3.755108786061123e-09]\n",
      "[231, Timestamp('2018-04-16 18:36:22'), Timestamp('2018-04-18 18:36:22'), 2.154434690031888, 2.4658918944471666e-09, 2.4658918944471666e-09]\n",
      "[266, Timestamp('2018-04-17 18:36:22'), Timestamp('2018-04-19 18:36:22'), 1.9129311827723907, 6.318471315222112e-09, 1.8685498789114637e-17]\n",
      "[340, Timestamp('2018-04-18 18:36:22'), Timestamp('2018-04-20 18:36:22'), 1.9129311827723883, 9.165531045682593e-09, 1.611988579323022e-09]\n",
      "[367, Timestamp('2018-04-19 18:36:22'), Timestamp('2018-04-21 18:36:22'), 1.8171205928321434, 1.2599210498948747, 4.060735201558263e-09]\n",
      "[289, Timestamp('2018-04-20 18:36:22'), Timestamp('2018-04-22 18:36:22'), 1.7099759466766968, 1.6116187686583877e-09, 5.671082629022403e-18]\n",
      "[263, Timestamp('2018-04-21 18:36:22'), Timestamp('2018-04-23 18:36:22'), 1.4422495703074096, 1.0, 0.9999999999999998]\n",
      "[309, Timestamp('2018-04-22 18:36:22'), Timestamp('2018-04-24 18:36:22'), 1.7099759466767008, 1.0, 0.9999999999999998]\n",
      "[321, Timestamp('2018-04-23 18:36:22'), Timestamp('2018-04-25 18:36:22'), 2.0800838230519068, 1.0, 0.9999999999999998]\n",
      "[350, Timestamp('2018-04-24 18:36:22'), Timestamp('2018-04-26 18:36:22'), 2.080083823051905, 1.0000000000000007, 1.0]\n",
      "[314, Timestamp('2018-04-25 18:36:22'), Timestamp('2018-04-27 18:36:22'), 2.080083823051904, 1.0, 5.629499077088558e-09]\n",
      "[244, Timestamp('2018-04-26 18:36:22'), Timestamp('2018-04-28 18:36:22'), 1.4422495703074067, 1.0, 2.4012750712566176e-09]\n",
      "[260, Timestamp('2018-04-27 18:36:22'), Timestamp('2018-04-29 18:36:22'), 1.4422495703074114, 1.742637615756646e-08, 1.149673585146546e-17]\n",
      "[257, Timestamp('2018-04-28 18:36:22'), Timestamp('2018-04-30 18:36:22'), 1.7099759466766973, 4.078134984497146e-09, 2.8821919459688776e-12]\n",
      "[230, Timestamp('2018-04-29 18:36:22'), Timestamp('2018-05-01 18:36:22'), 1.4422495703074085, 5.551115123125783e-17, 5.551115123125783e-17]\n",
      "[216, Timestamp('2018-04-30 18:36:22'), Timestamp('2018-05-02 18:36:22'), 0.0, 0.0, 0.0]\n",
      "[260, Timestamp('2018-05-01 18:36:22'), Timestamp('2018-05-03 18:36:22'), 0.9999999999999998, 0.0, 0.0]\n",
      "[308, Timestamp('2018-05-02 18:36:22'), Timestamp('2018-05-04 18:36:22'), 1.8171205928321426, 8.94145774260441e-09, 8.94145774260441e-09]\n",
      "[282, Timestamp('2018-05-03 18:36:22'), Timestamp('2018-05-05 18:36:22'), 2.0800838230519054, 3.2220444935425884e-09, 3.2220444935425884e-09]\n"
     ]
    }
   ],
   "source": [
    "start_date = selectedNetwork['date'].min()\n",
    "end_date = selectedNetwork['date'].max()\n",
    "\n",
    "score_list = []\n",
    "\n",
    "rnn_column_names = [f\"e{i}\" for i in range(n)]\n",
    "column = [\"#nodes\",\"window_start\",\"window_end\"] + rnn_column_names\n",
    "row_list = []\n",
    "\n",
    "dates = sliding_window_dates(start_date, end_date,window_size)\n",
    "\n",
    "\n",
    "for window_start, window_end in dates:\n",
    "    selectedNetworkInTimeFrame = selectedNetwork[\n",
    "        (selectedNetwork['date'] >= window_start) & (selectedNetwork['date'] <= window_end)]\n",
    "    aWindowGraph = nx.DiGraph()\n",
    "\n",
    "    for index, row in selectedNetworkInTimeFrame.iterrows():\n",
    "        aWindowGraph.add_edge(row[\"from\"], row[\"to\"], value=row[\"value\"])\n",
    "    row_df = []\n",
    "\n",
    "    adjacency_matrix = nx.to_numpy_array(aWindowGraph)\n",
    "\n",
    "    # Calculate the eigenvalues\n",
    "    eigenvalues = np.linalg.eigvals(adjacency_matrix)\n",
    "\n",
    "    # Sort the eigenvalues in descending order\n",
    "    sorted_eigenvalues = np.sort(eigenvalues)[::-1]\n",
    "\n",
    "    # Extract the largest two eigenvalues\n",
    "    largest_eigenvalues = sorted_eigenvalues[:3]\n",
    "    \n",
    "    if(len(largest_eigenvalues) >= 3):\n",
    "        row_df.append(aWindowGraph.number_of_nodes())\n",
    "        row_df.append(window_start)\n",
    "        row_df.append(window_end)\n",
    "        for i in range(0,n):\n",
    "            row_df.append(largest_eigenvalues[i].real)\n",
    "        \n",
    "        row_list.append(row_df)\n",
    "        \n",
    "\n",
    "df_sliding = pd.DataFrame(row_list,columns= column)  \n"
   ]
  },
  {
   "cell_type": "code",
   "execution_count": 46,
   "outputs": [
    {
     "data": {
      "text/plain": "<generator object sliding_window_dates at 0x10ca56840>"
     },
     "execution_count": 46,
     "metadata": {},
     "output_type": "execute_result"
    }
   ],
   "source": [
    "dates"
   ],
   "metadata": {
    "collapsed": false,
    "ExecuteTime": {
     "end_time": "2023-10-30T18:07:17.113148Z",
     "start_time": "2023-10-30T18:07:17.108266Z"
    }
   },
   "id": "3464b283d11b8c3e"
  },
  {
   "cell_type": "code",
   "execution_count": 47,
   "id": "b754603917be8175",
   "metadata": {
    "ExecuteTime": {
     "end_time": "2023-10-30T18:07:17.125425Z",
     "start_time": "2023-10-30T18:07:17.118429Z"
    }
   },
   "outputs": [
    {
     "data": {
      "text/plain": "         date                                              event\n0  2016-02-10                        Bitcoin Classic is released\n1  2016-02-23            Bitcoin Core version 0.12.0 is released\n2  2016-06-11  Bitcoin market capitalization reaches US$ 10 b...\n3  2016-04-15            Bitcoin Core version 0.12.1 is released\n4  2016-08-02               The Bitfinex hack is first announced\n..        ...                                                ...\n67 2019-05-02            Bitcoin Core version 0.18.0 is released\n68 2019-08-09            Bitcoin Core version 0.18.1 is released\n69 2019-10-18                  The 18 millionth bitcoin is mined\n70 2019-10-24         Bitcoin Core version 0.19.0.1 is released \n71 2017-08-23  Crypto wallet Exodus adds Aragon and EOS in la...\n\n[72 rows x 2 columns]",
      "text/html": "<div>\n<style scoped>\n    .dataframe tbody tr th:only-of-type {\n        vertical-align: middle;\n    }\n\n    .dataframe tbody tr th {\n        vertical-align: top;\n    }\n\n    .dataframe thead th {\n        text-align: right;\n    }\n</style>\n<table border=\"1\" class=\"dataframe\">\n  <thead>\n    <tr style=\"text-align: right;\">\n      <th></th>\n      <th>date</th>\n      <th>event</th>\n    </tr>\n  </thead>\n  <tbody>\n    <tr>\n      <th>0</th>\n      <td>2016-02-10</td>\n      <td>Bitcoin Classic is released</td>\n    </tr>\n    <tr>\n      <th>1</th>\n      <td>2016-02-23</td>\n      <td>Bitcoin Core version 0.12.0 is released</td>\n    </tr>\n    <tr>\n      <th>2</th>\n      <td>2016-06-11</td>\n      <td>Bitcoin market capitalization reaches US$ 10 b...</td>\n    </tr>\n    <tr>\n      <th>3</th>\n      <td>2016-04-15</td>\n      <td>Bitcoin Core version 0.12.1 is released</td>\n    </tr>\n    <tr>\n      <th>4</th>\n      <td>2016-08-02</td>\n      <td>The Bitfinex hack is first announced</td>\n    </tr>\n    <tr>\n      <th>...</th>\n      <td>...</td>\n      <td>...</td>\n    </tr>\n    <tr>\n      <th>67</th>\n      <td>2019-05-02</td>\n      <td>Bitcoin Core version 0.18.0 is released</td>\n    </tr>\n    <tr>\n      <th>68</th>\n      <td>2019-08-09</td>\n      <td>Bitcoin Core version 0.18.1 is released</td>\n    </tr>\n    <tr>\n      <th>69</th>\n      <td>2019-10-18</td>\n      <td>The 18 millionth bitcoin is mined</td>\n    </tr>\n    <tr>\n      <th>70</th>\n      <td>2019-10-24</td>\n      <td>Bitcoin Core version 0.19.0.1 is released</td>\n    </tr>\n    <tr>\n      <th>71</th>\n      <td>2017-08-23</td>\n      <td>Crypto wallet Exodus adds Aragon and EOS in la...</td>\n    </tr>\n  </tbody>\n</table>\n<p>72 rows × 2 columns</p>\n</div>"
     },
     "execution_count": 47,
     "metadata": {},
     "output_type": "execute_result"
    }
   ],
   "source": [
    "\n",
    "df_sliding['window_start'] = pd.to_datetime(df_sliding['window_start'], format='%Y-%m-%d')\n",
    "df_sliding['window_end'] = pd.to_datetime(df_sliding['window_end'], format='%Y-%m-%d')\n",
    "# Convert 'date' in df_events to datetime\n",
    "df_events['date'] = pd.to_datetime(df_events['date'], format='%Y-%m-%d')\n",
    "df_events"
   ]
  },
  {
   "cell_type": "code",
   "execution_count": 48,
   "id": "4e560e57",
   "metadata": {
    "ExecuteTime": {
     "end_time": "2023-10-30T18:07:17.148893Z",
     "start_time": "2023-10-30T18:07:17.122287Z"
    }
   },
   "outputs": [],
   "source": [
    "\n",
    "def experiment(network_name,window_size, n):\n",
    "    result = [f\"e{i}\" for i in range(n)]\n",
    "    column_names = [\"#nodes\",\"window_start\",\"window_end\",\"nodes\",\"alpha\",\"xmin\"]+result\n",
    "    # Change this to your desired file path and format (e.g., .png, .jpg, .svg)\n",
    "    \n",
    "    selectedNetwork = pd.read_csv(\"dataset/network\"+network_name+\".txt\", sep=' ', names=[\"from\", \"to\", \"date\", \"value\"])\n",
    "    selectedNetwork['date'] = pd.to_datetime(selectedNetwork['date'], unit='s')\n",
    "    selectedNetwork = selectedNetwork.sort_values(by = 'date')\n",
    "    selectedNetwork['date'] = selectedNetwork['date'].dt.date\n",
    "    \n",
    "    start_date = selectedNetwork['date'].min()\n",
    "    end_date = selectedNetwork['date'].max()\n",
    "      \n",
    "    row_list = []\n",
    "\n",
    "    for window_start, window_end in sliding_window_dates(start_date, end_date,window_size):\n",
    "        selectedNetworkInTimeFrame = selectedNetwork[\n",
    "            (selectedNetwork['date'] >= window_start) & (selectedNetwork['date'] <= window_end)]\n",
    "        aWindowGraph = nx.DiGraph()\n",
    "\n",
    "        for index, row in selectedNetworkInTimeFrame.iterrows():\n",
    "            aWindowGraph.add_edge(row[\"from\"], row[\"to\"], value=row[\"value\"])\n",
    "        row_df = []\n",
    "        degrees = list(dict(aWindowGraph.degree()).values())\n",
    "        fit = powerlaw.Fit(degrees,verbose=False)\n",
    "        \n",
    "        adjacency_matrix = nx.to_numpy_array(aWindowGraph)\n",
    "        # Calculate the eigenvalues\n",
    "        eigenvalues = np.linalg.eigvals(adjacency_matrix)\n",
    "    \n",
    "        # Sort the eigenvalues in descending order\n",
    "        sorted_eigenvalues = np.sort(eigenvalues)[::-1]\n",
    "    \n",
    "        # Extract the largest two eigenvalues\n",
    "        largest_eigenvalues = sorted_eigenvalues[:n]\n",
    "       \n",
    "        if(len(largest_eigenvalues) >= n):\n",
    "                row_df.append(aWindowGraph.number_of_nodes())\n",
    "                row_df.append(window_start)\n",
    "                row_df.append(window_end)\n",
    "                row_df.append(aWindowGraph.number_of_nodes())\n",
    "                row_df.append(fit.power_law.alpha)\n",
    "                row_df.append(fit.power_law.xmin)\n",
    "                for i in range(0,n):\n",
    "                    row_df.append(largest_eigenvalues[i].real)\n",
    "            \n",
    "                row_list.append(row_df)   \n",
    "    \n",
    "    \n",
    "    return pd.DataFrame(row_list,columns= column_names) \n",
    "    "
   ]
  },
  {
   "cell_type": "code",
   "execution_count": 49,
   "id": "8e42f86c",
   "metadata": {
    "ExecuteTime": {
     "end_time": "2023-10-30T18:11:56.340078Z",
     "start_time": "2023-10-30T18:07:17.130048Z"
    }
   },
   "outputs": [
    {
     "name": "stdout",
     "output_type": "stream",
     "text": [
      "xmin progress: 90%\r"
     ]
    }
   ],
   "source": [
    "df = experiment(network_name,7, 3)"
   ]
  },
  {
   "cell_type": "code",
   "execution_count": 50,
   "outputs": [
    {
     "name": "stdout",
     "output_type": "stream",
     "text": [
      "     #nodes window_start  window_end  nodes      alpha  xmin        e0  \\\n",
      "0      3145   2017-05-17  2017-05-23   3145   4.586912   3.0  3.404611   \n",
      "1      2775   2017-05-18  2017-05-24   2775   9.191478   2.0  2.936838   \n",
      "2      2318   2017-05-19  2017-05-25   2318   8.788327   2.0  2.633650   \n",
      "3      2208   2017-05-20  2017-05-26   2208   8.589375   2.0  2.373650   \n",
      "4      1984   2017-05-21  2017-05-27   1984   9.250640   2.0  2.086745   \n",
      "..      ...          ...         ...    ...        ...   ...       ...   \n",
      "344     856   2018-04-26  2018-05-02    856  12.136441   2.0  2.802039   \n",
      "345     837   2018-04-27  2018-05-03    837  13.192193   2.0  2.668402   \n",
      "346     855   2018-04-28  2018-05-04    855  13.962887   2.0  2.884499   \n",
      "347     852   2018-04-29  2018-05-05    852  14.571401   2.0  3.036589   \n",
      "348     762   2018-04-30  2018-05-06    762  14.310812   2.0  2.924018   \n",
      "\n",
      "               e1            e2  \n",
      "0    1.000000e+00  1.000000e+00  \n",
      "1    1.000000e+00  1.000000e+00  \n",
      "2    1.000000e+00  1.000000e+00  \n",
      "3    1.000000e+00  1.000000e+00  \n",
      "4    1.000000e+00  1.000000e+00  \n",
      "..            ...           ...  \n",
      "344  1.000000e+00  1.015716e-08  \n",
      "345  1.000000e+00  6.174850e-09  \n",
      "346  8.698406e-09  6.403970e-09  \n",
      "347  9.881969e-09  7.764515e-09  \n",
      "348  7.583426e-09  7.583426e-09  \n",
      "\n",
      "[349 rows x 9 columns]\n"
     ]
    }
   ],
   "source": [
    "print(df)\n",
    " "
   ],
   "metadata": {
    "collapsed": false,
    "ExecuteTime": {
     "end_time": "2023-10-30T18:11:56.354732Z",
     "start_time": "2023-10-30T18:11:56.340815Z"
    }
   },
   "id": "8bf02c46a7cd4f20"
  },
  {
   "cell_type": "code",
   "execution_count": 51,
   "outputs": [],
   "source": [
    "price_file = \"dataset/price_dataset/\" + network_name + \"_price.csv\"\n",
    "price = pd.read_csv(price_file, sep=',', header=0)\n",
    "price['date'] = pd.to_datetime(price['date'], format='%Y-%m-%d')\n",
    "price['date'] = pd.to_datetime(price['date']).dt.date\n",
    "# Convert the 'window_start' column in 'df_sliding' to datetime with date part\n",
    "df_sliding['window_start'] = pd.to_datetime(df_sliding['window_start']).dt.date\n",
    "\n",
    "# Now, both 'date' columns have the same datetime data type\n",
    "merged_df = pd.merge(price, df_sliding, left_on='date', right_on='window_start', how='inner')"
   ],
   "metadata": {
    "collapsed": false,
    "ExecuteTime": {
     "end_time": "2023-10-30T18:11:56.377972Z",
     "start_time": "2023-10-30T18:11:56.345769Z"
    }
   },
   "id": "cc2d6e991495e07a"
  },
  {
   "cell_type": "code",
   "execution_count": 52,
   "outputs": [
    {
     "data": {
      "text/plain": "     Unnamed: 0     open     high      low    close   volume     marketCap  \\\n0             0  1.48563  1.55702  1.41713  1.52438  2745280  0.000000e+00   \n1             1  1.49932  1.55898  1.28817  1.33077  1655390  3.689782e+07   \n2             2  1.32789  1.47018  1.30107  1.43403  1272560  4.819082e+07   \n3             3  1.45229  1.49973  1.32560  1.41018  1152680  4.738933e+07   \n4             4  1.40033  1.61170  1.20274  1.53604  1358470  5.161888e+07   \n..          ...      ...      ...      ...      ...      ...           ...   \n346         346  4.35008  4.49983  4.19932  4.46659   811571  1.177818e+08   \n347         347  4.48640  4.56640  4.26756  4.48674   769705  1.183131e+08   \n348         348  4.49185  4.49996  4.16600  4.36430   425023  1.150844e+08   \n349         349  4.35751  4.56330  4.31095  4.55272   443267  1.200530e+08   \n350         350  4.53921  4.66257  4.41715  4.57269   591189  1.205796e+08   \n\n           date  #nodes window_start          window_end        e0  \\\n0    2017-05-18    1021   2017-05-18 2017-05-20 18:36:22  1.796322   \n1    2017-05-19     757   2017-05-19 2017-05-21 18:36:22  1.000000   \n2    2017-05-20     567   2017-05-20 2017-05-22 18:36:22  1.259921   \n3    2017-05-21     585   2017-05-21 2017-05-23 18:36:22  1.259921   \n4    2017-05-22     859   2017-05-22 2017-05-24 18:36:22  1.442250   \n..          ...     ...          ...                 ...       ...   \n346  2018-04-29     230   2018-04-29 2018-05-01 18:36:22  1.442250   \n347  2018-04-30     216   2018-04-30 2018-05-02 18:36:22  0.000000   \n348  2018-05-01     260   2018-05-01 2018-05-03 18:36:22  1.000000   \n349  2018-05-02     308   2018-05-02 2018-05-04 18:36:22  1.817121   \n350  2018-05-03     282   2018-05-03 2018-05-05 18:36:22  2.080084   \n\n               e1            e2  \n0    1.000000e+00  1.000000e+00  \n1    1.000000e+00  1.000000e+00  \n2    0.000000e+00  0.000000e+00  \n3    1.000000e+00  0.000000e+00  \n4    1.000000e+00  9.418426e-17  \n..            ...           ...  \n346  5.551115e-17  5.551115e-17  \n347  0.000000e+00  0.000000e+00  \n348  0.000000e+00  0.000000e+00  \n349  8.941458e-09  8.941458e-09  \n350  3.222044e-09  3.222044e-09  \n\n[351 rows x 14 columns]",
      "text/html": "<div>\n<style scoped>\n    .dataframe tbody tr th:only-of-type {\n        vertical-align: middle;\n    }\n\n    .dataframe tbody tr th {\n        vertical-align: top;\n    }\n\n    .dataframe thead th {\n        text-align: right;\n    }\n</style>\n<table border=\"1\" class=\"dataframe\">\n  <thead>\n    <tr style=\"text-align: right;\">\n      <th></th>\n      <th>Unnamed: 0</th>\n      <th>open</th>\n      <th>high</th>\n      <th>low</th>\n      <th>close</th>\n      <th>volume</th>\n      <th>marketCap</th>\n      <th>date</th>\n      <th>#nodes</th>\n      <th>window_start</th>\n      <th>window_end</th>\n      <th>e0</th>\n      <th>e1</th>\n      <th>e2</th>\n    </tr>\n  </thead>\n  <tbody>\n    <tr>\n      <th>0</th>\n      <td>0</td>\n      <td>1.48563</td>\n      <td>1.55702</td>\n      <td>1.41713</td>\n      <td>1.52438</td>\n      <td>2745280</td>\n      <td>0.000000e+00</td>\n      <td>2017-05-18</td>\n      <td>1021</td>\n      <td>2017-05-18</td>\n      <td>2017-05-20 18:36:22</td>\n      <td>1.796322</td>\n      <td>1.000000e+00</td>\n      <td>1.000000e+00</td>\n    </tr>\n    <tr>\n      <th>1</th>\n      <td>1</td>\n      <td>1.49932</td>\n      <td>1.55898</td>\n      <td>1.28817</td>\n      <td>1.33077</td>\n      <td>1655390</td>\n      <td>3.689782e+07</td>\n      <td>2017-05-19</td>\n      <td>757</td>\n      <td>2017-05-19</td>\n      <td>2017-05-21 18:36:22</td>\n      <td>1.000000</td>\n      <td>1.000000e+00</td>\n      <td>1.000000e+00</td>\n    </tr>\n    <tr>\n      <th>2</th>\n      <td>2</td>\n      <td>1.32789</td>\n      <td>1.47018</td>\n      <td>1.30107</td>\n      <td>1.43403</td>\n      <td>1272560</td>\n      <td>4.819082e+07</td>\n      <td>2017-05-20</td>\n      <td>567</td>\n      <td>2017-05-20</td>\n      <td>2017-05-22 18:36:22</td>\n      <td>1.259921</td>\n      <td>0.000000e+00</td>\n      <td>0.000000e+00</td>\n    </tr>\n    <tr>\n      <th>3</th>\n      <td>3</td>\n      <td>1.45229</td>\n      <td>1.49973</td>\n      <td>1.32560</td>\n      <td>1.41018</td>\n      <td>1152680</td>\n      <td>4.738933e+07</td>\n      <td>2017-05-21</td>\n      <td>585</td>\n      <td>2017-05-21</td>\n      <td>2017-05-23 18:36:22</td>\n      <td>1.259921</td>\n      <td>1.000000e+00</td>\n      <td>0.000000e+00</td>\n    </tr>\n    <tr>\n      <th>4</th>\n      <td>4</td>\n      <td>1.40033</td>\n      <td>1.61170</td>\n      <td>1.20274</td>\n      <td>1.53604</td>\n      <td>1358470</td>\n      <td>5.161888e+07</td>\n      <td>2017-05-22</td>\n      <td>859</td>\n      <td>2017-05-22</td>\n      <td>2017-05-24 18:36:22</td>\n      <td>1.442250</td>\n      <td>1.000000e+00</td>\n      <td>9.418426e-17</td>\n    </tr>\n    <tr>\n      <th>...</th>\n      <td>...</td>\n      <td>...</td>\n      <td>...</td>\n      <td>...</td>\n      <td>...</td>\n      <td>...</td>\n      <td>...</td>\n      <td>...</td>\n      <td>...</td>\n      <td>...</td>\n      <td>...</td>\n      <td>...</td>\n      <td>...</td>\n      <td>...</td>\n    </tr>\n    <tr>\n      <th>346</th>\n      <td>346</td>\n      <td>4.35008</td>\n      <td>4.49983</td>\n      <td>4.19932</td>\n      <td>4.46659</td>\n      <td>811571</td>\n      <td>1.177818e+08</td>\n      <td>2018-04-29</td>\n      <td>230</td>\n      <td>2018-04-29</td>\n      <td>2018-05-01 18:36:22</td>\n      <td>1.442250</td>\n      <td>5.551115e-17</td>\n      <td>5.551115e-17</td>\n    </tr>\n    <tr>\n      <th>347</th>\n      <td>347</td>\n      <td>4.48640</td>\n      <td>4.56640</td>\n      <td>4.26756</td>\n      <td>4.48674</td>\n      <td>769705</td>\n      <td>1.183131e+08</td>\n      <td>2018-04-30</td>\n      <td>216</td>\n      <td>2018-04-30</td>\n      <td>2018-05-02 18:36:22</td>\n      <td>0.000000</td>\n      <td>0.000000e+00</td>\n      <td>0.000000e+00</td>\n    </tr>\n    <tr>\n      <th>348</th>\n      <td>348</td>\n      <td>4.49185</td>\n      <td>4.49996</td>\n      <td>4.16600</td>\n      <td>4.36430</td>\n      <td>425023</td>\n      <td>1.150844e+08</td>\n      <td>2018-05-01</td>\n      <td>260</td>\n      <td>2018-05-01</td>\n      <td>2018-05-03 18:36:22</td>\n      <td>1.000000</td>\n      <td>0.000000e+00</td>\n      <td>0.000000e+00</td>\n    </tr>\n    <tr>\n      <th>349</th>\n      <td>349</td>\n      <td>4.35751</td>\n      <td>4.56330</td>\n      <td>4.31095</td>\n      <td>4.55272</td>\n      <td>443267</td>\n      <td>1.200530e+08</td>\n      <td>2018-05-02</td>\n      <td>308</td>\n      <td>2018-05-02</td>\n      <td>2018-05-04 18:36:22</td>\n      <td>1.817121</td>\n      <td>8.941458e-09</td>\n      <td>8.941458e-09</td>\n    </tr>\n    <tr>\n      <th>350</th>\n      <td>350</td>\n      <td>4.53921</td>\n      <td>4.66257</td>\n      <td>4.41715</td>\n      <td>4.57269</td>\n      <td>591189</td>\n      <td>1.205796e+08</td>\n      <td>2018-05-03</td>\n      <td>282</td>\n      <td>2018-05-03</td>\n      <td>2018-05-05 18:36:22</td>\n      <td>2.080084</td>\n      <td>3.222044e-09</td>\n      <td>3.222044e-09</td>\n    </tr>\n  </tbody>\n</table>\n<p>351 rows × 14 columns</p>\n</div>"
     },
     "execution_count": 52,
     "metadata": {},
     "output_type": "execute_result"
    }
   ],
   "source": [
    "merged_df"
   ],
   "metadata": {
    "collapsed": false,
    "ExecuteTime": {
     "end_time": "2023-10-30T18:11:56.389075Z",
     "start_time": "2023-10-30T18:11:56.367958Z"
    }
   },
   "id": "c7d5675eace34586"
  },
  {
   "cell_type": "code",
   "execution_count": 53,
   "outputs": [],
   "source": [
    "# Select the relevant columns\n",
    "rnn_column_names = [f\"e{i}\" for i in range(n)]\n",
    "rnn_column_names.append(\"open\")\n",
    "items_to_fetch = rnn_column_names + ['close']\n",
    "data = merged_df[items_to_fetch].copy()\n",
    " \n",
    "# Normalize the data\n",
    "scaler = MinMaxScaler()\n",
    "data = scaler.fit_transform(data)\n",
    "# Shift the 'close' column by window_size\n",
    " \n",
    "data[:, -1] = np.roll(data[:, -1], -window_size)\n",
    "\n",
    "# Split the data into features (X) and labels (y)\n",
    "X = data[:, :-1]  # Features (eigen values)\n",
    "y = data[:, -1]   # Labels (close)\n",
    "\n",
    " \n",
    "# Convert data to PyTorch tensors\n",
    "X = torch.tensor(X, dtype=torch.float32)\n",
    "y = torch.tensor(y, dtype=torch.float32)\n",
    "X = X.view(-1, 1, len(rnn_column_names))\n",
    "# Split the data into training and testing sets\n",
    "X_train, X_test, y_train, y_test = train_test_split(X, y, test_size=0.2, random_state=42)\n",
    "\n"
   ],
   "metadata": {
    "collapsed": false,
    "ExecuteTime": {
     "end_time": "2023-10-30T18:11:56.403712Z",
     "start_time": "2023-10-30T18:11:56.375841Z"
    }
   },
   "id": "b855da464271631e"
  },
  {
   "cell_type": "code",
   "execution_count": 53,
   "outputs": [],
   "source": [],
   "metadata": {
    "collapsed": false,
    "ExecuteTime": {
     "end_time": "2023-10-30T18:11:56.404100Z",
     "start_time": "2023-10-30T18:11:56.396142Z"
    }
   },
   "id": "41c7c8cfb4e2afe5"
  },
  {
   "cell_type": "code",
   "execution_count": 54,
   "outputs": [],
   "source": [
    "# Define the RNN model using PyTorch\n",
    "class SimpleRNNModel(nn.Module):\n",
    "    def __init__(self, input_size, hidden_size, num_layers):\n",
    "        super(SimpleRNNModel, self).__init__()\n",
    "        self.rnn = nn.RNN(input_size, hidden_size, num_layers, batch_first=True)\n",
    "        self.fc = nn.Linear(hidden_size, 1)  # Output layer\n",
    "\n",
    "    def forward(self, x):\n",
    "        out, _ = self.rnn(x)\n",
    "        out = self.fc(out[:, -1, :])  # Get the last time step output\n",
    "        return out\n",
    "\n",
    "# Initialize the RNN model\n",
    "input_size = len(rnn_column_names)\n",
    "hidden_size = 64\n",
    "num_layers = 3\n",
    "\n",
    "model = SimpleRNNModel(input_size, hidden_size, num_layers)\n",
    "\n"
   ],
   "metadata": {
    "collapsed": false,
    "ExecuteTime": {
     "end_time": "2023-10-30T18:11:56.435199Z",
     "start_time": "2023-10-30T18:11:56.400680Z"
    }
   },
   "id": "3dff1b3beeb2c86"
  },
  {
   "cell_type": "code",
   "execution_count": 55,
   "outputs": [
    {
     "name": "stdout",
     "output_type": "stream",
     "text": [
      "Epoch [1/50], Loss: 0.17587554454803467, Test Loss: 0.13528074324131012, Test MSE: 0.1326984316110611, RMSE: 0.3642779588699341, MAE: 0.2952500879764557, R2: -1.7616978642292858, Explained Variance: 0.05252474546432495\n",
      "Epoch [2/50], Loss: 0.13300104439258575, Test Loss: 0.10144895315170288, Test MSE: 0.09855557978153229, RMSE: 0.31393563747406006, MAE: 0.23162350058555603, R2: -1.0511225709461165, Explained Variance: 0.05843245983123779\n",
      "Epoch [3/50], Loss: 0.09806063771247864, Test Loss: 0.07563936710357666, Test MSE: 0.07241654396057129, RMSE: 0.2691032290458679, MAE: 0.18152521550655365, R2: -0.5071212495105857, Explained Variance: 0.0644369125366211\n",
      "Epoch [4/50], Loss: 0.07115469127893448, Test Loss: 0.0582016222178936, Test MSE: 0.054632026702165604, RMSE: 0.23373495042324066, MAE: 0.1600276380777359, R2: -0.13699276968039964, Explained Variance: 0.07046127319335938\n",
      "Epoch [5/50], Loss: 0.052642080932855606, Test Loss: 0.04948722943663597, Test MSE: 0.04556134715676308, RMSE: 0.21345104277133942, MAE: 0.16080604493618011, R2: 0.05178462256868932, Explained Variance: 0.0763137936592102\n",
      "Epoch [6/50], Loss: 0.04289621859788895, Test Loss: 0.049186188727617264, Test MSE: 0.04491725191473961, RMSE: 0.21193690598011017, MAE: 0.1773509979248047, R2: 0.06518936723292934, Explained Variance: 0.08160519599914551\n",
      "Epoch [7/50], Loss: 0.041648950427770615, Test Loss: 0.05522743985056877, Test MSE: 0.05068051069974899, RMSE: 0.2251233160495758, MAE: 0.19733847677707672, R2: -0.05475444052054046, Explained Variance: 0.08560127019882202\n",
      "Epoch [8/50], Loss: 0.046898916363716125, Test Loss: 0.06319643557071686, Test MSE: 0.058499351143836975, RMSE: 0.24186639487743378, MAE: 0.21441391110420227, R2: -0.21747902344229142, Explained Variance: 0.08755183219909668\n",
      "Epoch [9/50], Loss: 0.05430860072374344, Test Loss: 0.06863685697317123, Test MSE: 0.06393297016620636, RMSE: 0.2528496980667114, MAE: 0.22511471807956696, R2: -0.33056258042010844, Explained Variance: 0.08742648363113403\n",
      "Epoch [10/50], Loss: 0.05944770574569702, Test Loss: 0.06975193321704865, Test MSE: 0.0651576817035675, RMSE: 0.25526002049446106, MAE: 0.22748512029647827, R2: -0.3560514545579365, Explained Variance: 0.08567649126052856\n",
      "Epoch [11/50], Loss: 0.06049099192023277, Test Loss: 0.06715452671051025, Test MSE: 0.06275077909231186, RMSE: 0.2505010664463043, MAE: 0.22301769256591797, R2: -0.3059592061821126, Explained Variance: 0.08276522159576416\n",
      "Epoch [12/50], Loss: 0.05800366401672363, Test Loss: 0.06246824562549591, Test MSE: 0.05830545723438263, RMSE: 0.241465225815773, MAE: 0.21420817077159882, R2: -0.21344378160946986, Explained Variance: 0.07904791831970215\n",
      "Epoch [13/50], Loss: 0.05356178060173988, Test Loss: 0.05733029544353485, Test MSE: 0.05343538522720337, RMSE: 0.2311609536409378, MAE: 0.2038898468017578, R2: -0.11208857826564311, Explained Variance: 0.0748022198677063\n",
      "Epoch [14/50], Loss: 0.04876004159450531, Test Loss: 0.05293655022978783, Test MSE: 0.04931814968585968, RMSE: 0.2220769077539444, MAE: 0.1932487040758133, R2: -0.026401216890240997, Explained Variance: 0.07027387619018555\n",
      "Epoch [15/50], Loss: 0.044757179915905, Test Loss: 0.049924422055482864, Test MSE: 0.04657652974128723, RMSE: 0.2158159613609314, MAE: 0.18343961238861084, R2: 0.030656869678089116, Explained Variance: 0.06569534540176392\n",
      "Epoch [16/50], Loss: 0.042158033698797226, Test Loss: 0.04843110591173172, Test MSE: 0.045336008071899414, RMSE: 0.21292254328727722, MAE: 0.1749594658613205, R2: 0.056474409596875774, Explained Variance: 0.0612868070602417\n",
      "Epoch [17/50], Loss: 0.04107122868299484, Test Loss: 0.048231177031993866, Test MSE: 0.04536202549934387, RMSE: 0.2129836231470108, MAE: 0.16842827200889587, R2: 0.055932909301625644, Explained Variance: 0.05724412202835083\n",
      "Epoch [18/50], Loss: 0.04124674201011658, Test Loss: 0.048895660787820816, Test MSE: 0.046218641102313995, RMSE: 0.2149852067232132, MAE: 0.16373124718666077, R2: 0.038105032731883814, Explained Variance: 0.05373340845108032\n",
      "Epoch [19/50], Loss: 0.0422353595495224, Test Loss: 0.049938756972551346, Test MSE: 0.04741531237959862, RMSE: 0.21775057911872864, MAE: 0.160660520195961, R2: 0.013200228870361319, Explained Variance: 0.05088210105895996\n",
      "Epoch [20/50], Loss: 0.04353613406419754, Test Loss: 0.05093515291810036, Test MSE: 0.048524778336286545, RMSE: 0.2202834039926529, MAE: 0.15927372872829437, R2: -0.009889967235819697, Explained Variance: 0.04875856637954712\n",
      "Epoch [21/50], Loss: 0.04471467435359955, Test Loss: 0.05159493908286095, Test MSE: 0.04925842583179474, RMSE: 0.22194239497184753, MAE: 0.15893131494522095, R2: -0.02515826293439427, Explained Variance: 0.04736316204071045\n",
      "Epoch [22/50], Loss: 0.045478615909814835, Test Loss: 0.051787469536066055, Test MSE: 0.049489278346300125, RMSE: 0.22246186435222626, MAE: 0.1589125543832779, R2: -0.029962891188131113, Explained Variance: 0.046640098094940186\n",
      "Epoch [23/50], Loss: 0.045700620859861374, Test Loss: 0.05152246356010437, Test MSE: 0.049232009798288345, RMSE: 0.2218828797340393, MAE: 0.15901364386081696, R2: -0.02460860189192049, Explained Variance: 0.04650235176086426\n",
      "Epoch [24/50], Loss: 0.04539790004491806, Test Loss: 0.05090910941362381, Test MSE: 0.048601169139146805, RMSE: 0.22045673429965973, MAE: 0.15936794877052307, R2: -0.011479658884215427, Explained Variance: 0.04684913158416748\n",
      "Epoch [25/50], Loss: 0.044689685106277466, Test Loss: 0.050110623240470886, Test MSE: 0.047765374183654785, RMSE: 0.21855290234088898, MAE: 0.1604660004377365, R2: 0.005914713932731019, Explained Variance: 0.04757636785507202\n",
      "Epoch [26/50], Loss: 0.043750688433647156, Test Loss: 0.049303051084280014, Test MSE: 0.04690604656934738, RMSE: 0.21657803654670715, MAE: 0.16232794523239136, R2: 0.023798967988701625, Explained Variance: 0.04857814311981201\n",
      "Epoch [27/50], Loss: 0.04276910424232483, Test Loss: 0.04864152893424034, Test MSE: 0.04618365317583084, RMSE: 0.2149038165807724, MAE: 0.1649308204650879, R2: 0.038833378679653974, Explained Variance: 0.049749791622161865\n",
      "Epoch [28/50], Loss: 0.041912373155355453, Test Loss: 0.048234954476356506, Test MSE: 0.045712463557720184, RMSE: 0.21380473673343658, MAE: 0.16803286969661713, R2: 0.048639623168538315, Explained Variance: 0.05098682641983032\n",
      "Epoch [29/50], Loss: 0.04130157455801964, Test Loss: 0.04813026636838913, Test MSE: 0.045544784516096115, RMSE: 0.21341224014759064, MAE: 0.17156246304512024, R2: 0.05212932408607451, Explained Variance: 0.05218613147735596\n",
      "Epoch [30/50], Loss: 0.04099535197019577, Test Loss: 0.04830759018659592, Test MSE: 0.04566599056124687, RMSE: 0.21369601786136627, MAE: 0.1748986542224884, R2: 0.049606826956202554, Explained Variance: 0.05324763059616089\n",
      "Epoch [31/50], Loss: 0.040984705090522766, Test Loss: 0.048688072711229324, Test MSE: 0.04600215703248978, RMSE: 0.21448113024234772, MAE: 0.17823526263237, R2: 0.04261062579103114, Explained Variance: 0.05407959222793579\n",
      "Epoch [32/50], Loss: 0.04120045527815819, Test Loss: 0.049154408276081085, Test MSE: 0.046440113335847855, RMSE: 0.21549968421459198, MAE: 0.18114089965820312, R2: 0.03349596335326477, Explained Variance: 0.054605066776275635\n",
      "Epoch [33/50], Loss: 0.04153317213058472, Test Loss: 0.04958067089319229, Test MSE: 0.0468568354845047, RMSE: 0.21646440029144287, MAE: 0.18327325582504272, R2: 0.024823184772588602, Explained Variance: 0.0547713041305542\n",
      "Epoch [34/50], Loss: 0.041862573474645615, Test Loss: 0.04986394941806793, Test MSE: 0.047150664031505585, RMSE: 0.2171420305967331, MAE: 0.18455298244953156, R2: 0.01870794591837277, Explained Variance: 0.054555296897888184\n",
      "Epoch [35/50], Loss: 0.04208873584866524, Test Loss: 0.04994777962565422, Test MSE: 0.04726474732160568, RMSE: 0.2174045741558075, MAE: 0.18496859073638916, R2: 0.016333759898034983, Explained Variance: 0.053965091705322266\n",
      "Epoch [36/50], Loss: 0.04215538874268532, Test Loss: 0.04983026906847954, Test MSE: 0.04719526320695877, RMSE: 0.2172447144985199, MAE: 0.18457460403442383, R2: 0.017779909167395025, Explained Variance: 0.05303645133972168\n",
      "Epoch [37/50], Loss: 0.042058177292346954, Test Loss: 0.049555953592061996, Test MSE: 0.04698370024561882, RMSE: 0.21675723791122437, MAE: 0.18348151445388794, R2: 0.02218281912258513, Explained Variance: 0.05182522535324097\n",
      "Epoch [38/50], Loss: 0.04183686152100563, Test Loss: 0.04919632524251938, Test MSE: 0.046697866171598434, RMSE: 0.216096892952919, MAE: 0.18183983862400055, R2: 0.028131593549793554, Explained Variance: 0.0504000186920166\n",
      "Epoch [39/50], Loss: 0.04155643284320831, Test Loss: 0.04882725328207016, Test MSE: 0.046409640461206436, RMSE: 0.21542896330356598, MAE: 0.17982257902622223, R2: 0.034130171260100206, Explained Variance: 0.04883497953414917\n",
      "Epoch [40/50], Loss: 0.041285138577222824, Test Loss: 0.04851017892360687, Test MSE: 0.04617655649781227, RMSE: 0.21488730609416962, MAE: 0.1776084303855896, R2: 0.03898098440080855, Explained Variance: 0.04720419645309448\n",
      "Epoch [41/50], Loss: 0.04107632488012314, Test Loss: 0.04828132688999176, Test MSE: 0.04603126272559166, RMSE: 0.2145489752292633, MAE: 0.1755477786064148, R2: 0.04200479709764238, Explained Variance: 0.04557615518569946\n",
      "Epoch [42/50], Loss: 0.040958222001791, Test Loss: 0.048149652779102325, Test MSE: 0.04597967863082886, RMSE: 0.21442872285842896, MAE: 0.1737656444311142, R2: 0.04307839344011, Explained Variance: 0.0440097451210022\n",
      "Epoch [43/50], Loss: 0.040932461619377136, Test Loss: 0.04810171574354172, Test MSE: 0.046005986630916595, RMSE: 0.21449005603790283, MAE: 0.1722102165222168, R2: 0.04253096645256338, Explained Variance: 0.04255223274230957\n",
      "Epoch [44/50], Loss: 0.04097931459546089, Test Loss: 0.04811050742864609, Test MSE: 0.04608147591352463, RMSE: 0.2146659642457962, MAE: 0.17094139754772186, R2: 0.040959870527189635, Explained Variance: 0.04123812913894653\n",
      "Epoch [45/50], Loss: 0.04106681048870087, Test Loss: 0.0481451079249382, Test MSE: 0.04617416858673096, RMSE: 0.2148817479610443, MAE: 0.17001210153102875, R2: 0.03903062306862559, Explained Variance: 0.040089190006256104\n",
      "Epoch [46/50], Loss: 0.04116053506731987, Test Loss: 0.04817880317568779, Test MSE: 0.046256959438323975, RMSE: 0.2150743156671524, MAE: 0.1694498509168625, R2: 0.03730758532720124, Explained Variance: 0.039114952087402344\n",
      "Epoch [47/50], Loss: 0.04123180732131004, Test Loss: 0.04819439724087715, Test MSE: 0.04631277173757553, RMSE: 0.21520403027534485, MAE: 0.16925859451293945, R2: 0.036146084217710484, Explained Variance: 0.038313448429107666\n",
      "Epoch [48/50], Loss: 0.0412629172205925, Test Loss: 0.04818610101938248, Test MSE: 0.04633639380335808, RMSE: 0.2152588963508606, MAE: 0.1694207787513733, R2: 0.035654306361853405, Explained Variance: 0.03767436742782593\n",
      "Epoch [49/50], Loss: 0.04124896600842476, Test Loss: 0.048158589750528336, Test MSE: 0.04633347690105438, RMSE: 0.2152521312236786, MAE: 0.16990059614181519, R2: 0.03571518040307897, Explained Variance: 0.03717935085296631\n",
      "Epoch [50/50], Loss: 0.04119665175676346, Test Loss: 0.048123665153980255, Test MSE: 0.04631708189845085, RMSE: 0.21521404385566711, MAE: 0.17064666748046875, R2: 0.03605637030002795, Explained Variance: 0.03680330514907837\n"
     ]
    }
   ],
   "source": [
    "# Define loss and optimizer\n",
    "criterion = nn.MSELoss()\n",
    "optimizer = optim.Adam(model.parameters(), lr=0.001)\n",
    "test_losses = []\n",
    "# Training loop\n",
    "epochs = 50\n",
    "for epoch in range(epochs):\n",
    "    outputs = model(X_train)\n",
    "    optimizer.zero_grad()\n",
    "    loss = criterion(outputs, y_train)\n",
    "    loss.backward()\n",
    "    optimizer.step()\n",
    "\n",
    "    \n",
    "    test_losses.append(loss.item())\n",
    "\n",
    "    test_loss = 0.0  # Initialize test loss\n",
    "    model.eval()\n",
    "    with torch.no_grad():\n",
    "        test_outputs = model(X_test)\n",
    "        test_loss = criterion(test_outputs, y_test)\n",
    "\n",
    "    mse = mean_squared_error(y_test, test_outputs)\n",
    "    rmse = np.sqrt(mse)\n",
    "    mae = mean_absolute_error(y_test, test_outputs)\n",
    "    r2 = r2_score(y_test, test_outputs)\n",
    "    explained_variance = explained_variance_score(y_test, test_outputs)\n",
    "\n",
    "    print(f'Epoch [{epoch+1}/{epochs}], Loss: {loss.item()}, Test Loss: {test_loss.item()}, Test MSE: {mse}, RMSE: {rmse}, MAE: {mae}, R2: {r2}, Explained Variance: {explained_variance}')\n",
    "     \n",
    "\n",
    "\n",
    " \n"
   ],
   "metadata": {
    "collapsed": false,
    "ExecuteTime": {
     "end_time": "2023-10-30T18:11:56.718699Z",
     "start_time": "2023-10-30T18:11:56.417204Z"
    }
   },
   "id": "dea49469b55a873b"
  },
  {
   "cell_type": "code",
   "execution_count": 56,
   "outputs": [
    {
     "data": {
      "text/plain": "<Figure size 640x480 with 1 Axes>",
      "image/png": "[encoded data removed]"
     },
     "metadata": {},
     "output_type": "display_data"
    }
   ],
   "source": [
    "import matplotlib.pyplot as plt\n",
    "plt.plot(range(epochs), test_losses, label='Test Loss')\n",
    "plt.xlabel('Epoch')\n",
    "plt.ylabel('Loss')\n",
    "plt.legend()\n",
    "plt.show()"
   ],
   "metadata": {
    "collapsed": false,
    "ExecuteTime": {
     "end_time": "2023-10-30T18:11:56.885122Z",
     "start_time": "2023-10-30T18:11:56.707333Z"
    }
   },
   "id": "50e6ef4757027f7"
  },
  {
   "cell_type": "code",
   "execution_count": 57,
   "outputs": [
    {
     "data": {
      "text/plain": "<Figure size 800x800 with 1 Axes>",
      "image/png": "[encoded data removed]"
     },
     "metadata": {},
     "output_type": "display_data"
    }
   ],
   "source": [
    "plt.figure(figsize=(8, 8))\n",
    "plt.scatter(y_test, test_outputs, alpha=0.5)\n",
    "plt.xlabel('Real Values')\n",
    "plt.ylabel('Predicted Values')\n",
    "plt.title('Predicted vs. Real Values')\n",
    "plt.show()"
   ],
   "metadata": {
    "collapsed": false,
    "ExecuteTime": {
     "end_time": "2023-10-30T18:11:57.185085Z",
     "start_time": "2023-10-30T18:11:56.894789Z"
    }
   },
   "id": "4180bd5c8f51844a"
  },
  {
   "cell_type": "code",
   "execution_count": 57,
   "outputs": [],
   "source": [],
   "metadata": {
    "collapsed": false,
    "ExecuteTime": {
     "end_time": "2023-10-30T18:11:57.190060Z",
     "start_time": "2023-10-30T18:11:57.185295Z"
    }
   },
   "id": "891ff9649812e791"
  }
 ],
 "metadata": {
  "kernelspec": {
   "display_name": "Python 3 (ipykernel)",
   "language": "python",
   "name": "python3"
  },
  "language_info": {
   "codemirror_mode": {
    "name": "ipython",
    "version": 3
   },
   "file_extension": ".py",
   "mimetype": "text/x-python",
   "name": "python",
   "nbconvert_exporter": "python",
   "pygments_lexer": "ipython3",
   "version": "3.9.13"
  }
 },
 "nbformat": 4,
 "nbformat_minor": 5
}
